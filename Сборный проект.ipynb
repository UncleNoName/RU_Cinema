{
 "cells": [
  {
   "cell_type": "markdown",
   "metadata": {
    "id": "sIfNaMOxgFyK"
   },
   "source": [
    "## Исследование данных о российском кинопрокате\n",
    "\n"
   ]
  },
  {
   "cell_type": "markdown",
   "metadata": {},
   "source": [
    "### Описание данных\n",
    "Таблица `mkrf_movies` содержит информацию из реестра прокатных удостоверений. У одного фильма может быть несколько прокатных удостоверений. \n",
    "\n",
    "`title` — название фильма;\n",
    "\n",
    "`puNumber` — номер прокатного удостоверения;\n",
    "\n",
    "`show_start_date` — дата премьеры фильма;\n",
    "\n",
    "`type` — тип фильма;\n",
    "\n",
    "`film_studio` — студия-производитель;\n",
    "\n",
    "`production_country` — страна-производитель;\n",
    "\n",
    "`director` — режиссёр;\n",
    "\n",
    "`producer` — продюсер;\n",
    "\n",
    "`age_restriction` — возрастная категория;\n",
    "\n",
    "`refundable_support` — объём возвратных средств государственной поддержки;\n",
    "\n",
    "`nonrefundable_support` — объём невозвратных средств государственной поддержки;\n",
    "\n",
    "`financing_source` — источник государственного финансирования;\n",
    "\n",
    "`budget` — общий бюджет фильма;\n",
    "\n",
    "`ratings` — рейтинг фильма на КиноПоиске;\n",
    "\n",
    "`genres` — жанр фильма.\n",
    "\n",
    "\n",
    "\n",
    "Таблица `mkrf_shows` содержит сведения о показах фильмов в российских кинотеатрах.\n",
    "\n",
    "`puNumber` — номер прокатного удостоверения;\n",
    "\n",
    "`box_office` — сборы в рублях."
   ]
  },
  {
   "cell_type": "markdown",
   "metadata": {
    "id": "dw87FlzMgFyM"
   },
   "source": [
    "#### Библиотеки:"
   ]
  },
  {
   "cell_type": "code",
   "execution_count": 1,
   "metadata": {},
   "outputs": [],
   "source": [
    "import pandas as pd \n",
    "import matplotlib.pyplot as plt\n",
    "import numpy as ny"
   ]
  },
  {
   "cell_type": "markdown",
   "metadata": {},
   "source": [
    "#### Проанализируем таблицы"
   ]
  },
  {
   "cell_type": "code",
   "execution_count": 2,
   "metadata": {},
   "outputs": [
    {
     "data": {
      "text/html": [
       "<div>\n",
       "<style scoped>\n",
       "    .dataframe tbody tr th:only-of-type {\n",
       "        vertical-align: middle;\n",
       "    }\n",
       "\n",
       "    .dataframe tbody tr th {\n",
       "        vertical-align: top;\n",
       "    }\n",
       "\n",
       "    .dataframe thead th {\n",
       "        text-align: right;\n",
       "    }\n",
       "</style>\n",
       "<table border=\"1\" class=\"dataframe\">\n",
       "  <thead>\n",
       "    <tr style=\"text-align: right;\">\n",
       "      <th></th>\n",
       "      <th>title</th>\n",
       "      <th>puNumber</th>\n",
       "      <th>show_start_date</th>\n",
       "      <th>type</th>\n",
       "      <th>film_studio</th>\n",
       "      <th>production_country</th>\n",
       "      <th>director</th>\n",
       "      <th>producer</th>\n",
       "      <th>age_restriction</th>\n",
       "      <th>refundable_support</th>\n",
       "      <th>nonrefundable_support</th>\n",
       "      <th>budget</th>\n",
       "      <th>financing_source</th>\n",
       "      <th>ratings</th>\n",
       "      <th>genres</th>\n",
       "    </tr>\n",
       "  </thead>\n",
       "  <tbody>\n",
       "    <tr>\n",
       "      <th>0</th>\n",
       "      <td>Открытый простор</td>\n",
       "      <td>221048915</td>\n",
       "      <td>2015-11-27T12:00:00.000Z</td>\n",
       "      <td>Художественный</td>\n",
       "      <td>Тачстоун Пикчерз, Кобальт Пикчерз, Бикон Пикче...</td>\n",
       "      <td>США</td>\n",
       "      <td>Кевин Костнер</td>\n",
       "      <td>Дэвид Валдес, Кевин Костнер, Джейк Эбертс</td>\n",
       "      <td>«18+» - запрещено для детей</td>\n",
       "      <td>NaN</td>\n",
       "      <td>NaN</td>\n",
       "      <td>NaN</td>\n",
       "      <td>NaN</td>\n",
       "      <td>7.2</td>\n",
       "      <td>боевик,драма,мелодрама</td>\n",
       "    </tr>\n",
       "    <tr>\n",
       "      <th>1</th>\n",
       "      <td>Особо важное задание</td>\n",
       "      <td>111013716</td>\n",
       "      <td>2016-09-13T12:00:00.000Z</td>\n",
       "      <td>Художественный</td>\n",
       "      <td>Киностудия \"Мосфильм\"</td>\n",
       "      <td>СССР</td>\n",
       "      <td>Е.Матвеев</td>\n",
       "      <td>NaN</td>\n",
       "      <td>«6+» - для детей старше 6 лет</td>\n",
       "      <td>NaN</td>\n",
       "      <td>NaN</td>\n",
       "      <td>NaN</td>\n",
       "      <td>NaN</td>\n",
       "      <td>6.6</td>\n",
       "      <td>драма,военный</td>\n",
       "    </tr>\n",
       "    <tr>\n",
       "      <th>2</th>\n",
       "      <td>Особо опасен</td>\n",
       "      <td>221038416</td>\n",
       "      <td>2016-10-10T12:00:00.000Z</td>\n",
       "      <td>Художественный</td>\n",
       "      <td>Юниверсал Пикчерз, Кикстарт Продакшнз, Марк Пл...</td>\n",
       "      <td>США</td>\n",
       "      <td>Тимур Бекмамбетов</td>\n",
       "      <td>Джим Лемли, Джейсон Нетер, Марк Е.Платт, Яйн Смит</td>\n",
       "      <td>«18+» - запрещено для детей</td>\n",
       "      <td>NaN</td>\n",
       "      <td>NaN</td>\n",
       "      <td>NaN</td>\n",
       "      <td>NaN</td>\n",
       "      <td>6.8</td>\n",
       "      <td>фантастика,боевик,триллер</td>\n",
       "    </tr>\n",
       "    <tr>\n",
       "      <th>3</th>\n",
       "      <td>Особо опасен</td>\n",
       "      <td>221026916</td>\n",
       "      <td>2016-06-10T12:00:00.000Z</td>\n",
       "      <td>Художественный</td>\n",
       "      <td>Юниверсал Пикчерз, Кикстарт Продакшнз, Марк Пл...</td>\n",
       "      <td>США</td>\n",
       "      <td>Тимур Бекмамбетов</td>\n",
       "      <td>Джим Лемли, Джейсон Нетер, Марк Е.Платт, Яйн Смит</td>\n",
       "      <td>«18+» - запрещено для детей</td>\n",
       "      <td>NaN</td>\n",
       "      <td>NaN</td>\n",
       "      <td>NaN</td>\n",
       "      <td>NaN</td>\n",
       "      <td>6.8</td>\n",
       "      <td>фантастика,боевик,триллер</td>\n",
       "    </tr>\n",
       "    <tr>\n",
       "      <th>4</th>\n",
       "      <td>Особо опасен</td>\n",
       "      <td>221030815</td>\n",
       "      <td>2015-07-29T12:00:00.000Z</td>\n",
       "      <td>Художественный</td>\n",
       "      <td>Юниверсал Пикчерз, Кикстарт Продакшнз, Марк Пл...</td>\n",
       "      <td>США</td>\n",
       "      <td>Тимур Бекмамбетов</td>\n",
       "      <td>Джим Лемли, Джейсон Нетер, Марк Е.Платт, Яйн Смит</td>\n",
       "      <td>«18+» - запрещено для детей</td>\n",
       "      <td>NaN</td>\n",
       "      <td>NaN</td>\n",
       "      <td>NaN</td>\n",
       "      <td>NaN</td>\n",
       "      <td>6.8</td>\n",
       "      <td>фантастика,боевик,триллер</td>\n",
       "    </tr>\n",
       "    <tr>\n",
       "      <th>5</th>\n",
       "      <td>Остановился поезд</td>\n",
       "      <td>111013816</td>\n",
       "      <td>2016-09-13T12:00:00.000Z</td>\n",
       "      <td>Художественный</td>\n",
       "      <td>Киностудия \"Мосфильм\"</td>\n",
       "      <td>СССР</td>\n",
       "      <td>В.Абдрашитов</td>\n",
       "      <td>NaN</td>\n",
       "      <td>«6+» - для детей старше 6 лет</td>\n",
       "      <td>NaN</td>\n",
       "      <td>NaN</td>\n",
       "      <td>NaN</td>\n",
       "      <td>NaN</td>\n",
       "      <td>7.7</td>\n",
       "      <td>драма</td>\n",
       "    </tr>\n",
       "    <tr>\n",
       "      <th>6</th>\n",
       "      <td>Любовь и голуби</td>\n",
       "      <td>111007013</td>\n",
       "      <td>2013-10-18T12:00:00.000Z</td>\n",
       "      <td>Художественный</td>\n",
       "      <td>Киностудия \"Мосфильм\"</td>\n",
       "      <td>СССР</td>\n",
       "      <td>В.Меньшов</td>\n",
       "      <td>NaN</td>\n",
       "      <td>«12+» - для детей старше 12 лет</td>\n",
       "      <td>NaN</td>\n",
       "      <td>NaN</td>\n",
       "      <td>NaN</td>\n",
       "      <td>NaN</td>\n",
       "      <td>8.3</td>\n",
       "      <td>мелодрама,комедия</td>\n",
       "    </tr>\n",
       "    <tr>\n",
       "      <th>7</th>\n",
       "      <td>Любовь и сигареты</td>\n",
       "      <td>221074614</td>\n",
       "      <td>2014-12-29T12:00:00.000Z</td>\n",
       "      <td>Художественный</td>\n",
       "      <td>Юнайтед Артистс, Грин Стрит Филмз, Айкон Интер...</td>\n",
       "      <td>США</td>\n",
       "      <td>Джон Туртурро</td>\n",
       "      <td>Джон Пенотти, Джон Туртурро</td>\n",
       "      <td>«18+» - запрещено для детей</td>\n",
       "      <td>NaN</td>\n",
       "      <td>NaN</td>\n",
       "      <td>NaN</td>\n",
       "      <td>NaN</td>\n",
       "      <td>6.6</td>\n",
       "      <td>мюзикл,мелодрама,комедия</td>\n",
       "    </tr>\n",
       "    <tr>\n",
       "      <th>8</th>\n",
       "      <td>Отпетые мошенники.</td>\n",
       "      <td>121011416</td>\n",
       "      <td>2016-05-05T12:00:00.000Z</td>\n",
       "      <td>Художественный</td>\n",
       "      <td>Пульсар Продюксьон, ТФ1 Фильм</td>\n",
       "      <td>Франция</td>\n",
       "      <td>Эрик Беснард</td>\n",
       "      <td>Патрис Леду</td>\n",
       "      <td>«18+» - запрещено для детей</td>\n",
       "      <td>NaN</td>\n",
       "      <td>NaN</td>\n",
       "      <td>NaN</td>\n",
       "      <td>NaN</td>\n",
       "      <td>8.0</td>\n",
       "      <td>комедия,криминал</td>\n",
       "    </tr>\n",
       "    <tr>\n",
       "      <th>9</th>\n",
       "      <td>Отпуск за свой счет</td>\n",
       "      <td>111019114</td>\n",
       "      <td>2014-12-01T12:00:00.000Z</td>\n",
       "      <td>Художественный</td>\n",
       "      <td>Киностудия \"Мосфильм\", Телевидение ВНР</td>\n",
       "      <td>СССР, Венгрия</td>\n",
       "      <td>В.Титов</td>\n",
       "      <td>NaN</td>\n",
       "      <td>«12+» - для детей старше 12 лет</td>\n",
       "      <td>NaN</td>\n",
       "      <td>NaN</td>\n",
       "      <td>NaN</td>\n",
       "      <td>NaN</td>\n",
       "      <td>7.8</td>\n",
       "      <td>мелодрама,комедия</td>\n",
       "    </tr>\n",
       "  </tbody>\n",
       "</table>\n",
       "</div>"
      ],
      "text/plain": [
       "                  title   puNumber           show_start_date            type  \\\n",
       "0      Открытый простор  221048915  2015-11-27T12:00:00.000Z  Художественный   \n",
       "1  Особо важное задание  111013716  2016-09-13T12:00:00.000Z  Художественный   \n",
       "2          Особо опасен  221038416  2016-10-10T12:00:00.000Z  Художественный   \n",
       "3          Особо опасен  221026916  2016-06-10T12:00:00.000Z  Художественный   \n",
       "4          Особо опасен  221030815  2015-07-29T12:00:00.000Z  Художественный   \n",
       "5     Остановился поезд  111013816  2016-09-13T12:00:00.000Z  Художественный   \n",
       "6       Любовь и голуби  111007013  2013-10-18T12:00:00.000Z  Художественный   \n",
       "7     Любовь и сигареты  221074614  2014-12-29T12:00:00.000Z  Художественный   \n",
       "8    Отпетые мошенники.  121011416  2016-05-05T12:00:00.000Z  Художественный   \n",
       "9   Отпуск за свой счет  111019114  2014-12-01T12:00:00.000Z  Художественный   \n",
       "\n",
       "                                         film_studio production_country  \\\n",
       "0  Тачстоун Пикчерз, Кобальт Пикчерз, Бикон Пикче...                США   \n",
       "1                              Киностудия \"Мосфильм\"               СССР   \n",
       "2  Юниверсал Пикчерз, Кикстарт Продакшнз, Марк Пл...                США   \n",
       "3  Юниверсал Пикчерз, Кикстарт Продакшнз, Марк Пл...                США   \n",
       "4  Юниверсал Пикчерз, Кикстарт Продакшнз, Марк Пл...                США   \n",
       "5                              Киностудия \"Мосфильм\"               СССР   \n",
       "6                              Киностудия \"Мосфильм\"               СССР   \n",
       "7  Юнайтед Артистс, Грин Стрит Филмз, Айкон Интер...                США   \n",
       "8                     Пульсар Продюксьон, ТФ1 Фильм             Франция   \n",
       "9             Киностудия \"Мосфильм\", Телевидение ВНР      СССР, Венгрия   \n",
       "\n",
       "            director                                           producer  \\\n",
       "0      Кевин Костнер          Дэвид Валдес, Кевин Костнер, Джейк Эбертс   \n",
       "1          Е.Матвеев                                                NaN   \n",
       "2  Тимур Бекмамбетов  Джим Лемли, Джейсон Нетер, Марк Е.Платт, Яйн Смит   \n",
       "3  Тимур Бекмамбетов  Джим Лемли, Джейсон Нетер, Марк Е.Платт, Яйн Смит   \n",
       "4  Тимур Бекмамбетов  Джим Лемли, Джейсон Нетер, Марк Е.Платт, Яйн Смит   \n",
       "5       В.Абдрашитов                                                NaN   \n",
       "6          В.Меньшов                                                NaN   \n",
       "7      Джон Туртурро                        Джон Пенотти, Джон Туртурро   \n",
       "8       Эрик Беснард                                        Патрис Леду   \n",
       "9            В.Титов                                                NaN   \n",
       "\n",
       "                   age_restriction  refundable_support  nonrefundable_support  \\\n",
       "0      «18+» - запрещено для детей                 NaN                    NaN   \n",
       "1    «6+» - для детей старше 6 лет                 NaN                    NaN   \n",
       "2      «18+» - запрещено для детей                 NaN                    NaN   \n",
       "3      «18+» - запрещено для детей                 NaN                    NaN   \n",
       "4      «18+» - запрещено для детей                 NaN                    NaN   \n",
       "5    «6+» - для детей старше 6 лет                 NaN                    NaN   \n",
       "6  «12+» - для детей старше 12 лет                 NaN                    NaN   \n",
       "7      «18+» - запрещено для детей                 NaN                    NaN   \n",
       "8      «18+» - запрещено для детей                 NaN                    NaN   \n",
       "9  «12+» - для детей старше 12 лет                 NaN                    NaN   \n",
       "\n",
       "   budget financing_source ratings                     genres  \n",
       "0     NaN              NaN     7.2     боевик,драма,мелодрама  \n",
       "1     NaN              NaN     6.6              драма,военный  \n",
       "2     NaN              NaN     6.8  фантастика,боевик,триллер  \n",
       "3     NaN              NaN     6.8  фантастика,боевик,триллер  \n",
       "4     NaN              NaN     6.8  фантастика,боевик,триллер  \n",
       "5     NaN              NaN     7.7                      драма  \n",
       "6     NaN              NaN     8.3          мелодрама,комедия  \n",
       "7     NaN              NaN     6.6   мюзикл,мелодрама,комедия  \n",
       "8     NaN              NaN     8.0           комедия,криминал  \n",
       "9     NaN              NaN     7.8          мелодрама,комедия  "
      ]
     },
     "metadata": {},
     "output_type": "display_data"
    }
   ],
   "source": [
    "data = pd.read_csv('/datasets/mkrf_movies.csv')\n",
    "data_show = pd.read_csv('/datasets/mkrf_shows.csv')    \n",
    "display(data.head(10))"
   ]
  },
  {
   "cell_type": "code",
   "execution_count": 3,
   "metadata": {},
   "outputs": [
    {
     "data": {
      "text/html": [
       "<div>\n",
       "<style scoped>\n",
       "    .dataframe tbody tr th:only-of-type {\n",
       "        vertical-align: middle;\n",
       "    }\n",
       "\n",
       "    .dataframe tbody tr th {\n",
       "        vertical-align: top;\n",
       "    }\n",
       "\n",
       "    .dataframe thead th {\n",
       "        text-align: right;\n",
       "    }\n",
       "</style>\n",
       "<table border=\"1\" class=\"dataframe\">\n",
       "  <thead>\n",
       "    <tr style=\"text-align: right;\">\n",
       "      <th></th>\n",
       "      <th>refundable_support</th>\n",
       "      <th>nonrefundable_support</th>\n",
       "      <th>budget</th>\n",
       "    </tr>\n",
       "  </thead>\n",
       "  <tbody>\n",
       "    <tr>\n",
       "      <th>count</th>\n",
       "      <td>3.320000e+02</td>\n",
       "      <td>3.320000e+02</td>\n",
       "      <td>3.320000e+02</td>\n",
       "    </tr>\n",
       "    <tr>\n",
       "      <th>mean</th>\n",
       "      <td>1.186446e+07</td>\n",
       "      <td>4.898099e+07</td>\n",
       "      <td>1.272297e+08</td>\n",
       "    </tr>\n",
       "    <tr>\n",
       "      <th>std</th>\n",
       "      <td>2.491656e+07</td>\n",
       "      <td>5.998012e+07</td>\n",
       "      <td>1.885883e+08</td>\n",
       "    </tr>\n",
       "    <tr>\n",
       "      <th>min</th>\n",
       "      <td>0.000000e+00</td>\n",
       "      <td>0.000000e+00</td>\n",
       "      <td>0.000000e+00</td>\n",
       "    </tr>\n",
       "    <tr>\n",
       "      <th>25%</th>\n",
       "      <td>0.000000e+00</td>\n",
       "      <td>2.500000e+07</td>\n",
       "      <td>4.200000e+07</td>\n",
       "    </tr>\n",
       "    <tr>\n",
       "      <th>50%</th>\n",
       "      <td>0.000000e+00</td>\n",
       "      <td>3.000000e+07</td>\n",
       "      <td>6.864992e+07</td>\n",
       "    </tr>\n",
       "    <tr>\n",
       "      <th>75%</th>\n",
       "      <td>1.500000e+07</td>\n",
       "      <td>4.037500e+07</td>\n",
       "      <td>1.419853e+08</td>\n",
       "    </tr>\n",
       "    <tr>\n",
       "      <th>max</th>\n",
       "      <td>1.800000e+08</td>\n",
       "      <td>4.000000e+08</td>\n",
       "      <td>2.305074e+09</td>\n",
       "    </tr>\n",
       "  </tbody>\n",
       "</table>\n",
       "</div>"
      ],
      "text/plain": [
       "       refundable_support  nonrefundable_support        budget\n",
       "count        3.320000e+02           3.320000e+02  3.320000e+02\n",
       "mean         1.186446e+07           4.898099e+07  1.272297e+08\n",
       "std          2.491656e+07           5.998012e+07  1.885883e+08\n",
       "min          0.000000e+00           0.000000e+00  0.000000e+00\n",
       "25%          0.000000e+00           2.500000e+07  4.200000e+07\n",
       "50%          0.000000e+00           3.000000e+07  6.864992e+07\n",
       "75%          1.500000e+07           4.037500e+07  1.419853e+08\n",
       "max          1.800000e+08           4.000000e+08  2.305074e+09"
      ]
     },
     "execution_count": 3,
     "metadata": {},
     "output_type": "execute_result"
    }
   ],
   "source": [
    "data.describe()"
   ]
  },
  {
   "cell_type": "code",
   "execution_count": 4,
   "metadata": {},
   "outputs": [
    {
     "name": "stdout",
     "output_type": "stream",
     "text": [
      "<class 'pandas.core.frame.DataFrame'>\n",
      "RangeIndex: 7486 entries, 0 to 7485\n",
      "Data columns (total 15 columns):\n",
      " #   Column                 Non-Null Count  Dtype  \n",
      "---  ------                 --------------  -----  \n",
      " 0   title                  7486 non-null   object \n",
      " 1   puNumber               7486 non-null   object \n",
      " 2   show_start_date        7486 non-null   object \n",
      " 3   type                   7486 non-null   object \n",
      " 4   film_studio            7468 non-null   object \n",
      " 5   production_country     7484 non-null   object \n",
      " 6   director               7477 non-null   object \n",
      " 7   producer               6918 non-null   object \n",
      " 8   age_restriction        7486 non-null   object \n",
      " 9   refundable_support     332 non-null    float64\n",
      " 10  nonrefundable_support  332 non-null    float64\n",
      " 11  budget                 332 non-null    float64\n",
      " 12  financing_source       332 non-null    object \n",
      " 13  ratings                6519 non-null   object \n",
      " 14  genres                 6510 non-null   object \n",
      "dtypes: float64(3), object(12)\n",
      "memory usage: 877.4+ KB\n"
     ]
    }
   ],
   "source": [
    "data.info()"
   ]
  },
  {
   "cell_type": "code",
   "execution_count": 5,
   "metadata": {},
   "outputs": [
    {
     "data": {
      "text/plain": [
       "title                       0\n",
       "puNumber                    0\n",
       "show_start_date             0\n",
       "type                        0\n",
       "film_studio                18\n",
       "production_country          2\n",
       "director                    9\n",
       "producer                  568\n",
       "age_restriction             0\n",
       "refundable_support       7154\n",
       "nonrefundable_support    7154\n",
       "budget                   7154\n",
       "financing_source         7154\n",
       "ratings                   967\n",
       "genres                    976\n",
       "dtype: int64"
      ]
     },
     "execution_count": 5,
     "metadata": {},
     "output_type": "execute_result"
    }
   ],
   "source": [
    "data.isna().sum()"
   ]
  },
  {
   "cell_type": "code",
   "execution_count": 6,
   "metadata": {},
   "outputs": [
    {
     "data": {
      "text/plain": [
       "title                     0.000000\n",
       "puNumber                  0.000000\n",
       "show_start_date           0.000000\n",
       "type                      0.000000\n",
       "film_studio               0.240449\n",
       "production_country        0.026717\n",
       "director                  0.120224\n",
       "producer                  7.587497\n",
       "age_restriction           0.000000\n",
       "refundable_support       95.565055\n",
       "nonrefundable_support    95.565055\n",
       "budget                   95.565055\n",
       "financing_source         95.565055\n",
       "ratings                  12.917446\n",
       "genres                   13.037670\n",
       "dtype: float64"
      ]
     },
     "execution_count": 6,
     "metadata": {},
     "output_type": "execute_result"
    }
   ],
   "source": [
    "data.isna().mean()*100"
   ]
  },
  {
   "cell_type": "code",
   "execution_count": 7,
   "metadata": {
    "scrolled": true
   },
   "outputs": [
    {
     "data": {
      "text/html": [
       "<div>\n",
       "<style scoped>\n",
       "    .dataframe tbody tr th:only-of-type {\n",
       "        vertical-align: middle;\n",
       "    }\n",
       "\n",
       "    .dataframe tbody tr th {\n",
       "        vertical-align: top;\n",
       "    }\n",
       "\n",
       "    .dataframe thead th {\n",
       "        text-align: right;\n",
       "    }\n",
       "</style>\n",
       "<table border=\"1\" class=\"dataframe\">\n",
       "  <thead>\n",
       "    <tr style=\"text-align: right;\">\n",
       "      <th></th>\n",
       "      <th>puNumber</th>\n",
       "      <th>box_office</th>\n",
       "    </tr>\n",
       "  </thead>\n",
       "  <tbody>\n",
       "    <tr>\n",
       "      <th>0</th>\n",
       "      <td>111000113</td>\n",
       "      <td>2.450000e+03</td>\n",
       "    </tr>\n",
       "    <tr>\n",
       "      <th>1</th>\n",
       "      <td>111000115</td>\n",
       "      <td>6.104000e+04</td>\n",
       "    </tr>\n",
       "    <tr>\n",
       "      <th>2</th>\n",
       "      <td>111000116</td>\n",
       "      <td>1.530300e+08</td>\n",
       "    </tr>\n",
       "    <tr>\n",
       "      <th>3</th>\n",
       "      <td>111000117</td>\n",
       "      <td>1.226096e+07</td>\n",
       "    </tr>\n",
       "    <tr>\n",
       "      <th>4</th>\n",
       "      <td>111000118</td>\n",
       "      <td>1.636841e+08</td>\n",
       "    </tr>\n",
       "    <tr>\n",
       "      <th>5</th>\n",
       "      <td>111000119</td>\n",
       "      <td>4.293650e+06</td>\n",
       "    </tr>\n",
       "    <tr>\n",
       "      <th>6</th>\n",
       "      <td>111000212</td>\n",
       "      <td>2.000000e+02</td>\n",
       "    </tr>\n",
       "    <tr>\n",
       "      <th>7</th>\n",
       "      <td>111000216</td>\n",
       "      <td>3.555670e+05</td>\n",
       "    </tr>\n",
       "    <tr>\n",
       "      <th>8</th>\n",
       "      <td>111000313</td>\n",
       "      <td>7.100000e+02</td>\n",
       "    </tr>\n",
       "    <tr>\n",
       "      <th>9</th>\n",
       "      <td>111000314</td>\n",
       "      <td>1.607970e+06</td>\n",
       "    </tr>\n",
       "  </tbody>\n",
       "</table>\n",
       "</div>"
      ],
      "text/plain": [
       "    puNumber    box_office\n",
       "0  111000113  2.450000e+03\n",
       "1  111000115  6.104000e+04\n",
       "2  111000116  1.530300e+08\n",
       "3  111000117  1.226096e+07\n",
       "4  111000118  1.636841e+08\n",
       "5  111000119  4.293650e+06\n",
       "6  111000212  2.000000e+02\n",
       "7  111000216  3.555670e+05\n",
       "8  111000313  7.100000e+02\n",
       "9  111000314  1.607970e+06"
      ]
     },
     "execution_count": 7,
     "metadata": {},
     "output_type": "execute_result"
    }
   ],
   "source": [
    "data_show.head(10)"
   ]
  },
  {
   "cell_type": "code",
   "execution_count": 8,
   "metadata": {},
   "outputs": [
    {
     "name": "stdout",
     "output_type": "stream",
     "text": [
      "<class 'pandas.core.frame.DataFrame'>\n",
      "RangeIndex: 3158 entries, 0 to 3157\n",
      "Data columns (total 2 columns):\n",
      " #   Column      Non-Null Count  Dtype  \n",
      "---  ------      --------------  -----  \n",
      " 0   puNumber    3158 non-null   int64  \n",
      " 1   box_office  3158 non-null   float64\n",
      "dtypes: float64(1), int64(1)\n",
      "memory usage: 49.5 KB\n"
     ]
    }
   ],
   "source": [
    "data_show.info()"
   ]
  },
  {
   "cell_type": "code",
   "execution_count": 9,
   "metadata": {
    "scrolled": false
   },
   "outputs": [
    {
     "data": {
      "text/html": [
       "<div>\n",
       "<style scoped>\n",
       "    .dataframe tbody tr th:only-of-type {\n",
       "        vertical-align: middle;\n",
       "    }\n",
       "\n",
       "    .dataframe tbody tr th {\n",
       "        vertical-align: top;\n",
       "    }\n",
       "\n",
       "    .dataframe thead th {\n",
       "        text-align: right;\n",
       "    }\n",
       "</style>\n",
       "<table border=\"1\" class=\"dataframe\">\n",
       "  <thead>\n",
       "    <tr style=\"text-align: right;\">\n",
       "      <th></th>\n",
       "      <th>puNumber</th>\n",
       "      <th>box_office</th>\n",
       "    </tr>\n",
       "  </thead>\n",
       "  <tbody>\n",
       "    <tr>\n",
       "      <th>count</th>\n",
       "      <td>3.158000e+03</td>\n",
       "      <td>3.158000e+03</td>\n",
       "    </tr>\n",
       "    <tr>\n",
       "      <th>mean</th>\n",
       "      <td>1.201875e+08</td>\n",
       "      <td>7.647870e+07</td>\n",
       "    </tr>\n",
       "    <tr>\n",
       "      <th>std</th>\n",
       "      <td>1.238394e+07</td>\n",
       "      <td>2.403531e+08</td>\n",
       "    </tr>\n",
       "    <tr>\n",
       "      <th>min</th>\n",
       "      <td>1.110001e+08</td>\n",
       "      <td>0.000000e+00</td>\n",
       "    </tr>\n",
       "    <tr>\n",
       "      <th>25%</th>\n",
       "      <td>1.130002e+08</td>\n",
       "      <td>8.623900e+04</td>\n",
       "    </tr>\n",
       "    <tr>\n",
       "      <th>50%</th>\n",
       "      <td>1.210131e+08</td>\n",
       "      <td>2.327988e+06</td>\n",
       "    </tr>\n",
       "    <tr>\n",
       "      <th>75%</th>\n",
       "      <td>1.210283e+08</td>\n",
       "      <td>2.397967e+07</td>\n",
       "    </tr>\n",
       "    <tr>\n",
       "      <th>max</th>\n",
       "      <td>2.240264e+08</td>\n",
       "      <td>3.073569e+09</td>\n",
       "    </tr>\n",
       "  </tbody>\n",
       "</table>\n",
       "</div>"
      ],
      "text/plain": [
       "           puNumber    box_office\n",
       "count  3.158000e+03  3.158000e+03\n",
       "mean   1.201875e+08  7.647870e+07\n",
       "std    1.238394e+07  2.403531e+08\n",
       "min    1.110001e+08  0.000000e+00\n",
       "25%    1.130002e+08  8.623900e+04\n",
       "50%    1.210131e+08  2.327988e+06\n",
       "75%    1.210283e+08  2.397967e+07\n",
       "max    2.240264e+08  3.073569e+09"
      ]
     },
     "execution_count": 9,
     "metadata": {},
     "output_type": "execute_result"
    }
   ],
   "source": [
    "data_show.describe()"
   ]
  },
  {
   "cell_type": "code",
   "execution_count": 10,
   "metadata": {
    "scrolled": false
   },
   "outputs": [
    {
     "data": {
      "text/plain": [
       "puNumber      0\n",
       "box_office    0\n",
       "dtype: int64"
      ]
     },
     "execution_count": 10,
     "metadata": {},
     "output_type": "execute_result"
    }
   ],
   "source": [
    "data_show.isna().sum()"
   ]
  },
  {
   "cell_type": "code",
   "execution_count": 11,
   "metadata": {},
   "outputs": [
    {
     "data": {
      "text/plain": [
       "0          боевик,драма,мелодрама\n",
       "1                   драма,военный\n",
       "2       фантастика,боевик,триллер\n",
       "3       фантастика,боевик,триллер\n",
       "4       фантастика,боевик,триллер\n",
       "                  ...            \n",
       "7481                          NaN\n",
       "7482               боевик,триллер\n",
       "7483                          NaN\n",
       "7484                          NaN\n",
       "7485              комедия,вестерн\n",
       "Name: genres, Length: 7486, dtype: object"
      ]
     },
     "execution_count": 11,
     "metadata": {},
     "output_type": "execute_result"
    }
   ],
   "source": [
    "data['genres']"
   ]
  },
  {
   "cell_type": "markdown",
   "metadata": {},
   "source": [
    "#### Исходя из вышенаписанного:\n",
    "    \n",
    "    1. В title, puNumber, show_start_date, type, age_restriction пропусков нет\n",
    "    2. В film_studio 0.24% пропусков, нужно проанализировать, но процент маленький - можно заполнить 'Не указано'\n",
    "    3. В production_country 0,026% пропусков, очень маленький процент, думаю можно проигнорировать\n",
    "    4. В director 0,12% пропусков, очень маленький процент, думаю можно проигнорировать\n",
    "    5. В producer 7.6% пропусков, меньше 10%, заполним как 'Не указано'\n",
    "    6. В refundable_support, nonrefundable_support, budget, financing_source 95,6% пропусков, тут либо новые столбцы, либо эти данные были необязательными для заполнения(скорее первое), заполним как '0'\n",
    "    7. В ratings 13% пропусков, возможно отсутствует заполнение по новым фильмам, в любом случае среднее здесь использовать будет неправильно, заменим на '0' и будем иметь эту долю ввиду\n",
    "    8. В genres 13% пропусков, тут заполнить их как-либо не получится, разве что перебить вручную, но это очень трудоёмко(также возможно это новые фильмы, у которых ещё не определён жанр), поставим 'Без жанра'\n",
    "    9. В box_office получается отсутствует ~58% данных, но так как значения о сборах нам взять негде поставим '0'\n",
    "    10. Отдельного внимания заслуживает financing_source, тут указаны ленты, финансируемые минкультом и фондом кино, есть смысл предположить, что пропуски - это фильмы коммерческие, заполним как 'Коммерческий'"
   ]
  },
  {
   "cell_type": "markdown",
   "metadata": {},
   "source": [
    "#### Теперь объединим данные"
   ]
  },
  {
   "cell_type": "markdown",
   "metadata": {},
   "source": [
    "Для начала посмотрим на значения в puNumber, и по необходимости наведём в них порядок"
   ]
  },
  {
   "cell_type": "code",
   "execution_count": 12,
   "metadata": {},
   "outputs": [
    {
     "data": {
      "text/html": [
       "<div>\n",
       "<style scoped>\n",
       "    .dataframe tbody tr th:only-of-type {\n",
       "        vertical-align: middle;\n",
       "    }\n",
       "\n",
       "    .dataframe tbody tr th {\n",
       "        vertical-align: top;\n",
       "    }\n",
       "\n",
       "    .dataframe thead th {\n",
       "        text-align: right;\n",
       "    }\n",
       "</style>\n",
       "<table border=\"1\" class=\"dataframe\">\n",
       "  <thead>\n",
       "    <tr style=\"text-align: right;\">\n",
       "      <th></th>\n",
       "      <th>title</th>\n",
       "      <th>puNumber</th>\n",
       "      <th>show_start_date</th>\n",
       "      <th>type</th>\n",
       "      <th>film_studio</th>\n",
       "      <th>production_country</th>\n",
       "      <th>director</th>\n",
       "      <th>producer</th>\n",
       "      <th>age_restriction</th>\n",
       "      <th>refundable_support</th>\n",
       "      <th>nonrefundable_support</th>\n",
       "      <th>budget</th>\n",
       "      <th>financing_source</th>\n",
       "      <th>ratings</th>\n",
       "      <th>genres</th>\n",
       "    </tr>\n",
       "  </thead>\n",
       "  <tbody>\n",
       "    <tr>\n",
       "      <th>804</th>\n",
       "      <td>Паранормальный Якутск</td>\n",
       "      <td>111004112</td>\n",
       "      <td>2012-08-24T12:00:00.000Z</td>\n",
       "      <td>Художественный</td>\n",
       "      <td>ИП Тимофеев К.П.</td>\n",
       "      <td>Россия</td>\n",
       "      <td>К.Тимофеев</td>\n",
       "      <td>NaN</td>\n",
       "      <td>«16+» - для детей старше 16 лет</td>\n",
       "      <td>NaN</td>\n",
       "      <td>NaN</td>\n",
       "      <td>NaN</td>\n",
       "      <td>NaN</td>\n",
       "      <td>NaN</td>\n",
       "      <td>NaN</td>\n",
       "    </tr>\n",
       "    <tr>\n",
       "      <th>1797</th>\n",
       "      <td>Курбан-роман. (История с жертвой)</td>\n",
       "      <td>нет</td>\n",
       "      <td>2014-05-15T12:00:00.000Z</td>\n",
       "      <td>Художественный</td>\n",
       "      <td>ФОНД \"ИННОВАЦИЯ\"</td>\n",
       "      <td>Россия</td>\n",
       "      <td>С.Юзеев</td>\n",
       "      <td>М.Галицкая</td>\n",
       "      <td>«12+» - для детей старше 12 лет</td>\n",
       "      <td>NaN</td>\n",
       "      <td>NaN</td>\n",
       "      <td>NaN</td>\n",
       "      <td>NaN</td>\n",
       "      <td>NaN</td>\n",
       "      <td>NaN</td>\n",
       "    </tr>\n",
       "  </tbody>\n",
       "</table>\n",
       "</div>"
      ],
      "text/plain": [
       "                                  title    puNumber           show_start_date  \\\n",
       "804               Паранормальный Якутск   111004112  2012-08-24T12:00:00.000Z   \n",
       "1797  Курбан-роман. (История с жертвой)         нет  2014-05-15T12:00:00.000Z   \n",
       "\n",
       "                type       film_studio production_country    director  \\\n",
       "804   Художественный  ИП Тимофеев К.П.             Россия  К.Тимофеев   \n",
       "1797  Художественный  ФОНД \"ИННОВАЦИЯ\"             Россия     С.Юзеев   \n",
       "\n",
       "        producer                  age_restriction  refundable_support  \\\n",
       "804          NaN  «16+» - для детей старше 16 лет                 NaN   \n",
       "1797  М.Галицкая  «12+» - для детей старше 12 лет                 NaN   \n",
       "\n",
       "      nonrefundable_support  budget financing_source ratings genres  \n",
       "804                     NaN     NaN              NaN     NaN    NaN  \n",
       "1797                    NaN     NaN              NaN     NaN    NaN  "
      ]
     },
     "execution_count": 12,
     "metadata": {},
     "output_type": "execute_result"
    }
   ],
   "source": [
    "data[data['puNumber'].str.isdigit() == False]"
   ]
  },
  {
   "cell_type": "code",
   "execution_count": 13,
   "metadata": {},
   "outputs": [],
   "source": [
    "data['puNumber'] = pd.to_numeric(data['puNumber'], errors='coerce')\n",
    "result = data.loc[pd.isnull(data['puNumber'])]"
   ]
  },
  {
   "cell_type": "code",
   "execution_count": 14,
   "metadata": {},
   "outputs": [
    {
     "data": {
      "text/plain": [
       "0       False\n",
       "1       False\n",
       "2       False\n",
       "3       False\n",
       "4       False\n",
       "        ...  \n",
       "7481    False\n",
       "7482    False\n",
       "7483    False\n",
       "7484    False\n",
       "7485    False\n",
       "Name: puNumber, Length: 7485, dtype: bool"
      ]
     },
     "execution_count": 14,
     "metadata": {},
     "output_type": "execute_result"
    }
   ],
   "source": [
    "data = data.dropna(subset=['puNumber'])\n",
    "data['puNumber'] = data['puNumber'].astype('int') \n",
    "data['puNumber'].isna()"
   ]
  },
  {
   "cell_type": "code",
   "execution_count": 15,
   "metadata": {},
   "outputs": [
    {
     "data": {
      "text/plain": [
       "Index(['title', 'puNumber', 'show_start_date', 'type', 'film_studio',\n",
       "       'production_country', 'director', 'producer', 'age_restriction',\n",
       "       'refundable_support', 'nonrefundable_support', 'budget',\n",
       "       'financing_source', 'ratings', 'genres', 'box_office'],\n",
       "      dtype='object')"
      ]
     },
     "execution_count": 15,
     "metadata": {},
     "output_type": "execute_result"
    }
   ],
   "source": [
    "data = data.merge(data_show, on='puNumber', how='outer') \n",
    "data.columns"
   ]
  },
  {
   "cell_type": "code",
   "execution_count": 16,
   "metadata": {
    "scrolled": true
   },
   "outputs": [
    {
     "name": "stdout",
     "output_type": "stream",
     "text": [
      "<class 'pandas.core.frame.DataFrame'>\n",
      "Int64Index: 7485 entries, 0 to 7484\n",
      "Data columns (total 16 columns):\n",
      " #   Column                 Non-Null Count  Dtype  \n",
      "---  ------                 --------------  -----  \n",
      " 0   title                  7485 non-null   object \n",
      " 1   puNumber               7485 non-null   int64  \n",
      " 2   show_start_date        7485 non-null   object \n",
      " 3   type                   7485 non-null   object \n",
      " 4   film_studio            7467 non-null   object \n",
      " 5   production_country     7483 non-null   object \n",
      " 6   director               7476 non-null   object \n",
      " 7   producer               6917 non-null   object \n",
      " 8   age_restriction        7485 non-null   object \n",
      " 9   refundable_support     332 non-null    float64\n",
      " 10  nonrefundable_support  332 non-null    float64\n",
      " 11  budget                 332 non-null    float64\n",
      " 12  financing_source       332 non-null    object \n",
      " 13  ratings                6519 non-null   object \n",
      " 14  genres                 6510 non-null   object \n",
      " 15  box_office             3158 non-null   float64\n",
      "dtypes: float64(4), int64(1), object(11)\n",
      "memory usage: 994.1+ KB\n"
     ]
    }
   ],
   "source": [
    "data.info()"
   ]
  },
  {
   "cell_type": "markdown",
   "metadata": {},
   "source": [
    "#### Итог: \n",
    "\n",
    "    Объединили таблицы в одну, в результате получили таблицу информацией о фильмах и сборах в прокате для фильмов с господдержкой"
   ]
  },
  {
   "cell_type": "markdown",
   "metadata": {},
   "source": [
    "### Проверим типы данных"
   ]
  },
  {
   "cell_type": "code",
   "execution_count": 17,
   "metadata": {
    "id": "kVGSplJOgFyO",
    "scrolled": true
   },
   "outputs": [
    {
     "name": "stdout",
     "output_type": "stream",
     "text": [
      "<class 'pandas.core.frame.DataFrame'>\n",
      "Int64Index: 7485 entries, 0 to 7484\n",
      "Data columns (total 16 columns):\n",
      " #   Column                 Non-Null Count  Dtype  \n",
      "---  ------                 --------------  -----  \n",
      " 0   title                  7485 non-null   object \n",
      " 1   puNumber               7485 non-null   int64  \n",
      " 2   show_start_date        7485 non-null   object \n",
      " 3   type                   7485 non-null   object \n",
      " 4   film_studio            7467 non-null   object \n",
      " 5   production_country     7483 non-null   object \n",
      " 6   director               7476 non-null   object \n",
      " 7   producer               6917 non-null   object \n",
      " 8   age_restriction        7485 non-null   object \n",
      " 9   refundable_support     332 non-null    float64\n",
      " 10  nonrefundable_support  332 non-null    float64\n",
      " 11  budget                 332 non-null    float64\n",
      " 12  financing_source       332 non-null    object \n",
      " 13  ratings                6519 non-null   object \n",
      " 14  genres                 6510 non-null   object \n",
      " 15  box_office             3158 non-null   float64\n",
      "dtypes: float64(4), int64(1), object(11)\n",
      "memory usage: 994.1+ KB\n"
     ]
    }
   ],
   "source": [
    "data.info()"
   ]
  },
  {
   "cell_type": "markdown",
   "metadata": {},
   "source": [
    "##### Смутил ratings - должен быть числовой, а не объект, и show_start_date нужно поменять на daytime"
   ]
  },
  {
   "cell_type": "code",
   "execution_count": 18,
   "metadata": {
    "scrolled": true
   },
   "outputs": [
    {
     "data": {
      "text/plain": [
       "array(['7.2', '6.6', '6.8', '7.7', '8.3', '8.0', '7.8', '8.1', '7.1',\n",
       "       '6.0', '7.4', '5.8', '8.7', '6.3', '6.9', '5.0', '4.3', '7.3',\n",
       "       '7.0', '6.4', nan, '8.2', '7.5', '6.7', '7.9', '5.9', '6.2', '5.6',\n",
       "       '6.5', '2.4', '7.6', '6.1', '8.6', '8.5', '8.8', '5.5', '5.1',\n",
       "       '5.7', '5.4', '99%', '4.4', '4.5', '5.3', '4.1', '8.4', '2.6',\n",
       "       '3.8', '4.6', '4.8', '4.0', '3.0', '1.6', '4.2', '5.2', '4.7',\n",
       "       '4.9', '3.9', '2.7', '3.3', '2.9', '28%', '3.7', '1.4', '3.1',\n",
       "       '97%', '3.5', '3.2', '2.8', '1.5', '2.1', '2.5', '9.2', '3.4',\n",
       "       '1.1', '3.6', '83%', '64%', '91%', '94%', '62%', '79%', '90%',\n",
       "       '19%', '88%', '1.0', '89%', '1.3', '1.9', '1.8', '1.2', '1.7',\n",
       "       '9.0', '98%', '8.9', '9.1'], dtype=object)"
      ]
     },
     "execution_count": 18,
     "metadata": {},
     "output_type": "execute_result"
    }
   ],
   "source": [
    "data['ratings'].unique()"
   ]
  },
  {
   "cell_type": "markdown",
   "metadata": {},
   "source": [
    "Оно отображается как object из-за того, что присутствуют проценты... Не беда, переделаем под единую рейтинговую систему"
   ]
  },
  {
   "cell_type": "code",
   "execution_count": 19,
   "metadata": {},
   "outputs": [],
   "source": [
    "data['ratings'] = data['ratings'].str.replace('%', '')\n",
    "data['ratings'] = data['ratings'].astype('float')"
   ]
  },
  {
   "cell_type": "code",
   "execution_count": 20,
   "metadata": {},
   "outputs": [
    {
     "data": {
      "text/plain": [
       "array([7.2, 6.6, 6.8, 7.7, 8.3, 8. , 7.8, 8.1, 7.1, 6. , 7.4, 5.8, 8.7,\n",
       "       6.3, 6.9, 5. , 4.3, 7.3, 7. , 6.4, nan, 8.2, 7.5, 6.7, 7.9, 5.9,\n",
       "       6.2, 5.6, 6.5, 2.4, 7.6, 6.1, 8.6, 8.5, 8.8, 5.5, 5.1, 5.7, 5.4,\n",
       "       9.9, 4.4, 4.5, 5.3, 4.1, 8.4, 2.6, 3.8, 4.6, 4.8, 4. , 3. , 1.6,\n",
       "       4.2, 5.2, 4.7, 4.9, 3.9, 2.7, 3.3, 2.9, 2.8, 3.7, 1.4, 3.1, 9.7,\n",
       "       3.5, 3.2, 1.5, 2.1, 2.5, 9.2, 3.4, 1.1, 3.6, 9.1, 9.4, 9. , 1.9,\n",
       "       1. , 8.9, 1.3, 1.8, 1.2, 1.7, 9.8])"
      ]
     },
     "execution_count": 20,
     "metadata": {},
     "output_type": "execute_result"
    }
   ],
   "source": [
    "data_hight_ratings = data.loc[data['ratings'] > 10]\n",
    "data.loc[data['ratings'] >= 10, 'ratings'] = data_hight_ratings['ratings'] / 10\n",
    "data['ratings'].unique()"
   ]
  },
  {
   "cell_type": "markdown",
   "metadata": {},
   "source": [
    "Ну вот, другое дело"
   ]
  },
  {
   "cell_type": "markdown",
   "metadata": {},
   "source": [
    "##### Теперь разберемся со временем"
   ]
  },
  {
   "cell_type": "code",
   "execution_count": 21,
   "metadata": {},
   "outputs": [
    {
     "data": {
      "text/plain": [
       "array(['2015-11-27T12:00:00.000Z', '2016-09-13T12:00:00.000Z',\n",
       "       '2016-10-10T12:00:00.000Z', ..., '2019-12-24T12:00:00.000Z',\n",
       "       '2019-12-28T12:00:00.000Z', '2019-12-30T12:00:00.000Z'],\n",
       "      dtype=object)"
      ]
     },
     "execution_count": 21,
     "metadata": {},
     "output_type": "execute_result"
    }
   ],
   "source": [
    "data['show_start_date'].unique()#как я и говорил, нужно поменять всё на человеческий формат"
   ]
  },
  {
   "cell_type": "code",
   "execution_count": 22,
   "metadata": {
    "scrolled": true
   },
   "outputs": [
    {
     "data": {
      "text/plain": [
       "<DatetimeArray>\n",
       "['2015-11-27 12:00:00+00:00', '2016-09-13 12:00:00+00:00',\n",
       " '2016-10-10 12:00:00+00:00', '2016-06-10 12:00:00+00:00',\n",
       " '2015-07-29 12:00:00+00:00', '2013-10-18 12:00:00+00:00',\n",
       " '2014-12-29 12:00:00+00:00', '2016-05-05 12:00:00+00:00',\n",
       " '2014-12-01 12:00:00+00:00', '2016-06-29 12:00:00+00:00',\n",
       " ...\n",
       " '2019-12-17 12:00:00+00:00', '2019-12-10 12:00:00+00:00',\n",
       " '2019-12-16 12:00:00+00:00', '2019-12-26 12:00:00+00:00',\n",
       " '2019-12-20 12:00:00+00:00', '2019-12-27 12:00:00+00:00',\n",
       " '2019-12-23 12:00:00+00:00', '2019-12-24 12:00:00+00:00',\n",
       " '2019-12-28 12:00:00+00:00', '2019-12-30 12:00:00+00:00']\n",
       "Length: 1964, dtype: datetime64[ns, UTC]"
      ]
     },
     "execution_count": 22,
     "metadata": {},
     "output_type": "execute_result"
    }
   ],
   "source": [
    "data['show_start_date'] = pd.to_datetime(data['show_start_date'])\n",
    "data['show_start_date'].unique()"
   ]
  },
  {
   "cell_type": "markdown",
   "metadata": {},
   "source": [
    "Готово"
   ]
  },
  {
   "cell_type": "markdown",
   "metadata": {},
   "source": [
    "### Посмотрим на пропуски"
   ]
  },
  {
   "cell_type": "code",
   "execution_count": 23,
   "metadata": {
    "scrolled": true
   },
   "outputs": [
    {
     "data": {
      "text/plain": [
       "title                       0\n",
       "puNumber                    0\n",
       "show_start_date             0\n",
       "type                        0\n",
       "film_studio                18\n",
       "production_country          2\n",
       "director                    9\n",
       "producer                  568\n",
       "age_restriction             0\n",
       "refundable_support       7153\n",
       "nonrefundable_support    7153\n",
       "budget                   7153\n",
       "financing_source         7153\n",
       "ratings                   966\n",
       "genres                    975\n",
       "box_office               4327\n",
       "dtype: int64"
      ]
     },
     "execution_count": 23,
     "metadata": {},
     "output_type": "execute_result"
    }
   ],
   "source": [
    "data.isna().sum()"
   ]
  },
  {
   "cell_type": "code",
   "execution_count": 24,
   "metadata": {
    "scrolled": false
   },
   "outputs": [
    {
     "data": {
      "text/plain": [
       "title                     0.0\n",
       "puNumber                  0.0\n",
       "show_start_date           0.0\n",
       "type                      0.0\n",
       "film_studio               0.2\n",
       "production_country        0.0\n",
       "director                  0.1\n",
       "producer                  7.6\n",
       "age_restriction           0.0\n",
       "refundable_support       95.6\n",
       "nonrefundable_support    95.6\n",
       "budget                   95.6\n",
       "financing_source         95.6\n",
       "ratings                  12.9\n",
       "genres                   13.0\n",
       "box_office               57.8\n",
       "dtype: float64"
      ]
     },
     "execution_count": 24,
     "metadata": {},
     "output_type": "execute_result"
    }
   ],
   "source": [
    "round(data.isna().mean()*100,1)"
   ]
  },
  {
   "cell_type": "markdown",
   "metadata": {},
   "source": [
    "##### Поскольку следущие данные нам взять негде(в соседних столбцах таблицы не указано) справедливо следущее:\n",
    "    \n",
    "    1.Пропуски в film_studio заполним 'Без студии'\n",
    "    2.Пропуски в production_country заполним 'Без страны'\n",
    "    3.Пропуски в genres заполним 'Без жанра'\n",
    "    4.Пропуски в refundable_support, nonrefundable_support, box_office, budget заполним '0'\n",
    "    5.Пропуски в financing_source заполним 'Коммерческий'(если он не бюджетный, то он коммерческий)\n",
    "    6.Пропуски в director и producer заполним как 'Нет режесёра' и 'Нет продюсера' соответственно"
   ]
  },
  {
   "cell_type": "code",
   "execution_count": 25,
   "metadata": {},
   "outputs": [],
   "source": [
    "data['film_studio'] = data['film_studio'].fillna(value='Без студии')"
   ]
  },
  {
   "cell_type": "code",
   "execution_count": 26,
   "metadata": {},
   "outputs": [
    {
     "data": {
      "text/html": [
       "<div>\n",
       "<style scoped>\n",
       "    .dataframe tbody tr th:only-of-type {\n",
       "        vertical-align: middle;\n",
       "    }\n",
       "\n",
       "    .dataframe tbody tr th {\n",
       "        vertical-align: top;\n",
       "    }\n",
       "\n",
       "    .dataframe thead th {\n",
       "        text-align: right;\n",
       "    }\n",
       "</style>\n",
       "<table border=\"1\" class=\"dataframe\">\n",
       "  <thead>\n",
       "    <tr style=\"text-align: right;\">\n",
       "      <th></th>\n",
       "      <th>title</th>\n",
       "      <th>puNumber</th>\n",
       "      <th>show_start_date</th>\n",
       "      <th>type</th>\n",
       "      <th>film_studio</th>\n",
       "      <th>production_country</th>\n",
       "      <th>director</th>\n",
       "      <th>producer</th>\n",
       "      <th>age_restriction</th>\n",
       "      <th>refundable_support</th>\n",
       "      <th>nonrefundable_support</th>\n",
       "      <th>budget</th>\n",
       "      <th>financing_source</th>\n",
       "      <th>ratings</th>\n",
       "      <th>genres</th>\n",
       "      <th>box_office</th>\n",
       "    </tr>\n",
       "  </thead>\n",
       "  <tbody>\n",
       "  </tbody>\n",
       "</table>\n",
       "</div>"
      ],
      "text/plain": [
       "Empty DataFrame\n",
       "Columns: [title, puNumber, show_start_date, type, film_studio, production_country, director, producer, age_restriction, refundable_support, nonrefundable_support, budget, financing_source, ratings, genres, box_office]\n",
       "Index: []"
      ]
     },
     "execution_count": 26,
     "metadata": {},
     "output_type": "execute_result"
    }
   ],
   "source": [
    "data.loc[data['film_studio'].isna()].head(5)"
   ]
  },
  {
   "cell_type": "code",
   "execution_count": 27,
   "metadata": {
    "scrolled": true
   },
   "outputs": [
    {
     "data": {
      "text/html": [
       "<div>\n",
       "<style scoped>\n",
       "    .dataframe tbody tr th:only-of-type {\n",
       "        vertical-align: middle;\n",
       "    }\n",
       "\n",
       "    .dataframe tbody tr th {\n",
       "        vertical-align: top;\n",
       "    }\n",
       "\n",
       "    .dataframe thead th {\n",
       "        text-align: right;\n",
       "    }\n",
       "</style>\n",
       "<table border=\"1\" class=\"dataframe\">\n",
       "  <thead>\n",
       "    <tr style=\"text-align: right;\">\n",
       "      <th></th>\n",
       "      <th>title</th>\n",
       "      <th>puNumber</th>\n",
       "      <th>show_start_date</th>\n",
       "      <th>type</th>\n",
       "      <th>film_studio</th>\n",
       "      <th>production_country</th>\n",
       "      <th>director</th>\n",
       "      <th>producer</th>\n",
       "      <th>age_restriction</th>\n",
       "      <th>refundable_support</th>\n",
       "      <th>nonrefundable_support</th>\n",
       "      <th>budget</th>\n",
       "      <th>financing_source</th>\n",
       "      <th>ratings</th>\n",
       "      <th>genres</th>\n",
       "      <th>box_office</th>\n",
       "    </tr>\n",
       "  </thead>\n",
       "  <tbody>\n",
       "  </tbody>\n",
       "</table>\n",
       "</div>"
      ],
      "text/plain": [
       "Empty DataFrame\n",
       "Columns: [title, puNumber, show_start_date, type, film_studio, production_country, director, producer, age_restriction, refundable_support, nonrefundable_support, budget, financing_source, ratings, genres, box_office]\n",
       "Index: []"
      ]
     },
     "execution_count": 27,
     "metadata": {},
     "output_type": "execute_result"
    }
   ],
   "source": [
    "data['production_country'] = data['production_country'].fillna(value='Без страны')\n",
    "data.loc[data['production_country'].isna()].head(5)"
   ]
  },
  {
   "cell_type": "code",
   "execution_count": 28,
   "metadata": {},
   "outputs": [
    {
     "data": {
      "text/html": [
       "<div>\n",
       "<style scoped>\n",
       "    .dataframe tbody tr th:only-of-type {\n",
       "        vertical-align: middle;\n",
       "    }\n",
       "\n",
       "    .dataframe tbody tr th {\n",
       "        vertical-align: top;\n",
       "    }\n",
       "\n",
       "    .dataframe thead th {\n",
       "        text-align: right;\n",
       "    }\n",
       "</style>\n",
       "<table border=\"1\" class=\"dataframe\">\n",
       "  <thead>\n",
       "    <tr style=\"text-align: right;\">\n",
       "      <th></th>\n",
       "      <th>title</th>\n",
       "      <th>puNumber</th>\n",
       "      <th>show_start_date</th>\n",
       "      <th>type</th>\n",
       "      <th>film_studio</th>\n",
       "      <th>production_country</th>\n",
       "      <th>director</th>\n",
       "      <th>producer</th>\n",
       "      <th>age_restriction</th>\n",
       "      <th>refundable_support</th>\n",
       "      <th>nonrefundable_support</th>\n",
       "      <th>budget</th>\n",
       "      <th>financing_source</th>\n",
       "      <th>ratings</th>\n",
       "      <th>genres</th>\n",
       "      <th>box_office</th>\n",
       "    </tr>\n",
       "  </thead>\n",
       "  <tbody>\n",
       "  </tbody>\n",
       "</table>\n",
       "</div>"
      ],
      "text/plain": [
       "Empty DataFrame\n",
       "Columns: [title, puNumber, show_start_date, type, film_studio, production_country, director, producer, age_restriction, refundable_support, nonrefundable_support, budget, financing_source, ratings, genres, box_office]\n",
       "Index: []"
      ]
     },
     "execution_count": 28,
     "metadata": {},
     "output_type": "execute_result"
    }
   ],
   "source": [
    "data['genres'] = data['genres'].fillna(value='Без жанра')\n",
    "data.loc[data['genres'].isna()].head(5)"
   ]
  },
  {
   "cell_type": "code",
   "execution_count": 29,
   "metadata": {},
   "outputs": [],
   "source": [
    "data['refundable_support'] = data['refundable_support'].fillna(value=0)"
   ]
  },
  {
   "cell_type": "code",
   "execution_count": 30,
   "metadata": {},
   "outputs": [],
   "source": [
    "data['nonrefundable_support'] = data['nonrefundable_support'].fillna(value=0)"
   ]
  },
  {
   "cell_type": "code",
   "execution_count": 31,
   "metadata": {},
   "outputs": [],
   "source": [
    "data['box_office'] = data['box_office'].fillna(value=0)"
   ]
  },
  {
   "cell_type": "code",
   "execution_count": 32,
   "metadata": {},
   "outputs": [],
   "source": [
    "data['budget'] = data['budget'].fillna(value=0)"
   ]
  },
  {
   "cell_type": "code",
   "execution_count": 33,
   "metadata": {},
   "outputs": [],
   "source": [
    "data['financing_source'] = data['financing_source'].fillna(value='Коммерческий')"
   ]
  },
  {
   "cell_type": "code",
   "execution_count": 34,
   "metadata": {},
   "outputs": [],
   "source": [
    "#есть параметр 'режисер, продюссер' поэтому нужно чтобы были заполнены пропуски, где это не 1 и тотже человек\n",
    "data['director'] = data['director'].fillna(value=data['producer'])\n",
    "data['producer'] = data['producer'].fillna(value=data['director'])\n",
    "data['director'] = data['director'].fillna(value='Без режесёра')\n",
    "data['producer'] = data['producer'].fillna(value='Без продюсера')"
   ]
  },
  {
   "cell_type": "markdown",
   "metadata": {},
   "source": [
    "### Посмотрим на дубликаты"
   ]
  },
  {
   "cell_type": "code",
   "execution_count": 35,
   "metadata": {
    "id": "aKck8RIdgFyQ"
   },
   "outputs": [
    {
     "data": {
      "text/plain": [
       "0"
      ]
     },
     "execution_count": 35,
     "metadata": {},
     "output_type": "execute_result"
    }
   ],
   "source": [
    "data.duplicated().sum()"
   ]
  },
  {
   "cell_type": "markdown",
   "metadata": {},
   "source": [
    "Явных дубликатов не обнаружено, посмотрим на неявные"
   ]
  },
  {
   "cell_type": "code",
   "execution_count": 36,
   "metadata": {},
   "outputs": [
    {
     "data": {
      "text/plain": [
       "title                    6771\n",
       "puNumber                 7483\n",
       "show_start_date          1964\n",
       "type                        8\n",
       "film_studio              5491\n",
       "production_country        951\n",
       "director                 4817\n",
       "producer                 5714\n",
       "age_restriction             5\n",
       "refundable_support         34\n",
       "nonrefundable_support      75\n",
       "budget                    290\n",
       "financing_source            4\n",
       "ratings                    84\n",
       "genres                    743\n",
       "box_office               2938\n",
       "dtype: int64"
      ]
     },
     "execution_count": 36,
     "metadata": {},
     "output_type": "execute_result"
    }
   ],
   "source": [
    "data.nunique() #уникальные значения по каждому столбцу в data"
   ]
  },
  {
   "cell_type": "markdown",
   "metadata": {},
   "source": [
    "##### Такс, будем искать неявные дубликаты, фильтрами поставим title, show_start_date, type, film_studio, production_county и director"
   ]
  },
  {
   "cell_type": "code",
   "execution_count": 37,
   "metadata": {
    "scrolled": false
   },
   "outputs": [
    {
     "data": {
      "text/html": [
       "<div>\n",
       "<style scoped>\n",
       "    .dataframe tbody tr th:only-of-type {\n",
       "        vertical-align: middle;\n",
       "    }\n",
       "\n",
       "    .dataframe tbody tr th {\n",
       "        vertical-align: top;\n",
       "    }\n",
       "\n",
       "    .dataframe thead th {\n",
       "        text-align: right;\n",
       "    }\n",
       "</style>\n",
       "<table border=\"1\" class=\"dataframe\">\n",
       "  <thead>\n",
       "    <tr style=\"text-align: right;\">\n",
       "      <th></th>\n",
       "      <th>title</th>\n",
       "      <th>puNumber</th>\n",
       "      <th>show_start_date</th>\n",
       "      <th>type</th>\n",
       "      <th>film_studio</th>\n",
       "      <th>production_country</th>\n",
       "      <th>director</th>\n",
       "      <th>producer</th>\n",
       "      <th>age_restriction</th>\n",
       "      <th>refundable_support</th>\n",
       "      <th>nonrefundable_support</th>\n",
       "      <th>budget</th>\n",
       "      <th>financing_source</th>\n",
       "      <th>ratings</th>\n",
       "      <th>genres</th>\n",
       "      <th>box_office</th>\n",
       "    </tr>\n",
       "  </thead>\n",
       "  <tbody>\n",
       "    <tr>\n",
       "      <th>1300</th>\n",
       "      <td>Эпидемия_</td>\n",
       "      <td>121025713</td>\n",
       "      <td>2013-10-07 12:00:00+00:00</td>\n",
       "      <td>Художественный</td>\n",
       "      <td>Морена Фильм, Ребелион Террестр, А 3 Медиа Гру...</td>\n",
       "      <td>Испания - Франция</td>\n",
       "      <td>Алекс Пастор, Давид Пастор</td>\n",
       "      <td>Мерседес Гамеро, Альберто Марини, Педро Уриоль</td>\n",
       "      <td>«16+» - для детей старше 16 лет</td>\n",
       "      <td>0.0</td>\n",
       "      <td>0.0</td>\n",
       "      <td>0.0</td>\n",
       "      <td>Коммерческий</td>\n",
       "      <td>7.2</td>\n",
       "      <td>драма,фантастика,триллер</td>\n",
       "      <td>0.0</td>\n",
       "    </tr>\n",
       "    <tr>\n",
       "      <th>1301</th>\n",
       "      <td>Эпидемия_</td>\n",
       "      <td>221035513</td>\n",
       "      <td>2013-10-07 12:00:00+00:00</td>\n",
       "      <td>Художественный</td>\n",
       "      <td>Морена Фильм, Ребелион Террестр, А 3 Медиа Гру...</td>\n",
       "      <td>Испания - Франция</td>\n",
       "      <td>Алекс Пастор, Давид Пастор</td>\n",
       "      <td>Мерседес Гамеро, Альберто Марини, Педро Уриоль</td>\n",
       "      <td>«16+» - для детей старше 16 лет</td>\n",
       "      <td>0.0</td>\n",
       "      <td>0.0</td>\n",
       "      <td>0.0</td>\n",
       "      <td>Коммерческий</td>\n",
       "      <td>7.2</td>\n",
       "      <td>драма,фантастика,триллер</td>\n",
       "      <td>0.0</td>\n",
       "    </tr>\n",
       "    <tr>\n",
       "      <th>1475</th>\n",
       "      <td>Оторвы</td>\n",
       "      <td>121006514</td>\n",
       "      <td>2014-04-07 12:00:00+00:00</td>\n",
       "      <td>Художественный</td>\n",
       "      <td>Проминент Пикчерз, Ворлдвью Интертейнмент, Инд...</td>\n",
       "      <td>США</td>\n",
       "      <td>Кристофер Нельсон</td>\n",
       "      <td>Молли Коннерс, Хезер Рэй</td>\n",
       "      <td>«16+» - для детей старше 16 лет</td>\n",
       "      <td>0.0</td>\n",
       "      <td>0.0</td>\n",
       "      <td>0.0</td>\n",
       "      <td>Коммерческий</td>\n",
       "      <td>3.5</td>\n",
       "      <td>комедия,приключения</td>\n",
       "      <td>0.0</td>\n",
       "    </tr>\n",
       "    <tr>\n",
       "      <th>1476</th>\n",
       "      <td>Оторвы</td>\n",
       "      <td>221013214</td>\n",
       "      <td>2014-04-07 12:00:00+00:00</td>\n",
       "      <td>Художественный</td>\n",
       "      <td>Проминент Пикчерз, Ворлдвью Интертейнмент, Инд...</td>\n",
       "      <td>США</td>\n",
       "      <td>Кристофер Нельсон</td>\n",
       "      <td>Молли Коннерс, Хезер Рэй</td>\n",
       "      <td>«16+» - для детей старше 16 лет</td>\n",
       "      <td>0.0</td>\n",
       "      <td>0.0</td>\n",
       "      <td>0.0</td>\n",
       "      <td>Коммерческий</td>\n",
       "      <td>3.5</td>\n",
       "      <td>комедия,приключения</td>\n",
       "      <td>0.0</td>\n",
       "    </tr>\n",
       "    <tr>\n",
       "      <th>2190</th>\n",
       "      <td>Последние пять лет.</td>\n",
       "      <td>221008115</td>\n",
       "      <td>2015-03-25 12:00:00+00:00</td>\n",
       "      <td>Художественный</td>\n",
       "      <td>Гранд Пикс Интертейнмент, Лаки Манки Пикчерз, ...</td>\n",
       "      <td>США</td>\n",
       "      <td>Ричард ЛаГравенес</td>\n",
       "      <td>Джанет Бреннер, Лорен Версель, Курт Дойтч, Рич...</td>\n",
       "      <td>«16+» - для детей старше 16 лет</td>\n",
       "      <td>0.0</td>\n",
       "      <td>0.0</td>\n",
       "      <td>0.0</td>\n",
       "      <td>Коммерческий</td>\n",
       "      <td>5.7</td>\n",
       "      <td>мюзикл,драма,мелодрама</td>\n",
       "      <td>0.0</td>\n",
       "    </tr>\n",
       "    <tr>\n",
       "      <th>2191</th>\n",
       "      <td>Последние пять лет.</td>\n",
       "      <td>121005715</td>\n",
       "      <td>2015-03-25 12:00:00+00:00</td>\n",
       "      <td>Художественный</td>\n",
       "      <td>Гранд Пикс Интертейнмент, Лаки Манки Пикчерз, ...</td>\n",
       "      <td>США</td>\n",
       "      <td>Ричард ЛаГравенес</td>\n",
       "      <td>Джанет Бреннер, Лорен Версель, Курт Дойтч, Рич...</td>\n",
       "      <td>«16+» - для детей старше 16 лет</td>\n",
       "      <td>0.0</td>\n",
       "      <td>0.0</td>\n",
       "      <td>0.0</td>\n",
       "      <td>Коммерческий</td>\n",
       "      <td>5.7</td>\n",
       "      <td>мюзикл,драма,мелодрама</td>\n",
       "      <td>52495.0</td>\n",
       "    </tr>\n",
       "    <tr>\n",
       "      <th>2751</th>\n",
       "      <td>Пингвиненок Пороро: Большие гонки</td>\n",
       "      <td>224001915</td>\n",
       "      <td>2015-04-15 12:00:00+00:00</td>\n",
       "      <td>Анимационный</td>\n",
       "      <td>Окон Студиос, Чина Филм, Симка Интертейнмент, ...</td>\n",
       "      <td>Южная Корея - КНР</td>\n",
       "      <td>Юнг Куюн Парк</td>\n",
       "      <td>Иль Хо Ким, Михал Симка</td>\n",
       "      <td>«0+» - для любой зрительской аудитории</td>\n",
       "      <td>0.0</td>\n",
       "      <td>0.0</td>\n",
       "      <td>0.0</td>\n",
       "      <td>Коммерческий</td>\n",
       "      <td>5.2</td>\n",
       "      <td>мультфильм,семейный,спорт</td>\n",
       "      <td>1360.0</td>\n",
       "    </tr>\n",
       "    <tr>\n",
       "      <th>2752</th>\n",
       "      <td>Пингвиненок Пороро: Большие гонки</td>\n",
       "      <td>124001915</td>\n",
       "      <td>2015-04-15 12:00:00+00:00</td>\n",
       "      <td>Анимационный</td>\n",
       "      <td>Окон Студиос, Чина Филм, Симка Интертейнмент, ...</td>\n",
       "      <td>Южная Корея - КНР</td>\n",
       "      <td>Юнг Куюн Парк</td>\n",
       "      <td>Иль Хо Ким, Михал Симка</td>\n",
       "      <td>«0+» - для любой зрительской аудитории</td>\n",
       "      <td>0.0</td>\n",
       "      <td>0.0</td>\n",
       "      <td>0.0</td>\n",
       "      <td>Коммерческий</td>\n",
       "      <td>5.2</td>\n",
       "      <td>мультфильм,семейный,спорт</td>\n",
       "      <td>14152495.9</td>\n",
       "    </tr>\n",
       "    <tr>\n",
       "      <th>3085</th>\n",
       "      <td>Анархисты</td>\n",
       "      <td>221003916</td>\n",
       "      <td>2016-02-03 12:00:00+00:00</td>\n",
       "      <td>Художественный</td>\n",
       "      <td>24 Май Продюксьон, Франс 2 Синема</td>\n",
       "      <td>Франция</td>\n",
       "      <td>Эли Важеман</td>\n",
       "      <td>Лола Гэнс</td>\n",
       "      <td>«16+» - для детей старше 16 лет</td>\n",
       "      <td>0.0</td>\n",
       "      <td>0.0</td>\n",
       "      <td>0.0</td>\n",
       "      <td>Коммерческий</td>\n",
       "      <td>5.7</td>\n",
       "      <td>драма</td>\n",
       "      <td>0.0</td>\n",
       "    </tr>\n",
       "    <tr>\n",
       "      <th>3086</th>\n",
       "      <td>Анархисты</td>\n",
       "      <td>121002316</td>\n",
       "      <td>2016-02-03 12:00:00+00:00</td>\n",
       "      <td>Художественный</td>\n",
       "      <td>24 Май Продюксьон, Франс 2 Синема</td>\n",
       "      <td>Франция</td>\n",
       "      <td>Эли Важеман</td>\n",
       "      <td>Лола Гэнс</td>\n",
       "      <td>«16+» - для детей старше 16 лет</td>\n",
       "      <td>0.0</td>\n",
       "      <td>0.0</td>\n",
       "      <td>0.0</td>\n",
       "      <td>Коммерческий</td>\n",
       "      <td>5.7</td>\n",
       "      <td>драма</td>\n",
       "      <td>332371.0</td>\n",
       "    </tr>\n",
       "    <tr>\n",
       "      <th>4041</th>\n",
       "      <td>Бугай</td>\n",
       "      <td>224021210</td>\n",
       "      <td>2010-09-24 12:00:00+00:00</td>\n",
       "      <td>Анимационный</td>\n",
       "      <td>Иллюзион Студиос, Процесо</td>\n",
       "      <td>Мексика-Аргентина</td>\n",
       "      <td>Густаво Кова</td>\n",
       "      <td>Хуго Е. Лаура, Хосе Луис Масса</td>\n",
       "      <td>«16+» - для детей старше 16 лет</td>\n",
       "      <td>0.0</td>\n",
       "      <td>0.0</td>\n",
       "      <td>0.0</td>\n",
       "      <td>Коммерческий</td>\n",
       "      <td>6.6</td>\n",
       "      <td>мультфильм,боевик,триллер</td>\n",
       "      <td>0.0</td>\n",
       "    </tr>\n",
       "    <tr>\n",
       "      <th>4042</th>\n",
       "      <td>Бугай</td>\n",
       "      <td>124001210</td>\n",
       "      <td>2010-09-24 12:00:00+00:00</td>\n",
       "      <td>Анимационный</td>\n",
       "      <td>Иллюзион Студиос, Процесо</td>\n",
       "      <td>Мексика-Аргентина</td>\n",
       "      <td>Густаво Кова</td>\n",
       "      <td>Хуго Е. Лаура, Хосе Луис Масса</td>\n",
       "      <td>«16+» - для детей старше 16 лет</td>\n",
       "      <td>0.0</td>\n",
       "      <td>0.0</td>\n",
       "      <td>0.0</td>\n",
       "      <td>Коммерческий</td>\n",
       "      <td>6.6</td>\n",
       "      <td>мультфильм,боевик,триллер</td>\n",
       "      <td>0.0</td>\n",
       "    </tr>\n",
       "    <tr>\n",
       "      <th>6378</th>\n",
       "      <td>Ян Антонышев</td>\n",
       "      <td>112011818</td>\n",
       "      <td>2018-11-15 12:00:00+00:00</td>\n",
       "      <td>Документальный</td>\n",
       "      <td>Без студии</td>\n",
       "      <td>Россия</td>\n",
       "      <td>Е.Окопная</td>\n",
       "      <td>Е.Герасимов</td>\n",
       "      <td>«12+» - для детей старше 12 лет</td>\n",
       "      <td>0.0</td>\n",
       "      <td>0.0</td>\n",
       "      <td>0.0</td>\n",
       "      <td>Коммерческий</td>\n",
       "      <td>NaN</td>\n",
       "      <td>Без жанра</td>\n",
       "      <td>0.0</td>\n",
       "    </tr>\n",
       "    <tr>\n",
       "      <th>6379</th>\n",
       "      <td>Ян Антонышев</td>\n",
       "      <td>112011918</td>\n",
       "      <td>2018-11-15 12:00:00+00:00</td>\n",
       "      <td>Документальный</td>\n",
       "      <td>Без студии</td>\n",
       "      <td>Россия</td>\n",
       "      <td>Е.Окопная</td>\n",
       "      <td>Е.Герасимов</td>\n",
       "      <td>«12+» - для детей старше 12 лет</td>\n",
       "      <td>0.0</td>\n",
       "      <td>0.0</td>\n",
       "      <td>0.0</td>\n",
       "      <td>Коммерческий</td>\n",
       "      <td>NaN</td>\n",
       "      <td>Без жанра</td>\n",
       "      <td>0.0</td>\n",
       "    </tr>\n",
       "    <tr>\n",
       "      <th>6427</th>\n",
       "      <td>Зоя</td>\n",
       "      <td>111022618</td>\n",
       "      <td>2018-11-25 12:00:00+00:00</td>\n",
       "      <td>Художественный</td>\n",
       "      <td>Тарханова Юлия Олеговна</td>\n",
       "      <td>Россия</td>\n",
       "      <td>О.Товма</td>\n",
       "      <td>Ю.Тарханова</td>\n",
       "      <td>«16+» - для детей старше 16 лет</td>\n",
       "      <td>0.0</td>\n",
       "      <td>0.0</td>\n",
       "      <td>0.0</td>\n",
       "      <td>Коммерческий</td>\n",
       "      <td>3.9</td>\n",
       "      <td>история,биография,военный</td>\n",
       "      <td>0.0</td>\n",
       "    </tr>\n",
       "    <tr>\n",
       "      <th>6428</th>\n",
       "      <td>Зоя</td>\n",
       "      <td>111022718</td>\n",
       "      <td>2018-11-25 12:00:00+00:00</td>\n",
       "      <td>Художественный</td>\n",
       "      <td>Тарханова Юлия Олеговна</td>\n",
       "      <td>Россия</td>\n",
       "      <td>О.Товма</td>\n",
       "      <td>Ю.Тарханова</td>\n",
       "      <td>«16+» - для детей старше 16 лет</td>\n",
       "      <td>0.0</td>\n",
       "      <td>0.0</td>\n",
       "      <td>0.0</td>\n",
       "      <td>Коммерческий</td>\n",
       "      <td>3.9</td>\n",
       "      <td>история,биография,военный</td>\n",
       "      <td>0.0</td>\n",
       "    </tr>\n",
       "  </tbody>\n",
       "</table>\n",
       "</div>"
      ],
      "text/plain": [
       "                                  title   puNumber           show_start_date  \\\n",
       "1300                          Эпидемия_  121025713 2013-10-07 12:00:00+00:00   \n",
       "1301                          Эпидемия_  221035513 2013-10-07 12:00:00+00:00   \n",
       "1475                             Оторвы  121006514 2014-04-07 12:00:00+00:00   \n",
       "1476                             Оторвы  221013214 2014-04-07 12:00:00+00:00   \n",
       "2190                Последние пять лет.  221008115 2015-03-25 12:00:00+00:00   \n",
       "2191                Последние пять лет.  121005715 2015-03-25 12:00:00+00:00   \n",
       "2751  Пингвиненок Пороро: Большие гонки  224001915 2015-04-15 12:00:00+00:00   \n",
       "2752  Пингвиненок Пороро: Большие гонки  124001915 2015-04-15 12:00:00+00:00   \n",
       "3085                          Анархисты  221003916 2016-02-03 12:00:00+00:00   \n",
       "3086                          Анархисты  121002316 2016-02-03 12:00:00+00:00   \n",
       "4041                              Бугай  224021210 2010-09-24 12:00:00+00:00   \n",
       "4042                              Бугай  124001210 2010-09-24 12:00:00+00:00   \n",
       "6378                       Ян Антонышев  112011818 2018-11-15 12:00:00+00:00   \n",
       "6379                       Ян Антонышев  112011918 2018-11-15 12:00:00+00:00   \n",
       "6427                                Зоя  111022618 2018-11-25 12:00:00+00:00   \n",
       "6428                                Зоя  111022718 2018-11-25 12:00:00+00:00   \n",
       "\n",
       "                 type                                        film_studio  \\\n",
       "1300   Художественный  Морена Фильм, Ребелион Террестр, А 3 Медиа Гру...   \n",
       "1301   Художественный  Морена Фильм, Ребелион Террестр, А 3 Медиа Гру...   \n",
       "1475   Художественный  Проминент Пикчерз, Ворлдвью Интертейнмент, Инд...   \n",
       "1476   Художественный  Проминент Пикчерз, Ворлдвью Интертейнмент, Инд...   \n",
       "2190   Художественный  Гранд Пикс Интертейнмент, Лаки Манки Пикчерз, ...   \n",
       "2191   Художественный  Гранд Пикс Интертейнмент, Лаки Манки Пикчерз, ...   \n",
       "2751     Анимационный  Окон Студиос, Чина Филм, Симка Интертейнмент, ...   \n",
       "2752     Анимационный  Окон Студиос, Чина Филм, Симка Интертейнмент, ...   \n",
       "3085   Художественный                  24 Май Продюксьон, Франс 2 Синема   \n",
       "3086   Художественный                  24 Май Продюксьон, Франс 2 Синема   \n",
       "4041     Анимационный                          Иллюзион Студиос, Процесо   \n",
       "4042     Анимационный                          Иллюзион Студиос, Процесо   \n",
       "6378   Документальный                                         Без студии   \n",
       "6379   Документальный                                         Без студии   \n",
       "6427   Художественный                            Тарханова Юлия Олеговна   \n",
       "6428   Художественный                            Тарханова Юлия Олеговна   \n",
       "\n",
       "     production_country                    director  \\\n",
       "1300  Испания - Франция  Алекс Пастор, Давид Пастор   \n",
       "1301  Испания - Франция  Алекс Пастор, Давид Пастор   \n",
       "1475                США           Кристофер Нельсон   \n",
       "1476                США           Кристофер Нельсон   \n",
       "2190                США           Ричард ЛаГравенес   \n",
       "2191                США           Ричард ЛаГравенес   \n",
       "2751  Южная Корея - КНР               Юнг Куюн Парк   \n",
       "2752  Южная Корея - КНР               Юнг Куюн Парк   \n",
       "3085            Франция                 Эли Важеман   \n",
       "3086            Франция                 Эли Важеман   \n",
       "4041  Мексика-Аргентина                Густаво Кова   \n",
       "4042  Мексика-Аргентина                Густаво Кова   \n",
       "6378             Россия                   Е.Окопная   \n",
       "6379             Россия                   Е.Окопная   \n",
       "6427             Россия                     О.Товма   \n",
       "6428             Россия                     О.Товма   \n",
       "\n",
       "                                               producer  \\\n",
       "1300     Мерседес Гамеро, Альберто Марини, Педро Уриоль   \n",
       "1301     Мерседес Гамеро, Альберто Марини, Педро Уриоль   \n",
       "1475                           Молли Коннерс, Хезер Рэй   \n",
       "1476                           Молли Коннерс, Хезер Рэй   \n",
       "2190  Джанет Бреннер, Лорен Версель, Курт Дойтч, Рич...   \n",
       "2191  Джанет Бреннер, Лорен Версель, Курт Дойтч, Рич...   \n",
       "2751                            Иль Хо Ким, Михал Симка   \n",
       "2752                            Иль Хо Ким, Михал Симка   \n",
       "3085                                          Лола Гэнс   \n",
       "3086                                          Лола Гэнс   \n",
       "4041                     Хуго Е. Лаура, Хосе Луис Масса   \n",
       "4042                     Хуго Е. Лаура, Хосе Луис Масса   \n",
       "6378                                        Е.Герасимов   \n",
       "6379                                        Е.Герасимов   \n",
       "6427                                        Ю.Тарханова   \n",
       "6428                                        Ю.Тарханова   \n",
       "\n",
       "                             age_restriction  refundable_support  \\\n",
       "1300         «16+» - для детей старше 16 лет                 0.0   \n",
       "1301         «16+» - для детей старше 16 лет                 0.0   \n",
       "1475         «16+» - для детей старше 16 лет                 0.0   \n",
       "1476         «16+» - для детей старше 16 лет                 0.0   \n",
       "2190         «16+» - для детей старше 16 лет                 0.0   \n",
       "2191         «16+» - для детей старше 16 лет                 0.0   \n",
       "2751  «0+» - для любой зрительской аудитории                 0.0   \n",
       "2752  «0+» - для любой зрительской аудитории                 0.0   \n",
       "3085         «16+» - для детей старше 16 лет                 0.0   \n",
       "3086         «16+» - для детей старше 16 лет                 0.0   \n",
       "4041         «16+» - для детей старше 16 лет                 0.0   \n",
       "4042         «16+» - для детей старше 16 лет                 0.0   \n",
       "6378         «12+» - для детей старше 12 лет                 0.0   \n",
       "6379         «12+» - для детей старше 12 лет                 0.0   \n",
       "6427         «16+» - для детей старше 16 лет                 0.0   \n",
       "6428         «16+» - для детей старше 16 лет                 0.0   \n",
       "\n",
       "      nonrefundable_support  budget financing_source  ratings  \\\n",
       "1300                    0.0     0.0     Коммерческий      7.2   \n",
       "1301                    0.0     0.0     Коммерческий      7.2   \n",
       "1475                    0.0     0.0     Коммерческий      3.5   \n",
       "1476                    0.0     0.0     Коммерческий      3.5   \n",
       "2190                    0.0     0.0     Коммерческий      5.7   \n",
       "2191                    0.0     0.0     Коммерческий      5.7   \n",
       "2751                    0.0     0.0     Коммерческий      5.2   \n",
       "2752                    0.0     0.0     Коммерческий      5.2   \n",
       "3085                    0.0     0.0     Коммерческий      5.7   \n",
       "3086                    0.0     0.0     Коммерческий      5.7   \n",
       "4041                    0.0     0.0     Коммерческий      6.6   \n",
       "4042                    0.0     0.0     Коммерческий      6.6   \n",
       "6378                    0.0     0.0     Коммерческий      NaN   \n",
       "6379                    0.0     0.0     Коммерческий      NaN   \n",
       "6427                    0.0     0.0     Коммерческий      3.9   \n",
       "6428                    0.0     0.0     Коммерческий      3.9   \n",
       "\n",
       "                         genres  box_office  \n",
       "1300   драма,фантастика,триллер         0.0  \n",
       "1301   драма,фантастика,триллер         0.0  \n",
       "1475        комедия,приключения         0.0  \n",
       "1476        комедия,приключения         0.0  \n",
       "2190     мюзикл,драма,мелодрама         0.0  \n",
       "2191     мюзикл,драма,мелодрама     52495.0  \n",
       "2751  мультфильм,семейный,спорт      1360.0  \n",
       "2752  мультфильм,семейный,спорт  14152495.9  \n",
       "3085                      драма         0.0  \n",
       "3086                      драма    332371.0  \n",
       "4041  мультфильм,боевик,триллер         0.0  \n",
       "4042  мультфильм,боевик,триллер         0.0  \n",
       "6378                  Без жанра         0.0  \n",
       "6379                  Без жанра         0.0  \n",
       "6427  история,биография,военный         0.0  \n",
       "6428  история,биография,военный         0.0  "
      ]
     },
     "execution_count": 37,
     "metadata": {},
     "output_type": "execute_result"
    }
   ],
   "source": [
    "data[data.duplicated(subset=['title', 'show_start_date', 'type', 'film_studio', 'production_country', 'director'], keep=False)]"
   ]
  },
  {
   "cell_type": "markdown",
   "metadata": {},
   "source": [
    "##### Промежуточный вывод:\n",
    "Получились вот такие фильмы, НО стоит заметить, что номер удостоверения pbNumper у нах разный, а это значит, что возможно они были выпущены либо в разное время, либо в разных странах, вобщем по тем или иным причинам это разные прокаты, поэтому думаю, что стоит их сохранить.(Прокатное удостоверение очень похоже на серийный номер, у вас могут быть одни и те же наушники, но серийни к разный и по факту, если брать уникальные значения, то у каждого из вас разные наушники)"
   ]
  },
  {
   "cell_type": "markdown",
   "metadata": {
    "id": "PnXKIVdFgFyR"
   },
   "source": [
    "Посмотрим на type, поищем проблемы"
   ]
  },
  {
   "cell_type": "code",
   "execution_count": 38,
   "metadata": {},
   "outputs": [
    {
     "data": {
      "text/plain": [
       "array(['Художественный', 'Анимационный', 'Прочие', 'Документальный',\n",
       "       'Научно-популярный', ' Художественный', ' Анимационный',\n",
       "       'Музыкально-развлекательный'], dtype=object)"
      ]
     },
     "execution_count": 38,
     "metadata": {},
     "output_type": "execute_result"
    }
   ],
   "source": [
    "data['type'].unique()"
   ]
  },
  {
   "cell_type": "markdown",
   "metadata": {},
   "source": [
    "Ага, получается присутствуют пробелы перед названиями, из-за этого появляются дубли"
   ]
  },
  {
   "cell_type": "code",
   "execution_count": 39,
   "metadata": {},
   "outputs": [
    {
     "data": {
      "text/plain": [
       "array(['Художественный', 'Анимационный', 'Прочие', 'Документальный',\n",
       "       'Научно-популярный', 'Музыкально-развлекательный'], dtype=object)"
      ]
     },
     "execution_count": 39,
     "metadata": {},
     "output_type": "execute_result"
    }
   ],
   "source": [
    "data['type'] = data['type'].str.strip()\n",
    "data['type'].unique()"
   ]
  },
  {
   "cell_type": "markdown",
   "metadata": {},
   "source": [
    "Вот так лучше"
   ]
  },
  {
   "cell_type": "markdown",
   "metadata": {},
   "source": [
    "Проверим другие столбцы"
   ]
  },
  {
   "cell_type": "code",
   "execution_count": 40,
   "metadata": {},
   "outputs": [
    {
     "data": {
      "text/plain": [
       "743"
      ]
     },
     "execution_count": 40,
     "metadata": {},
     "output_type": "execute_result"
    }
   ],
   "source": [
    "data['genres'].nunique()"
   ]
  },
  {
   "cell_type": "markdown",
   "metadata": {},
   "source": [
    "O_O \n",
    "\n",
    "Очень сомневаюсь, что существует столько уникальных жанров, скорее всего это комбинации жанров (из серии: роман, боевик, триллер и тп)"
   ]
  },
  {
   "cell_type": "code",
   "execution_count": 41,
   "metadata": {},
   "outputs": [
    {
     "data": {
      "text/plain": [
       "743"
      ]
     },
     "execution_count": 41,
     "metadata": {},
     "output_type": "execute_result"
    }
   ],
   "source": [
    "#Поскольку проблема с пробелами уже встречалась, на всякий случай проверим ее и тут\n",
    "data['genres'] = data['genres'].str.strip() \n",
    "data['genres'].nunique()"
   ]
  },
  {
   "cell_type": "markdown",
   "metadata": {},
   "source": [
    "Выходит, что действительно это комбинации жанров"
   ]
  },
  {
   "cell_type": "code",
   "execution_count": 42,
   "metadata": {},
   "outputs": [
    {
     "data": {
      "text/plain": [
       "array(['«18+» - запрещено для детей', '«6+» - для детей старше 6 лет',\n",
       "       '«12+» - для детей старше 12 лет',\n",
       "       '«16+» - для детей старше 16 лет',\n",
       "       '«0+» - для любой зрительской аудитории'], dtype=object)"
      ]
     },
     "execution_count": 42,
     "metadata": {},
     "output_type": "execute_result"
    }
   ],
   "source": [
    "data['age_restriction'].unique()"
   ]
  },
  {
   "cell_type": "markdown",
   "metadata": {},
   "source": [
    "Здесть всё отлично"
   ]
  },
  {
   "cell_type": "code",
   "execution_count": 43,
   "metadata": {},
   "outputs": [
    {
     "data": {
      "text/plain": [
       "array(['Тачстоун Пикчерз, Кобальт Пикчерз, Бикон Пикчерз, Тиг Продакшнз',\n",
       "       'Киностудия \"Мосфильм\"',\n",
       "       'Юниверсал Пикчерз, Кикстарт Продакшнз, Марк Платт Продакшнз, Рилейтивити Медиа, Спайгласс Интертейнмент, Стилкин Филмз, Топ Кау Продакшнз',\n",
       "       ...,\n",
       "       'Дэниел Гродник Продакшнз, Вандерфилм Медиа Корпорэйшн, Импринт Интертейнмент, Вор Хорс Интертейнмент, Пимиента ',\n",
       "       'Никелодеон Анимейшн Студиос, Спин Мастер',\n",
       "       'Анимаккорд Лтд., ООО Студия \"АНИМАККОРД\"'], dtype=object)"
      ]
     },
     "execution_count": 43,
     "metadata": {},
     "output_type": "execute_result"
    }
   ],
   "source": [
    "data['film_studio'].unique()"
   ]
  },
  {
   "cell_type": "code",
   "execution_count": 44,
   "metadata": {},
   "outputs": [
    {
     "data": {
      "text/plain": [
       "5491"
      ]
     },
     "execution_count": 44,
     "metadata": {},
     "output_type": "execute_result"
    }
   ],
   "source": [
    "data['film_studio'].nunique()"
   ]
  },
  {
   "cell_type": "markdown",
   "metadata": {},
   "source": [
    "Студии естественно будут совпадать, одна студия может выпустить десятки фильмов"
   ]
  },
  {
   "cell_type": "code",
   "execution_count": 45,
   "metadata": {},
   "outputs": [
    {
     "data": {
      "text/plain": [
       "array(['США', 'СССР', 'Франция', 'СССР, Венгрия',\n",
       "       'Германия-Великобритания', 'Великобритания - Италия',\n",
       "       'Чехословакия', 'США - Франция - Турция', 'Новая Зеландия',\n",
       "       'Канада - Франция - Испания', 'США-Германия',\n",
       "       'США - Великобритания', 'Великобритания', 'США - Германия',\n",
       "       'Франция - Мексика - США', 'Россия, Казахстан, США',\n",
       "       'СССР, Швеция', 'СССР, Франция, Англия, Куба, ГДР', 'Германия',\n",
       "       'Великобритания-США-Германия-КНР',\n",
       "       'СССР, ЧССР, Западный Берлин, ПНР', 'СССР, Италия', 'Гонконг, КНР',\n",
       "       'США - Франция', 'США - Япония - Франция - Великобритания',\n",
       "       'Гонконг - Сингапур - Таиланд - Великобритания', 'США-Канада',\n",
       "       'Франция - Италия - Великобритания - США', 'Франция - США',\n",
       "       'Ирландия-Великобритания-Германия', 'Чехия', 'США-Австралия',\n",
       "       'СССР, Финляндия', 'США-Франция-Великобритания-Австрия',\n",
       "       'США - Бельгия', 'США - Ирландия - Великобритания',\n",
       "       'Великобритания - США',\n",
       "       'Люксембург - Нидерланды - Испания - Великобритания - США - Италия',\n",
       "       'Великобритания - Франция - США', 'Новая Зеландия - США',\n",
       "       'США - Великобритания - Чехия',\n",
       "       'Канада - Франция - Великобритания', 'Ирландия',\n",
       "       'Великобритания - Германия - США',\n",
       "       'США - Франция - Великобритания', 'Япония', 'СССР, Польша',\n",
       "       'Франция - Испания', 'Канада-Франция', 'Германия - Италия - США',\n",
       "       'Аргентина - Бразилия', 'Дания - Швейцария - Бельгия - Франция',\n",
       "       'США - Испания', 'Германия - США',\n",
       "       'Франция - Австрия - Германия - Италия - США', 'Австрия',\n",
       "       'США - Канада - Германия', 'США - Канада',\n",
       "       'СССР - Швейцария - Франция', 'Россия - Казахстан', 'Гонконг',\n",
       "       'Италия', 'США - ОАЭ', 'Россия',\n",
       "       'США - Франция - Испания - Великобритания',\n",
       "       'Великобритания - Франция', 'США-Италия-Испания-Аргентина',\n",
       "       'Франция-Великобритания', 'КНР - Гонконг',\n",
       "       'Франция - Италия - Швейцария', 'США - Новая Зеландия',\n",
       "       'Франция - Бельгия', 'КНР', 'Германия - Великобритания - Австрия',\n",
       "       'Великобритания - Израиль - Франция - Япония - США', 'Швеция',\n",
       "       'Испания', 'Дания', 'Франция - Бельгия - Люксембург',\n",
       "       'США - Индия - ОАЭ',\n",
       "       'Германия-Канада-Великобритания-Швейцария-Франция',\n",
       "       'Мексика - Чили', 'Аргентина', 'Бразилия', 'Чили', 'Австралия',\n",
       "       'Португалия - Франция', 'США - ЮАР', 'Исландия-Ирландия-Германия',\n",
       "       'США-Индонезия', 'Южная Корея', 'Мексика - Испания - Дания - США',\n",
       "       'Великобритания-США', 'Франция - Италия', 'США-Франция',\n",
       "       'США - Венгрия - Великобритания', 'Бельгия-Франция-Италия',\n",
       "       'Чехия - Германия', 'Германия - Франция', 'США-Нидерланды',\n",
       "       'Украина', 'Великобритания - Германия', 'Франция-Бельгия',\n",
       "       'США-Франция-Испания', 'Италия - Франция', 'Канада',\n",
       "       'Швеция-Франция-Дания', 'Германия-Франция-Польша',\n",
       "       'Франция-Великобритания - Германия',\n",
       "       'США - Бразилия - Франция - Австралия - Великобритания - Германия',\n",
       "       'Германия-Австрия', 'Германия-Италия- Шри-Ланка',\n",
       "       'Великобритания - Испания',\n",
       "       'США - Великобритания - Канада - Швеция',\n",
       "       'Босния и Герцеговина - Франция - Великобритания - Германия - Словения - Бельгия - Сербия',\n",
       "       'Великобритания - Франция - Италия - США', 'США-ОАЭ',\n",
       "       'Испания - Франция', 'США-Великобритания', 'США-ЮАР',\n",
       "       'Великобритания-Австралия - США',\n",
       "       'Норвегия - Швеция - Дания - Германия', 'Норвегия', 'Швейцария',\n",
       "       'Греция - Германия - Франция', 'Норвения', 'Южная Корея - США',\n",
       "       'Чили - Франция - США', 'Австрия - Германия - Франция',\n",
       "       'Швеция - Дания', 'Великобритания - Франция - Бельгия - Италия',\n",
       "       'Франция - Германия', 'Грузия - Франция - Люксембург',\n",
       "       'США - Франция - Великобритания - Бразилия ', 'США - КНР',\n",
       "       'Мексика - Франция', 'США - Германия - Гонконг - Сингапур',\n",
       "       'Финляндия - Австрия - Россия', 'Испания - Куба',\n",
       "       'Великобритания - ЮАР', 'Великобритания - Ирландия', 'Израиль',\n",
       "       'Бразилия - Германия - Порртугалия - Франция ',\n",
       "       'Франция - Канада - Бельгия', 'Франция-Испания',\n",
       "       'Испания - Канада - Япония', 'Иран', 'Швеция-Куба',\n",
       "       'США-Великобритания-Ирландия', 'Гонконг - КНР', 'Нидерланды',\n",
       "       'Испания - Канада', 'Япония-Великобритания',\n",
       "       'Великобритания - Норвегия - Дания - Германия',\n",
       "       'Финляндия - Франция - Германия',\n",
       "       'Мексика - Франция - Нидерланды - Германия', 'США - Индия',\n",
       "       'США-Великобритания-Индия', 'США-Канада-Бельгия',\n",
       "       'Республика Узбекистан', 'Италия ', 'Турция',\n",
       "       'Сербия - Словения - Хорватия - Черногория - Македония',\n",
       "       'Киргизия', 'Германия - Нидерланды - Беларусь - Россия - Латвия',\n",
       "       'Индия', 'Нидерланды - Россия - Германия',\n",
       "       'Великобритания - Нидерланды - Франция - Хорватия',\n",
       "       'Канада - Южная Корея',\n",
       "       'Великобритания - Польша - КНР - Индия - Норвегия',\n",
       "       'Япония - Франция - США - Южная Корея - Турция',\n",
       "       'Мексика - Аргентина - Великобритания', 'Израиль - Франция',\n",
       "       'Польша - Португалия - Франция - Великобритания',\n",
       "       'Австралия - США', 'США - Великобритания ',\n",
       "       'Франция - Люксембург - Бельгия', 'Армения',\n",
       "       'Бельгия - Люксембург - Франция - Швейцария',\n",
       "       'США - Великобритания - Канада', 'Норвегия - Швеция',\n",
       "       'Канада - Франция', 'КНР - Гонконг - США',\n",
       "       'США - Сингапур - Малайзия - Индонезия', 'Германия - Россия',\n",
       "       'Япония - Канада', 'Финляндия - Дания - Германия - Ирландия',\n",
       "       'Франция - Люксембург - Германия - Бельгия - Швейцария - Великобритания ',\n",
       "       'Канада - США', 'США-Италия-Испания', 'США-Испания',\n",
       "       'США - Швейцария - Франция', 'Испания - США - Колумбия',\n",
       "       'Канада-ЮАР', 'Франция - Россия',\n",
       "       'Германия - Финляндия - Австралия', 'Дания - Швеция', 'Бельгия',\n",
       "       'Германия - Франция - Австрия', 'Франция-Индия', 'ЮАР',\n",
       "       'Франция-Перу', 'Франция - Канада', 'Республика Беларусь',\n",
       "       'Великобритания - Австрия - Франция - США',\n",
       "       'Австрия-Германия-Франция', 'США-Россия', 'Германия-США',\n",
       "       'США - Южная Корея', 'Канада - КНР',\n",
       "       'Дания - Швеция - Италия - Франция - Германия',\n",
       "       'Франция-Италия-Испания-Венгрия', 'Франция - Германия - Бельгия',\n",
       "       'Франция-Великобритания-Чехия', 'Румыния - Франция - Бельгия',\n",
       "       'Болгария - Франция - Изриль',\n",
       "       'Израиль - Германия - Польша - Бельгия - Франция - Люксембург',\n",
       "       'Россия, Германия, Франция, Бельгия', 'Индонезия',\n",
       "       'Франция - Португалия', 'Великобритания - Пуэрто-Рико',\n",
       "       'СССР, ФРГ, Западный Берлин', 'Россия, Республика Беларусь',\n",
       "       'США, Великобритания', 'Франция - Австрия', 'Бельгия-Нидерланды',\n",
       "       'Великобритания - США - Индия', 'США - Великобритания - Австралия',\n",
       "       'Канада - Франция - США - ОАЭ - Великобритания',\n",
       "       'США - Австралия - Франция',\n",
       "       'Дания-Франция-Бельгия-Германия-Великобритания',\n",
       "       'Испания - Аргентина', 'Исландия - Финляндия',\n",
       "       'Россия-Польша-Голландия-Словакия', 'Дания - Германия - Швеция',\n",
       "       'Южная Корея - США - Канада', 'Таиланд', 'США-Мальта',\n",
       "       'США -Германия',\n",
       "       'Великобритания - Германия - Франция - Кипр - США', 'Мексика',\n",
       "       'США - Великобритания - Ирландия', 'США - Украина',\n",
       "       'США - Финляндия - Испания - Великобритания - Франция',\n",
       "       'Австралия-Великобритания',\n",
       "       'США - Канада - Афганистан - Бельгия - Франция',\n",
       "       'США - Великобритания - Германия - Новая Зеландия - Бельгия - Франция',\n",
       "       'Франция-Канада',\n",
       "       'Ирландия - Финляндия - Бельгия - Великобритания - США - Швейцария',\n",
       "       'Малайзия - США', 'Германия - Италия',\n",
       "       'США - Франция - Бельгия - Италия', 'Франция - Ирландия - Швеция',\n",
       "       'Азербайджан-Россия', 'Великобритания - Италия - Швейцария',\n",
       "       'США - Германия - Великобритания',\n",
       "       'Германия - Бельгия - США -Франция', 'США-Китай', 'Чили - Испания',\n",
       "       'Франция - Швейцария', 'Канада - Испания',\n",
       "       'США - Румыния - Великобритания', 'США - Япония',\n",
       "       'США - Россия - Франция', 'Франция-США', 'Парагвай',\n",
       "       'Германия - Канада', 'США - Канада - Великобритания',\n",
       "       'Финляндия - Канада', 'Уругвай-Мексика-Германия ', 'США - Чили',\n",
       "       'Германия - Аргентина - Нидерланды - Чили',\n",
       "       'США - Канада - Индонезия', 'Армения - Казахстан', 'Финляндия',\n",
       "       'Испания - Италия - Франция',\n",
       "       'Бельгия - Испания - Канада - Нидерланды',\n",
       "       'Великобритания - Франция - Швеция - Бельгия',\n",
       "       'Мексика - Эквадор - Канада - США - Франция - Малайзия - Италия - Аргентина - Германия - Индия  ',\n",
       "       'Франция - Бенльгия', 'Индия - Великобритания',\n",
       "       'Япония - Великобритания - Франция',\n",
       "       'Испания - Уругвай - Аргентина',\n",
       "       'Франция - Италия - Бельгия - Люксембург',\n",
       "       'Франция - Украина - Грузия - Армения',\n",
       "       'Сербия - Германия - Венгрия', 'Франция-Польша', 'Франция ',\n",
       "       'Румыния-США', 'Россия-Азербайджан',\n",
       "       'США - Нидерланды - Бельгия - Венгрия - Греция - Канада',\n",
       "       'Германия - Франция - Люксембург', 'США - Россия',\n",
       "       'Великобритания - США - Франция', 'США - Австралия - Дания',\n",
       "       'Бельгия-Франция', 'США-Мексика',\n",
       "       'Норвегия - Азербайджан - Россия - Колумбия - Великобритания - Венгрия - Румыния - Франция - Грузия',\n",
       "       'СЩА', 'Бразилия - Испания', 'Россия, Франция, Латвия',\n",
       "       'Нидерланды - США - Германия - Канада - Франция - Ирландия - Великобритания',\n",
       "       'Уругвай - Колумбия', 'США - Испания - Болгария',\n",
       "       'Армения - Германия', 'США - Великобритания- Франция - Швеция',\n",
       "       'США - Мексика', 'Австралия-Турция-США', 'Швеция - Германия',\n",
       "       'Польша - Италия - Россия', 'Франция - Бразилия',\n",
       "       'США - Канада - КНР', 'СССР, Венгрия, ЧССР, ГДР',\n",
       "       'Бельгия - Германия - Люксембург', 'СССР  ', 'СССР ', ' СССР ',\n",
       "       'США - Австралия', 'Бразилия - США',\n",
       "       'США - Великобритания - Канада - КНР', 'Франция - Чили',\n",
       "       'Франция - США - Великобритания - Колумбия - Бельгия - Россия',\n",
       "       'Дания - Великобритания - ЮАР', 'СССР   ',\n",
       "       'Россия-США-Канада-Люксембург', 'Россия - Республика Кипр',\n",
       "       'Германия - США - Швеция - Франция',\n",
       "       'Великобритания-Германия-Канада-ЮАР', ' СССР   ', 'СССР     ',\n",
       "       'Ирландия, Канада',\n",
       "       'Япония - Великобритания - Швейцария - Ирландия - Дания - Франция - Польша - Австралия - Канада  ',\n",
       "       'Великобритания, Канада', 'Бельгия - США',\n",
       "       'Великобритания - США - Россия', 'Россия-Украина',\n",
       "       'Германия - США - Великобритания - Израиль', 'Канада - Германия',\n",
       "       'США- Ю.Корея', 'Индия - Мексика',\n",
       "       'Великобритания - Франция - Республика Кипр - Швейцария - США - Сербия',\n",
       "       'Испания - Аргентина - Индия - США',\n",
       "       'Норвегия - Исландия - США - Великобритания ',\n",
       "       'Турция - Германя - Франция', 'Германия - Великобритания',\n",
       "       'Австралия - Германия', 'Мексика - Испания',\n",
       "       'Великобритания - США - Германия - Бельгия',\n",
       "       'США - Чехия - Франция', 'Россия - Италия', 'Франция-Россия',\n",
       "       'Норвегия - Дания - Швеция', 'Франция - Швейцария - Германия',\n",
       "       'Грузия - Украина', 'Россия - Эстония - Финляндия - Беларусь',\n",
       "       'США - Франция - ЮАР', 'Великобритания - США - Швейцария',\n",
       "       'Канада-США', 'Мексика - Нидерланды - Германия - Франция',\n",
       "       'США - Испания - Франция', 'США - Великобритания - КНР',\n",
       "       'США-Франция-Канада',\n",
       "       'Япония, Великобритания, Австрия, Германия, Ю.Корея',\n",
       "       'Великобритания - Ирландия - США', 'Бельгия - Италия - Франция ',\n",
       "       'Швейцария-Германия-ЮАР', 'Великобритания - США - Германия',\n",
       "       'Германия - Исландия', 'Испания - США', 'СССР    ', 'Хорватия',\n",
       "       'Финляндия - Исландия - Швеция',\n",
       "       'Канада - США - Германия - Франция',\n",
       "       'США - Великобритания - Испания', 'Ирландия-Великобритания',\n",
       "       'Аргентина - Испания', 'Австрия - Германия', ' СССР',\n",
       "       'Германия - Швейцария - Франция - Южная Корея - США',\n",
       "       'Украина - Нидерланды', 'Венгрия - Германия - Швеция',\n",
       "       'Германия - Франция -  Польша - Турция - Канада - Италия - Россия ',\n",
       "       'СССР, Афганистан', 'СССР, Монголия', 'Россия-Кипр',\n",
       "       'Россия, Грузия, Испания',\n",
       "       'Великобритания - Нидерланды - Германия - Франция - Бельгия - Австрия ',\n",
       "       'Испания - Великобритания - Франция',\n",
       "       'Дания - Норвегия - Великобритания',\n",
       "       'Бельгия - Франция - Люксембург',\n",
       "       'Италия - Франция - Швейцария - Великобритания',\n",
       "       'Франция - Бельгия - Великобритания - Испания - Германия - США',\n",
       "       'Швейцария - Израиль - Франция - Великобритания',\n",
       "       'Великобритания - США - Канада - Нидерланды - Франция',\n",
       "       'Россия, Италия', 'СССР, Албания',\n",
       "       'Россия, Украина, Республика Беларусь, Литва',\n",
       "       'Финляндия - Великобритания - Германия', 'Россия, Украина, Польша',\n",
       "       'Франция - Италия - Бельгия - КНР',\n",
       "       'Германия - Бельгия - Люксембург - Ирландия', 'КНР - Сингапур',\n",
       "       'Франция - Бельгия - Великобритания - США - Нидерланды - Канада',\n",
       "       'США - Россия - Польша - Германия - Пуэрто Рико',\n",
       "       'Франция - Бельгия - Канада', 'США ', 'Мексика - США',\n",
       "       'США - Гонконг - КНР ', 'Греция - Россия',\n",
       "       'Ирландия - Дания - Бельгия - Люксембург - Франция',\n",
       "       'Эстония - Россия',\n",
       "       'Великобритания - Исландия - Испания - Швейцария - США',\n",
       "       'Австралия - Великобритания - Бельгия - Индия',\n",
       "       'Швеция - Германия - Франция - Норвегия',\n",
       "       'Нидерланды - Бельгия - Германия - Ирландия',\n",
       "       'Нидерланды - Великобритания - Бельгия',\n",
       "       'США - Колумбия - Испания', 'Франция-Испания-Бельгия-Панама',\n",
       "       'США-Великобритания-Чехия-Румыния',\n",
       "       'Аргентина - Уругвай - Россия - Германия - Франция - Нидерланды',\n",
       "       'Швеция - Франция - Норвегия - Дания',\n",
       "       'Италия-Франция-Великобритания', 'Великобритания, Франция',\n",
       "       'Австралия, США', 'Венесуэла',\n",
       "       'Великобритания - США - Австралия - Ирландия - Германия - Куба - Канада',\n",
       "       'Южная Корея - КНР',\n",
       "       'Аргентина - Мексика - Бразилия - Франция - США', 'Швеция - США',\n",
       "       'Франция - Германия - Турция - Катар', 'Франция-Китай',\n",
       "       'Россия, Германия, Великобритания',\n",
       "       'Великобритания - Италия - Испания', 'Италия - Россия',\n",
       "       'Япония - КНР - Южная Корея', 'Россия, Германия',\n",
       "       'Россия-Ирландия', 'Македония - Франция - Великобритания',\n",
       "       'Франция - Бразилия - Италия', 'Россия-США', 'Армения-Россия',\n",
       "       'Россия, Румыния', 'Франция -  Бельгия', 'Грузия-Франция',\n",
       "       'ЮАР - США', 'Великобритания-США-Франция',\n",
       "       'Великобритания - США - Германия - Канада - Австралия',\n",
       "       'США-Ирландия', 'Россия, Республика Кипр',\n",
       "       'Германия - Люксембург - Франция', 'Россия-Франция',\n",
       "       'США - Нидерланды - Финляндия - Великобритания - Италия',\n",
       "       'Республика Кипр', 'Венгрия', 'Франция - США - Норвегия - Дания',\n",
       "       'Германия - Австрия - Ирландия', 'США - Финляндия',\n",
       "       'Италия-Великобритания', 'Россия, Испания',\n",
       "       'США - Великобритания - Болгария', 'Великобритания - Люксембург',\n",
       "       'Индия - США', 'США - Канада - Россия - Франция - Чили - Ирландия',\n",
       "       'Грузия-Россия',\n",
       "       'Дания - Австрия - Ирландия - Финляндия - Норвегия - Швеция - Нидерланды',\n",
       "       'США-КНР', 'Грузия', 'Австралия - Ирландия',\n",
       "       'Великобритания - Канада', 'Италия - Аргентина - Словения ',\n",
       "       'Испания - Франция - Нидерланды - Германия - Бельгия - Великобритания - Канада',\n",
       "       'Франция - Чехия - Бельгия',\n",
       "       'Великобритания - Франция - Германия - США',\n",
       "       'Ирландия - Великобритания - Франция - США - Германия - Нидерланды',\n",
       "       'США - Канада - Япония - КНР', 'Италия-Франция',\n",
       "       'США - Великобритания - Исландия', 'Великобритания-Франция',\n",
       "       'Франция - Германия - Нидерланды', 'Иран ',\n",
       "       'Франция - Германия - Швеция - США - Чехия - Словакия - Великобритания - Нидерланды',\n",
       "       'Франция - Канада - Н.Зеландия - США - Нидерланды - Германия - Швеция - Россия',\n",
       "       'Турция - США',\n",
       "       'Великобритания - США - Канада - Бельгия - Нидерланды - Австрия - Германия',\n",
       "       'Израиль - Франция - Германия - Палестина - США - Австрия - Великобритания',\n",
       "       'Аргентина - Франция - Испания', 'СССР, Россия',\n",
       "       'Великобритания - Франция - Италия - Индия - Дания - КНР - Бангладеш - Камбоджа - Гаити - Уганда',\n",
       "       'Италия - Франция - Швейцария',\n",
       "       'Ирландия - Великобритания - Канада', 'Перу', 'США - Норвегия',\n",
       "       'Испания-Канада', 'Китай-Гонконг', 'США - Германия - КНР',\n",
       "       'Великобритания - Новая Зеландия',\n",
       "       'Франция - Дания - Швеция - КНР',\n",
       "       'США - Великобритания - Германия - Бельгия - Дания',\n",
       "       'США - Франция - Канада - Германия - Австралия - Индия',\n",
       "       'Без страны', 'СССР, Румыния, Франция', 'СССР, ГДР',\n",
       "       'Австралия-Ирландия', 'США - Китай',\n",
       "       'Великобритания - Франция - Австрия - Швеция',\n",
       "       'Россия, Таджикистан', 'Нидерланды - Бельгия - Болгария',\n",
       "       'Великобритания - Канада - США', 'Франция - Бельгия - Испания',\n",
       "       'Китай-Гонконг-США', 'Франция - Великобритания', 'США - Вьетнам',\n",
       "       'США - Германия - Франция', 'Германия - Франция - Бельгия',\n",
       "       'США - Италия',\n",
       "       'Германия - Дания - Испания - Швеция - Канада - Эстония - Франция',\n",
       "       'Княжество Андорра - Украина', 'Германия - Люксембург - Бельгия',\n",
       "       'Великобритания - Россия - Украина - США',\n",
       "       'Германия - Бельгия - Люксембург - Норвегия',\n",
       "       'США - Австралия - Новая Зеландия - Великобритания',\n",
       "       'США - Франция - Канада - Великобритания', 'Испания-Колумбия',\n",
       "       'Великобритания - Чехия - Франция', 'Россия, Украина', 'Исландия',\n",
       "       'Великобритания - Франция - Венгрия',\n",
       "       'Россия, Франция, Германия, Бельгия', 'Франция - Македония',\n",
       "       'Нидерланды - Франция - Германия - Бельгия - Швеция - Великобритания',\n",
       "       'Испания - США - Великобритания - Канада', 'Германия - Австрия',\n",
       "       'Республика Казахстан',\n",
       "       'Франция - Испания - Дания - Венгрия - Швейцария', 'Франция-КНР',\n",
       "       'США - Пуэрто-Рико - Франция ', 'Мексика - Тайвань - США',\n",
       "       'Великобритания - Испания - Непал - Индия - Венгрия - Гонконг - Германия - Дания - Бахрейн',\n",
       "       'Великобритания - Аргентина - США - Франция - Россия - Испания',\n",
       "       'КНР - США', 'Италия - США', 'Финляндия - Швеция - Германия',\n",
       "       'Канада- Испания', 'Франция - Бельгия - Чехия',\n",
       "       'Франция-Бельгия-Канада', 'Франция - Германия - США',\n",
       "       'США - Дания', 'Индия - КНР', 'Чехия-Великобритания-США',\n",
       "       'США-ФРГ-Россия', 'Ирландия-Нидерланды-Франция-США-Великобритания',\n",
       "       'Россия, Грузия, Хорватия, Испания',\n",
       "       'Финляндия - Швеция - Норвегия', 'Сербия - Великобритания - США',\n",
       "       'США - Великобритания - Франция - Гонконг', 'Швейцария - Франция',\n",
       "       'Швейцария - Великобритания', 'ОАЭ - США',\n",
       "       'США - Франция - Германия - Канада - Австралия ',\n",
       "       'Германия - Австралия', 'Иран, Франция',\n",
       "       'США - Великобритания - Новая Зеландия', 'США-Колумбия',\n",
       "       'США-Франция-Ирландия', 'Великобритания - Франция - Бельгия',\n",
       "       'США - Великобритания - Япония', 'США - Франция - Германия',\n",
       "       'Польша - Ирландия', 'Ирландия - Великобритания - Франция - США',\n",
       "       'США - Бельгия - Великобритания', 'СССР, ВНР',\n",
       "       'Испания - Франция - США - Великобритания - Бельгия',\n",
       "       'Франция - Дания - США', 'США - Гонконг', 'Бразилия - К;анада',\n",
       "       'Франция-Германия', 'США - Колумбия',\n",
       "       'США - Ирландия - Великобритания - Франция',\n",
       "       'Великобритания - США - Канада', 'Польша - Франция',\n",
       "       'Канада - США - Нидерланды - Великобритания - Аргентина',\n",
       "       'Великобритания - Дания', 'Франция - Бельгия - Япония',\n",
       "       'Россия,  Испания', 'Франция -Бельгия',\n",
       "       'США - Канада - Германия - Франция', 'США-Канада-Франция',\n",
       "       'Россия - Германия', 'Россия-Италия', 'Китай - Гонконг',\n",
       "       'Германия-Австрия-Франция-Италия', 'США-Япония',\n",
       "       'США - Германия - Канада', 'Испания-Мексика',\n",
       "       'США - Япония - Канада - Великобритания - Германия - Франция',\n",
       "       'США -Великобритания - Австралия', 'Россия-Украина-Германия',\n",
       "       'Израиль - Франция - Великобритания - Германия', 'Корея',\n",
       "       'Россия - Болгария', 'США-Индия',\n",
       "       'Германия-Канада-Франция-Бельгия', 'Германия-Кения',\n",
       "       'Франция - Монако', 'Франция-Испания-Швейцария',\n",
       "       'Австрия-Франция-Германия', 'Румыния',\n",
       "       'США-Великобритания-Франция', 'Канада-Великобритания',\n",
       "       'Канада-Бразилия-Япония', 'Германия - Дания - Норвегия',\n",
       "       'Дания - Германия', 'СССР - Италия',\n",
       "       'СССР - ГДР - Польша - Италия',\n",
       "       'США - Испания - Франция - Великобритания', 'Китай',\n",
       "       'Мексика-Аргентина',\n",
       "       'Германия - Великобритания - Италия - Испания',\n",
       "       'Франция-Германия-Великобритания', 'Россия - Германия - Швейцария',\n",
       "       'Франция-Австралия', 'Голландия', 'Швейцария-Франция',\n",
       "       'Россия-Белоруссия', 'Франция - Испания - Тайвань',\n",
       "       'США-Южная Корея-Новая Зеландия', 'Великобритания-Венгрия',\n",
       "       'Россия-Германия', 'Великобритания-Франция-Германия',\n",
       "       'Франция-Германия-Италия', 'Швеция-Финляндия-Франция-Норвегия',\n",
       "       'Франция-Италия', 'Германия-Израиль',\n",
       "       'Швеция - Германия - Дания - Норвегия', 'США-Бельгия',\n",
       "       'Франция-Гонконг-Ирландия', 'Эстония', 'Литва-Россия-Украина',\n",
       "       'Германия - Италия - Франция',\n",
       "       'Великобритания - Австрия - Германия', 'Бельгия - Франция',\n",
       "       'Россия-Казахстан', 'Испания - Мальта',\n",
       "       'Франция-Россия-Румыния-Италия-Бельгия', 'Россия - Польша',\n",
       "       'Испания - Мексика', 'США-Аргентина', 'Великобритания ',\n",
       "       'Израиль-США-Франция', 'США - Новая Зеландия - Япония',\n",
       "       'Франция - Чехия - Великобритания', 'Россия-Польша',\n",
       "       'Германия-Франция-Великобритания', 'США-Германия-Канада',\n",
       "       'США-Гонконг-Китай', 'США - Великобритания - Германия',\n",
       "       'США-Канада-Австралия', 'Япония-США-Франция',\n",
       "       'Франция-Испания-Германия', 'США - Хорватия - Босния-Герцеговина',\n",
       "       'Великобритания - Чехия - Франция - Италия',\n",
       "       'США - Германия - Нидерланды', 'Германия - Франция - Канада',\n",
       "       'Франция-Грузия-Германия-Россия-Украина-Бельгия',\n",
       "       'Великобритания - Франция - Италия', 'Россия - США',\n",
       "       'Франция - Италия - Иран', 'Россия - Азербайджан', 'Греция',\n",
       "       'Дания - США', 'США-Великобритания-Новая Зеландия',\n",
       "       'США-Германия-Австралия', 'США-Канада-Италия',\n",
       "       'США - Япония - Германия', 'Австралия-США',\n",
       "       'Франция - Великобритания - Багамские острова - США',\n",
       "       'Швейцария - Люксембург', 'Швейцария - Австрия',\n",
       "       'Германия - Швейцария', 'Дания-Швеция-Франция-Германия', 'Польша',\n",
       "       'Швейцария-Австрия', 'Бразилия - Канада - США',\n",
       "       'Нидерланды - Россия', 'Португалия', 'Франция-Аргентина',\n",
       "       'Швеция-Франция', 'Франция-Украина', 'Германия-Украина-Нидерланды',\n",
       "       'Италия-Швейцария', 'США-Германия-Великобритания',\n",
       "       'Латвия - Россия', 'Германия-Франция-Великобритания-США',\n",
       "       'Канада - Италия', 'США - Объединенные Арабские Эмираты',\n",
       "       'США-Венгрия', 'Малайзия', 'Россия - Германия - Украина',\n",
       "       'США - Австралия - Мексика', 'Литва - Венгрия', 'Германия - Китай',\n",
       "       'Казахстан', 'Республика Корея',\n",
       "       'США - Германия - Франция - Великобритания - Канада ',\n",
       "       'Бельгия - Германия - Люксембург - Франция', 'Франция - Греция',\n",
       "       'Италия - Канада', 'США - Великобритания - Франция',\n",
       "       'США-Италия-Греция', 'Германия - США - Великобритания - Ирландия',\n",
       "       'Великобритания - Франция - Германия',\n",
       "       'Германия - Нидерланды - ЮАР',\n",
       "       'США-Япония-Германия-Великобритания-Нидерланды',\n",
       "       'США-Япония-Германия-Великобритания',\n",
       "       'Германия - Франция - Польша',\n",
       "       'Таиланд-Великобритания-Франция-Германия-Испания-Нидерланды',\n",
       "       'Германия-Италия-Швейцария',\n",
       "       'Дания - Швеция - Великобритания - Франция - Германия - Нидерланды - Норвегия - Финляндия',\n",
       "       'Франция - Великобритания - Нидерланды - Люксембург',\n",
       "       'Нидерланды-Великобритания-Франция-Италия-Япония',\n",
       "       'Финляндия-Дания-Германия-Ирландия', 'Испания-Аргентина',\n",
       "       'Великобритания - Нидерланды - Франция - США', 'Канада - Мексика',\n",
       "       'США, Франция', 'Канада-Южная Корея-США',\n",
       "       'Великобритания - Франция - Бельгия - США', 'КНР - Канада - США',\n",
       "       'Италия - Франция - Германия',\n",
       "       'Швеция - Германия - Франция - Дания', 'Франция - США - Бельгия',\n",
       "       'Украина - Германия - Латвия - Эстония', 'Австрия - Люксембург',\n",
       "       'Великобритания - КНР', 'Монголия', 'Франция - Дания',\n",
       "       'Швеция - Дания - Финляндия',\n",
       "       'Сингапур - Великобритания - Индонезия - Канада - США',\n",
       "       'США - Германия - Япония', 'Таиланд - США', 'Франция - Нидерланды',\n",
       "       'Великобритания - Румыния', 'США - Мальта',\n",
       "       'Великобритания - Германия - Нидерланды - Дания',\n",
       "       'Франция - Германия - Литва - Нидерланды - Россия',\n",
       "       'США - ЮАР - Гонконг', 'Австралия - Колумбия',\n",
       "       'Великобритания - Польша', 'США - Великобритания - Швеция',\n",
       "       'Франция - Швеция - Дания - Норвегия', 'Болгария - США',\n",
       "       'СССР, ФРГ', 'Бельгия - Нидерланды - Франция',\n",
       "       'Финляндия - Германия', 'Болгария',\n",
       "       'Грузия - Россия - Украина - Хорватия - Германия',\n",
       "       'Франция - Люксембург', 'Франция - Германия - Австрия',\n",
       "       'Норвегия - США', 'Германия-Швеция', 'Франция - Германия - Италия',\n",
       "       'Франция-Германия-Австрия', 'КНР-США',\n",
       "       'Великобритания - Ирландия - США ',\n",
       "       'Дания - Латвия - Россия - США', 'Финляндия - Польша',\n",
       "       'Германия - Бельгия', 'Германия - США - Франция - Испания',\n",
       "       'Бельгия-Германия-Канада-Франция-США-Великобритания',\n",
       "       'Нидерланды - Бельгия - Люксембург', 'Канада-Германия',\n",
       "       'Люксембург - Бельгия - Франция', 'США-Великобритания-Австралия',\n",
       "       'Великобритания, Новая Зеландия', 'Бельгия, Великобритания, США',\n",
       "       'Великобритания, Австралия', 'Исландия, Бельгия',\n",
       "       'Испания - Швейцария - Великобритания - Германия - Новая Зеландия - Нидерланды - Канада',\n",
       "       'Франция, Бельгия', 'Великобритания, США', 'Киргизия-Россия',\n",
       "       'Германия, США', 'Великобритания, США, Испания',\n",
       "       'Италия - Швейцария - Германия', 'Россия, Армения',\n",
       "       'Франция, Германия', 'Китай, Канада, США', 'Германия, Австралия',\n",
       "       'КНР, США', 'США, Великобритания, Люксембург',\n",
       "       'Испания, Ирландия, Бельгия, Франция',\n",
       "       'Великобритания - Гонконг - Венгрия - США - Ирландия',\n",
       "       'США - Пуэрто Рико', 'Аргентина - Испания - Уругвай',\n",
       "       'Израиль - Германия - Франция - Швейцария',\n",
       "       'Великобритания - Мексика - США', 'Испания - Болгария - США',\n",
       "       'Россия-Словакия-Чехия',\n",
       "       'Швейцария - КНР - США - Россия - Республика Корея - Великобритания',\n",
       "       'Россия, Нидерланды, Финляндия',\n",
       "       'Испания - Бельгия - Франция - Португалия - Великобритания',\n",
       "       'Бразилия - Португалия - Франция', 'Швеция - Норвегия',\n",
       "       'Франция - Польша - Бельгия', 'CША', 'Китай, США',\n",
       "       'Италия, Франция, Германия', 'Германия - Австрия - Франция',\n",
       "       'Чехия - Словакия - Хорватия', 'Россия, Польша, Финляндия',\n",
       "       'Россия, Латвия, Чешская Республика',\n",
       "       'Франция - Великобритания - Камбоджа - США - КНР',\n",
       "       'Чехия - Испания - США', 'Германия - Люксембург - Дания',\n",
       "       'Великобритания - Испания - Германия', 'Дания - Исландия',\n",
       "       'Германия, Франция, Великобритания',\n",
       "       'Великобритания - Испания - Италия - Латвия - Франция - Эстония',\n",
       "       'Дания, Швеция, Великобритания, Франция, Германия, Норвегия, Финляндия, Нидерланды, Италия',\n",
       "       'Польша - Франция - Великобритания',\n",
       "       'Дания, Норвегия, Венгрия, Чехия',\n",
       "       'Дания - Франция - Германия - Швеция',\n",
       "       'Великобритания, Швеция, США',\n",
       "       'Канада, Франция, Италия, Швейцария, США', 'США, Индия',\n",
       "       'США - Великобритания - Германия - - Швеция - Канада',\n",
       "       'Италия, Франция', 'Республика Беларусь, Германия, США, Россия',\n",
       "       'Италия-Швейцария-Франция-Германия ',\n",
       "       'Россия - Франция - Великобритания - Латвия', 'Россия-Беларусь',\n",
       "       'Франция - Испания - Румыния - США - Бельгия', 'Италия-США',\n",
       "       'Россия, Австрия', 'Ирландия - Великобритания - США',\n",
       "       'Швейцария, Великобритания, Франция, США, Ирландия',\n",
       "       'Мексика, Франция, Германия, Дания, Швеция', 'Нидерланды, Бельгия',\n",
       "       'Швеция, Норвегия, Финляндия, Франция', 'Испания, Франция, Италия',\n",
       "       'Испания-Франция-Греция-Индия-США-Россия-Великобритания',\n",
       "       'Великобритания - Япония - США',\n",
       "       'Дания, Канада, Норвегия, Австралия, США', 'Аргентина, Испания',\n",
       "       'Россия, Германия, Казахстан, Польша, Китай',\n",
       "       'Португалия, Франция, Польша, США', 'США - Канада - Аргентина',\n",
       "       'Ливан-США', 'Япония - США', 'США, Гонконг ',\n",
       "       'Франция - Россия - Швейцария - Румыния - Венгрия',\n",
       "       'Аргентина-Испания', 'Россия, Сербия', 'США - Болгария - Мексика',\n",
       "       'США - Великобритания - Швейцария - Франция',\n",
       "       'Таиланд - КНР - США',\n",
       "       'Великобритания, Нидерланды, Польша, Швейцария, Франция',\n",
       "       'Ирландия - США',\n",
       "       'Германия - Франция - Великобритания - Польша - США',\n",
       "       'Великобритания-Франция-Италия', 'США - Австралия - Индия',\n",
       "       'Франция - КНР', 'Великобритания - Израиль',\n",
       "       'Великобритания - Норвегия - Кения - Хорватия',\n",
       "       'США - Бразилия - Великобритания - Канада', 'Германия, Бельгия',\n",
       "       'Австралия, Канада', 'США, Великобритания, Франция',\n",
       "       'Кения, Германия', 'Нидерланды, Бельгия, Люксембург', 'Колумбия',\n",
       "       'Латвия - Франция', 'Ирландия, Великобритания',\n",
       "       'Франция - Израиль - Германия', 'Швеция, Франция, Великобритания',\n",
       "       'Бельгия - Люксембург', 'Германия - Бельгия - Великобритания',\n",
       "       'Испания, Франция, Великобритания, Дания, Бельгия, Германия',\n",
       "       'Румыния, ЮАР, Иран, Франция, Канада, Великобритания',\n",
       "       'Германия, Франция', 'США, Япония',\n",
       "       'США, Великобритания, Ирландия, Люксембург', 'Республика Армения',\n",
       "       'США, Франция, Япония', 'Япония, США', 'Канада, США',\n",
       "       'Республика Кипр - Россия',\n",
       "       'Дания - Франция - Италия - Бельгия - Нидерланды',\n",
       "       'Россия - Грузия', 'Италия, Германия', 'Норвегия, Швеция, Дания',\n",
       "       'Республика Кипр, Россия', 'КНР, Индия, Гонконг, США',\n",
       "       'Израиль, Украина', 'США, Россия', 'США - КНР - Индия - Ю.Корея',\n",
       "       'США - Швеция', 'Франция, Канада', 'Россия-Китай',\n",
       "       'Канада, Великобритания', 'США, Германия',\n",
       "       'Канада, США, Каймановы острова',\n",
       "       'Бразилия, Уругвай, Дания, Норвегия, Чили, Швеция',\n",
       "       'Пуэрто-Рико, Великобритания, США',\n",
       "       'Уругвай - Аргентина - Испания',\n",
       "       'США - Великобритания - Италия - Израиль - Сербия - Индия',\n",
       "       'США - Канада - Франция - Индия', 'Великобритания - Россия - КНР',\n",
       "       'Франция, Новая Зеландия', 'Франция, Люксембург, Бельгия',\n",
       "       'Канада, США, Норвегия', 'Италия, Испания',\n",
       "       'Испания - Германия - Нидерланды', 'Бразилия - США - КНР ',\n",
       "       'Великобритания, Германия, Дания, США', '2019',\n",
       "       'Италия - Фрация - Бразилия - Германия',\n",
       "       'Норвегия - Швеция - Россия', 'Великобритания, Япония, США',\n",
       "       'Сша, Канада', 'Бельгия, Канада',\n",
       "       'Великобритания - Австралия - США', 'США, Канада', 'КНР - США ',\n",
       "       'Франция - Финляндия', 'Колумбия - США',\n",
       "       'Великобритания, Франция, Бельгия', 'Норвегия - Нидерланды',\n",
       "       'Великобритания, Канада, США', 'Япония, Великобритания',\n",
       "       'Италия - Бельгия - Франция', 'Россия, Бельгия, Финляндия',\n",
       "       'США, Украина', 'Франция, Норвегия',\n",
       "       'Великобритания, Южная Корея, Канада, США, Индия, Китай, Япония',\n",
       "       'Канада - Норвегия', 'Республика Кипр-Россия', 'Германия, Россия',\n",
       "       'Польша - Франция - Испания - Бразилия - Швеция',\n",
       "       'Австрия, Великобритания, Германия', 'Франция - Сенегал - Бельгия',\n",
       "       'Франция, Бельгия, Люксембург', 'Финляндия, Латвия', 'Пакистан',\n",
       "       'Германия, Франция, США', 'Германия - Великобритания - США',\n",
       "       'КНР - Франция', 'Дания, Норвегия, Швеция, Исландия',\n",
       "       'Республика Кипр, США, Россия', 'Новая Зеландия - КНР',\n",
       "       'Дания - Канада - Швеция - Франция - Германия - Великобритания - США'],\n",
       "      dtype=object)"
      ]
     },
     "execution_count": 45,
     "metadata": {},
     "output_type": "execute_result"
    }
   ],
   "source": [
    "data['production_country'].unique()"
   ]
  },
  {
   "cell_type": "code",
   "execution_count": 46,
   "metadata": {},
   "outputs": [
    {
     "data": {
      "text/plain": [
       "951"
      ]
     },
     "execution_count": 46,
     "metadata": {},
     "output_type": "execute_result"
    }
   ],
   "source": [
    "data['production_country'].nunique()"
   ]
  },
  {
   "cell_type": "markdown",
   "metadata": {},
   "source": [
    "Тут опять же суть в том, что много разных комбинаций"
   ]
  },
  {
   "cell_type": "code",
   "execution_count": 47,
   "metadata": {},
   "outputs": [
    {
     "data": {
      "text/plain": [
       "array(['Коммерческий', 'Министерство культуры', 'Фонд кино',\n",
       "       'Министерство культуры, Фонд кино'], dtype=object)"
      ]
     },
     "execution_count": 47,
     "metadata": {},
     "output_type": "execute_result"
    }
   ],
   "source": [
    "data['financing_source'].unique()"
   ]
  },
  {
   "cell_type": "markdown",
   "metadata": {},
   "source": [
    "Тут всё отлично, 3 значения изначальных и 1, которое мы добавили"
   ]
  },
  {
   "cell_type": "markdown",
   "metadata": {},
   "source": [
    "###### Промежуточный вывод:\n",
    "    Во всех столбцал есть маленькие недочёты, чаще всего - лишьние символы пробела. Также присутствует следущая практика(это не ошибка, не недочёт просто так оно есть) в нескольких столбцах есть комбинированные значения, то есть состоящие из(грубо говоря) списка.(Например genres, film_studio, production_country, director, producer)"
   ]
  },
  {
   "cell_type": "markdown",
   "metadata": {
    "id": "YbzClBxagFyS"
   },
   "source": [
    "budget - это общий бюджет фильма, стало быть в том числе там присутствуют фильмы с господдержкой. Рассмотрим соотношение с refundable_support и nonrefundable_support"
   ]
  },
  {
   "cell_type": "markdown",
   "metadata": {},
   "source": [
    "Посмотрим на вариант где бюджет меньше, чем сумма возвратных и невозвратных средств."
   ]
  },
  {
   "cell_type": "code",
   "execution_count": 48,
   "metadata": {},
   "outputs": [
    {
     "data": {
      "text/html": [
       "<div>\n",
       "<style scoped>\n",
       "    .dataframe tbody tr th:only-of-type {\n",
       "        vertical-align: middle;\n",
       "    }\n",
       "\n",
       "    .dataframe tbody tr th {\n",
       "        vertical-align: top;\n",
       "    }\n",
       "\n",
       "    .dataframe thead th {\n",
       "        text-align: right;\n",
       "    }\n",
       "</style>\n",
       "<table border=\"1\" class=\"dataframe\">\n",
       "  <thead>\n",
       "    <tr style=\"text-align: right;\">\n",
       "      <th></th>\n",
       "      <th>title</th>\n",
       "      <th>puNumber</th>\n",
       "      <th>show_start_date</th>\n",
       "      <th>type</th>\n",
       "      <th>film_studio</th>\n",
       "      <th>production_country</th>\n",
       "      <th>director</th>\n",
       "      <th>producer</th>\n",
       "      <th>age_restriction</th>\n",
       "      <th>refundable_support</th>\n",
       "      <th>nonrefundable_support</th>\n",
       "      <th>budget</th>\n",
       "      <th>financing_source</th>\n",
       "      <th>ratings</th>\n",
       "      <th>genres</th>\n",
       "      <th>box_office</th>\n",
       "    </tr>\n",
       "  </thead>\n",
       "  <tbody>\n",
       "    <tr>\n",
       "      <th>2052</th>\n",
       "      <td>14+</td>\n",
       "      <td>111023614</td>\n",
       "      <td>2014-12-19 12:00:00+00:00</td>\n",
       "      <td>Художественный</td>\n",
       "      <td>ООО Киностудия  \"Сентябрь\"</td>\n",
       "      <td>Россия</td>\n",
       "      <td>А.Зайцев</td>\n",
       "      <td>О.Гранина, А.Зайцев</td>\n",
       "      <td>«16+» - для детей старше 16 лет</td>\n",
       "      <td>0.0</td>\n",
       "      <td>23000000.0</td>\n",
       "      <td>0.0</td>\n",
       "      <td>Министерство культуры, Фонд кино</td>\n",
       "      <td>6.6</td>\n",
       "      <td>мелодрама</td>\n",
       "      <td>1.023402e+07</td>\n",
       "    </tr>\n",
       "    <tr>\n",
       "      <th>2057</th>\n",
       "      <td>Дуxless 2</td>\n",
       "      <td>111000415</td>\n",
       "      <td>2015-01-26 12:00:00+00:00</td>\n",
       "      <td>Художественный</td>\n",
       "      <td>ООО \"Киностудия \"Слово\", ООО \"Арт Пикчерс Студия\"</td>\n",
       "      <td>Россия</td>\n",
       "      <td>Р.Прыгунов</td>\n",
       "      <td>П.Ануров, Ф.Бондарчук, Д.Рудовский</td>\n",
       "      <td>«16+» - для детей старше 16 лет</td>\n",
       "      <td>0.0</td>\n",
       "      <td>75000000.0</td>\n",
       "      <td>0.0</td>\n",
       "      <td>Фонд кино</td>\n",
       "      <td>6.6</td>\n",
       "      <td>драма</td>\n",
       "      <td>4.461635e+08</td>\n",
       "    </tr>\n",
       "    <tr>\n",
       "      <th>2471</th>\n",
       "      <td>Воин (2015)</td>\n",
       "      <td>111017315</td>\n",
       "      <td>2015-09-28 12:00:00+00:00</td>\n",
       "      <td>Художественный</td>\n",
       "      <td>ООО \"Форпост Продакшн\", ООО \"Арт Пикчерс Студия\"</td>\n",
       "      <td>Россия</td>\n",
       "      <td>А.Андрианов</td>\n",
       "      <td>ООО \"Арт Пикчерс Студия\"</td>\n",
       "      <td>«12+» - для детей старше 12 лет</td>\n",
       "      <td>10000000.0</td>\n",
       "      <td>70000000.0</td>\n",
       "      <td>0.0</td>\n",
       "      <td>Фонд кино</td>\n",
       "      <td>7.8</td>\n",
       "      <td>боевик,драма,криминал</td>\n",
       "      <td>1.965724e+08</td>\n",
       "    </tr>\n",
       "    <tr>\n",
       "      <th>2531</th>\n",
       "      <td>Бармен.</td>\n",
       "      <td>111009615</td>\n",
       "      <td>2015-05-26 12:00:00+00:00</td>\n",
       "      <td>Художественный</td>\n",
       "      <td>АО \"ВайТ Медиа\", ООО \"Арт Пикчерс Студия\"</td>\n",
       "      <td>Россия</td>\n",
       "      <td>Д.Штурманова</td>\n",
       "      <td>Т.Вайнштейн</td>\n",
       "      <td>«16+» - для детей старше 16 лет</td>\n",
       "      <td>20000000.0</td>\n",
       "      <td>0.0</td>\n",
       "      <td>0.0</td>\n",
       "      <td>Фонд кино</td>\n",
       "      <td>6.2</td>\n",
       "      <td>комедия,фэнтези</td>\n",
       "      <td>6.741897e+07</td>\n",
       "    </tr>\n",
       "    <tr>\n",
       "      <th>2614</th>\n",
       "      <td>Савва. Сердце воина</td>\n",
       "      <td>114001715</td>\n",
       "      <td>2015-07-21 12:00:00+00:00</td>\n",
       "      <td>Анимационный</td>\n",
       "      <td>ООО \"Глюкоза Продакшн\", ООО \"Арт Пикчерс Студия\"</td>\n",
       "      <td>Россия</td>\n",
       "      <td>М.Фадеев</td>\n",
       "      <td>А.Чистяков</td>\n",
       "      <td>«6+» - для детей старше 6 лет</td>\n",
       "      <td>60000000.0</td>\n",
       "      <td>100000000.0</td>\n",
       "      <td>0.0</td>\n",
       "      <td>Фонд кино</td>\n",
       "      <td>4.6</td>\n",
       "      <td>мультфильм,приключения,фэнтези</td>\n",
       "      <td>1.844876e+08</td>\n",
       "    </tr>\n",
       "    <tr>\n",
       "      <th>2683</th>\n",
       "      <td>Тряпичный союз</td>\n",
       "      <td>111010215</td>\n",
       "      <td>2015-06-08 12:00:00+00:00</td>\n",
       "      <td>Художественный</td>\n",
       "      <td>ООО \"Кинокомпания \"КОКТЕБЕЛЬ\"</td>\n",
       "      <td>Россия</td>\n",
       "      <td>М.Местецкий</td>\n",
       "      <td>Р.Борисевич, А.Кушаев</td>\n",
       "      <td>«18+» - запрещено для детей</td>\n",
       "      <td>0.0</td>\n",
       "      <td>59000000.0</td>\n",
       "      <td>0.0</td>\n",
       "      <td>Фонд кино</td>\n",
       "      <td>6.3</td>\n",
       "      <td>комедия,драма</td>\n",
       "      <td>1.957739e+06</td>\n",
       "    </tr>\n",
       "    <tr>\n",
       "      <th>2787</th>\n",
       "      <td>Срочно выйду замуж</td>\n",
       "      <td>111017115</td>\n",
       "      <td>2015-09-30 12:00:00+00:00</td>\n",
       "      <td>Художественный</td>\n",
       "      <td>АО \"ВайТ Медиа\", ООО \"Арт Пикчерс Студия\"</td>\n",
       "      <td>Россия</td>\n",
       "      <td>С Чекалов</td>\n",
       "      <td>Ф.Бондарчук, Т.Вайнштейн, Д.Рудовский</td>\n",
       "      <td>«16+» - для детей старше 16 лет</td>\n",
       "      <td>0.0</td>\n",
       "      <td>35000000.0</td>\n",
       "      <td>0.0</td>\n",
       "      <td>Фонд кино</td>\n",
       "      <td>5.1</td>\n",
       "      <td>комедия,мелодрама</td>\n",
       "      <td>7.293778e+07</td>\n",
       "    </tr>\n",
       "    <tr>\n",
       "      <th>2873</th>\n",
       "      <td>Помню - не помню!</td>\n",
       "      <td>111004916</td>\n",
       "      <td>2016-03-01 12:00:00+00:00</td>\n",
       "      <td>Художественный</td>\n",
       "      <td>ООО \"КиноФирма\"</td>\n",
       "      <td>Россия</td>\n",
       "      <td>В.Ровенский</td>\n",
       "      <td>ООО \"КиноФирма\"</td>\n",
       "      <td>«12+» - для детей старше 12 лет</td>\n",
       "      <td>0.0</td>\n",
       "      <td>6000000.0</td>\n",
       "      <td>0.0</td>\n",
       "      <td>Министерство культуры</td>\n",
       "      <td>4.3</td>\n",
       "      <td>комедия</td>\n",
       "      <td>1.536293e+07</td>\n",
       "    </tr>\n",
       "    <tr>\n",
       "      <th>3046</th>\n",
       "      <td>Любовь с ограничениями</td>\n",
       "      <td>111008216</td>\n",
       "      <td>2016-04-29 12:00:00+00:00</td>\n",
       "      <td>Художественный</td>\n",
       "      <td>АО \"ВайТ Медиа\", ООО \"Арт Пикчерс Студия\"</td>\n",
       "      <td>Россия</td>\n",
       "      <td>Д.Тюрин</td>\n",
       "      <td>Ф.Бондарчук, Т.Вайнштейн, Д.Рудовский</td>\n",
       "      <td>«16+» - для детей старше 16 лет</td>\n",
       "      <td>19000000.0</td>\n",
       "      <td>51000000.0</td>\n",
       "      <td>0.0</td>\n",
       "      <td>Фонд кино</td>\n",
       "      <td>6.3</td>\n",
       "      <td>комедия,мелодрама</td>\n",
       "      <td>7.029905e+07</td>\n",
       "    </tr>\n",
       "    <tr>\n",
       "      <th>3564</th>\n",
       "      <td>Притяжение (2016)</td>\n",
       "      <td>111018116</td>\n",
       "      <td>2016-12-16 12:00:00+00:00</td>\n",
       "      <td>Художественный</td>\n",
       "      <td>ООО \"Водород 2011\",  ООО \"Арт Пикчерс Студия\"</td>\n",
       "      <td>Россия</td>\n",
       "      <td>Ф.Бондарчук</td>\n",
       "      <td>ООО \"Арт Пикчерс Студия\"</td>\n",
       "      <td>«12+» - для детей старше 12 лет</td>\n",
       "      <td>0.0</td>\n",
       "      <td>250000000.0</td>\n",
       "      <td>0.0</td>\n",
       "      <td>Фонд кино</td>\n",
       "      <td>5.6</td>\n",
       "      <td>фантастика</td>\n",
       "      <td>1.038321e+09</td>\n",
       "    </tr>\n",
       "    <tr>\n",
       "      <th>3674</th>\n",
       "      <td>Чудо-юдо</td>\n",
       "      <td>114001817</td>\n",
       "      <td>2017-06-27 12:00:00+00:00</td>\n",
       "      <td>Анимационный</td>\n",
       "      <td>ООО \"КиноФирма\"</td>\n",
       "      <td>Россия</td>\n",
       "      <td>А.Лукичев</td>\n",
       "      <td>ООО \"КиноФирма\"</td>\n",
       "      <td>«6+» - для детей старше 6 лет</td>\n",
       "      <td>20000000.0</td>\n",
       "      <td>20000000.0</td>\n",
       "      <td>0.0</td>\n",
       "      <td>Фонд кино</td>\n",
       "      <td>5.2</td>\n",
       "      <td>мультфильм,фэнтези,семейный</td>\n",
       "      <td>5.510801e+07</td>\n",
       "    </tr>\n",
       "    <tr>\n",
       "      <th>3738</th>\n",
       "      <td>Мифы</td>\n",
       "      <td>111004317</td>\n",
       "      <td>2017-06-07 12:00:00+00:00</td>\n",
       "      <td>Художественный</td>\n",
       "      <td>ООО \"ХАЙПФИЛМ\", ООО \"Арт Пикчерс Студия\"</td>\n",
       "      <td>Россия</td>\n",
       "      <td>А.Молочников</td>\n",
       "      <td>Ф.Бондарчук, Д.Рудовский, И.Стюарт, М.Османн, ...</td>\n",
       "      <td>«16+» - для детей старше 16 лет</td>\n",
       "      <td>25000000.0</td>\n",
       "      <td>20000000.0</td>\n",
       "      <td>0.0</td>\n",
       "      <td>Фонд кино</td>\n",
       "      <td>4.8</td>\n",
       "      <td>комедия</td>\n",
       "      <td>5.045195e+07</td>\n",
       "    </tr>\n",
       "    <tr>\n",
       "      <th>5672</th>\n",
       "      <td>Селфи</td>\n",
       "      <td>111012117</td>\n",
       "      <td>2018-02-01 12:00:00+00:00</td>\n",
       "      <td>Художественный</td>\n",
       "      <td>ООО \"Киностудия \"Слово\", ООО \"Арт Пикчерс Студия\"</td>\n",
       "      <td>Россия</td>\n",
       "      <td>Н.Хомерики</td>\n",
       "      <td>П.Ануров, Ф.Бондарчук, Д.Рудовский</td>\n",
       "      <td>«16+» - для детей старше 16 лет</td>\n",
       "      <td>20000000.0</td>\n",
       "      <td>40000000.0</td>\n",
       "      <td>0.0</td>\n",
       "      <td>Фонд кино</td>\n",
       "      <td>5.8</td>\n",
       "      <td>триллер,драма</td>\n",
       "      <td>2.251964e+08</td>\n",
       "    </tr>\n",
       "    <tr>\n",
       "      <th>5805</th>\n",
       "      <td>Два хвоста</td>\n",
       "      <td>114001018</td>\n",
       "      <td>2018-05-31 12:00:00+00:00</td>\n",
       "      <td>Анимационный</td>\n",
       "      <td>ООО \"ЛИЦЕНЗИОННЫЕ БРЕНДЫ\"</td>\n",
       "      <td>Россия</td>\n",
       "      <td>В.Ровенский, Н.Лопато, В.Азеев</td>\n",
       "      <td>ООО \"ЛИЦЕНЗИОННЫЕ БРЕНДЫ\"</td>\n",
       "      <td>«6+» - для детей старше 6 лет</td>\n",
       "      <td>10000000.0</td>\n",
       "      <td>60000000.0</td>\n",
       "      <td>0.0</td>\n",
       "      <td>Фонд кино</td>\n",
       "      <td>5.0</td>\n",
       "      <td>мультфильм,детский</td>\n",
       "      <td>1.065143e+08</td>\n",
       "    </tr>\n",
       "    <tr>\n",
       "      <th>6007</th>\n",
       "      <td>Принцесса и дракон</td>\n",
       "      <td>114003018</td>\n",
       "      <td>2018-08-23 12:00:00+00:00</td>\n",
       "      <td>Анимационный</td>\n",
       "      <td>ООО \"ЛИЦЕНЗИОННЫЕ БРЕНДЫ\"</td>\n",
       "      <td>Россия</td>\n",
       "      <td>М.Нефедова</td>\n",
       "      <td>ООО \"ЛИЦЕНЗИОННЫЕ БРЕНДЫ\"</td>\n",
       "      <td>«6+» - для детей старше 6 лет</td>\n",
       "      <td>40000000.0</td>\n",
       "      <td>40000000.0</td>\n",
       "      <td>0.0</td>\n",
       "      <td>Фонд кино</td>\n",
       "      <td>5.2</td>\n",
       "      <td>мультфильм,фэнтези,детский</td>\n",
       "      <td>8.336633e+07</td>\n",
       "    </tr>\n",
       "    <tr>\n",
       "      <th>6322</th>\n",
       "      <td>Баба Яга</td>\n",
       "      <td>114006518</td>\n",
       "      <td>2018-11-08 12:00:00+00:00</td>\n",
       "      <td>Анимационный</td>\n",
       "      <td>ООО \"Арт Пикчерс Студия\"</td>\n",
       "      <td>Россия</td>\n",
       "      <td>В.Саков</td>\n",
       "      <td>ООО \"Арт Пикчерс Студия\", ООО \"КРИЭЙТИВ АНИМЭЙ...</td>\n",
       "      <td>«6+» - для детей старше 6 лет</td>\n",
       "      <td>0.0</td>\n",
       "      <td>138969465.0</td>\n",
       "      <td>0.0</td>\n",
       "      <td>Фонд кино</td>\n",
       "      <td>NaN</td>\n",
       "      <td>Без жанра</td>\n",
       "      <td>1.334699e+06</td>\n",
       "    </tr>\n",
       "    <tr>\n",
       "      <th>6822</th>\n",
       "      <td>Большое путешествие</td>\n",
       "      <td>114002419</td>\n",
       "      <td>2019-04-20 12:00:00+00:00</td>\n",
       "      <td>Анимационный</td>\n",
       "      <td>ООО \"ЛИЦЕНЗИОННЫЕ БРЕНДЫ\"</td>\n",
       "      <td>Россия</td>\n",
       "      <td>Н.Лопато, В.Ровенский</td>\n",
       "      <td>ООО \"ЛИЦЕНЗИОННЫЕ БРЕНДЫ\"</td>\n",
       "      <td>«6+» - для детей старше 6 лет</td>\n",
       "      <td>60000000.0</td>\n",
       "      <td>120000000.0</td>\n",
       "      <td>0.0</td>\n",
       "      <td>Фонд кино</td>\n",
       "      <td>6.2</td>\n",
       "      <td>мультфильм,комедия,приключения</td>\n",
       "      <td>1.476068e+08</td>\n",
       "    </tr>\n",
       "  </tbody>\n",
       "</table>\n",
       "</div>"
      ],
      "text/plain": [
       "                       title   puNumber           show_start_date  \\\n",
       "2052                     14+  111023614 2014-12-19 12:00:00+00:00   \n",
       "2057               Дуxless 2  111000415 2015-01-26 12:00:00+00:00   \n",
       "2471             Воин (2015)  111017315 2015-09-28 12:00:00+00:00   \n",
       "2531                 Бармен.  111009615 2015-05-26 12:00:00+00:00   \n",
       "2614     Савва. Сердце воина  114001715 2015-07-21 12:00:00+00:00   \n",
       "2683          Тряпичный союз  111010215 2015-06-08 12:00:00+00:00   \n",
       "2787      Срочно выйду замуж  111017115 2015-09-30 12:00:00+00:00   \n",
       "2873       Помню - не помню!  111004916 2016-03-01 12:00:00+00:00   \n",
       "3046  Любовь с ограничениями  111008216 2016-04-29 12:00:00+00:00   \n",
       "3564       Притяжение (2016)  111018116 2016-12-16 12:00:00+00:00   \n",
       "3674                Чудо-юдо  114001817 2017-06-27 12:00:00+00:00   \n",
       "3738                    Мифы  111004317 2017-06-07 12:00:00+00:00   \n",
       "5672                   Селфи  111012117 2018-02-01 12:00:00+00:00   \n",
       "5805              Два хвоста  114001018 2018-05-31 12:00:00+00:00   \n",
       "6007      Принцесса и дракон  114003018 2018-08-23 12:00:00+00:00   \n",
       "6322                Баба Яга  114006518 2018-11-08 12:00:00+00:00   \n",
       "6822     Большое путешествие  114002419 2019-04-20 12:00:00+00:00   \n",
       "\n",
       "                type                                        film_studio  \\\n",
       "2052  Художественный                         ООО Киностудия  \"Сентябрь\"   \n",
       "2057  Художественный  ООО \"Киностудия \"Слово\", ООО \"Арт Пикчерс Студия\"   \n",
       "2471  Художественный   ООО \"Форпост Продакшн\", ООО \"Арт Пикчерс Студия\"   \n",
       "2531  Художественный          АО \"ВайТ Медиа\", ООО \"Арт Пикчерс Студия\"   \n",
       "2614    Анимационный   ООО \"Глюкоза Продакшн\", ООО \"Арт Пикчерс Студия\"   \n",
       "2683  Художественный                      ООО \"Кинокомпания \"КОКТЕБЕЛЬ\"   \n",
       "2787  Художественный          АО \"ВайТ Медиа\", ООО \"Арт Пикчерс Студия\"   \n",
       "2873  Художественный                                    ООО \"КиноФирма\"   \n",
       "3046  Художественный          АО \"ВайТ Медиа\", ООО \"Арт Пикчерс Студия\"   \n",
       "3564  Художественный      ООО \"Водород 2011\",  ООО \"Арт Пикчерс Студия\"   \n",
       "3674    Анимационный                                    ООО \"КиноФирма\"   \n",
       "3738  Художественный           ООО \"ХАЙПФИЛМ\", ООО \"Арт Пикчерс Студия\"   \n",
       "5672  Художественный  ООО \"Киностудия \"Слово\", ООО \"Арт Пикчерс Студия\"   \n",
       "5805    Анимационный                          ООО \"ЛИЦЕНЗИОННЫЕ БРЕНДЫ\"   \n",
       "6007    Анимационный                          ООО \"ЛИЦЕНЗИОННЫЕ БРЕНДЫ\"   \n",
       "6322    Анимационный                           ООО \"Арт Пикчерс Студия\"   \n",
       "6822    Анимационный                          ООО \"ЛИЦЕНЗИОННЫЕ БРЕНДЫ\"   \n",
       "\n",
       "     production_country                        director  \\\n",
       "2052             Россия                        А.Зайцев   \n",
       "2057             Россия                      Р.Прыгунов   \n",
       "2471             Россия                     А.Андрианов   \n",
       "2531             Россия                    Д.Штурманова   \n",
       "2614             Россия                        М.Фадеев   \n",
       "2683             Россия                     М.Местецкий   \n",
       "2787             Россия                       С Чекалов   \n",
       "2873             Россия                     В.Ровенский   \n",
       "3046             Россия                         Д.Тюрин   \n",
       "3564             Россия                     Ф.Бондарчук   \n",
       "3674             Россия                       А.Лукичев   \n",
       "3738             Россия                    А.Молочников   \n",
       "5672             Россия                      Н.Хомерики   \n",
       "5805             Россия  В.Ровенский, Н.Лопато, В.Азеев   \n",
       "6007             Россия                      М.Нефедова   \n",
       "6322             Россия                         В.Саков   \n",
       "6822             Россия           Н.Лопато, В.Ровенский   \n",
       "\n",
       "                                               producer  \\\n",
       "2052                                О.Гранина, А.Зайцев   \n",
       "2057                 П.Ануров, Ф.Бондарчук, Д.Рудовский   \n",
       "2471                           ООО \"Арт Пикчерс Студия\"   \n",
       "2531                                        Т.Вайнштейн   \n",
       "2614                                         А.Чистяков   \n",
       "2683                              Р.Борисевич, А.Кушаев   \n",
       "2787              Ф.Бондарчук, Т.Вайнштейн, Д.Рудовский   \n",
       "2873                                    ООО \"КиноФирма\"   \n",
       "3046              Ф.Бондарчук, Т.Вайнштейн, Д.Рудовский   \n",
       "3564                           ООО \"Арт Пикчерс Студия\"   \n",
       "3674                                    ООО \"КиноФирма\"   \n",
       "3738  Ф.Бондарчук, Д.Рудовский, И.Стюарт, М.Османн, ...   \n",
       "5672                 П.Ануров, Ф.Бондарчук, Д.Рудовский   \n",
       "5805                          ООО \"ЛИЦЕНЗИОННЫЕ БРЕНДЫ\"   \n",
       "6007                          ООО \"ЛИЦЕНЗИОННЫЕ БРЕНДЫ\"   \n",
       "6322  ООО \"Арт Пикчерс Студия\", ООО \"КРИЭЙТИВ АНИМЭЙ...   \n",
       "6822                          ООО \"ЛИЦЕНЗИОННЫЕ БРЕНДЫ\"   \n",
       "\n",
       "                      age_restriction  refundable_support  \\\n",
       "2052  «16+» - для детей старше 16 лет                 0.0   \n",
       "2057  «16+» - для детей старше 16 лет                 0.0   \n",
       "2471  «12+» - для детей старше 12 лет          10000000.0   \n",
       "2531  «16+» - для детей старше 16 лет          20000000.0   \n",
       "2614    «6+» - для детей старше 6 лет          60000000.0   \n",
       "2683      «18+» - запрещено для детей                 0.0   \n",
       "2787  «16+» - для детей старше 16 лет                 0.0   \n",
       "2873  «12+» - для детей старше 12 лет                 0.0   \n",
       "3046  «16+» - для детей старше 16 лет          19000000.0   \n",
       "3564  «12+» - для детей старше 12 лет                 0.0   \n",
       "3674    «6+» - для детей старше 6 лет          20000000.0   \n",
       "3738  «16+» - для детей старше 16 лет          25000000.0   \n",
       "5672  «16+» - для детей старше 16 лет          20000000.0   \n",
       "5805    «6+» - для детей старше 6 лет          10000000.0   \n",
       "6007    «6+» - для детей старше 6 лет          40000000.0   \n",
       "6322    «6+» - для детей старше 6 лет                 0.0   \n",
       "6822    «6+» - для детей старше 6 лет          60000000.0   \n",
       "\n",
       "      nonrefundable_support  budget                  financing_source  \\\n",
       "2052             23000000.0     0.0  Министерство культуры, Фонд кино   \n",
       "2057             75000000.0     0.0                         Фонд кино   \n",
       "2471             70000000.0     0.0                         Фонд кино   \n",
       "2531                    0.0     0.0                         Фонд кино   \n",
       "2614            100000000.0     0.0                         Фонд кино   \n",
       "2683             59000000.0     0.0                         Фонд кино   \n",
       "2787             35000000.0     0.0                         Фонд кино   \n",
       "2873              6000000.0     0.0             Министерство культуры   \n",
       "3046             51000000.0     0.0                         Фонд кино   \n",
       "3564            250000000.0     0.0                         Фонд кино   \n",
       "3674             20000000.0     0.0                         Фонд кино   \n",
       "3738             20000000.0     0.0                         Фонд кино   \n",
       "5672             40000000.0     0.0                         Фонд кино   \n",
       "5805             60000000.0     0.0                         Фонд кино   \n",
       "6007             40000000.0     0.0                         Фонд кино   \n",
       "6322            138969465.0     0.0                         Фонд кино   \n",
       "6822            120000000.0     0.0                         Фонд кино   \n",
       "\n",
       "      ratings                          genres    box_office  \n",
       "2052      6.6                       мелодрама  1.023402e+07  \n",
       "2057      6.6                           драма  4.461635e+08  \n",
       "2471      7.8           боевик,драма,криминал  1.965724e+08  \n",
       "2531      6.2                 комедия,фэнтези  6.741897e+07  \n",
       "2614      4.6  мультфильм,приключения,фэнтези  1.844876e+08  \n",
       "2683      6.3                   комедия,драма  1.957739e+06  \n",
       "2787      5.1               комедия,мелодрама  7.293778e+07  \n",
       "2873      4.3                         комедия  1.536293e+07  \n",
       "3046      6.3               комедия,мелодрама  7.029905e+07  \n",
       "3564      5.6                      фантастика  1.038321e+09  \n",
       "3674      5.2     мультфильм,фэнтези,семейный  5.510801e+07  \n",
       "3738      4.8                         комедия  5.045195e+07  \n",
       "5672      5.8                   триллер,драма  2.251964e+08  \n",
       "5805      5.0              мультфильм,детский  1.065143e+08  \n",
       "6007      5.2      мультфильм,фэнтези,детский  8.336633e+07  \n",
       "6322      NaN                       Без жанра  1.334699e+06  \n",
       "6822      6.2  мультфильм,комедия,приключения  1.476068e+08  "
      ]
     },
     "execution_count": 48,
     "metadata": {},
     "output_type": "execute_result"
    }
   ],
   "source": [
    "lesser_budget = data[data['budget'] < (data['refundable_support'] + data['nonrefundable_support'])]\n",
    "lesser_budget"
   ]
  },
  {
   "cell_type": "markdown",
   "metadata": {},
   "source": [
    "##### Промежуточный вывод\n",
    "Присутствуют нулевые значения в бюджете - непорядок. Впрочем у нас есть значения невозвратной части, поэтому посчитав долю поддержки можно посчитать общий бюджет.Предположу, что господдержка всегда приблизительно одинакова, следовательно можно заменить эту сумму медианным значением, которое посчитаем ниже:"
   ]
  },
  {
   "cell_type": "code",
   "execution_count": 49,
   "metadata": {},
   "outputs": [
    {
     "data": {
      "text/plain": [
       "61.0"
      ]
     },
     "execution_count": 49,
     "metadata": {},
     "output_type": "execute_result"
    }
   ],
   "source": [
    "gos_podderzhka_median  = round(data.eval('(refundable_support + nonrefundable_support) / budget').median(), 2)\n",
    "gos_podderzhka_median * 100"
   ]
  },
  {
   "cell_type": "markdown",
   "metadata": {},
   "source": [
    "Ага, значит в среднем господдержка эквивалентна 61%\n",
    "\n",
    "Заполняем budget:"
   ]
  },
  {
   "cell_type": "code",
   "execution_count": 50,
   "metadata": {},
   "outputs": [
    {
     "data": {
      "text/html": [
       "<div>\n",
       "<style scoped>\n",
       "    .dataframe tbody tr th:only-of-type {\n",
       "        vertical-align: middle;\n",
       "    }\n",
       "\n",
       "    .dataframe tbody tr th {\n",
       "        vertical-align: top;\n",
       "    }\n",
       "\n",
       "    .dataframe thead th {\n",
       "        text-align: right;\n",
       "    }\n",
       "</style>\n",
       "<table border=\"1\" class=\"dataframe\">\n",
       "  <thead>\n",
       "    <tr style=\"text-align: right;\">\n",
       "      <th></th>\n",
       "      <th>title</th>\n",
       "      <th>puNumber</th>\n",
       "      <th>show_start_date</th>\n",
       "      <th>type</th>\n",
       "      <th>film_studio</th>\n",
       "      <th>production_country</th>\n",
       "      <th>director</th>\n",
       "      <th>producer</th>\n",
       "      <th>age_restriction</th>\n",
       "      <th>refundable_support</th>\n",
       "      <th>nonrefundable_support</th>\n",
       "      <th>budget</th>\n",
       "      <th>financing_source</th>\n",
       "      <th>ratings</th>\n",
       "      <th>genres</th>\n",
       "      <th>box_office</th>\n",
       "    </tr>\n",
       "  </thead>\n",
       "  <tbody>\n",
       "    <tr>\n",
       "      <th>2052</th>\n",
       "      <td>14+</td>\n",
       "      <td>111023614</td>\n",
       "      <td>2014-12-19 12:00:00+00:00</td>\n",
       "      <td>Художественный</td>\n",
       "      <td>ООО Киностудия  \"Сентябрь\"</td>\n",
       "      <td>Россия</td>\n",
       "      <td>А.Зайцев</td>\n",
       "      <td>О.Гранина, А.Зайцев</td>\n",
       "      <td>«16+» - для детей старше 16 лет</td>\n",
       "      <td>0.0</td>\n",
       "      <td>23000000.0</td>\n",
       "      <td>3.770492e+07</td>\n",
       "      <td>Министерство культуры, Фонд кино</td>\n",
       "      <td>6.6</td>\n",
       "      <td>мелодрама</td>\n",
       "      <td>1.023402e+07</td>\n",
       "    </tr>\n",
       "    <tr>\n",
       "      <th>2057</th>\n",
       "      <td>Дуxless 2</td>\n",
       "      <td>111000415</td>\n",
       "      <td>2015-01-26 12:00:00+00:00</td>\n",
       "      <td>Художественный</td>\n",
       "      <td>ООО \"Киностудия \"Слово\", ООО \"Арт Пикчерс Студия\"</td>\n",
       "      <td>Россия</td>\n",
       "      <td>Р.Прыгунов</td>\n",
       "      <td>П.Ануров, Ф.Бондарчук, Д.Рудовский</td>\n",
       "      <td>«16+» - для детей старше 16 лет</td>\n",
       "      <td>0.0</td>\n",
       "      <td>75000000.0</td>\n",
       "      <td>1.229508e+08</td>\n",
       "      <td>Фонд кино</td>\n",
       "      <td>6.6</td>\n",
       "      <td>драма</td>\n",
       "      <td>4.461635e+08</td>\n",
       "    </tr>\n",
       "    <tr>\n",
       "      <th>2471</th>\n",
       "      <td>Воин (2015)</td>\n",
       "      <td>111017315</td>\n",
       "      <td>2015-09-28 12:00:00+00:00</td>\n",
       "      <td>Художественный</td>\n",
       "      <td>ООО \"Форпост Продакшн\", ООО \"Арт Пикчерс Студия\"</td>\n",
       "      <td>Россия</td>\n",
       "      <td>А.Андрианов</td>\n",
       "      <td>ООО \"Арт Пикчерс Студия\"</td>\n",
       "      <td>«12+» - для детей старше 12 лет</td>\n",
       "      <td>10000000.0</td>\n",
       "      <td>70000000.0</td>\n",
       "      <td>1.311475e+08</td>\n",
       "      <td>Фонд кино</td>\n",
       "      <td>7.8</td>\n",
       "      <td>боевик,драма,криминал</td>\n",
       "      <td>1.965724e+08</td>\n",
       "    </tr>\n",
       "    <tr>\n",
       "      <th>2531</th>\n",
       "      <td>Бармен.</td>\n",
       "      <td>111009615</td>\n",
       "      <td>2015-05-26 12:00:00+00:00</td>\n",
       "      <td>Художественный</td>\n",
       "      <td>АО \"ВайТ Медиа\", ООО \"Арт Пикчерс Студия\"</td>\n",
       "      <td>Россия</td>\n",
       "      <td>Д.Штурманова</td>\n",
       "      <td>Т.Вайнштейн</td>\n",
       "      <td>«16+» - для детей старше 16 лет</td>\n",
       "      <td>20000000.0</td>\n",
       "      <td>0.0</td>\n",
       "      <td>3.278689e+07</td>\n",
       "      <td>Фонд кино</td>\n",
       "      <td>6.2</td>\n",
       "      <td>комедия,фэнтези</td>\n",
       "      <td>6.741897e+07</td>\n",
       "    </tr>\n",
       "    <tr>\n",
       "      <th>2614</th>\n",
       "      <td>Савва. Сердце воина</td>\n",
       "      <td>114001715</td>\n",
       "      <td>2015-07-21 12:00:00+00:00</td>\n",
       "      <td>Анимационный</td>\n",
       "      <td>ООО \"Глюкоза Продакшн\", ООО \"Арт Пикчерс Студия\"</td>\n",
       "      <td>Россия</td>\n",
       "      <td>М.Фадеев</td>\n",
       "      <td>А.Чистяков</td>\n",
       "      <td>«6+» - для детей старше 6 лет</td>\n",
       "      <td>60000000.0</td>\n",
       "      <td>100000000.0</td>\n",
       "      <td>2.622951e+08</td>\n",
       "      <td>Фонд кино</td>\n",
       "      <td>4.6</td>\n",
       "      <td>мультфильм,приключения,фэнтези</td>\n",
       "      <td>1.844876e+08</td>\n",
       "    </tr>\n",
       "    <tr>\n",
       "      <th>2683</th>\n",
       "      <td>Тряпичный союз</td>\n",
       "      <td>111010215</td>\n",
       "      <td>2015-06-08 12:00:00+00:00</td>\n",
       "      <td>Художественный</td>\n",
       "      <td>ООО \"Кинокомпания \"КОКТЕБЕЛЬ\"</td>\n",
       "      <td>Россия</td>\n",
       "      <td>М.Местецкий</td>\n",
       "      <td>Р.Борисевич, А.Кушаев</td>\n",
       "      <td>«18+» - запрещено для детей</td>\n",
       "      <td>0.0</td>\n",
       "      <td>59000000.0</td>\n",
       "      <td>9.672131e+07</td>\n",
       "      <td>Фонд кино</td>\n",
       "      <td>6.3</td>\n",
       "      <td>комедия,драма</td>\n",
       "      <td>1.957739e+06</td>\n",
       "    </tr>\n",
       "    <tr>\n",
       "      <th>2787</th>\n",
       "      <td>Срочно выйду замуж</td>\n",
       "      <td>111017115</td>\n",
       "      <td>2015-09-30 12:00:00+00:00</td>\n",
       "      <td>Художественный</td>\n",
       "      <td>АО \"ВайТ Медиа\", ООО \"Арт Пикчерс Студия\"</td>\n",
       "      <td>Россия</td>\n",
       "      <td>С Чекалов</td>\n",
       "      <td>Ф.Бондарчук, Т.Вайнштейн, Д.Рудовский</td>\n",
       "      <td>«16+» - для детей старше 16 лет</td>\n",
       "      <td>0.0</td>\n",
       "      <td>35000000.0</td>\n",
       "      <td>5.737705e+07</td>\n",
       "      <td>Фонд кино</td>\n",
       "      <td>5.1</td>\n",
       "      <td>комедия,мелодрама</td>\n",
       "      <td>7.293778e+07</td>\n",
       "    </tr>\n",
       "    <tr>\n",
       "      <th>2873</th>\n",
       "      <td>Помню - не помню!</td>\n",
       "      <td>111004916</td>\n",
       "      <td>2016-03-01 12:00:00+00:00</td>\n",
       "      <td>Художественный</td>\n",
       "      <td>ООО \"КиноФирма\"</td>\n",
       "      <td>Россия</td>\n",
       "      <td>В.Ровенский</td>\n",
       "      <td>ООО \"КиноФирма\"</td>\n",
       "      <td>«12+» - для детей старше 12 лет</td>\n",
       "      <td>0.0</td>\n",
       "      <td>6000000.0</td>\n",
       "      <td>9.836066e+06</td>\n",
       "      <td>Министерство культуры</td>\n",
       "      <td>4.3</td>\n",
       "      <td>комедия</td>\n",
       "      <td>1.536293e+07</td>\n",
       "    </tr>\n",
       "    <tr>\n",
       "      <th>3046</th>\n",
       "      <td>Любовь с ограничениями</td>\n",
       "      <td>111008216</td>\n",
       "      <td>2016-04-29 12:00:00+00:00</td>\n",
       "      <td>Художественный</td>\n",
       "      <td>АО \"ВайТ Медиа\", ООО \"Арт Пикчерс Студия\"</td>\n",
       "      <td>Россия</td>\n",
       "      <td>Д.Тюрин</td>\n",
       "      <td>Ф.Бондарчук, Т.Вайнштейн, Д.Рудовский</td>\n",
       "      <td>«16+» - для детей старше 16 лет</td>\n",
       "      <td>19000000.0</td>\n",
       "      <td>51000000.0</td>\n",
       "      <td>1.147541e+08</td>\n",
       "      <td>Фонд кино</td>\n",
       "      <td>6.3</td>\n",
       "      <td>комедия,мелодрама</td>\n",
       "      <td>7.029905e+07</td>\n",
       "    </tr>\n",
       "    <tr>\n",
       "      <th>3564</th>\n",
       "      <td>Притяжение (2016)</td>\n",
       "      <td>111018116</td>\n",
       "      <td>2016-12-16 12:00:00+00:00</td>\n",
       "      <td>Художественный</td>\n",
       "      <td>ООО \"Водород 2011\",  ООО \"Арт Пикчерс Студия\"</td>\n",
       "      <td>Россия</td>\n",
       "      <td>Ф.Бондарчук</td>\n",
       "      <td>ООО \"Арт Пикчерс Студия\"</td>\n",
       "      <td>«12+» - для детей старше 12 лет</td>\n",
       "      <td>0.0</td>\n",
       "      <td>250000000.0</td>\n",
       "      <td>4.098361e+08</td>\n",
       "      <td>Фонд кино</td>\n",
       "      <td>5.6</td>\n",
       "      <td>фантастика</td>\n",
       "      <td>1.038321e+09</td>\n",
       "    </tr>\n",
       "    <tr>\n",
       "      <th>3674</th>\n",
       "      <td>Чудо-юдо</td>\n",
       "      <td>114001817</td>\n",
       "      <td>2017-06-27 12:00:00+00:00</td>\n",
       "      <td>Анимационный</td>\n",
       "      <td>ООО \"КиноФирма\"</td>\n",
       "      <td>Россия</td>\n",
       "      <td>А.Лукичев</td>\n",
       "      <td>ООО \"КиноФирма\"</td>\n",
       "      <td>«6+» - для детей старше 6 лет</td>\n",
       "      <td>20000000.0</td>\n",
       "      <td>20000000.0</td>\n",
       "      <td>6.557377e+07</td>\n",
       "      <td>Фонд кино</td>\n",
       "      <td>5.2</td>\n",
       "      <td>мультфильм,фэнтези,семейный</td>\n",
       "      <td>5.510801e+07</td>\n",
       "    </tr>\n",
       "    <tr>\n",
       "      <th>3738</th>\n",
       "      <td>Мифы</td>\n",
       "      <td>111004317</td>\n",
       "      <td>2017-06-07 12:00:00+00:00</td>\n",
       "      <td>Художественный</td>\n",
       "      <td>ООО \"ХАЙПФИЛМ\", ООО \"Арт Пикчерс Студия\"</td>\n",
       "      <td>Россия</td>\n",
       "      <td>А.Молочников</td>\n",
       "      <td>Ф.Бондарчук, Д.Рудовский, И.Стюарт, М.Османн, ...</td>\n",
       "      <td>«16+» - для детей старше 16 лет</td>\n",
       "      <td>25000000.0</td>\n",
       "      <td>20000000.0</td>\n",
       "      <td>7.377049e+07</td>\n",
       "      <td>Фонд кино</td>\n",
       "      <td>4.8</td>\n",
       "      <td>комедия</td>\n",
       "      <td>5.045195e+07</td>\n",
       "    </tr>\n",
       "    <tr>\n",
       "      <th>5672</th>\n",
       "      <td>Селфи</td>\n",
       "      <td>111012117</td>\n",
       "      <td>2018-02-01 12:00:00+00:00</td>\n",
       "      <td>Художественный</td>\n",
       "      <td>ООО \"Киностудия \"Слово\", ООО \"Арт Пикчерс Студия\"</td>\n",
       "      <td>Россия</td>\n",
       "      <td>Н.Хомерики</td>\n",
       "      <td>П.Ануров, Ф.Бондарчук, Д.Рудовский</td>\n",
       "      <td>«16+» - для детей старше 16 лет</td>\n",
       "      <td>20000000.0</td>\n",
       "      <td>40000000.0</td>\n",
       "      <td>9.836066e+07</td>\n",
       "      <td>Фонд кино</td>\n",
       "      <td>5.8</td>\n",
       "      <td>триллер,драма</td>\n",
       "      <td>2.251964e+08</td>\n",
       "    </tr>\n",
       "    <tr>\n",
       "      <th>5805</th>\n",
       "      <td>Два хвоста</td>\n",
       "      <td>114001018</td>\n",
       "      <td>2018-05-31 12:00:00+00:00</td>\n",
       "      <td>Анимационный</td>\n",
       "      <td>ООО \"ЛИЦЕНЗИОННЫЕ БРЕНДЫ\"</td>\n",
       "      <td>Россия</td>\n",
       "      <td>В.Ровенский, Н.Лопато, В.Азеев</td>\n",
       "      <td>ООО \"ЛИЦЕНЗИОННЫЕ БРЕНДЫ\"</td>\n",
       "      <td>«6+» - для детей старше 6 лет</td>\n",
       "      <td>10000000.0</td>\n",
       "      <td>60000000.0</td>\n",
       "      <td>1.147541e+08</td>\n",
       "      <td>Фонд кино</td>\n",
       "      <td>5.0</td>\n",
       "      <td>мультфильм,детский</td>\n",
       "      <td>1.065143e+08</td>\n",
       "    </tr>\n",
       "    <tr>\n",
       "      <th>6007</th>\n",
       "      <td>Принцесса и дракон</td>\n",
       "      <td>114003018</td>\n",
       "      <td>2018-08-23 12:00:00+00:00</td>\n",
       "      <td>Анимационный</td>\n",
       "      <td>ООО \"ЛИЦЕНЗИОННЫЕ БРЕНДЫ\"</td>\n",
       "      <td>Россия</td>\n",
       "      <td>М.Нефедова</td>\n",
       "      <td>ООО \"ЛИЦЕНЗИОННЫЕ БРЕНДЫ\"</td>\n",
       "      <td>«6+» - для детей старше 6 лет</td>\n",
       "      <td>40000000.0</td>\n",
       "      <td>40000000.0</td>\n",
       "      <td>1.311475e+08</td>\n",
       "      <td>Фонд кино</td>\n",
       "      <td>5.2</td>\n",
       "      <td>мультфильм,фэнтези,детский</td>\n",
       "      <td>8.336633e+07</td>\n",
       "    </tr>\n",
       "    <tr>\n",
       "      <th>6322</th>\n",
       "      <td>Баба Яга</td>\n",
       "      <td>114006518</td>\n",
       "      <td>2018-11-08 12:00:00+00:00</td>\n",
       "      <td>Анимационный</td>\n",
       "      <td>ООО \"Арт Пикчерс Студия\"</td>\n",
       "      <td>Россия</td>\n",
       "      <td>В.Саков</td>\n",
       "      <td>ООО \"Арт Пикчерс Студия\", ООО \"КРИЭЙТИВ АНИМЭЙ...</td>\n",
       "      <td>«6+» - для детей старше 6 лет</td>\n",
       "      <td>0.0</td>\n",
       "      <td>138969465.0</td>\n",
       "      <td>2.278188e+08</td>\n",
       "      <td>Фонд кино</td>\n",
       "      <td>NaN</td>\n",
       "      <td>Без жанра</td>\n",
       "      <td>1.334699e+06</td>\n",
       "    </tr>\n",
       "    <tr>\n",
       "      <th>6822</th>\n",
       "      <td>Большое путешествие</td>\n",
       "      <td>114002419</td>\n",
       "      <td>2019-04-20 12:00:00+00:00</td>\n",
       "      <td>Анимационный</td>\n",
       "      <td>ООО \"ЛИЦЕНЗИОННЫЕ БРЕНДЫ\"</td>\n",
       "      <td>Россия</td>\n",
       "      <td>Н.Лопато, В.Ровенский</td>\n",
       "      <td>ООО \"ЛИЦЕНЗИОННЫЕ БРЕНДЫ\"</td>\n",
       "      <td>«6+» - для детей старше 6 лет</td>\n",
       "      <td>60000000.0</td>\n",
       "      <td>120000000.0</td>\n",
       "      <td>2.950820e+08</td>\n",
       "      <td>Фонд кино</td>\n",
       "      <td>6.2</td>\n",
       "      <td>мультфильм,комедия,приключения</td>\n",
       "      <td>1.476068e+08</td>\n",
       "    </tr>\n",
       "  </tbody>\n",
       "</table>\n",
       "</div>"
      ],
      "text/plain": [
       "                       title   puNumber           show_start_date  \\\n",
       "2052                     14+  111023614 2014-12-19 12:00:00+00:00   \n",
       "2057               Дуxless 2  111000415 2015-01-26 12:00:00+00:00   \n",
       "2471             Воин (2015)  111017315 2015-09-28 12:00:00+00:00   \n",
       "2531                 Бармен.  111009615 2015-05-26 12:00:00+00:00   \n",
       "2614     Савва. Сердце воина  114001715 2015-07-21 12:00:00+00:00   \n",
       "2683          Тряпичный союз  111010215 2015-06-08 12:00:00+00:00   \n",
       "2787      Срочно выйду замуж  111017115 2015-09-30 12:00:00+00:00   \n",
       "2873       Помню - не помню!  111004916 2016-03-01 12:00:00+00:00   \n",
       "3046  Любовь с ограничениями  111008216 2016-04-29 12:00:00+00:00   \n",
       "3564       Притяжение (2016)  111018116 2016-12-16 12:00:00+00:00   \n",
       "3674                Чудо-юдо  114001817 2017-06-27 12:00:00+00:00   \n",
       "3738                    Мифы  111004317 2017-06-07 12:00:00+00:00   \n",
       "5672                   Селфи  111012117 2018-02-01 12:00:00+00:00   \n",
       "5805              Два хвоста  114001018 2018-05-31 12:00:00+00:00   \n",
       "6007      Принцесса и дракон  114003018 2018-08-23 12:00:00+00:00   \n",
       "6322                Баба Яга  114006518 2018-11-08 12:00:00+00:00   \n",
       "6822     Большое путешествие  114002419 2019-04-20 12:00:00+00:00   \n",
       "\n",
       "                type                                        film_studio  \\\n",
       "2052  Художественный                         ООО Киностудия  \"Сентябрь\"   \n",
       "2057  Художественный  ООО \"Киностудия \"Слово\", ООО \"Арт Пикчерс Студия\"   \n",
       "2471  Художественный   ООО \"Форпост Продакшн\", ООО \"Арт Пикчерс Студия\"   \n",
       "2531  Художественный          АО \"ВайТ Медиа\", ООО \"Арт Пикчерс Студия\"   \n",
       "2614    Анимационный   ООО \"Глюкоза Продакшн\", ООО \"Арт Пикчерс Студия\"   \n",
       "2683  Художественный                      ООО \"Кинокомпания \"КОКТЕБЕЛЬ\"   \n",
       "2787  Художественный          АО \"ВайТ Медиа\", ООО \"Арт Пикчерс Студия\"   \n",
       "2873  Художественный                                    ООО \"КиноФирма\"   \n",
       "3046  Художественный          АО \"ВайТ Медиа\", ООО \"Арт Пикчерс Студия\"   \n",
       "3564  Художественный      ООО \"Водород 2011\",  ООО \"Арт Пикчерс Студия\"   \n",
       "3674    Анимационный                                    ООО \"КиноФирма\"   \n",
       "3738  Художественный           ООО \"ХАЙПФИЛМ\", ООО \"Арт Пикчерс Студия\"   \n",
       "5672  Художественный  ООО \"Киностудия \"Слово\", ООО \"Арт Пикчерс Студия\"   \n",
       "5805    Анимационный                          ООО \"ЛИЦЕНЗИОННЫЕ БРЕНДЫ\"   \n",
       "6007    Анимационный                          ООО \"ЛИЦЕНЗИОННЫЕ БРЕНДЫ\"   \n",
       "6322    Анимационный                           ООО \"Арт Пикчерс Студия\"   \n",
       "6822    Анимационный                          ООО \"ЛИЦЕНЗИОННЫЕ БРЕНДЫ\"   \n",
       "\n",
       "     production_country                        director  \\\n",
       "2052             Россия                        А.Зайцев   \n",
       "2057             Россия                      Р.Прыгунов   \n",
       "2471             Россия                     А.Андрианов   \n",
       "2531             Россия                    Д.Штурманова   \n",
       "2614             Россия                        М.Фадеев   \n",
       "2683             Россия                     М.Местецкий   \n",
       "2787             Россия                       С Чекалов   \n",
       "2873             Россия                     В.Ровенский   \n",
       "3046             Россия                         Д.Тюрин   \n",
       "3564             Россия                     Ф.Бондарчук   \n",
       "3674             Россия                       А.Лукичев   \n",
       "3738             Россия                    А.Молочников   \n",
       "5672             Россия                      Н.Хомерики   \n",
       "5805             Россия  В.Ровенский, Н.Лопато, В.Азеев   \n",
       "6007             Россия                      М.Нефедова   \n",
       "6322             Россия                         В.Саков   \n",
       "6822             Россия           Н.Лопато, В.Ровенский   \n",
       "\n",
       "                                               producer  \\\n",
       "2052                                О.Гранина, А.Зайцев   \n",
       "2057                 П.Ануров, Ф.Бондарчук, Д.Рудовский   \n",
       "2471                           ООО \"Арт Пикчерс Студия\"   \n",
       "2531                                        Т.Вайнштейн   \n",
       "2614                                         А.Чистяков   \n",
       "2683                              Р.Борисевич, А.Кушаев   \n",
       "2787              Ф.Бондарчук, Т.Вайнштейн, Д.Рудовский   \n",
       "2873                                    ООО \"КиноФирма\"   \n",
       "3046              Ф.Бондарчук, Т.Вайнштейн, Д.Рудовский   \n",
       "3564                           ООО \"Арт Пикчерс Студия\"   \n",
       "3674                                    ООО \"КиноФирма\"   \n",
       "3738  Ф.Бондарчук, Д.Рудовский, И.Стюарт, М.Османн, ...   \n",
       "5672                 П.Ануров, Ф.Бондарчук, Д.Рудовский   \n",
       "5805                          ООО \"ЛИЦЕНЗИОННЫЕ БРЕНДЫ\"   \n",
       "6007                          ООО \"ЛИЦЕНЗИОННЫЕ БРЕНДЫ\"   \n",
       "6322  ООО \"Арт Пикчерс Студия\", ООО \"КРИЭЙТИВ АНИМЭЙ...   \n",
       "6822                          ООО \"ЛИЦЕНЗИОННЫЕ БРЕНДЫ\"   \n",
       "\n",
       "                      age_restriction  refundable_support  \\\n",
       "2052  «16+» - для детей старше 16 лет                 0.0   \n",
       "2057  «16+» - для детей старше 16 лет                 0.0   \n",
       "2471  «12+» - для детей старше 12 лет          10000000.0   \n",
       "2531  «16+» - для детей старше 16 лет          20000000.0   \n",
       "2614    «6+» - для детей старше 6 лет          60000000.0   \n",
       "2683      «18+» - запрещено для детей                 0.0   \n",
       "2787  «16+» - для детей старше 16 лет                 0.0   \n",
       "2873  «12+» - для детей старше 12 лет                 0.0   \n",
       "3046  «16+» - для детей старше 16 лет          19000000.0   \n",
       "3564  «12+» - для детей старше 12 лет                 0.0   \n",
       "3674    «6+» - для детей старше 6 лет          20000000.0   \n",
       "3738  «16+» - для детей старше 16 лет          25000000.0   \n",
       "5672  «16+» - для детей старше 16 лет          20000000.0   \n",
       "5805    «6+» - для детей старше 6 лет          10000000.0   \n",
       "6007    «6+» - для детей старше 6 лет          40000000.0   \n",
       "6322    «6+» - для детей старше 6 лет                 0.0   \n",
       "6822    «6+» - для детей старше 6 лет          60000000.0   \n",
       "\n",
       "      nonrefundable_support        budget                  financing_source  \\\n",
       "2052             23000000.0  3.770492e+07  Министерство культуры, Фонд кино   \n",
       "2057             75000000.0  1.229508e+08                         Фонд кино   \n",
       "2471             70000000.0  1.311475e+08                         Фонд кино   \n",
       "2531                    0.0  3.278689e+07                         Фонд кино   \n",
       "2614            100000000.0  2.622951e+08                         Фонд кино   \n",
       "2683             59000000.0  9.672131e+07                         Фонд кино   \n",
       "2787             35000000.0  5.737705e+07                         Фонд кино   \n",
       "2873              6000000.0  9.836066e+06             Министерство культуры   \n",
       "3046             51000000.0  1.147541e+08                         Фонд кино   \n",
       "3564            250000000.0  4.098361e+08                         Фонд кино   \n",
       "3674             20000000.0  6.557377e+07                         Фонд кино   \n",
       "3738             20000000.0  7.377049e+07                         Фонд кино   \n",
       "5672             40000000.0  9.836066e+07                         Фонд кино   \n",
       "5805             60000000.0  1.147541e+08                         Фонд кино   \n",
       "6007             40000000.0  1.311475e+08                         Фонд кино   \n",
       "6322            138969465.0  2.278188e+08                         Фонд кино   \n",
       "6822            120000000.0  2.950820e+08                         Фонд кино   \n",
       "\n",
       "      ratings                          genres    box_office  \n",
       "2052      6.6                       мелодрама  1.023402e+07  \n",
       "2057      6.6                           драма  4.461635e+08  \n",
       "2471      7.8           боевик,драма,криминал  1.965724e+08  \n",
       "2531      6.2                 комедия,фэнтези  6.741897e+07  \n",
       "2614      4.6  мультфильм,приключения,фэнтези  1.844876e+08  \n",
       "2683      6.3                   комедия,драма  1.957739e+06  \n",
       "2787      5.1               комедия,мелодрама  7.293778e+07  \n",
       "2873      4.3                         комедия  1.536293e+07  \n",
       "3046      6.3               комедия,мелодрама  7.029905e+07  \n",
       "3564      5.6                      фантастика  1.038321e+09  \n",
       "3674      5.2     мультфильм,фэнтези,семейный  5.510801e+07  \n",
       "3738      4.8                         комедия  5.045195e+07  \n",
       "5672      5.8                   триллер,драма  2.251964e+08  \n",
       "5805      5.0              мультфильм,детский  1.065143e+08  \n",
       "6007      5.2      мультфильм,фэнтези,детский  8.336633e+07  \n",
       "6322      NaN                       Без жанра  1.334699e+06  \n",
       "6822      6.2  мультфильм,комедия,приключения  1.476068e+08  "
      ]
     },
     "execution_count": 50,
     "metadata": {},
     "output_type": "execute_result"
    }
   ],
   "source": [
    "data.loc[lesser_budget.index, 'budget'] = (data.loc[lesser_budget.index, 'refundable_support'] + data.loc[lesser_budget.index, 'nonrefundable_support']) / gos_podderzhka_median\n",
    "data.loc[lesser_budget.index]"
   ]
  },
  {
   "cell_type": "markdown",
   "metadata": {},
   "source": [
    "### Создадим дополнительные столбцы\n",
    "\n",
    "- Создадим столбец с информацией о годе проката."
   ]
  },
  {
   "cell_type": "code",
   "execution_count": 51,
   "metadata": {
    "id": "I-yd1DkWgFyT"
   },
   "outputs": [
    {
     "data": {
      "text/plain": [
       "0       2015\n",
       "1       2016\n",
       "2       2016\n",
       "3       2016\n",
       "4       2015\n",
       "        ... \n",
       "7480    2019\n",
       "7481    2019\n",
       "7482    2019\n",
       "7483    2019\n",
       "7484    2019\n",
       "Name: god_nachala_show, Length: 7485, dtype: int64"
      ]
     },
     "execution_count": 51,
     "metadata": {},
     "output_type": "execute_result"
    }
   ],
   "source": [
    "data['god_nachala_show'] = pd.DatetimeIndex(data['show_start_date']).year\n",
    "data['god_nachala_show']"
   ]
  },
  {
   "cell_type": "markdown",
   "metadata": {
    "id": "LSbRZKbMgFyU"
   },
   "source": [
    "##### Создадим функцию для добавления новых столбцов"
   ]
  },
  {
   "cell_type": "code",
   "execution_count": 52,
   "metadata": {},
   "outputs": [],
   "source": [
    "def add_column(data, columns):\n",
    "    for column in columns:\n",
    "        data[f'osnovnoj_{column}'] = data[column].str.split(',').str[0]\n",
    "    return data"
   ]
  },
  {
   "cell_type": "markdown",
   "metadata": {},
   "source": [
    "##### Теперь создадим необходимые столбцы"
   ]
  },
  {
   "cell_type": "code",
   "execution_count": 53,
   "metadata": {},
   "outputs": [
    {
     "data": {
      "text/html": [
       "<div>\n",
       "<style scoped>\n",
       "    .dataframe tbody tr th:only-of-type {\n",
       "        vertical-align: middle;\n",
       "    }\n",
       "\n",
       "    .dataframe tbody tr th {\n",
       "        vertical-align: top;\n",
       "    }\n",
       "\n",
       "    .dataframe thead th {\n",
       "        text-align: right;\n",
       "    }\n",
       "</style>\n",
       "<table border=\"1\" class=\"dataframe\">\n",
       "  <thead>\n",
       "    <tr style=\"text-align: right;\">\n",
       "      <th></th>\n",
       "      <th>title</th>\n",
       "      <th>puNumber</th>\n",
       "      <th>show_start_date</th>\n",
       "      <th>type</th>\n",
       "      <th>film_studio</th>\n",
       "      <th>production_country</th>\n",
       "      <th>director</th>\n",
       "      <th>producer</th>\n",
       "      <th>age_restriction</th>\n",
       "      <th>refundable_support</th>\n",
       "      <th>nonrefundable_support</th>\n",
       "      <th>budget</th>\n",
       "      <th>financing_source</th>\n",
       "      <th>ratings</th>\n",
       "      <th>genres</th>\n",
       "      <th>box_office</th>\n",
       "      <th>god_nachala_show</th>\n",
       "      <th>osnovnoj_director</th>\n",
       "      <th>osnovnoj_genres</th>\n",
       "    </tr>\n",
       "  </thead>\n",
       "  <tbody>\n",
       "    <tr>\n",
       "      <th>0</th>\n",
       "      <td>Открытый простор</td>\n",
       "      <td>221048915</td>\n",
       "      <td>2015-11-27 12:00:00+00:00</td>\n",
       "      <td>Художественный</td>\n",
       "      <td>Тачстоун Пикчерз, Кобальт Пикчерз, Бикон Пикче...</td>\n",
       "      <td>США</td>\n",
       "      <td>Кевин Костнер</td>\n",
       "      <td>Дэвид Валдес, Кевин Костнер, Джейк Эбертс</td>\n",
       "      <td>«18+» - запрещено для детей</td>\n",
       "      <td>0.0</td>\n",
       "      <td>0.0</td>\n",
       "      <td>0.0</td>\n",
       "      <td>Коммерческий</td>\n",
       "      <td>7.2</td>\n",
       "      <td>боевик,драма,мелодрама</td>\n",
       "      <td>0.0</td>\n",
       "      <td>2015</td>\n",
       "      <td>Кевин Костнер</td>\n",
       "      <td>боевик</td>\n",
       "    </tr>\n",
       "    <tr>\n",
       "      <th>1</th>\n",
       "      <td>Особо важное задание</td>\n",
       "      <td>111013716</td>\n",
       "      <td>2016-09-13 12:00:00+00:00</td>\n",
       "      <td>Художественный</td>\n",
       "      <td>Киностудия \"Мосфильм\"</td>\n",
       "      <td>СССР</td>\n",
       "      <td>Е.Матвеев</td>\n",
       "      <td>Е.Матвеев</td>\n",
       "      <td>«6+» - для детей старше 6 лет</td>\n",
       "      <td>0.0</td>\n",
       "      <td>0.0</td>\n",
       "      <td>0.0</td>\n",
       "      <td>Коммерческий</td>\n",
       "      <td>6.6</td>\n",
       "      <td>драма,военный</td>\n",
       "      <td>0.0</td>\n",
       "      <td>2016</td>\n",
       "      <td>Е.Матвеев</td>\n",
       "      <td>драма</td>\n",
       "    </tr>\n",
       "    <tr>\n",
       "      <th>2</th>\n",
       "      <td>Особо опасен</td>\n",
       "      <td>221038416</td>\n",
       "      <td>2016-10-10 12:00:00+00:00</td>\n",
       "      <td>Художественный</td>\n",
       "      <td>Юниверсал Пикчерз, Кикстарт Продакшнз, Марк Пл...</td>\n",
       "      <td>США</td>\n",
       "      <td>Тимур Бекмамбетов</td>\n",
       "      <td>Джим Лемли, Джейсон Нетер, Марк Е.Платт, Яйн Смит</td>\n",
       "      <td>«18+» - запрещено для детей</td>\n",
       "      <td>0.0</td>\n",
       "      <td>0.0</td>\n",
       "      <td>0.0</td>\n",
       "      <td>Коммерческий</td>\n",
       "      <td>6.8</td>\n",
       "      <td>фантастика,боевик,триллер</td>\n",
       "      <td>0.0</td>\n",
       "      <td>2016</td>\n",
       "      <td>Тимур Бекмамбетов</td>\n",
       "      <td>фантастика</td>\n",
       "    </tr>\n",
       "    <tr>\n",
       "      <th>3</th>\n",
       "      <td>Особо опасен</td>\n",
       "      <td>221026916</td>\n",
       "      <td>2016-06-10 12:00:00+00:00</td>\n",
       "      <td>Художественный</td>\n",
       "      <td>Юниверсал Пикчерз, Кикстарт Продакшнз, Марк Пл...</td>\n",
       "      <td>США</td>\n",
       "      <td>Тимур Бекмамбетов</td>\n",
       "      <td>Джим Лемли, Джейсон Нетер, Марк Е.Платт, Яйн Смит</td>\n",
       "      <td>«18+» - запрещено для детей</td>\n",
       "      <td>0.0</td>\n",
       "      <td>0.0</td>\n",
       "      <td>0.0</td>\n",
       "      <td>Коммерческий</td>\n",
       "      <td>6.8</td>\n",
       "      <td>фантастика,боевик,триллер</td>\n",
       "      <td>0.0</td>\n",
       "      <td>2016</td>\n",
       "      <td>Тимур Бекмамбетов</td>\n",
       "      <td>фантастика</td>\n",
       "    </tr>\n",
       "    <tr>\n",
       "      <th>4</th>\n",
       "      <td>Особо опасен</td>\n",
       "      <td>221030815</td>\n",
       "      <td>2015-07-29 12:00:00+00:00</td>\n",
       "      <td>Художественный</td>\n",
       "      <td>Юниверсал Пикчерз, Кикстарт Продакшнз, Марк Пл...</td>\n",
       "      <td>США</td>\n",
       "      <td>Тимур Бекмамбетов</td>\n",
       "      <td>Джим Лемли, Джейсон Нетер, Марк Е.Платт, Яйн Смит</td>\n",
       "      <td>«18+» - запрещено для детей</td>\n",
       "      <td>0.0</td>\n",
       "      <td>0.0</td>\n",
       "      <td>0.0</td>\n",
       "      <td>Коммерческий</td>\n",
       "      <td>6.8</td>\n",
       "      <td>фантастика,боевик,триллер</td>\n",
       "      <td>0.0</td>\n",
       "      <td>2015</td>\n",
       "      <td>Тимур Бекмамбетов</td>\n",
       "      <td>фантастика</td>\n",
       "    </tr>\n",
       "  </tbody>\n",
       "</table>\n",
       "</div>"
      ],
      "text/plain": [
       "                  title   puNumber           show_start_date            type  \\\n",
       "0      Открытый простор  221048915 2015-11-27 12:00:00+00:00  Художественный   \n",
       "1  Особо важное задание  111013716 2016-09-13 12:00:00+00:00  Художественный   \n",
       "2          Особо опасен  221038416 2016-10-10 12:00:00+00:00  Художественный   \n",
       "3          Особо опасен  221026916 2016-06-10 12:00:00+00:00  Художественный   \n",
       "4          Особо опасен  221030815 2015-07-29 12:00:00+00:00  Художественный   \n",
       "\n",
       "                                         film_studio production_country  \\\n",
       "0  Тачстоун Пикчерз, Кобальт Пикчерз, Бикон Пикче...                США   \n",
       "1                              Киностудия \"Мосфильм\"               СССР   \n",
       "2  Юниверсал Пикчерз, Кикстарт Продакшнз, Марк Пл...                США   \n",
       "3  Юниверсал Пикчерз, Кикстарт Продакшнз, Марк Пл...                США   \n",
       "4  Юниверсал Пикчерз, Кикстарт Продакшнз, Марк Пл...                США   \n",
       "\n",
       "            director                                           producer  \\\n",
       "0      Кевин Костнер          Дэвид Валдес, Кевин Костнер, Джейк Эбертс   \n",
       "1          Е.Матвеев                                          Е.Матвеев   \n",
       "2  Тимур Бекмамбетов  Джим Лемли, Джейсон Нетер, Марк Е.Платт, Яйн Смит   \n",
       "3  Тимур Бекмамбетов  Джим Лемли, Джейсон Нетер, Марк Е.Платт, Яйн Смит   \n",
       "4  Тимур Бекмамбетов  Джим Лемли, Джейсон Нетер, Марк Е.Платт, Яйн Смит   \n",
       "\n",
       "                 age_restriction  refundable_support  nonrefundable_support  \\\n",
       "0    «18+» - запрещено для детей                 0.0                    0.0   \n",
       "1  «6+» - для детей старше 6 лет                 0.0                    0.0   \n",
       "2    «18+» - запрещено для детей                 0.0                    0.0   \n",
       "3    «18+» - запрещено для детей                 0.0                    0.0   \n",
       "4    «18+» - запрещено для детей                 0.0                    0.0   \n",
       "\n",
       "   budget financing_source  ratings                     genres  box_office  \\\n",
       "0     0.0     Коммерческий      7.2     боевик,драма,мелодрама         0.0   \n",
       "1     0.0     Коммерческий      6.6              драма,военный         0.0   \n",
       "2     0.0     Коммерческий      6.8  фантастика,боевик,триллер         0.0   \n",
       "3     0.0     Коммерческий      6.8  фантастика,боевик,триллер         0.0   \n",
       "4     0.0     Коммерческий      6.8  фантастика,боевик,триллер         0.0   \n",
       "\n",
       "   god_nachala_show  osnovnoj_director osnovnoj_genres  \n",
       "0              2015      Кевин Костнер          боевик  \n",
       "1              2016          Е.Матвеев           драма  \n",
       "2              2016  Тимур Бекмамбетов      фантастика  \n",
       "3              2016  Тимур Бекмамбетов      фантастика  \n",
       "4              2015  Тимур Бекмамбетов      фантастика  "
      ]
     },
     "execution_count": 53,
     "metadata": {},
     "output_type": "execute_result"
    }
   ],
   "source": [
    "data = add_column(data, ['director'])\n",
    "data = add_column(data, ['genres'])\n",
    "data.head()"
   ]
  },
  {
   "cell_type": "markdown",
   "metadata": {
    "id": "LV6qFuZLgFyV"
   },
   "source": [
    "Медианную долю господдержки от бюджета уже посчитали выше, она составила 61%, теперь добавим столбец для расчёта индивидульно по каждому фильму"
   ]
  },
  {
   "cell_type": "code",
   "execution_count": 54,
   "metadata": {},
   "outputs": [
    {
     "data": {
      "text/html": [
       "<div>\n",
       "<style scoped>\n",
       "    .dataframe tbody tr th:only-of-type {\n",
       "        vertical-align: middle;\n",
       "    }\n",
       "\n",
       "    .dataframe tbody tr th {\n",
       "        vertical-align: top;\n",
       "    }\n",
       "\n",
       "    .dataframe thead th {\n",
       "        text-align: right;\n",
       "    }\n",
       "</style>\n",
       "<table border=\"1\" class=\"dataframe\">\n",
       "  <thead>\n",
       "    <tr style=\"text-align: right;\">\n",
       "      <th></th>\n",
       "      <th>title</th>\n",
       "      <th>puNumber</th>\n",
       "      <th>show_start_date</th>\n",
       "      <th>type</th>\n",
       "      <th>film_studio</th>\n",
       "      <th>production_country</th>\n",
       "      <th>director</th>\n",
       "      <th>producer</th>\n",
       "      <th>age_restriction</th>\n",
       "      <th>refundable_support</th>\n",
       "      <th>nonrefundable_support</th>\n",
       "      <th>budget</th>\n",
       "      <th>financing_source</th>\n",
       "      <th>ratings</th>\n",
       "      <th>genres</th>\n",
       "      <th>box_office</th>\n",
       "      <th>god_nachala_show</th>\n",
       "      <th>osnovnoj_director</th>\n",
       "      <th>osnovnoj_genres</th>\n",
       "      <th>procent_gospodderzhki</th>\n",
       "    </tr>\n",
       "  </thead>\n",
       "  <tbody>\n",
       "    <tr>\n",
       "      <th>0</th>\n",
       "      <td>Открытый простор</td>\n",
       "      <td>221048915</td>\n",
       "      <td>2015-11-27 12:00:00+00:00</td>\n",
       "      <td>Художественный</td>\n",
       "      <td>Тачстоун Пикчерз, Кобальт Пикчерз, Бикон Пикче...</td>\n",
       "      <td>США</td>\n",
       "      <td>Кевин Костнер</td>\n",
       "      <td>Дэвид Валдес, Кевин Костнер, Джейк Эбертс</td>\n",
       "      <td>«18+» - запрещено для детей</td>\n",
       "      <td>0.0</td>\n",
       "      <td>0.0</td>\n",
       "      <td>0.0</td>\n",
       "      <td>Коммерческий</td>\n",
       "      <td>7.2</td>\n",
       "      <td>боевик,драма,мелодрама</td>\n",
       "      <td>0.0</td>\n",
       "      <td>2015</td>\n",
       "      <td>Кевин Костнер</td>\n",
       "      <td>боевик</td>\n",
       "      <td>NaN</td>\n",
       "    </tr>\n",
       "    <tr>\n",
       "      <th>1</th>\n",
       "      <td>Особо важное задание</td>\n",
       "      <td>111013716</td>\n",
       "      <td>2016-09-13 12:00:00+00:00</td>\n",
       "      <td>Художественный</td>\n",
       "      <td>Киностудия \"Мосфильм\"</td>\n",
       "      <td>СССР</td>\n",
       "      <td>Е.Матвеев</td>\n",
       "      <td>Е.Матвеев</td>\n",
       "      <td>«6+» - для детей старше 6 лет</td>\n",
       "      <td>0.0</td>\n",
       "      <td>0.0</td>\n",
       "      <td>0.0</td>\n",
       "      <td>Коммерческий</td>\n",
       "      <td>6.6</td>\n",
       "      <td>драма,военный</td>\n",
       "      <td>0.0</td>\n",
       "      <td>2016</td>\n",
       "      <td>Е.Матвеев</td>\n",
       "      <td>драма</td>\n",
       "      <td>NaN</td>\n",
       "    </tr>\n",
       "    <tr>\n",
       "      <th>2</th>\n",
       "      <td>Особо опасен</td>\n",
       "      <td>221038416</td>\n",
       "      <td>2016-10-10 12:00:00+00:00</td>\n",
       "      <td>Художественный</td>\n",
       "      <td>Юниверсал Пикчерз, Кикстарт Продакшнз, Марк Пл...</td>\n",
       "      <td>США</td>\n",
       "      <td>Тимур Бекмамбетов</td>\n",
       "      <td>Джим Лемли, Джейсон Нетер, Марк Е.Платт, Яйн Смит</td>\n",
       "      <td>«18+» - запрещено для детей</td>\n",
       "      <td>0.0</td>\n",
       "      <td>0.0</td>\n",
       "      <td>0.0</td>\n",
       "      <td>Коммерческий</td>\n",
       "      <td>6.8</td>\n",
       "      <td>фантастика,боевик,триллер</td>\n",
       "      <td>0.0</td>\n",
       "      <td>2016</td>\n",
       "      <td>Тимур Бекмамбетов</td>\n",
       "      <td>фантастика</td>\n",
       "      <td>NaN</td>\n",
       "    </tr>\n",
       "    <tr>\n",
       "      <th>3</th>\n",
       "      <td>Особо опасен</td>\n",
       "      <td>221026916</td>\n",
       "      <td>2016-06-10 12:00:00+00:00</td>\n",
       "      <td>Художественный</td>\n",
       "      <td>Юниверсал Пикчерз, Кикстарт Продакшнз, Марк Пл...</td>\n",
       "      <td>США</td>\n",
       "      <td>Тимур Бекмамбетов</td>\n",
       "      <td>Джим Лемли, Джейсон Нетер, Марк Е.Платт, Яйн Смит</td>\n",
       "      <td>«18+» - запрещено для детей</td>\n",
       "      <td>0.0</td>\n",
       "      <td>0.0</td>\n",
       "      <td>0.0</td>\n",
       "      <td>Коммерческий</td>\n",
       "      <td>6.8</td>\n",
       "      <td>фантастика,боевик,триллер</td>\n",
       "      <td>0.0</td>\n",
       "      <td>2016</td>\n",
       "      <td>Тимур Бекмамбетов</td>\n",
       "      <td>фантастика</td>\n",
       "      <td>NaN</td>\n",
       "    </tr>\n",
       "    <tr>\n",
       "      <th>4</th>\n",
       "      <td>Особо опасен</td>\n",
       "      <td>221030815</td>\n",
       "      <td>2015-07-29 12:00:00+00:00</td>\n",
       "      <td>Художественный</td>\n",
       "      <td>Юниверсал Пикчерз, Кикстарт Продакшнз, Марк Пл...</td>\n",
       "      <td>США</td>\n",
       "      <td>Тимур Бекмамбетов</td>\n",
       "      <td>Джим Лемли, Джейсон Нетер, Марк Е.Платт, Яйн Смит</td>\n",
       "      <td>«18+» - запрещено для детей</td>\n",
       "      <td>0.0</td>\n",
       "      <td>0.0</td>\n",
       "      <td>0.0</td>\n",
       "      <td>Коммерческий</td>\n",
       "      <td>6.8</td>\n",
       "      <td>фантастика,боевик,триллер</td>\n",
       "      <td>0.0</td>\n",
       "      <td>2015</td>\n",
       "      <td>Тимур Бекмамбетов</td>\n",
       "      <td>фантастика</td>\n",
       "      <td>NaN</td>\n",
       "    </tr>\n",
       "    <tr>\n",
       "      <th>5</th>\n",
       "      <td>Остановился поезд</td>\n",
       "      <td>111013816</td>\n",
       "      <td>2016-09-13 12:00:00+00:00</td>\n",
       "      <td>Художественный</td>\n",
       "      <td>Киностудия \"Мосфильм\"</td>\n",
       "      <td>СССР</td>\n",
       "      <td>В.Абдрашитов</td>\n",
       "      <td>В.Абдрашитов</td>\n",
       "      <td>«6+» - для детей старше 6 лет</td>\n",
       "      <td>0.0</td>\n",
       "      <td>0.0</td>\n",
       "      <td>0.0</td>\n",
       "      <td>Коммерческий</td>\n",
       "      <td>7.7</td>\n",
       "      <td>драма</td>\n",
       "      <td>0.0</td>\n",
       "      <td>2016</td>\n",
       "      <td>В.Абдрашитов</td>\n",
       "      <td>драма</td>\n",
       "      <td>NaN</td>\n",
       "    </tr>\n",
       "    <tr>\n",
       "      <th>6</th>\n",
       "      <td>Любовь и голуби</td>\n",
       "      <td>111007013</td>\n",
       "      <td>2013-10-18 12:00:00+00:00</td>\n",
       "      <td>Художественный</td>\n",
       "      <td>Киностудия \"Мосфильм\"</td>\n",
       "      <td>СССР</td>\n",
       "      <td>В.Меньшов</td>\n",
       "      <td>В.Меньшов</td>\n",
       "      <td>«12+» - для детей старше 12 лет</td>\n",
       "      <td>0.0</td>\n",
       "      <td>0.0</td>\n",
       "      <td>0.0</td>\n",
       "      <td>Коммерческий</td>\n",
       "      <td>8.3</td>\n",
       "      <td>мелодрама,комедия</td>\n",
       "      <td>2700.0</td>\n",
       "      <td>2013</td>\n",
       "      <td>В.Меньшов</td>\n",
       "      <td>мелодрама</td>\n",
       "      <td>NaN</td>\n",
       "    </tr>\n",
       "    <tr>\n",
       "      <th>7</th>\n",
       "      <td>Любовь и сигареты</td>\n",
       "      <td>221074614</td>\n",
       "      <td>2014-12-29 12:00:00+00:00</td>\n",
       "      <td>Художественный</td>\n",
       "      <td>Юнайтед Артистс, Грин Стрит Филмз, Айкон Интер...</td>\n",
       "      <td>США</td>\n",
       "      <td>Джон Туртурро</td>\n",
       "      <td>Джон Пенотти, Джон Туртурро</td>\n",
       "      <td>«18+» - запрещено для детей</td>\n",
       "      <td>0.0</td>\n",
       "      <td>0.0</td>\n",
       "      <td>0.0</td>\n",
       "      <td>Коммерческий</td>\n",
       "      <td>6.6</td>\n",
       "      <td>мюзикл,мелодрама,комедия</td>\n",
       "      <td>0.0</td>\n",
       "      <td>2014</td>\n",
       "      <td>Джон Туртурро</td>\n",
       "      <td>мюзикл</td>\n",
       "      <td>NaN</td>\n",
       "    </tr>\n",
       "    <tr>\n",
       "      <th>8</th>\n",
       "      <td>Отпетые мошенники.</td>\n",
       "      <td>121011416</td>\n",
       "      <td>2016-05-05 12:00:00+00:00</td>\n",
       "      <td>Художественный</td>\n",
       "      <td>Пульсар Продюксьон, ТФ1 Фильм</td>\n",
       "      <td>Франция</td>\n",
       "      <td>Эрик Беснард</td>\n",
       "      <td>Патрис Леду</td>\n",
       "      <td>«18+» - запрещено для детей</td>\n",
       "      <td>0.0</td>\n",
       "      <td>0.0</td>\n",
       "      <td>0.0</td>\n",
       "      <td>Коммерческий</td>\n",
       "      <td>8.0</td>\n",
       "      <td>комедия,криминал</td>\n",
       "      <td>0.0</td>\n",
       "      <td>2016</td>\n",
       "      <td>Эрик Беснард</td>\n",
       "      <td>комедия</td>\n",
       "      <td>NaN</td>\n",
       "    </tr>\n",
       "    <tr>\n",
       "      <th>9</th>\n",
       "      <td>Отпуск за свой счет</td>\n",
       "      <td>111019114</td>\n",
       "      <td>2014-12-01 12:00:00+00:00</td>\n",
       "      <td>Художественный</td>\n",
       "      <td>Киностудия \"Мосфильм\", Телевидение ВНР</td>\n",
       "      <td>СССР, Венгрия</td>\n",
       "      <td>В.Титов</td>\n",
       "      <td>В.Титов</td>\n",
       "      <td>«12+» - для детей старше 12 лет</td>\n",
       "      <td>0.0</td>\n",
       "      <td>0.0</td>\n",
       "      <td>0.0</td>\n",
       "      <td>Коммерческий</td>\n",
       "      <td>7.8</td>\n",
       "      <td>мелодрама,комедия</td>\n",
       "      <td>0.0</td>\n",
       "      <td>2014</td>\n",
       "      <td>В.Титов</td>\n",
       "      <td>мелодрама</td>\n",
       "      <td>NaN</td>\n",
       "    </tr>\n",
       "    <tr>\n",
       "      <th>10</th>\n",
       "      <td>Превосходство Борна /По одноименной новелле Ро...</td>\n",
       "      <td>221031416</td>\n",
       "      <td>2016-06-29 12:00:00+00:00</td>\n",
       "      <td>Художественный</td>\n",
       "      <td>Кеннеди/Маршал Компани, Юниверсал Пикчерз, Гип...</td>\n",
       "      <td>США</td>\n",
       "      <td>Пол Грингросс</td>\n",
       "      <td>Патрик Кроули, Фрэнк Маршалл, Пол Сэндберг</td>\n",
       "      <td>«16+» - для детей старше 16 лет</td>\n",
       "      <td>0.0</td>\n",
       "      <td>0.0</td>\n",
       "      <td>0.0</td>\n",
       "      <td>Коммерческий</td>\n",
       "      <td>7.7</td>\n",
       "      <td>боевик,триллер,детектив</td>\n",
       "      <td>0.0</td>\n",
       "      <td>2016</td>\n",
       "      <td>Пол Грингросс</td>\n",
       "      <td>боевик</td>\n",
       "      <td>NaN</td>\n",
       "    </tr>\n",
       "    <tr>\n",
       "      <th>11</th>\n",
       "      <td>Ответный ход</td>\n",
       "      <td>111019014</td>\n",
       "      <td>2014-12-01 12:00:00+00:00</td>\n",
       "      <td>Художественный</td>\n",
       "      <td>Киностудия \"Мосфильм\"</td>\n",
       "      <td>СССР</td>\n",
       "      <td>М.Туманишвили</td>\n",
       "      <td>М.Туманишвили</td>\n",
       "      <td>«12+» - для детей старше 12 лет</td>\n",
       "      <td>0.0</td>\n",
       "      <td>0.0</td>\n",
       "      <td>0.0</td>\n",
       "      <td>Коммерческий</td>\n",
       "      <td>7.8</td>\n",
       "      <td>боевик,драма,приключения</td>\n",
       "      <td>0.0</td>\n",
       "      <td>2014</td>\n",
       "      <td>М.Туманишвили</td>\n",
       "      <td>боевик</td>\n",
       "      <td>NaN</td>\n",
       "    </tr>\n",
       "    <tr>\n",
       "      <th>12</th>\n",
       "      <td>Малышка на миллион /По мотивам рассказов Ф.Х.Т...</td>\n",
       "      <td>221011415</td>\n",
       "      <td>2015-04-03 12:00:00+00:00</td>\n",
       "      <td>Художественный</td>\n",
       "      <td>Уорнер Бразерс, Лейкшор Интертейнмент, Малпасо...</td>\n",
       "      <td>США</td>\n",
       "      <td>Клинт Иствуд</td>\n",
       "      <td>Клинт Иствуд, Том Розенберг, Альберт С.Рудди, ...</td>\n",
       "      <td>«16+» - для детей старше 16 лет</td>\n",
       "      <td>0.0</td>\n",
       "      <td>0.0</td>\n",
       "      <td>0.0</td>\n",
       "      <td>Коммерческий</td>\n",
       "      <td>8.1</td>\n",
       "      <td>драма,спорт</td>\n",
       "      <td>0.0</td>\n",
       "      <td>2015</td>\n",
       "      <td>Клинт Иствуд</td>\n",
       "      <td>драма</td>\n",
       "      <td>NaN</td>\n",
       "    </tr>\n",
       "    <tr>\n",
       "      <th>13</th>\n",
       "      <td>Преданный садовник</td>\n",
       "      <td>121003106</td>\n",
       "      <td>2013-08-26 12:00:00+00:00</td>\n",
       "      <td>Художественный</td>\n",
       "      <td>Потбойлер Продакшнз, Эпсилон Моушн Пикчерз, Ск...</td>\n",
       "      <td>Германия-Великобритания</td>\n",
       "      <td>Фернанду Мейрелльеш</td>\n",
       "      <td>Саймон Чэннинг Уильямс</td>\n",
       "      <td>«16+» - для детей старше 16 лет</td>\n",
       "      <td>0.0</td>\n",
       "      <td>0.0</td>\n",
       "      <td>0.0</td>\n",
       "      <td>Коммерческий</td>\n",
       "      <td>7.1</td>\n",
       "      <td>триллер,драма,мелодрама</td>\n",
       "      <td>0.0</td>\n",
       "      <td>2013</td>\n",
       "      <td>Фернанду Мейрелльеш</td>\n",
       "      <td>триллер</td>\n",
       "      <td>NaN</td>\n",
       "    </tr>\n",
       "    <tr>\n",
       "      <th>14</th>\n",
       "      <td>Отель /По мотивам пьесы Джона Уэбстера/</td>\n",
       "      <td>221008812</td>\n",
       "      <td>2012-01-27 12:00:00+00:00</td>\n",
       "      <td>Художественный</td>\n",
       "      <td>Кэтлей, Отель Продакшнс, Мунстоун Интертейнмен...</td>\n",
       "      <td>Великобритания - Италия</td>\n",
       "      <td>Майк Фиггис</td>\n",
       "      <td>Этчи Стро, Анни Стюарт, Майк Фиггис</td>\n",
       "      <td>«18+» - запрещено для детей</td>\n",
       "      <td>0.0</td>\n",
       "      <td>0.0</td>\n",
       "      <td>0.0</td>\n",
       "      <td>Коммерческий</td>\n",
       "      <td>6.0</td>\n",
       "      <td>комедия,мелодрама</td>\n",
       "      <td>0.0</td>\n",
       "      <td>2012</td>\n",
       "      <td>Майк Фиггис</td>\n",
       "      <td>комедия</td>\n",
       "      <td>NaN</td>\n",
       "    </tr>\n",
       "    <tr>\n",
       "      <th>15</th>\n",
       "      <td>Председатель</td>\n",
       "      <td>111014916</td>\n",
       "      <td>2016-09-13 12:00:00+00:00</td>\n",
       "      <td>Художественный</td>\n",
       "      <td>Киностудия \"Мосфильм\"</td>\n",
       "      <td>СССР</td>\n",
       "      <td>А.Салтыков</td>\n",
       "      <td>А.Салтыков</td>\n",
       "      <td>«12+» - для детей старше 12 лет</td>\n",
       "      <td>0.0</td>\n",
       "      <td>0.0</td>\n",
       "      <td>0.0</td>\n",
       "      <td>Коммерческий</td>\n",
       "      <td>8.3</td>\n",
       "      <td>драма</td>\n",
       "      <td>0.0</td>\n",
       "      <td>2016</td>\n",
       "      <td>А.Салтыков</td>\n",
       "      <td>драма</td>\n",
       "      <td>NaN</td>\n",
       "    </tr>\n",
       "    <tr>\n",
       "      <th>16</th>\n",
       "      <td>Осенний марафон</td>\n",
       "      <td>111007513</td>\n",
       "      <td>2013-10-18 12:00:00+00:00</td>\n",
       "      <td>Художественный</td>\n",
       "      <td>Киностудия \"Мосфильм\"</td>\n",
       "      <td>СССР</td>\n",
       "      <td>Г.Данелия</td>\n",
       "      <td>Г.Данелия</td>\n",
       "      <td>«12+» - для детей старше 12 лет</td>\n",
       "      <td>0.0</td>\n",
       "      <td>0.0</td>\n",
       "      <td>0.0</td>\n",
       "      <td>Коммерческий</td>\n",
       "      <td>8.0</td>\n",
       "      <td>драма,мелодрама,комедия</td>\n",
       "      <td>0.0</td>\n",
       "      <td>2013</td>\n",
       "      <td>Г.Данелия</td>\n",
       "      <td>драма</td>\n",
       "      <td>NaN</td>\n",
       "    </tr>\n",
       "    <tr>\n",
       "      <th>17</th>\n",
       "      <td>Осень</td>\n",
       "      <td>111027914</td>\n",
       "      <td>2014-12-24 12:00:00+00:00</td>\n",
       "      <td>Художественный</td>\n",
       "      <td>Киностудия \"Мосфильм\"</td>\n",
       "      <td>СССР</td>\n",
       "      <td>А.Смирнов</td>\n",
       "      <td>А.Смирнов</td>\n",
       "      <td>«12+» - для детей старше 12 лет</td>\n",
       "      <td>0.0</td>\n",
       "      <td>0.0</td>\n",
       "      <td>0.0</td>\n",
       "      <td>Коммерческий</td>\n",
       "      <td>7.4</td>\n",
       "      <td>драма,мелодрама</td>\n",
       "      <td>0.0</td>\n",
       "      <td>2014</td>\n",
       "      <td>А.Смирнов</td>\n",
       "      <td>драма</td>\n",
       "      <td>NaN</td>\n",
       "    </tr>\n",
       "    <tr>\n",
       "      <th>18</th>\n",
       "      <td>Неподдающиеся</td>\n",
       "      <td>111003616</td>\n",
       "      <td>2016-02-12 12:00:00+00:00</td>\n",
       "      <td>Художественный</td>\n",
       "      <td>Киностудия \"Мосфильм\"</td>\n",
       "      <td>СССР</td>\n",
       "      <td>Ю.Чулюкин</td>\n",
       "      <td>Ю.Чулюкин</td>\n",
       "      <td>«6+» - для детей старше 6 лет</td>\n",
       "      <td>0.0</td>\n",
       "      <td>0.0</td>\n",
       "      <td>0.0</td>\n",
       "      <td>Коммерческий</td>\n",
       "      <td>8.0</td>\n",
       "      <td>мелодрама,комедия</td>\n",
       "      <td>360.0</td>\n",
       "      <td>2016</td>\n",
       "      <td>Ю.Чулюкин</td>\n",
       "      <td>мелодрама</td>\n",
       "      <td>NaN</td>\n",
       "    </tr>\n",
       "    <tr>\n",
       "      <th>19</th>\n",
       "      <td>Неподсуден</td>\n",
       "      <td>111003716</td>\n",
       "      <td>2016-02-12 12:00:00+00:00</td>\n",
       "      <td>Художественный</td>\n",
       "      <td>Киностудия \"Мосфильм\"</td>\n",
       "      <td>СССР</td>\n",
       "      <td>В.Краснопольский, В.Усков</td>\n",
       "      <td>В.Краснопольский, В.Усков</td>\n",
       "      <td>«6+» - для детей старше 6 лет</td>\n",
       "      <td>0.0</td>\n",
       "      <td>0.0</td>\n",
       "      <td>0.0</td>\n",
       "      <td>Коммерческий</td>\n",
       "      <td>7.7</td>\n",
       "      <td>драма</td>\n",
       "      <td>420.0</td>\n",
       "      <td>2016</td>\n",
       "      <td>В.Краснопольский</td>\n",
       "      <td>драма</td>\n",
       "      <td>NaN</td>\n",
       "    </tr>\n",
       "    <tr>\n",
       "      <th>20</th>\n",
       "      <td>Незабываемый 1919-й год</td>\n",
       "      <td>111003316</td>\n",
       "      <td>2016-02-12 12:00:00+00:00</td>\n",
       "      <td>Художественный</td>\n",
       "      <td>Киностудия \"Мосфильм\"</td>\n",
       "      <td>СССР</td>\n",
       "      <td>М.Чиаурели</td>\n",
       "      <td>М.Чиаурели</td>\n",
       "      <td>«12+» - для детей старше 12 лет</td>\n",
       "      <td>0.0</td>\n",
       "      <td>0.0</td>\n",
       "      <td>0.0</td>\n",
       "      <td>Коммерческий</td>\n",
       "      <td>5.8</td>\n",
       "      <td>драма,история</td>\n",
       "      <td>0.0</td>\n",
       "      <td>2016</td>\n",
       "      <td>М.Чиаурели</td>\n",
       "      <td>драма</td>\n",
       "      <td>NaN</td>\n",
       "    </tr>\n",
       "    <tr>\n",
       "      <th>21</th>\n",
       "      <td>Незаконченная жизнь</td>\n",
       "      <td>121015405</td>\n",
       "      <td>2015-05-06 12:00:00+00:00</td>\n",
       "      <td>Художественный</td>\n",
       "      <td>Инишиэл Интертейнмент Групп, Мирамакс Филмз, П...</td>\n",
       "      <td>США</td>\n",
       "      <td>Лассе Халлстрем</td>\n",
       "      <td>Лесли Холлеран, Алан Лэдд мл., Келлиан Лэдд, Х...</td>\n",
       "      <td>«12+» - для детей старше 12 лет</td>\n",
       "      <td>0.0</td>\n",
       "      <td>0.0</td>\n",
       "      <td>0.0</td>\n",
       "      <td>Коммерческий</td>\n",
       "      <td>7.2</td>\n",
       "      <td>драма,мелодрама,семейный</td>\n",
       "      <td>0.0</td>\n",
       "      <td>2015</td>\n",
       "      <td>Лассе Халлстрем</td>\n",
       "      <td>драма</td>\n",
       "      <td>NaN</td>\n",
       "    </tr>\n",
       "    <tr>\n",
       "      <th>22</th>\n",
       "      <td>Операция \"Ы\" и другие приключения Шурика</td>\n",
       "      <td>111007413</td>\n",
       "      <td>2013-10-18 12:00:00+00:00</td>\n",
       "      <td>Художественный</td>\n",
       "      <td>Киностудия \"Мосфильм\"</td>\n",
       "      <td>СССР</td>\n",
       "      <td>Л.Гайдай</td>\n",
       "      <td>Л.Гайдай</td>\n",
       "      <td>«6+» - для детей старше 6 лет</td>\n",
       "      <td>0.0</td>\n",
       "      <td>0.0</td>\n",
       "      <td>0.0</td>\n",
       "      <td>Коммерческий</td>\n",
       "      <td>8.7</td>\n",
       "      <td>комедия,мелодрама,криминал</td>\n",
       "      <td>380.0</td>\n",
       "      <td>2013</td>\n",
       "      <td>Л.Гайдай</td>\n",
       "      <td>комедия</td>\n",
       "      <td>NaN</td>\n",
       "    </tr>\n",
       "    <tr>\n",
       "      <th>23</th>\n",
       "      <td>Неизвестные страницы из жизни разведчика</td>\n",
       "      <td>111003416</td>\n",
       "      <td>2016-02-12 12:00:00+00:00</td>\n",
       "      <td>Художественный</td>\n",
       "      <td>Киностудия \"Мосфильм\"</td>\n",
       "      <td>СССР</td>\n",
       "      <td>В.Чеботарев</td>\n",
       "      <td>В.Чеботарев</td>\n",
       "      <td>«12+» - для детей старше 12 лет</td>\n",
       "      <td>0.0</td>\n",
       "      <td>0.0</td>\n",
       "      <td>0.0</td>\n",
       "      <td>Коммерческий</td>\n",
       "      <td>6.3</td>\n",
       "      <td>драма,военный</td>\n",
       "      <td>0.0</td>\n",
       "      <td>2016</td>\n",
       "      <td>В.Чеботарев</td>\n",
       "      <td>драма</td>\n",
       "      <td>NaN</td>\n",
       "    </tr>\n",
       "    <tr>\n",
       "      <th>24</th>\n",
       "      <td>Неисправимый лгун</td>\n",
       "      <td>111003516</td>\n",
       "      <td>2016-02-12 12:00:00+00:00</td>\n",
       "      <td>Художественный</td>\n",
       "      <td>Киностудия \"Мосфильм\"</td>\n",
       "      <td>СССР</td>\n",
       "      <td>В.Азаров</td>\n",
       "      <td>В.Азаров</td>\n",
       "      <td>«6+» - для детей старше 6 лет</td>\n",
       "      <td>0.0</td>\n",
       "      <td>0.0</td>\n",
       "      <td>0.0</td>\n",
       "      <td>Коммерческий</td>\n",
       "      <td>7.7</td>\n",
       "      <td>комедия</td>\n",
       "      <td>0.0</td>\n",
       "      <td>2016</td>\n",
       "      <td>В.Азаров</td>\n",
       "      <td>комедия</td>\n",
       "      <td>NaN</td>\n",
       "    </tr>\n",
       "    <tr>\n",
       "      <th>25</th>\n",
       "      <td>Призрак замка Моррисвиль</td>\n",
       "      <td>221072614</td>\n",
       "      <td>2014-12-29 12:00:00+00:00</td>\n",
       "      <td>Художественный</td>\n",
       "      <td>Фильмове Студио Баррандов</td>\n",
       "      <td>Чехословакия</td>\n",
       "      <td>Боривой Земан</td>\n",
       "      <td>Боривой Земан</td>\n",
       "      <td>«12+» - для детей старше 12 лет</td>\n",
       "      <td>0.0</td>\n",
       "      <td>0.0</td>\n",
       "      <td>0.0</td>\n",
       "      <td>Коммерческий</td>\n",
       "      <td>7.7</td>\n",
       "      <td>комедия</td>\n",
       "      <td>0.0</td>\n",
       "      <td>2014</td>\n",
       "      <td>Боривой Земан</td>\n",
       "      <td>комедия</td>\n",
       "      <td>NaN</td>\n",
       "    </tr>\n",
       "    <tr>\n",
       "      <th>26</th>\n",
       "      <td>Оружейный барон</td>\n",
       "      <td>221012515</td>\n",
       "      <td>2015-04-03 12:00:00+00:00</td>\n",
       "      <td>Художественный</td>\n",
       "      <td>Вэ И Пэ Медиенфондс 3, Асендант Пикчерз, Сатур...</td>\n",
       "      <td>США - Франция - Турция</td>\n",
       "      <td>Эндрю Никкол</td>\n",
       "      <td>Норман Голуайтли, Энди Грош, Николас Кейдж, Эн...</td>\n",
       "      <td>«18+» - запрещено для детей</td>\n",
       "      <td>0.0</td>\n",
       "      <td>0.0</td>\n",
       "      <td>0.0</td>\n",
       "      <td>Коммерческий</td>\n",
       "      <td>7.7</td>\n",
       "      <td>боевик,драма,криминал</td>\n",
       "      <td>0.0</td>\n",
       "      <td>2015</td>\n",
       "      <td>Эндрю Никкол</td>\n",
       "      <td>боевик</td>\n",
       "      <td>NaN</td>\n",
       "    </tr>\n",
       "    <tr>\n",
       "      <th>27</th>\n",
       "      <td>Отставной козы барабанщик</td>\n",
       "      <td>111024314</td>\n",
       "      <td>2014-12-24 12:00:00+00:00</td>\n",
       "      <td>Художественный</td>\n",
       "      <td>Киностудия \"Мосфильм\"</td>\n",
       "      <td>СССР</td>\n",
       "      <td>Г.Мыльников</td>\n",
       "      <td>Г.Мыльников</td>\n",
       "      <td>«6+» - для детей старше 6 лет</td>\n",
       "      <td>0.0</td>\n",
       "      <td>0.0</td>\n",
       "      <td>0.0</td>\n",
       "      <td>Коммерческий</td>\n",
       "      <td>6.9</td>\n",
       "      <td>драма,комедия</td>\n",
       "      <td>0.0</td>\n",
       "      <td>2014</td>\n",
       "      <td>Г.Мыльников</td>\n",
       "      <td>драма</td>\n",
       "      <td>NaN</td>\n",
       "    </tr>\n",
       "    <tr>\n",
       "      <th>28</th>\n",
       "      <td>Паршивая овца</td>\n",
       "      <td>221012815</td>\n",
       "      <td>2015-04-03 12:00:00+00:00</td>\n",
       "      <td>Художественный</td>\n",
       "      <td>Лайв Сток Филмз, Нью Зиланд Филм Комишн</td>\n",
       "      <td>Новая Зеландия</td>\n",
       "      <td>Джонатан Кинг</td>\n",
       "      <td>Филиппа Кемпбелл</td>\n",
       "      <td>«18+» - запрещено для детей</td>\n",
       "      <td>0.0</td>\n",
       "      <td>0.0</td>\n",
       "      <td>0.0</td>\n",
       "      <td>Коммерческий</td>\n",
       "      <td>5.0</td>\n",
       "      <td>ужасы,фантастика,комедия</td>\n",
       "      <td>0.0</td>\n",
       "      <td>2015</td>\n",
       "      <td>Джонатан Кинг</td>\n",
       "      <td>ужасы</td>\n",
       "      <td>NaN</td>\n",
       "    </tr>\n",
       "    <tr>\n",
       "      <th>29</th>\n",
       "      <td>Плюмбум, или Опасная игра</td>\n",
       "      <td>111014116</td>\n",
       "      <td>2016-09-13 12:00:00+00:00</td>\n",
       "      <td>Художественный</td>\n",
       "      <td>Киностудия \"Мосфильм\"</td>\n",
       "      <td>СССР</td>\n",
       "      <td>В.Абдрашитов</td>\n",
       "      <td>В.Абдрашитов</td>\n",
       "      <td>«16+» - для детей старше 16 лет</td>\n",
       "      <td>0.0</td>\n",
       "      <td>0.0</td>\n",
       "      <td>0.0</td>\n",
       "      <td>Коммерческий</td>\n",
       "      <td>6.9</td>\n",
       "      <td>драма</td>\n",
       "      <td>0.0</td>\n",
       "      <td>2016</td>\n",
       "      <td>В.Абдрашитов</td>\n",
       "      <td>драма</td>\n",
       "      <td>NaN</td>\n",
       "    </tr>\n",
       "  </tbody>\n",
       "</table>\n",
       "</div>"
      ],
      "text/plain": [
       "                                                title   puNumber  \\\n",
       "0                                    Открытый простор  221048915   \n",
       "1                                Особо важное задание  111013716   \n",
       "2                                        Особо опасен  221038416   \n",
       "3                                        Особо опасен  221026916   \n",
       "4                                        Особо опасен  221030815   \n",
       "5                                   Остановился поезд  111013816   \n",
       "6                                     Любовь и голуби  111007013   \n",
       "7                                   Любовь и сигареты  221074614   \n",
       "8                                  Отпетые мошенники.  121011416   \n",
       "9                                 Отпуск за свой счет  111019114   \n",
       "10  Превосходство Борна /По одноименной новелле Ро...  221031416   \n",
       "11                                       Ответный ход  111019014   \n",
       "12  Малышка на миллион /По мотивам рассказов Ф.Х.Т...  221011415   \n",
       "13                                 Преданный садовник  121003106   \n",
       "14            Отель /По мотивам пьесы Джона Уэбстера/  221008812   \n",
       "15                                       Председатель  111014916   \n",
       "16                                    Осенний марафон  111007513   \n",
       "17                                              Осень  111027914   \n",
       "18                                      Неподдающиеся  111003616   \n",
       "19                                         Неподсуден  111003716   \n",
       "20                            Незабываемый 1919-й год  111003316   \n",
       "21                                Незаконченная жизнь  121015405   \n",
       "22           Операция \"Ы\" и другие приключения Шурика  111007413   \n",
       "23           Неизвестные страницы из жизни разведчика  111003416   \n",
       "24                                  Неисправимый лгун  111003516   \n",
       "25                           Призрак замка Моррисвиль  221072614   \n",
       "26                                    Оружейный барон  221012515   \n",
       "27                          Отставной козы барабанщик  111024314   \n",
       "28                                      Паршивая овца  221012815   \n",
       "29                          Плюмбум, или Опасная игра  111014116   \n",
       "\n",
       "             show_start_date            type  \\\n",
       "0  2015-11-27 12:00:00+00:00  Художественный   \n",
       "1  2016-09-13 12:00:00+00:00  Художественный   \n",
       "2  2016-10-10 12:00:00+00:00  Художественный   \n",
       "3  2016-06-10 12:00:00+00:00  Художественный   \n",
       "4  2015-07-29 12:00:00+00:00  Художественный   \n",
       "5  2016-09-13 12:00:00+00:00  Художественный   \n",
       "6  2013-10-18 12:00:00+00:00  Художественный   \n",
       "7  2014-12-29 12:00:00+00:00  Художественный   \n",
       "8  2016-05-05 12:00:00+00:00  Художественный   \n",
       "9  2014-12-01 12:00:00+00:00  Художественный   \n",
       "10 2016-06-29 12:00:00+00:00  Художественный   \n",
       "11 2014-12-01 12:00:00+00:00  Художественный   \n",
       "12 2015-04-03 12:00:00+00:00  Художественный   \n",
       "13 2013-08-26 12:00:00+00:00  Художественный   \n",
       "14 2012-01-27 12:00:00+00:00  Художественный   \n",
       "15 2016-09-13 12:00:00+00:00  Художественный   \n",
       "16 2013-10-18 12:00:00+00:00  Художественный   \n",
       "17 2014-12-24 12:00:00+00:00  Художественный   \n",
       "18 2016-02-12 12:00:00+00:00  Художественный   \n",
       "19 2016-02-12 12:00:00+00:00  Художественный   \n",
       "20 2016-02-12 12:00:00+00:00  Художественный   \n",
       "21 2015-05-06 12:00:00+00:00  Художественный   \n",
       "22 2013-10-18 12:00:00+00:00  Художественный   \n",
       "23 2016-02-12 12:00:00+00:00  Художественный   \n",
       "24 2016-02-12 12:00:00+00:00  Художественный   \n",
       "25 2014-12-29 12:00:00+00:00  Художественный   \n",
       "26 2015-04-03 12:00:00+00:00  Художественный   \n",
       "27 2014-12-24 12:00:00+00:00  Художественный   \n",
       "28 2015-04-03 12:00:00+00:00  Художественный   \n",
       "29 2016-09-13 12:00:00+00:00  Художественный   \n",
       "\n",
       "                                          film_studio  \\\n",
       "0   Тачстоун Пикчерз, Кобальт Пикчерз, Бикон Пикче...   \n",
       "1                               Киностудия \"Мосфильм\"   \n",
       "2   Юниверсал Пикчерз, Кикстарт Продакшнз, Марк Пл...   \n",
       "3   Юниверсал Пикчерз, Кикстарт Продакшнз, Марк Пл...   \n",
       "4   Юниверсал Пикчерз, Кикстарт Продакшнз, Марк Пл...   \n",
       "5                               Киностудия \"Мосфильм\"   \n",
       "6                               Киностудия \"Мосфильм\"   \n",
       "7   Юнайтед Артистс, Грин Стрит Филмз, Айкон Интер...   \n",
       "8                      Пульсар Продюксьон, ТФ1 Фильм    \n",
       "9              Киностудия \"Мосфильм\", Телевидение ВНР   \n",
       "10  Кеннеди/Маршал Компани, Юниверсал Пикчерз, Гип...   \n",
       "11                              Киностудия \"Мосфильм\"   \n",
       "12  Уорнер Бразерс, Лейкшор Интертейнмент, Малпасо...   \n",
       "13  Потбойлер Продакшнз, Эпсилон Моушн Пикчерз, Ск...   \n",
       "14  Кэтлей, Отель Продакшнс, Мунстоун Интертейнмен...   \n",
       "15                              Киностудия \"Мосфильм\"   \n",
       "16                              Киностудия \"Мосфильм\"   \n",
       "17                              Киностудия \"Мосфильм\"   \n",
       "18                              Киностудия \"Мосфильм\"   \n",
       "19                              Киностудия \"Мосфильм\"   \n",
       "20                              Киностудия \"Мосфильм\"   \n",
       "21  Инишиэл Интертейнмент Групп, Мирамакс Филмз, П...   \n",
       "22                              Киностудия \"Мосфильм\"   \n",
       "23                              Киностудия \"Мосфильм\"   \n",
       "24                              Киностудия \"Мосфильм\"   \n",
       "25                          Фильмове Студио Баррандов   \n",
       "26  Вэ И Пэ Медиенфондс 3, Асендант Пикчерз, Сатур...   \n",
       "27                              Киностудия \"Мосфильм\"   \n",
       "28            Лайв Сток Филмз, Нью Зиланд Филм Комишн   \n",
       "29                              Киностудия \"Мосфильм\"   \n",
       "\n",
       "         production_country                   director  \\\n",
       "0                       США              Кевин Костнер   \n",
       "1                      СССР                  Е.Матвеев   \n",
       "2                       США          Тимур Бекмамбетов   \n",
       "3                       США          Тимур Бекмамбетов   \n",
       "4                       США          Тимур Бекмамбетов   \n",
       "5                      СССР               В.Абдрашитов   \n",
       "6                      СССР                  В.Меньшов   \n",
       "7                       США              Джон Туртурро   \n",
       "8                   Франция               Эрик Беснард   \n",
       "9             СССР, Венгрия                    В.Титов   \n",
       "10                      США              Пол Грингросс   \n",
       "11                     СССР              М.Туманишвили   \n",
       "12                      США               Клинт Иствуд   \n",
       "13  Германия-Великобритания        Фернанду Мейрелльеш   \n",
       "14  Великобритания - Италия                Майк Фиггис   \n",
       "15                     СССР                 А.Салтыков   \n",
       "16                     СССР                  Г.Данелия   \n",
       "17                     СССР                  А.Смирнов   \n",
       "18                     СССР                  Ю.Чулюкин   \n",
       "19                     СССР  В.Краснопольский, В.Усков   \n",
       "20                     СССР                 М.Чиаурели   \n",
       "21                      США            Лассе Халлстрем   \n",
       "22                     СССР                   Л.Гайдай   \n",
       "23                     СССР                В.Чеботарев   \n",
       "24                     СССР                   В.Азаров   \n",
       "25             Чехословакия              Боривой Земан   \n",
       "26   США - Франция - Турция               Эндрю Никкол   \n",
       "27                     СССР                Г.Мыльников   \n",
       "28           Новая Зеландия              Джонатан Кинг   \n",
       "29                     СССР               В.Абдрашитов   \n",
       "\n",
       "                                             producer  \\\n",
       "0           Дэвид Валдес, Кевин Костнер, Джейк Эбертс   \n",
       "1                                           Е.Матвеев   \n",
       "2   Джим Лемли, Джейсон Нетер, Марк Е.Платт, Яйн Смит   \n",
       "3   Джим Лемли, Джейсон Нетер, Марк Е.Платт, Яйн Смит   \n",
       "4   Джим Лемли, Джейсон Нетер, Марк Е.Платт, Яйн Смит   \n",
       "5                                        В.Абдрашитов   \n",
       "6                                           В.Меньшов   \n",
       "7                         Джон Пенотти, Джон Туртурро   \n",
       "8                                         Патрис Леду   \n",
       "9                                             В.Титов   \n",
       "10         Патрик Кроули, Фрэнк Маршалл, Пол Сэндберг   \n",
       "11                                      М.Туманишвили   \n",
       "12  Клинт Иствуд, Том Розенберг, Альберт С.Рудди, ...   \n",
       "13                             Саймон Чэннинг Уильямс   \n",
       "14                Этчи Стро, Анни Стюарт, Майк Фиггис   \n",
       "15                                         А.Салтыков   \n",
       "16                                          Г.Данелия   \n",
       "17                                          А.Смирнов   \n",
       "18                                          Ю.Чулюкин   \n",
       "19                          В.Краснопольский, В.Усков   \n",
       "20                                         М.Чиаурели   \n",
       "21  Лесли Холлеран, Алан Лэдд мл., Келлиан Лэдд, Х...   \n",
       "22                                           Л.Гайдай   \n",
       "23                                        В.Чеботарев   \n",
       "24                                           В.Азаров   \n",
       "25                                      Боривой Земан   \n",
       "26  Норман Голуайтли, Энди Грош, Николас Кейдж, Эн...   \n",
       "27                                        Г.Мыльников   \n",
       "28                                   Филиппа Кемпбелл   \n",
       "29                                       В.Абдрашитов   \n",
       "\n",
       "                    age_restriction  refundable_support  \\\n",
       "0       «18+» - запрещено для детей                 0.0   \n",
       "1     «6+» - для детей старше 6 лет                 0.0   \n",
       "2       «18+» - запрещено для детей                 0.0   \n",
       "3       «18+» - запрещено для детей                 0.0   \n",
       "4       «18+» - запрещено для детей                 0.0   \n",
       "5     «6+» - для детей старше 6 лет                 0.0   \n",
       "6   «12+» - для детей старше 12 лет                 0.0   \n",
       "7       «18+» - запрещено для детей                 0.0   \n",
       "8       «18+» - запрещено для детей                 0.0   \n",
       "9   «12+» - для детей старше 12 лет                 0.0   \n",
       "10  «16+» - для детей старше 16 лет                 0.0   \n",
       "11  «12+» - для детей старше 12 лет                 0.0   \n",
       "12  «16+» - для детей старше 16 лет                 0.0   \n",
       "13  «16+» - для детей старше 16 лет                 0.0   \n",
       "14      «18+» - запрещено для детей                 0.0   \n",
       "15  «12+» - для детей старше 12 лет                 0.0   \n",
       "16  «12+» - для детей старше 12 лет                 0.0   \n",
       "17  «12+» - для детей старше 12 лет                 0.0   \n",
       "18    «6+» - для детей старше 6 лет                 0.0   \n",
       "19    «6+» - для детей старше 6 лет                 0.0   \n",
       "20  «12+» - для детей старше 12 лет                 0.0   \n",
       "21  «12+» - для детей старше 12 лет                 0.0   \n",
       "22    «6+» - для детей старше 6 лет                 0.0   \n",
       "23  «12+» - для детей старше 12 лет                 0.0   \n",
       "24    «6+» - для детей старше 6 лет                 0.0   \n",
       "25  «12+» - для детей старше 12 лет                 0.0   \n",
       "26      «18+» - запрещено для детей                 0.0   \n",
       "27    «6+» - для детей старше 6 лет                 0.0   \n",
       "28      «18+» - запрещено для детей                 0.0   \n",
       "29  «16+» - для детей старше 16 лет                 0.0   \n",
       "\n",
       "    nonrefundable_support  budget financing_source  ratings  \\\n",
       "0                     0.0     0.0     Коммерческий      7.2   \n",
       "1                     0.0     0.0     Коммерческий      6.6   \n",
       "2                     0.0     0.0     Коммерческий      6.8   \n",
       "3                     0.0     0.0     Коммерческий      6.8   \n",
       "4                     0.0     0.0     Коммерческий      6.8   \n",
       "5                     0.0     0.0     Коммерческий      7.7   \n",
       "6                     0.0     0.0     Коммерческий      8.3   \n",
       "7                     0.0     0.0     Коммерческий      6.6   \n",
       "8                     0.0     0.0     Коммерческий      8.0   \n",
       "9                     0.0     0.0     Коммерческий      7.8   \n",
       "10                    0.0     0.0     Коммерческий      7.7   \n",
       "11                    0.0     0.0     Коммерческий      7.8   \n",
       "12                    0.0     0.0     Коммерческий      8.1   \n",
       "13                    0.0     0.0     Коммерческий      7.1   \n",
       "14                    0.0     0.0     Коммерческий      6.0   \n",
       "15                    0.0     0.0     Коммерческий      8.3   \n",
       "16                    0.0     0.0     Коммерческий      8.0   \n",
       "17                    0.0     0.0     Коммерческий      7.4   \n",
       "18                    0.0     0.0     Коммерческий      8.0   \n",
       "19                    0.0     0.0     Коммерческий      7.7   \n",
       "20                    0.0     0.0     Коммерческий      5.8   \n",
       "21                    0.0     0.0     Коммерческий      7.2   \n",
       "22                    0.0     0.0     Коммерческий      8.7   \n",
       "23                    0.0     0.0     Коммерческий      6.3   \n",
       "24                    0.0     0.0     Коммерческий      7.7   \n",
       "25                    0.0     0.0     Коммерческий      7.7   \n",
       "26                    0.0     0.0     Коммерческий      7.7   \n",
       "27                    0.0     0.0     Коммерческий      6.9   \n",
       "28                    0.0     0.0     Коммерческий      5.0   \n",
       "29                    0.0     0.0     Коммерческий      6.9   \n",
       "\n",
       "                        genres  box_office  god_nachala_show  \\\n",
       "0       боевик,драма,мелодрама         0.0              2015   \n",
       "1                драма,военный         0.0              2016   \n",
       "2    фантастика,боевик,триллер         0.0              2016   \n",
       "3    фантастика,боевик,триллер         0.0              2016   \n",
       "4    фантастика,боевик,триллер         0.0              2015   \n",
       "5                        драма         0.0              2016   \n",
       "6            мелодрама,комедия      2700.0              2013   \n",
       "7     мюзикл,мелодрама,комедия         0.0              2014   \n",
       "8             комедия,криминал         0.0              2016   \n",
       "9            мелодрама,комедия         0.0              2014   \n",
       "10     боевик,триллер,детектив         0.0              2016   \n",
       "11    боевик,драма,приключения         0.0              2014   \n",
       "12                 драма,спорт         0.0              2015   \n",
       "13     триллер,драма,мелодрама         0.0              2013   \n",
       "14           комедия,мелодрама         0.0              2012   \n",
       "15                       драма         0.0              2016   \n",
       "16     драма,мелодрама,комедия         0.0              2013   \n",
       "17             драма,мелодрама         0.0              2014   \n",
       "18           мелодрама,комедия       360.0              2016   \n",
       "19                       драма       420.0              2016   \n",
       "20               драма,история         0.0              2016   \n",
       "21    драма,мелодрама,семейный         0.0              2015   \n",
       "22  комедия,мелодрама,криминал       380.0              2013   \n",
       "23               драма,военный         0.0              2016   \n",
       "24                     комедия         0.0              2016   \n",
       "25                     комедия         0.0              2014   \n",
       "26       боевик,драма,криминал         0.0              2015   \n",
       "27               драма,комедия         0.0              2014   \n",
       "28    ужасы,фантастика,комедия         0.0              2015   \n",
       "29                       драма         0.0              2016   \n",
       "\n",
       "      osnovnoj_director osnovnoj_genres  procent_gospodderzhki  \n",
       "0         Кевин Костнер          боевик                    NaN  \n",
       "1             Е.Матвеев           драма                    NaN  \n",
       "2     Тимур Бекмамбетов      фантастика                    NaN  \n",
       "3     Тимур Бекмамбетов      фантастика                    NaN  \n",
       "4     Тимур Бекмамбетов      фантастика                    NaN  \n",
       "5          В.Абдрашитов           драма                    NaN  \n",
       "6             В.Меньшов       мелодрама                    NaN  \n",
       "7         Джон Туртурро          мюзикл                    NaN  \n",
       "8          Эрик Беснард         комедия                    NaN  \n",
       "9               В.Титов       мелодрама                    NaN  \n",
       "10        Пол Грингросс          боевик                    NaN  \n",
       "11        М.Туманишвили          боевик                    NaN  \n",
       "12         Клинт Иствуд           драма                    NaN  \n",
       "13  Фернанду Мейрелльеш         триллер                    NaN  \n",
       "14          Майк Фиггис         комедия                    NaN  \n",
       "15           А.Салтыков           драма                    NaN  \n",
       "16            Г.Данелия           драма                    NaN  \n",
       "17            А.Смирнов           драма                    NaN  \n",
       "18            Ю.Чулюкин       мелодрама                    NaN  \n",
       "19     В.Краснопольский           драма                    NaN  \n",
       "20           М.Чиаурели           драма                    NaN  \n",
       "21      Лассе Халлстрем           драма                    NaN  \n",
       "22             Л.Гайдай         комедия                    NaN  \n",
       "23          В.Чеботарев           драма                    NaN  \n",
       "24             В.Азаров         комедия                    NaN  \n",
       "25        Боривой Земан         комедия                    NaN  \n",
       "26         Эндрю Никкол          боевик                    NaN  \n",
       "27          Г.Мыльников           драма                    NaN  \n",
       "28        Джонатан Кинг           ужасы                    NaN  \n",
       "29         В.Абдрашитов           драма                    NaN  "
      ]
     },
     "execution_count": 54,
     "metadata": {},
     "output_type": "execute_result"
    }
   ],
   "source": [
    "data['procent_gospodderzhki'] = round(data.eval('(refundable_support + nonrefundable_support) / budget') * 100, 2)\n",
    "data.query('budget == 0').head(30) "
   ]
  },
  {
   "cell_type": "code",
   "execution_count": 55,
   "metadata": {
    "scrolled": true
   },
   "outputs": [
    {
     "data": {
      "text/plain": [
       "title                       0\n",
       "puNumber                    0\n",
       "show_start_date             0\n",
       "type                        0\n",
       "film_studio                 0\n",
       "production_country          0\n",
       "director                    0\n",
       "producer                    0\n",
       "age_restriction             0\n",
       "refundable_support          0\n",
       "nonrefundable_support       0\n",
       "budget                      0\n",
       "financing_source            0\n",
       "ratings                   966\n",
       "genres                      0\n",
       "box_office                  0\n",
       "god_nachala_show            0\n",
       "osnovnoj_director           0\n",
       "osnovnoj_genres             0\n",
       "procent_gospodderzhki    7153\n",
       "dtype: int64"
      ]
     },
     "execution_count": 55,
     "metadata": {},
     "output_type": "execute_result"
    }
   ],
   "source": [
    "data.isna().sum()"
   ]
  },
  {
   "cell_type": "code",
   "execution_count": 56,
   "metadata": {},
   "outputs": [
    {
     "data": {
      "text/html": [
       "<div>\n",
       "<style scoped>\n",
       "    .dataframe tbody tr th:only-of-type {\n",
       "        vertical-align: middle;\n",
       "    }\n",
       "\n",
       "    .dataframe tbody tr th {\n",
       "        vertical-align: top;\n",
       "    }\n",
       "\n",
       "    .dataframe thead th {\n",
       "        text-align: right;\n",
       "    }\n",
       "</style>\n",
       "<table border=\"1\" class=\"dataframe\">\n",
       "  <thead>\n",
       "    <tr style=\"text-align: right;\">\n",
       "      <th></th>\n",
       "      <th>title</th>\n",
       "      <th>puNumber</th>\n",
       "      <th>show_start_date</th>\n",
       "      <th>type</th>\n",
       "      <th>film_studio</th>\n",
       "      <th>production_country</th>\n",
       "      <th>director</th>\n",
       "      <th>producer</th>\n",
       "      <th>age_restriction</th>\n",
       "      <th>refundable_support</th>\n",
       "      <th>nonrefundable_support</th>\n",
       "      <th>budget</th>\n",
       "      <th>financing_source</th>\n",
       "      <th>ratings</th>\n",
       "      <th>genres</th>\n",
       "      <th>box_office</th>\n",
       "      <th>god_nachala_show</th>\n",
       "      <th>osnovnoj_director</th>\n",
       "      <th>osnovnoj_genres</th>\n",
       "      <th>procent_gospodderzhki</th>\n",
       "    </tr>\n",
       "  </thead>\n",
       "  <tbody>\n",
       "    <tr>\n",
       "      <th>1281</th>\n",
       "      <td>Пока еще жива</td>\n",
       "      <td>111005313</td>\n",
       "      <td>2013-10-11 12:00:00+00:00</td>\n",
       "      <td>Художественный</td>\n",
       "      <td>АНО содействия развитию кинематографии \"Ангел-...</td>\n",
       "      <td>Россия</td>\n",
       "      <td>А.Атанесян</td>\n",
       "      <td>А.Атанесян, М.Бабаханов, Р.Бутко</td>\n",
       "      <td>«16+» - для детей старше 16 лет</td>\n",
       "      <td>0.0</td>\n",
       "      <td>26500000.0</td>\n",
       "      <td>79411900.0</td>\n",
       "      <td>Министерство культуры</td>\n",
       "      <td>8.1</td>\n",
       "      <td>драма,мелодрама</td>\n",
       "      <td>365353.6</td>\n",
       "      <td>2013</td>\n",
       "      <td>А.Атанесян</td>\n",
       "      <td>драма</td>\n",
       "      <td>33.37</td>\n",
       "    </tr>\n",
       "    <tr>\n",
       "      <th>1448</th>\n",
       "      <td>Бесславные придурки</td>\n",
       "      <td>111003314</td>\n",
       "      <td>2014-03-28 12:00:00+00:00</td>\n",
       "      <td>Художественный</td>\n",
       "      <td>ООО \"Компания \"АТК-Студио\"</td>\n",
       "      <td>Россия</td>\n",
       "      <td>А.Якимчук</td>\n",
       "      <td>А.Тютрюмов</td>\n",
       "      <td>«12+» - для детей старше 12 лет</td>\n",
       "      <td>0.0</td>\n",
       "      <td>26000000.0</td>\n",
       "      <td>37142857.0</td>\n",
       "      <td>Министерство культуры</td>\n",
       "      <td>NaN</td>\n",
       "      <td>Без жанра</td>\n",
       "      <td>28140.0</td>\n",
       "      <td>2014</td>\n",
       "      <td>А.Якимчук</td>\n",
       "      <td>Без жанра</td>\n",
       "      <td>70.00</td>\n",
       "    </tr>\n",
       "    <tr>\n",
       "      <th>1498</th>\n",
       "      <td>Невидимки</td>\n",
       "      <td>111004213</td>\n",
       "      <td>2013-09-10 12:00:00+00:00</td>\n",
       "      <td>Художественный</td>\n",
       "      <td>ООО \"Компания \"РЕАЛ-ДАКОТА\"</td>\n",
       "      <td>Россия</td>\n",
       "      <td>Р.Давлетьяров, С.Комаров</td>\n",
       "      <td>Р.Давлетьяров, А.Котелевский, А.Олейников</td>\n",
       "      <td>«12+» - для детей старше 12 лет</td>\n",
       "      <td>0.0</td>\n",
       "      <td>107847945.0</td>\n",
       "      <td>176023490.0</td>\n",
       "      <td>Фонд кино</td>\n",
       "      <td>5.3</td>\n",
       "      <td>комедия,фантастика</td>\n",
       "      <td>19957031.5</td>\n",
       "      <td>2013</td>\n",
       "      <td>Р.Давлетьяров</td>\n",
       "      <td>комедия</td>\n",
       "      <td>61.27</td>\n",
       "    </tr>\n",
       "    <tr>\n",
       "      <th>1524</th>\n",
       "      <td>БЕРЦЫ</td>\n",
       "      <td>111004314</td>\n",
       "      <td>2014-05-05 12:00:00+00:00</td>\n",
       "      <td>Художественный</td>\n",
       "      <td>ООО \"Студия \"Пассажир\"</td>\n",
       "      <td>Россия</td>\n",
       "      <td>Е.Миндадзе (псевдоним Катя Шагалова)</td>\n",
       "      <td>Л.Антонова</td>\n",
       "      <td>«16+» - для детей старше 16 лет</td>\n",
       "      <td>0.0</td>\n",
       "      <td>28000000.0</td>\n",
       "      <td>40574140.0</td>\n",
       "      <td>Министерство культуры</td>\n",
       "      <td>4.2</td>\n",
       "      <td>драма</td>\n",
       "      <td>55917.5</td>\n",
       "      <td>2014</td>\n",
       "      <td>Е.Миндадзе (псевдоним Катя Шагалова)</td>\n",
       "      <td>драма</td>\n",
       "      <td>69.01</td>\n",
       "    </tr>\n",
       "    <tr>\n",
       "      <th>1792</th>\n",
       "      <td>Братья Ч</td>\n",
       "      <td>111004414</td>\n",
       "      <td>2014-04-23 12:00:00+00:00</td>\n",
       "      <td>Художественный</td>\n",
       "      <td>ООО \"Студия \"Пассажир\"</td>\n",
       "      <td>Россия</td>\n",
       "      <td>М.Угаров</td>\n",
       "      <td>А.Миндадзе, Л.Антонова</td>\n",
       "      <td>«16+» - для детей старше 16 лет</td>\n",
       "      <td>0.0</td>\n",
       "      <td>25000000.0</td>\n",
       "      <td>40015122.0</td>\n",
       "      <td>Министерство культуры</td>\n",
       "      <td>6.4</td>\n",
       "      <td>драма</td>\n",
       "      <td>232100.0</td>\n",
       "      <td>2014</td>\n",
       "      <td>М.Угаров</td>\n",
       "      <td>драма</td>\n",
       "      <td>62.48</td>\n",
       "    </tr>\n",
       "  </tbody>\n",
       "</table>\n",
       "</div>"
      ],
      "text/plain": [
       "                    title   puNumber           show_start_date  \\\n",
       "1281        Пока еще жива  111005313 2013-10-11 12:00:00+00:00   \n",
       "1448  Бесславные придурки  111003314 2014-03-28 12:00:00+00:00   \n",
       "1498            Невидимки  111004213 2013-09-10 12:00:00+00:00   \n",
       "1524                БЕРЦЫ  111004314 2014-05-05 12:00:00+00:00   \n",
       "1792             Братья Ч  111004414 2014-04-23 12:00:00+00:00   \n",
       "\n",
       "                type                                        film_studio  \\\n",
       "1281  Художественный  АНО содействия развитию кинематографии \"Ангел-...   \n",
       "1448  Художественный                         ООО \"Компания \"АТК-Студио\"   \n",
       "1498  Художественный                        ООО \"Компания \"РЕАЛ-ДАКОТА\"   \n",
       "1524  Художественный                             ООО \"Студия \"Пассажир\"   \n",
       "1792  Художественный                             ООО \"Студия \"Пассажир\"   \n",
       "\n",
       "     production_country                              director  \\\n",
       "1281             Россия                            А.Атанесян   \n",
       "1448             Россия                             А.Якимчук   \n",
       "1498             Россия              Р.Давлетьяров, С.Комаров   \n",
       "1524             Россия  Е.Миндадзе (псевдоним Катя Шагалова)   \n",
       "1792             Россия                              М.Угаров   \n",
       "\n",
       "                                       producer  \\\n",
       "1281           А.Атанесян, М.Бабаханов, Р.Бутко   \n",
       "1448                                 А.Тютрюмов   \n",
       "1498  Р.Давлетьяров, А.Котелевский, А.Олейников   \n",
       "1524                                 Л.Антонова   \n",
       "1792                     А.Миндадзе, Л.Антонова   \n",
       "\n",
       "                      age_restriction  refundable_support  \\\n",
       "1281  «16+» - для детей старше 16 лет                 0.0   \n",
       "1448  «12+» - для детей старше 12 лет                 0.0   \n",
       "1498  «12+» - для детей старше 12 лет                 0.0   \n",
       "1524  «16+» - для детей старше 16 лет                 0.0   \n",
       "1792  «16+» - для детей старше 16 лет                 0.0   \n",
       "\n",
       "      nonrefundable_support       budget       financing_source  ratings  \\\n",
       "1281             26500000.0   79411900.0  Министерство культуры      8.1   \n",
       "1448             26000000.0   37142857.0  Министерство культуры      NaN   \n",
       "1498            107847945.0  176023490.0              Фонд кино      5.3   \n",
       "1524             28000000.0   40574140.0  Министерство культуры      4.2   \n",
       "1792             25000000.0   40015122.0  Министерство культуры      6.4   \n",
       "\n",
       "                  genres  box_office  god_nachala_show  \\\n",
       "1281     драма,мелодрама    365353.6              2013   \n",
       "1448           Без жанра     28140.0              2014   \n",
       "1498  комедия,фантастика  19957031.5              2013   \n",
       "1524               драма     55917.5              2014   \n",
       "1792               драма    232100.0              2014   \n",
       "\n",
       "                         osnovnoj_director osnovnoj_genres  \\\n",
       "1281                            А.Атанесян           драма   \n",
       "1448                             А.Якимчук       Без жанра   \n",
       "1498                         Р.Давлетьяров         комедия   \n",
       "1524  Е.Миндадзе (псевдоним Катя Шагалова)           драма   \n",
       "1792                              М.Угаров           драма   \n",
       "\n",
       "      procent_gospodderzhki  \n",
       "1281                  33.37  \n",
       "1448                  70.00  \n",
       "1498                  61.27  \n",
       "1524                  69.01  \n",
       "1792                  62.48  "
      ]
     },
     "execution_count": 56,
     "metadata": {},
     "output_type": "execute_result"
    }
   ],
   "source": [
    "data.query('budget > 0').head()"
   ]
  },
  {
   "cell_type": "code",
   "execution_count": 57,
   "metadata": {},
   "outputs": [],
   "source": [
    "#нули заполнились как пропуски, заменим их на 0\n",
    "data['procent_gospodderzhki'] = data['procent_gospodderzhki'].fillna(0)"
   ]
  },
  {
   "cell_type": "code",
   "execution_count": 58,
   "metadata": {},
   "outputs": [
    {
     "data": {
      "text/plain": [
       "title                      0\n",
       "puNumber                   0\n",
       "show_start_date            0\n",
       "type                       0\n",
       "film_studio                0\n",
       "production_country         0\n",
       "director                   0\n",
       "producer                   0\n",
       "age_restriction            0\n",
       "refundable_support         0\n",
       "nonrefundable_support      0\n",
       "budget                     0\n",
       "financing_source           0\n",
       "ratings                  966\n",
       "genres                     0\n",
       "box_office                 0\n",
       "god_nachala_show           0\n",
       "osnovnoj_director          0\n",
       "osnovnoj_genres            0\n",
       "procent_gospodderzhki      0\n",
       "dtype: int64"
      ]
     },
     "execution_count": 58,
     "metadata": {},
     "output_type": "execute_result"
    }
   ],
   "source": [
    "data.isna().sum()"
   ]
  },
  {
   "cell_type": "markdown",
   "metadata": {},
   "source": [
    "###### Итог предобработки\n",
    "\n",
    "    1.Объединили две таблицы в одну\n",
    "    2.Привели raitings к общему формату\n",
    "    3.Привели show_strat_date к формату datetime\n",
    "    4.Заменили пропуски в film_studio на 'Без Студии'\n",
    "    5.Заменили пропуски в production_country на 'Без страны'\n",
    "    6.Заменили пропуски в genres на 'Без жанра'\n",
    "    7.Заменили пропуски в refundable_support,nonrefundable_support,box_office,budget на 0\n",
    "    8.Заменили пропуски в financing_source на 'Коммерческий'\n",
    "    9.Заполнили пропуски в director на Без режесёра\n",
    "    10.Заполнили пропуски в producer на Без продюсера\n",
    "    11.Были убраны пробелы в type\n",
    "    12.Были созданы столбцы god_nachala_show, osnovnoj_director, osnovnoj_genres, procent_gospodderzhki"
   ]
  },
  {
   "cell_type": "markdown",
   "metadata": {
    "id": "6t4EukPLgFyV"
   },
   "source": [
    "### Исследовательский анализ данных\n"
   ]
  },
  {
   "cell_type": "markdown",
   "metadata": {
    "id": "vAH8WCzugFyV"
   },
   "source": [
    "- Посмотрим, сколько фильмов выходило в прокат каждый год."
   ]
  },
  {
   "cell_type": "code",
   "execution_count": 59,
   "metadata": {
    "id": "ABeV47y7gFyW"
   },
   "outputs": [
    {
     "data": {
      "text/html": [
       "<div>\n",
       "<style scoped>\n",
       "    .dataframe tbody tr th:only-of-type {\n",
       "        vertical-align: middle;\n",
       "    }\n",
       "\n",
       "    .dataframe tbody tr th {\n",
       "        vertical-align: top;\n",
       "    }\n",
       "\n",
       "    .dataframe thead th {\n",
       "        text-align: right;\n",
       "    }\n",
       "</style>\n",
       "<table border=\"1\" class=\"dataframe\">\n",
       "  <thead>\n",
       "    <tr style=\"text-align: right;\">\n",
       "      <th></th>\n",
       "      <th>Вышло в прокат</th>\n",
       "      <th>За год</th>\n",
       "      <th>Процент</th>\n",
       "    </tr>\n",
       "    <tr>\n",
       "      <th>god_nachala_show</th>\n",
       "      <th></th>\n",
       "      <th></th>\n",
       "      <th></th>\n",
       "    </tr>\n",
       "  </thead>\n",
       "  <tbody>\n",
       "    <tr>\n",
       "      <th>2010</th>\n",
       "      <td>101</td>\n",
       "      <td>985</td>\n",
       "      <td>10.253807</td>\n",
       "    </tr>\n",
       "    <tr>\n",
       "      <th>2011</th>\n",
       "      <td>109</td>\n",
       "      <td>622</td>\n",
       "      <td>17.524116</td>\n",
       "    </tr>\n",
       "    <tr>\n",
       "      <th>2012</th>\n",
       "      <td>123</td>\n",
       "      <td>593</td>\n",
       "      <td>20.741990</td>\n",
       "    </tr>\n",
       "    <tr>\n",
       "      <th>2013</th>\n",
       "      <td>179</td>\n",
       "      <td>630</td>\n",
       "      <td>28.412698</td>\n",
       "    </tr>\n",
       "    <tr>\n",
       "      <th>2014</th>\n",
       "      <td>273</td>\n",
       "      <td>806</td>\n",
       "      <td>33.870968</td>\n",
       "    </tr>\n",
       "    <tr>\n",
       "      <th>2015</th>\n",
       "      <td>462</td>\n",
       "      <td>705</td>\n",
       "      <td>65.531915</td>\n",
       "    </tr>\n",
       "    <tr>\n",
       "      <th>2016</th>\n",
       "      <td>525</td>\n",
       "      <td>818</td>\n",
       "      <td>64.180929</td>\n",
       "    </tr>\n",
       "    <tr>\n",
       "      <th>2017</th>\n",
       "      <td>357</td>\n",
       "      <td>505</td>\n",
       "      <td>70.693069</td>\n",
       "    </tr>\n",
       "    <tr>\n",
       "      <th>2018</th>\n",
       "      <td>475</td>\n",
       "      <td>891</td>\n",
       "      <td>53.310887</td>\n",
       "    </tr>\n",
       "    <tr>\n",
       "      <th>2019</th>\n",
       "      <td>530</td>\n",
       "      <td>930</td>\n",
       "      <td>56.989247</td>\n",
       "    </tr>\n",
       "  </tbody>\n",
       "</table>\n",
       "</div>"
      ],
      "text/plain": [
       "                  Вышло в прокат  За год    Процент\n",
       "god_nachala_show                                   \n",
       "2010                         101     985  10.253807\n",
       "2011                         109     622  17.524116\n",
       "2012                         123     593  20.741990\n",
       "2013                         179     630  28.412698\n",
       "2014                         273     806  33.870968\n",
       "2015                         462     705  65.531915\n",
       "2016                         525     818  64.180929\n",
       "2017                         357     505  70.693069\n",
       "2018                         475     891  53.310887\n",
       "2019                         530     930  56.989247"
      ]
     },
     "metadata": {},
     "output_type": "display_data"
    }
   ],
   "source": [
    "data_new = data.query('box_office > 0').pivot_table(index='god_nachala_show', values='box_office', aggfunc=['count', 'sum', 'mean', 'median'])\n",
    "data_new = data_new.set_axis(['Вышло в прокат', 'Сумма', 'Среднее', 'Медиана'], axis='columns')\n",
    "data_new['За год'] = data.pivot_table(index='god_nachala_show', values='box_office', aggfunc='count')['box_office']\n",
    "data_new['Процент'] = data_new['Вышло в прокат'] / data_new['За год']  * 100\n",
    "display(data_new.loc[:, ['Вышло в прокат', 'За год', 'Процент']])"
   ]
  },
  {
   "cell_type": "markdown",
   "metadata": {},
   "source": [
    "Получается с 2010 по 2019 стали выпускать больше фильмов и намного больше стало выходить в прокат."
   ]
  },
  {
   "cell_type": "markdown",
   "metadata": {
    "id": "BEOdcIrIgFyW"
   },
   "source": [
    "- Изучим, как менялась динамика проката по годам. В каком году сумма сборов была минимальной? А максимальной?"
   ]
  },
  {
   "cell_type": "code",
   "execution_count": 79,
   "metadata": {
    "id": "tfEhofYvgFyX"
   },
   "outputs": [
    {
     "data": {
      "image/png": "[encoded data removed]",
      "text/plain": [
       "<Figure size 1152x504 with 1 Axes>"
      ]
     },
     "metadata": {
      "needs_background": "light"
     },
     "output_type": "display_data"
    }
   ],
   "source": [
    "data_new.plot(kind = 'bar', y = 'Вышло в прокат', figsize = (16,7), grid = True, legend = False, title = 'Количество фильмов 2010 - 2019', alpha = 0.5);\n",
    "plt.ylabel('Количество фильмов')\n",
    "plt.xlabel('Год')\n",
    "plt.show()"
   ]
  },
  {
   "cell_type": "markdown",
   "metadata": {},
   "source": [
    "##### Итого:\n",
    "Имеет место рост количества фильмов с 2010 года по 2016, в 2017 был спад и далее начаялся новый рост с 2017 по 2019.\n",
    "\n",
    "Минимальные сборы были в 2010 году, максимальные в 2016 и 2019.\n",
    "\n",
    "Время идёт, идей всё больше и больше, а следовательно и количество фильмов растёт"
   ]
  },
  {
   "cell_type": "markdown",
   "metadata": {},
   "source": [
    "##### Посмотрим долю прокатных фильмов"
   ]
  },
  {
   "cell_type": "code",
   "execution_count": 61,
   "metadata": {},
   "outputs": [
    {
     "data": {
      "text/plain": [
       "41.87"
      ]
     },
     "metadata": {},
     "output_type": "display_data"
    }
   ],
   "source": [
    "display(round(data.query('box_office>0')['box_office'].count()/data['box_office'].count()*100, 2))"
   ]
  },
  {
   "cell_type": "markdown",
   "metadata": {},
   "source": [
    "Доля прокатных фильмов составляет 41,87%, почти половина."
   ]
  },
  {
   "cell_type": "markdown",
   "metadata": {},
   "source": [
    "##### Теперь посмотрим на динамику проката в разрезе 9 лет"
   ]
  },
  {
   "cell_type": "code",
   "execution_count": 80,
   "metadata": {},
   "outputs": [
    {
     "data": {
      "image/png": "[encoded data removed]",
      "text/plain": [
       "<Figure size 720x720 with 1 Axes>"
      ]
     },
     "metadata": {
      "needs_background": "light"
     },
     "output_type": "display_data"
    }
   ],
   "source": [
    "data_new.plot(kind = 'line', y = 'Сумма', figsize = (10,10), legend = False, title = 'Динамика проката 2010-2019', grid = True)\n",
    "plt.ylabel('Сборы')\n",
    "plt.xlabel('Год')\n",
    "plt.show()"
   ]
  },
  {
   "cell_type": "markdown",
   "metadata": {},
   "source": [
    "##### Итог:\n",
    "Практически пропорционально росту числа фильмов, за минусом спада в 2017.\n",
    "\n",
    "Минимальные сборы в 2010 и 2012, пик прищёлся на 2018 год\n",
    "\n"
   ]
  },
  {
   "cell_type": "markdown",
   "metadata": {
    "id": "G-7qS-N-gFyY"
   },
   "source": [
    "- С помощью сводной таблицы посчитаем среднюю и медианную сумму сборов для каждого года."
   ]
  },
  {
   "cell_type": "code",
   "execution_count": 63,
   "metadata": {
    "id": "jmp-rgg9gFyY"
   },
   "outputs": [
    {
     "data": {
      "text/html": [
       "<div>\n",
       "<style scoped>\n",
       "    .dataframe tbody tr th:only-of-type {\n",
       "        vertical-align: middle;\n",
       "    }\n",
       "\n",
       "    .dataframe tbody tr th {\n",
       "        vertical-align: top;\n",
       "    }\n",
       "\n",
       "    .dataframe thead th {\n",
       "        text-align: right;\n",
       "    }\n",
       "</style>\n",
       "<table border=\"1\" class=\"dataframe\">\n",
       "  <thead>\n",
       "    <tr style=\"text-align: right;\">\n",
       "      <th></th>\n",
       "      <th>Среднее</th>\n",
       "      <th>Медиана</th>\n",
       "    </tr>\n",
       "    <tr>\n",
       "      <th>god_nachala_show</th>\n",
       "      <th></th>\n",
       "      <th></th>\n",
       "    </tr>\n",
       "  </thead>\n",
       "  <tbody>\n",
       "    <tr>\n",
       "      <th>2010</th>\n",
       "      <td>2.404608e+04</td>\n",
       "      <td>1710.000</td>\n",
       "    </tr>\n",
       "    <tr>\n",
       "      <th>2011</th>\n",
       "      <td>1.293832e+05</td>\n",
       "      <td>3000.000</td>\n",
       "    </tr>\n",
       "    <tr>\n",
       "      <th>2012</th>\n",
       "      <td>5.654815e+04</td>\n",
       "      <td>6220.000</td>\n",
       "    </tr>\n",
       "    <tr>\n",
       "      <th>2013</th>\n",
       "      <td>1.664788e+05</td>\n",
       "      <td>3580.000</td>\n",
       "    </tr>\n",
       "    <tr>\n",
       "      <th>2014</th>\n",
       "      <td>2.727089e+07</td>\n",
       "      <td>20400.000</td>\n",
       "    </tr>\n",
       "    <tr>\n",
       "      <th>2015</th>\n",
       "      <td>8.549213e+07</td>\n",
       "      <td>5003450.150</td>\n",
       "    </tr>\n",
       "    <tr>\n",
       "      <th>2016</th>\n",
       "      <td>9.117390e+07</td>\n",
       "      <td>3915041.020</td>\n",
       "    </tr>\n",
       "    <tr>\n",
       "      <th>2017</th>\n",
       "      <td>1.360328e+08</td>\n",
       "      <td>9968340.000</td>\n",
       "    </tr>\n",
       "    <tr>\n",
       "      <th>2018</th>\n",
       "      <td>1.045651e+08</td>\n",
       "      <td>8891102.210</td>\n",
       "    </tr>\n",
       "    <tr>\n",
       "      <th>2019</th>\n",
       "      <td>9.136926e+07</td>\n",
       "      <td>4627798.345</td>\n",
       "    </tr>\n",
       "  </tbody>\n",
       "</table>\n",
       "</div>"
      ],
      "text/plain": [
       "                       Среднее      Медиана\n",
       "god_nachala_show                           \n",
       "2010              2.404608e+04     1710.000\n",
       "2011              1.293832e+05     3000.000\n",
       "2012              5.654815e+04     6220.000\n",
       "2013              1.664788e+05     3580.000\n",
       "2014              2.727089e+07    20400.000\n",
       "2015              8.549213e+07  5003450.150\n",
       "2016              9.117390e+07  3915041.020\n",
       "2017              1.360328e+08  9968340.000\n",
       "2018              1.045651e+08  8891102.210\n",
       "2019              9.136926e+07  4627798.345"
      ]
     },
     "metadata": {},
     "output_type": "display_data"
    }
   ],
   "source": [
    "display(data_new.loc[:, ['Среднее', 'Медиана']])"
   ]
  },
  {
   "cell_type": "markdown",
   "metadata": {},
   "source": [
    "В табличке не очень наглядно, сделаем графическое решение:"
   ]
  },
  {
   "cell_type": "code",
   "execution_count": 81,
   "metadata": {},
   "outputs": [
    {
     "data": {
      "image/png": "[encoded data removed]",
      "text/plain": [
       "<Figure size 1080x720 with 1 Axes>"
      ]
     },
     "metadata": {
      "needs_background": "light"
     },
     "output_type": "display_data"
    }
   ],
   "source": [
    "data_new.plot(kind = 'line', y = ['Среднее', 'Медиана'], figsize = (15,10), legend = True, title = 'Средняя и медианная сумма сборов 2010-2019', color=['purple','blue'])\n",
    "plt.ylabel('Сборы')\n",
    "plt.xlabel('Год')\n",
    "plt.show()"
   ]
  },
  {
   "cell_type": "markdown",
   "metadata": {},
   "source": [
    "##### Итог:\n",
    "Получается, что в среднем, сборы увеличелись, однако медиана осталась почти неа том же уровне"
   ]
  },
  {
   "cell_type": "markdown",
   "metadata": {
    "id": "Ok89WFwJgFyZ"
   },
   "source": [
    "- Определим, влияет ли возрастное ограничение аудитории («6+», «12+», «16+», «18+» и т. д.) на сборы фильма в прокате в период с 2015 по 2019 год? Фильмы с каким возрастным ограничением собрали больше всего денег в прокате? Меняется ли картина в зависимости от года?"
   ]
  },
  {
   "cell_type": "markdown",
   "metadata": {
    "id": "jsSbEqfjgFya"
   },
   "source": [
    "Давайие посмотрим на возрастные категории и нарисуем график для наглядности"
   ]
  },
  {
   "cell_type": "code",
   "execution_count": 111,
   "metadata": {
    "scrolled": true
   },
   "outputs": [
    {
     "data": {
      "text/plain": [
       "<function matplotlib.pyplot.show(close=None, block=None)>"
      ]
     },
     "execution_count": 111,
     "metadata": {},
     "output_type": "execute_result"
    },
    {
     "data": {
      "image/png": "[encoded data removed]",
      "text/plain": [
       "<Figure size 1080x504 with 1 Axes>"
      ]
     },
     "metadata": {
      "needs_background": "light"
     },
     "output_type": "display_data"
    }
   ],
   "source": [
    "data_vozrast = data.query('box_office > 0').pivot_table(index='god_nachala_show', columns='age_restriction', values='box_office', aggfunc='sum')\n",
    "\n",
    "(data_vozrast.plot(kind='line', xlim=[2015, 2019], figsize=(15, 7), grid=True,legend=True, title = 'Динамика возрастных категорий 2015-2019'))\n",
    "plt.legend(bbox_to_anchor =(0.75, 1.2), ncol = 2) #внутри граффика нигде не понравилось расположение, вынес сверху над оным, надеюсь - это не ошибка\n",
    "plt.ylabel('Сборы')\n",
    "plt.xlabel('Год')\n",
    "plt.show"
   ]
  },
  {
   "cell_type": "markdown",
   "metadata": {},
   "source": [
    "##### Заметили следущее: \n",
    "    \n",
    "    1. Подростковое кино начало приносить меньше(16+)\n",
    "    2. Кино для детей 12+ приносило хорошо, потом в 2017 была просадка(посмотрел афишу на 2017 год, не смог определить причину просадки, может популяризация Тик Тока?) и к 2019 всё стабилизировалось\n",
    "    3. А вот кино 6+ начало приносить больше в 2019 по сравнению с 2019\n",
    "    4. Кино 18+ имеет стабильный рост\n",
    "    5. Кино без возрастных ограничений с 2015 по 2019 приносит стабильно мало по сравнению с остальными категориями, я подозреваю, что в связи с вводам ценза по возрасту картин с категорией 0+ просто мало, поскольку только появляется намёк на какое-нибудь насилие(например) и тут же возрастной рейтинг взлетает до 16+\n",
    "    \n",
    "Посмотрим поближе на цифры    "
   ]
  },
  {
   "cell_type": "code",
   "execution_count": 66,
   "metadata": {
    "scrolled": true
   },
   "outputs": [
    {
     "data": {
      "text/html": [
       "<div>\n",
       "<style scoped>\n",
       "    .dataframe tbody tr th:only-of-type {\n",
       "        vertical-align: middle;\n",
       "    }\n",
       "\n",
       "    .dataframe tbody tr th {\n",
       "        vertical-align: top;\n",
       "    }\n",
       "\n",
       "    .dataframe thead th {\n",
       "        text-align: right;\n",
       "    }\n",
       "</style>\n",
       "<table border=\"1\" class=\"dataframe\">\n",
       "  <thead>\n",
       "    <tr style=\"text-align: right;\">\n",
       "      <th>age_restriction</th>\n",
       "      <th>«0+» - для любой зрительской аудитории</th>\n",
       "      <th>«12+» - для детей старше 12 лет</th>\n",
       "      <th>«16+» - для детей старше 16 лет</th>\n",
       "      <th>«18+» - запрещено для детей</th>\n",
       "      <th>«6+» - для детей старше 6 лет</th>\n",
       "    </tr>\n",
       "    <tr>\n",
       "      <th>god_nachala_show</th>\n",
       "      <th></th>\n",
       "      <th></th>\n",
       "      <th></th>\n",
       "      <th></th>\n",
       "      <th></th>\n",
       "    </tr>\n",
       "  </thead>\n",
       "  <tbody>\n",
       "    <tr>\n",
       "      <th>2010</th>\n",
       "      <td>1.887611e+06</td>\n",
       "      <td>1.201460e+05</td>\n",
       "      <td>3.665120e+05</td>\n",
       "      <td>5.438500e+04</td>\n",
       "      <td>NaN</td>\n",
       "    </tr>\n",
       "    <tr>\n",
       "      <th>2011</th>\n",
       "      <td>1.349987e+07</td>\n",
       "      <td>2.198910e+05</td>\n",
       "      <td>3.815130e+05</td>\n",
       "      <td>1.040000e+03</td>\n",
       "      <td>4.500000e+02</td>\n",
       "    </tr>\n",
       "    <tr>\n",
       "      <th>2012</th>\n",
       "      <td>2.266483e+06</td>\n",
       "      <td>1.087340e+05</td>\n",
       "      <td>3.254216e+06</td>\n",
       "      <td>1.825800e+05</td>\n",
       "      <td>1.143410e+06</td>\n",
       "    </tr>\n",
       "    <tr>\n",
       "      <th>2013</th>\n",
       "      <td>2.710302e+06</td>\n",
       "      <td>2.091034e+07</td>\n",
       "      <td>6.580696e+05</td>\n",
       "      <td>5.161246e+06</td>\n",
       "      <td>3.597520e+05</td>\n",
       "    </tr>\n",
       "    <tr>\n",
       "      <th>2014</th>\n",
       "      <td>3.755623e+08</td>\n",
       "      <td>2.584782e+09</td>\n",
       "      <td>5.442801e+08</td>\n",
       "      <td>2.209713e+09</td>\n",
       "      <td>1.730614e+09</td>\n",
       "    </tr>\n",
       "    <tr>\n",
       "      <th>2015</th>\n",
       "      <td>3.790546e+08</td>\n",
       "      <td>1.361608e+10</td>\n",
       "      <td>1.136812e+10</td>\n",
       "      <td>5.432308e+09</td>\n",
       "      <td>8.701799e+09</td>\n",
       "    </tr>\n",
       "    <tr>\n",
       "      <th>2016</th>\n",
       "      <td>1.502288e+08</td>\n",
       "      <td>1.220445e+10</td>\n",
       "      <td>1.666455e+10</td>\n",
       "      <td>6.793930e+09</td>\n",
       "      <td>1.205315e+10</td>\n",
       "    </tr>\n",
       "    <tr>\n",
       "      <th>2017</th>\n",
       "      <td>2.295989e+08</td>\n",
       "      <td>7.851428e+09</td>\n",
       "      <td>1.874504e+10</td>\n",
       "      <td>9.651496e+09</td>\n",
       "      <td>1.208614e+10</td>\n",
       "    </tr>\n",
       "    <tr>\n",
       "      <th>2018</th>\n",
       "      <td>3.244900e+07</td>\n",
       "      <td>1.426729e+10</td>\n",
       "      <td>1.650360e+10</td>\n",
       "      <td>8.760086e+09</td>\n",
       "      <td>1.010497e+10</td>\n",
       "    </tr>\n",
       "    <tr>\n",
       "      <th>2019</th>\n",
       "      <td>1.774607e+07</td>\n",
       "      <td>1.268020e+10</td>\n",
       "      <td>1.275342e+10</td>\n",
       "      <td>1.012180e+10</td>\n",
       "      <td>1.285255e+10</td>\n",
       "    </tr>\n",
       "    <tr>\n",
       "      <th>Total</th>\n",
       "      <td>1.205004e+09</td>\n",
       "      <td>6.322559e+10</td>\n",
       "      <td>7.658367e+10</td>\n",
       "      <td>4.297473e+10</td>\n",
       "      <td>5.753073e+10</td>\n",
       "    </tr>\n",
       "  </tbody>\n",
       "</table>\n",
       "</div>"
      ],
      "text/plain": [
       "age_restriction   «0+» - для любой зрительской аудитории  \\\n",
       "god_nachala_show                                           \n",
       "2010                                        1.887611e+06   \n",
       "2011                                        1.349987e+07   \n",
       "2012                                        2.266483e+06   \n",
       "2013                                        2.710302e+06   \n",
       "2014                                        3.755623e+08   \n",
       "2015                                        3.790546e+08   \n",
       "2016                                        1.502288e+08   \n",
       "2017                                        2.295989e+08   \n",
       "2018                                        3.244900e+07   \n",
       "2019                                        1.774607e+07   \n",
       "Total                                       1.205004e+09   \n",
       "\n",
       "age_restriction   «12+» - для детей старше 12 лет  \\\n",
       "god_nachala_show                                    \n",
       "2010                                 1.201460e+05   \n",
       "2011                                 2.198910e+05   \n",
       "2012                                 1.087340e+05   \n",
       "2013                                 2.091034e+07   \n",
       "2014                                 2.584782e+09   \n",
       "2015                                 1.361608e+10   \n",
       "2016                                 1.220445e+10   \n",
       "2017                                 7.851428e+09   \n",
       "2018                                 1.426729e+10   \n",
       "2019                                 1.268020e+10   \n",
       "Total                                6.322559e+10   \n",
       "\n",
       "age_restriction   «16+» - для детей старше 16 лет  \\\n",
       "god_nachala_show                                    \n",
       "2010                                 3.665120e+05   \n",
       "2011                                 3.815130e+05   \n",
       "2012                                 3.254216e+06   \n",
       "2013                                 6.580696e+05   \n",
       "2014                                 5.442801e+08   \n",
       "2015                                 1.136812e+10   \n",
       "2016                                 1.666455e+10   \n",
       "2017                                 1.874504e+10   \n",
       "2018                                 1.650360e+10   \n",
       "2019                                 1.275342e+10   \n",
       "Total                                7.658367e+10   \n",
       "\n",
       "age_restriction   «18+» - запрещено для детей  «6+» - для детей старше 6 лет  \n",
       "god_nachala_show                                                              \n",
       "2010                             5.438500e+04                            NaN  \n",
       "2011                             1.040000e+03                   4.500000e+02  \n",
       "2012                             1.825800e+05                   1.143410e+06  \n",
       "2013                             5.161246e+06                   3.597520e+05  \n",
       "2014                             2.209713e+09                   1.730614e+09  \n",
       "2015                             5.432308e+09                   8.701799e+09  \n",
       "2016                             6.793930e+09                   1.205315e+10  \n",
       "2017                             9.651496e+09                   1.208614e+10  \n",
       "2018                             8.760086e+09                   1.010497e+10  \n",
       "2019                             1.012180e+10                   1.285255e+10  \n",
       "Total                            4.297473e+10                   5.753073e+10  "
      ]
     },
     "execution_count": 66,
     "metadata": {},
     "output_type": "execute_result"
    }
   ],
   "source": [
    "summarnaya = data_vozrast.sum(axis=0)\n",
    "data_vozrast = data_vozrast.append(pd.Series(summarnaya, name = 'Total'))\n",
    "data_vozrast"
   ]
  },
  {
   "cell_type": "code",
   "execution_count": 67,
   "metadata": {},
   "outputs": [
    {
     "data": {
      "text/plain": [
       "1205003951.7"
      ]
     },
     "metadata": {},
     "output_type": "display_data"
    }
   ],
   "source": [
    "display(round(summarnaya.min(), 1))"
   ]
  },
  {
   "cell_type": "markdown",
   "metadata": {},
   "source": [
    "Получается минимкальная сумма по категорям - 1 205 003 952 рубля, это значение соответствует категории 0+"
   ]
  },
  {
   "cell_type": "code",
   "execution_count": 68,
   "metadata": {},
   "outputs": [
    {
     "data": {
      "text/plain": [
       "76583674040.9"
      ]
     },
     "metadata": {},
     "output_type": "display_data"
    }
   ],
   "source": [
    "display(round(summarnaya.max(), 1))"
   ]
  },
  {
   "cell_type": "markdown",
   "metadata": {},
   "source": [
    "А 76 583 674 041 - максимальная, ее набрали фильмы 16+"
   ]
  },
  {
   "cell_type": "markdown",
   "metadata": {},
   "source": [
    "Если приглядеться в таблицу, получается, что фильмы 12+ почти догнали категорию 16+, но у 12+ был спад в 2017, который помешал им выйти на 1ую строчку"
   ]
  },
  {
   "cell_type": "markdown",
   "metadata": {},
   "source": [
    "##### Посмотрим на рейтинг по жанрам"
   ]
  },
  {
   "cell_type": "code",
   "execution_count": 69,
   "metadata": {},
   "outputs": [],
   "source": [
    "data_podderzhka = data[data['refundable_support'].notna() | data['nonrefundable_support'].notna()]\n",
    "data_podderzhka['polnaya_podderzhka'] = data_podderzhka['nonrefundable_support'] + data_podderzhka['refundable_support']\n",
    "data_podderzhka['dohodnost'] = data_podderzhka['box_office']/data_podderzhka['polnaya_podderzhka'] - 1\n",
    "data_podderzhka['okupilos'] = data_podderzhka['dohodnost'] > 0\n",
    "data_podderzhka['ne_okupilos'] = ~data_podderzhka['okupilos']"
   ]
  },
  {
   "cell_type": "code",
   "execution_count": 70,
   "metadata": {
    "scrolled": true
   },
   "outputs": [
    {
     "data": {
      "text/plain": [
       "<function matplotlib.pyplot.show(close=None, block=None)>"
      ]
     },
     "execution_count": 70,
     "metadata": {},
     "output_type": "execute_result"
    },
    {
     "data": {
      "image/png": "[encoded data removed]",
      "text/plain": [
       "<Figure size 1440x720 with 1 Axes>"
      ]
     },
     "metadata": {
      "needs_background": "light"
     },
     "output_type": "display_data"
    }
   ],
   "source": [
    "data_podderzhka[['osnovnoj_genres', 'ratings']].groupby('osnovnoj_genres').agg('mean').sort_values(by = 'ratings', ascending = False).plot(kind = 'bar', color = 'purple', grid = True, title = 'Оценки жанров', figsize = (20,10) )\n",
    "plt.ylabel('Рейтиг')\n",
    "plt.xlabel('Жанр')\n",
    "plt.show"
   ]
  },
  {
   "cell_type": "markdown",
   "metadata": {},
   "source": [
    "##### Итог\n",
    "Самый рейтинговый жанр - фильм нуар, самый нерейтинговый - фильм для взрослых"
   ]
  },
  {
   "cell_type": "code",
   "execution_count": 71,
   "metadata": {},
   "outputs": [
    {
     "data": {
      "text/plain": [
       "3073568690.79"
      ]
     },
     "execution_count": 71,
     "metadata": {},
     "output_type": "execute_result"
    }
   ],
   "source": [
    "data['box_office'].max()"
   ]
  },
  {
   "cell_type": "code",
   "execution_count": 72,
   "metadata": {},
   "outputs": [
    {
     "data": {
      "text/plain": [
       "0.0"
      ]
     },
     "execution_count": 72,
     "metadata": {},
     "output_type": "execute_result"
    }
   ],
   "source": [
    "data['box_office'].min()"
   ]
  },
  {
   "cell_type": "code",
   "execution_count": 73,
   "metadata": {},
   "outputs": [
    {
     "data": {
      "text/plain": [
       "32267163.991600536"
      ]
     },
     "execution_count": 73,
     "metadata": {},
     "output_type": "execute_result"
    }
   ],
   "source": [
    "data['box_office'].mean()"
   ]
  },
  {
   "cell_type": "code",
   "execution_count": 74,
   "metadata": {
    "scrolled": true
   },
   "outputs": [
    {
     "data": {
      "text/plain": [
       "0.0"
      ]
     },
     "execution_count": 74,
     "metadata": {},
     "output_type": "execute_result"
    }
   ],
   "source": [
    "data['box_office'].median()"
   ]
  },
  {
   "cell_type": "markdown",
   "metadata": {},
   "source": [
    "##### Теперь посмотрим на самые 'поддерживаемые' государством жанры"
   ]
  },
  {
   "cell_type": "code",
   "execution_count": 75,
   "metadata": {
    "scrolled": true
   },
   "outputs": [
    {
     "data": {
      "text/plain": [
       "<function matplotlib.pyplot.show(close=None, block=None)>"
      ]
     },
     "execution_count": 75,
     "metadata": {},
     "output_type": "execute_result"
    },
    {
     "data": {
      "image/png": "[encoded data removed]",
      "text/plain": [
       "<Figure size 1440x720 with 1 Axes>"
      ]
     },
     "metadata": {
      "needs_background": "light"
     },
     "output_type": "display_data"
    }
   ],
   "source": [
    "data_podderzhka['osnovnoj_genres'].value_counts().plot(kind = 'bar',color = 'purple', grid = True, title = 'Жанры фильмов с господдержкой', figsize = (20,10))\n",
    "plt.xlabel('Жанр')\n",
    "plt.show"
   ]
  },
  {
   "cell_type": "markdown",
   "metadata": {},
   "source": [
    "##### Итог\n",
    "Больше всего поддержки получила драмма, в 2 раза меньше у комедии... Балланс не выдержан, ну да и ладно...\n",
    "\n",
    "Интересный факт - жанр который имеет самый высокий рейтинг, финансируется меньше всего. Видимо чужие деньги портят картину."
   ]
  },
  {
   "cell_type": "markdown",
   "metadata": {},
   "source": [
    "##### Ну и раз уж мы решили посмотреть на финансирование, было бы неплохо посмотреть и на окупаемость:"
   ]
  },
  {
   "cell_type": "code",
   "execution_count": 76,
   "metadata": {
    "scrolled": true
   },
   "outputs": [
    {
     "data": {
      "text/plain": [
       "<function matplotlib.pyplot.show(close=None, block=None)>"
      ]
     },
     "execution_count": 76,
     "metadata": {},
     "output_type": "execute_result"
    },
    {
     "data": {
      "image/png": "[encoded data removed]",
      "text/plain": [
       "<Figure size 1080x720 with 1 Axes>"
      ]
     },
     "metadata": {
      "needs_background": "light"
     },
     "output_type": "display_data"
    }
   ],
   "source": [
    "data_podderzhka.groupby('osnovnoj_genres').agg({'title': 'count', 'okupilos':'sum', 'ne_okupilos':lambda x:0 - x.sum()}).sort_values(by = 'title', ascending = False).plot(kind = 'bar', stacked=True, y = ['okupilos', 'ne_okupilos'], color =['darkgreen','darkred'], grid = True, figsize = (15, 10), title = 'Окупаемость по жанрам')\n",
    "plt.xlabel('Жанр')\n",
    "plt.show"
   ]
  },
  {
   "cell_type": "markdown",
   "metadata": {},
   "source": [
    "##### Итог\n",
    "Получается, что окупаются только мультфильмы, приключения, спорт и музыка, комедия почти вышла в ноль"
   ]
  },
  {
   "cell_type": "markdown",
   "metadata": {},
   "source": [
    "#### Итого:\n",
    "    \n",
    "    1.Самый высокий рейтинг у жанра - Фильм-нуар, самый низкий у фильмов для взрослых\n",
    "    2.Самый финансируемый жанр - драма, минимально финансируемый - Фильм-нуар\n",
    "    3.Драма - самый неокупаемый жанр, вприципе имеется тенденция неокупаемости в жанрах, которые существенно финансируются\n",
    "    4.Окупились мультфильмы, приключения, спорт и музыка"
   ]
  },
  {
   "cell_type": "markdown",
   "metadata": {
    "id": "V2gYwMcPgFyd"
   },
   "source": [
    "### Общий вывод"
   ]
  },
  {
   "cell_type": "markdown",
   "metadata": {},
   "source": [
    "#### В ходе предобработки проекта было сделано следущее:\n",
    "    \n",
    "    1.Объединили две таблицы в одну\n",
    "    2.Привели raitings к общему формату\n",
    "    3.Привели show_strat_date к формату datetime\n",
    "    4.Заменили пропуски в film_studio на 'Без Студии'\n",
    "    5.Заменили пропуски в production_country на 'Без страны'\n",
    "    6.Заменили пропуски в genres на 'Без жанра'\n",
    "    7.Заменили пропуски в refundable_support,nonrefundable_support,box_office,budget на 0\n",
    "    8.Заменили пропуски в financing_source на 'Коммерческий'\n",
    "    9.Заполнили пропуски в director на Без режесёра\n",
    "    10.Заполнили пропуски в producer на Без продюсера\n",
    "    11.Были убраны пробелы в type\n",
    "    12.Были созданы столбцы god_nachala_show, osnovnoj_director, osnovnoj_genres, procent_gospodderzhki\n",
    "\n",
    "#### Анализ показал:    \n",
    "\n",
    "    1.C 2010 по 2019 стали выпускать больше фильмов и намного больше стало выходить в прокат\n",
    "    2.Минимальные сборы были в 2010 году, максимальные в 2016 и 2019\n",
    "    3.Доля прокатных фильмов составляет 41,87%\n",
    "    4.Минимальные сборы в 2010 и 2012, пик пришёлся на 2018 год\n",
    "    5.С 2010 по 2015 сборы в среднем увеличились\n",
    "    6.Для возрастных органичений справедливо следущее: \n",
    "        - Подростковое кино начало приносить меньше(16+)\n",
    "        - Кино для детей 12+ приносило хорошо, потом в 2017 была просадка и к 2019 всё стабилизировалось\n",
    "        - А вот кино 6+ начало приносить больше в 2019 по сравнению с 2019\n",
    "        - Кино 18+ имеет стабильный рост\n",
    "        - Кино без возрастных ограничений с 2015 по 2019 приносит стабильно мало по сравнению с остальными категориями\n",
    "    7.Минимкальная сумма по категорям - 1 205 003 952 рубля(категория 0+)\n",
    "    8.Максимальная сумма по категорям - 76 583 674 041 рубля(категория 16+)\n",
    "    9.Самая высокая оценка у жанра Фульм-нуар, самая низкая у фильмов для взрослых\n",
    "    10.Самый финансируемый жанр - драма, минимально финансируемый - Фильм-нуар\n",
    "    11.Драма - самый неокупаемый жанр\n",
    "    12.Окупаемыми можно считать жанры: мультфильмы, приключения, спорт, музыка\n",
    "    \n",
    "#### Вывод:\n",
    "    Министерству культуры стоит обратить внимание на тот факт, что самые финансируемые ими жанры окупаются разительно меньше, чем те, которые остаются практически без финансирования. Также было бы неплохо посмотреть на самые рейтинговые жанры и в дальнейшем пробовать давать больше финансивования тем, которые набирают больше рейтинга. Исходя из градаций возрастных цензов - существенно западают фильмы с категорией 18+, следовательно взрослую аудиторию нужно привлекать чем-то новым, опять же можно рассмотреть жанры с высокими рейтингами."
   ]
  },
  {
   "cell_type": "markdown",
   "metadata": {},
   "source": []
  }
 ],
 "metadata": {
  "ExecuteTimeLog": [
   {
    "duration": 537,
    "start_time": "2021-07-07T10:12:08.634Z"
   },
   {
    "duration": 206,
    "start_time": "2021-07-07T10:12:30.191Z"
   },
   {
    "duration": 227,
    "start_time": "2021-07-07T10:12:33.078Z"
   },
   {
    "duration": 153,
    "start_time": "2021-07-07T10:13:42.146Z"
   },
   {
    "duration": 233,
    "start_time": "2021-07-07T10:30:09.252Z"
   },
   {
    "duration": 19,
    "start_time": "2021-07-07T10:30:15.577Z"
   },
   {
    "duration": 18,
    "start_time": "2021-07-07T10:30:57.348Z"
   },
   {
    "duration": 19,
    "start_time": "2021-07-07T10:31:17.452Z"
   },
   {
    "duration": 21,
    "start_time": "2021-07-07T10:31:32.227Z"
   },
   {
    "duration": 27,
    "start_time": "2021-07-07T10:32:06.588Z"
   },
   {
    "duration": 23,
    "start_time": "2021-07-07T10:32:43.645Z"
   },
   {
    "duration": 24,
    "start_time": "2021-07-07T10:33:06.948Z"
   },
   {
    "duration": 7,
    "start_time": "2021-07-07T10:33:28.558Z"
   },
   {
    "duration": 23,
    "start_time": "2021-07-07T10:33:43.761Z"
   },
   {
    "duration": 28,
    "start_time": "2021-07-07T10:34:13.466Z"
   },
   {
    "duration": 23,
    "start_time": "2021-07-07T10:35:56.187Z"
   },
   {
    "duration": 6,
    "start_time": "2021-07-07T10:36:48.182Z"
   },
   {
    "duration": 14,
    "start_time": "2021-07-07T10:37:49.641Z"
   },
   {
    "duration": 6,
    "start_time": "2021-07-07T10:38:06.694Z"
   },
   {
    "duration": 6,
    "start_time": "2021-07-07T10:38:13.493Z"
   },
   {
    "duration": 19,
    "start_time": "2021-07-07T10:38:44.056Z"
   },
   {
    "duration": 186,
    "start_time": "2021-07-07T10:48:35.618Z"
   },
   {
    "duration": 24,
    "start_time": "2021-07-07T10:48:51.498Z"
   },
   {
    "duration": 20,
    "start_time": "2021-07-07T10:48:59.415Z"
   },
   {
    "duration": 20,
    "start_time": "2021-07-07T10:53:02.195Z"
   },
   {
    "duration": 188,
    "start_time": "2021-07-07T10:54:40.486Z"
   },
   {
    "duration": 115,
    "start_time": "2021-07-07T10:54:52.552Z"
   },
   {
    "duration": 214,
    "start_time": "2021-07-07T10:54:56.354Z"
   },
   {
    "duration": 47,
    "start_time": "2021-07-07T10:54:58.282Z"
   },
   {
    "duration": 217,
    "start_time": "2021-07-07T10:59:16.075Z"
   },
   {
    "duration": 51,
    "start_time": "2021-07-07T10:59:16.243Z"
   },
   {
    "duration": 578,
    "start_time": "2021-07-07T10:59:18.774Z"
   },
   {
    "duration": 161,
    "start_time": "2021-07-07T10:59:21.238Z"
   },
   {
    "duration": 59,
    "start_time": "2021-07-07T10:59:21.453Z"
   },
   {
    "duration": 3,
    "start_time": "2021-07-07T11:02:10.786Z"
   },
   {
    "duration": 13,
    "start_time": "2021-07-07T11:07:07.722Z"
   },
   {
    "duration": 26,
    "start_time": "2021-07-07T11:07:17.958Z"
   },
   {
    "duration": 22,
    "start_time": "2021-07-07T11:08:17.939Z"
   },
   {
    "duration": 212,
    "start_time": "2021-07-07T11:08:19.665Z"
   },
   {
    "duration": 21,
    "start_time": "2021-07-07T11:08:29.945Z"
   },
   {
    "duration": 31,
    "start_time": "2021-07-07T11:08:38.899Z"
   },
   {
    "duration": 23,
    "start_time": "2021-07-07T11:08:54.527Z"
   },
   {
    "duration": 8,
    "start_time": "2021-07-07T11:18:55.974Z"
   },
   {
    "duration": 7,
    "start_time": "2021-07-07T11:19:03.639Z"
   },
   {
    "duration": 7,
    "start_time": "2021-07-07T11:19:06.444Z"
   },
   {
    "duration": 578,
    "start_time": "2021-07-07T12:09:59.576Z"
   },
   {
    "duration": 195,
    "start_time": "2021-07-07T12:10:00.156Z"
   },
   {
    "duration": 115,
    "start_time": "2021-07-07T12:10:00.353Z"
   },
   {
    "duration": 3,
    "start_time": "2021-07-07T12:10:00.470Z"
   },
   {
    "duration": 32,
    "start_time": "2021-07-07T12:10:00.474Z"
   },
   {
    "duration": 23,
    "start_time": "2021-07-07T12:10:00.508Z"
   },
   {
    "duration": 19,
    "start_time": "2021-07-07T12:10:00.533Z"
   },
   {
    "duration": 44,
    "start_time": "2021-07-07T12:10:00.553Z"
   },
   {
    "duration": 7,
    "start_time": "2021-07-07T12:10:00.600Z"
   },
   {
    "duration": 7,
    "start_time": "2021-07-07T12:19:45.761Z"
   },
   {
    "duration": 21,
    "start_time": "2021-07-07T12:21:35.482Z"
   },
   {
    "duration": 21,
    "start_time": "2021-07-07T12:29:23.569Z"
   },
   {
    "duration": 525,
    "start_time": "2021-07-07T12:29:44.542Z"
   },
   {
    "duration": 214,
    "start_time": "2021-07-07T12:29:45.069Z"
   },
   {
    "duration": 92,
    "start_time": "2021-07-07T12:29:45.285Z"
   },
   {
    "duration": 3,
    "start_time": "2021-07-07T12:29:45.379Z"
   },
   {
    "duration": 28,
    "start_time": "2021-07-07T12:29:45.384Z"
   },
   {
    "duration": 23,
    "start_time": "2021-07-07T12:29:45.413Z"
   },
   {
    "duration": 21,
    "start_time": "2021-07-07T12:29:45.437Z"
   },
   {
    "duration": 41,
    "start_time": "2021-07-07T12:29:45.460Z"
   },
   {
    "duration": 7,
    "start_time": "2021-07-07T12:29:45.502Z"
   },
   {
    "duration": 20,
    "start_time": "2021-07-07T12:29:45.511Z"
   },
   {
    "duration": 12,
    "start_time": "2021-07-07T12:34:02.800Z"
   },
   {
    "duration": 7,
    "start_time": "2021-07-07T12:35:10.479Z"
   },
   {
    "duration": 8,
    "start_time": "2021-07-07T12:35:22.440Z"
   },
   {
    "duration": 6,
    "start_time": "2021-07-07T12:35:35.649Z"
   },
   {
    "duration": 6,
    "start_time": "2021-07-07T12:35:43.107Z"
   },
   {
    "duration": 22,
    "start_time": "2021-07-07T12:38:03.029Z"
   },
   {
    "duration": 10,
    "start_time": "2021-07-07T12:38:06.592Z"
   },
   {
    "duration": 563,
    "start_time": "2021-07-07T12:38:46.493Z"
   },
   {
    "duration": 265,
    "start_time": "2021-07-07T12:38:47.058Z"
   },
   {
    "duration": 94,
    "start_time": "2021-07-07T12:38:47.325Z"
   },
   {
    "duration": 3,
    "start_time": "2021-07-07T12:38:47.422Z"
   },
   {
    "duration": 30,
    "start_time": "2021-07-07T12:38:47.427Z"
   },
   {
    "duration": 16,
    "start_time": "2021-07-07T12:38:53.305Z"
   },
   {
    "duration": 10,
    "start_time": "2021-07-07T12:38:53.499Z"
   },
   {
    "duration": 8,
    "start_time": "2021-07-07T12:39:48.161Z"
   },
   {
    "duration": 27,
    "start_time": "2021-07-07T12:41:17.629Z"
   },
   {
    "duration": 17,
    "start_time": "2021-07-07T12:41:17.867Z"
   },
   {
    "duration": 21,
    "start_time": "2021-07-07T12:41:19.310Z"
   },
   {
    "duration": 7,
    "start_time": "2021-07-07T12:41:19.544Z"
   },
   {
    "duration": 20,
    "start_time": "2021-07-07T12:41:20.504Z"
   },
   {
    "duration": 554,
    "start_time": "2021-07-07T12:56:23.696Z"
   },
   {
    "duration": 200,
    "start_time": "2021-07-07T12:56:25.234Z"
   },
   {
    "duration": 119,
    "start_time": "2021-07-07T12:56:25.480Z"
   },
   {
    "duration": 4,
    "start_time": "2021-07-07T12:56:25.762Z"
   },
   {
    "duration": 26,
    "start_time": "2021-07-07T12:56:27.172Z"
   },
   {
    "duration": 12,
    "start_time": "2021-07-07T12:56:29.051Z"
   },
   {
    "duration": 10,
    "start_time": "2021-07-07T12:56:29.291Z"
   },
   {
    "duration": 8,
    "start_time": "2021-07-07T12:56:29.623Z"
   },
   {
    "duration": 28,
    "start_time": "2021-07-07T12:56:32.137Z"
   },
   {
    "duration": 19,
    "start_time": "2021-07-07T12:56:39.785Z"
   },
   {
    "duration": 20,
    "start_time": "2021-07-07T12:56:44.297Z"
   },
   {
    "duration": 7,
    "start_time": "2021-07-07T12:56:45.392Z"
   },
   {
    "duration": 23,
    "start_time": "2021-07-07T12:56:46.615Z"
   },
   {
    "duration": 4,
    "start_time": "2021-07-07T12:57:06.625Z"
   },
   {
    "duration": 32,
    "start_time": "2021-07-07T12:57:36.690Z"
   },
   {
    "duration": 18,
    "start_time": "2021-07-07T12:58:00.149Z"
   },
   {
    "duration": 15,
    "start_time": "2021-07-07T12:59:16.793Z"
   },
   {
    "duration": 7,
    "start_time": "2021-07-07T13:19:22.624Z"
   },
   {
    "duration": 6,
    "start_time": "2021-07-07T14:17:33.527Z"
   },
   {
    "duration": 9,
    "start_time": "2021-07-07T14:17:48.409Z"
   },
   {
    "duration": 8,
    "start_time": "2021-07-07T14:20:13.060Z"
   },
   {
    "duration": 8,
    "start_time": "2021-07-07T14:20:37.957Z"
   },
   {
    "duration": 8,
    "start_time": "2021-07-07T14:20:47.470Z"
   },
   {
    "duration": 9,
    "start_time": "2021-07-07T14:20:54.503Z"
   },
   {
    "duration": 10,
    "start_time": "2021-07-07T14:28:57.763Z"
   },
   {
    "duration": 3,
    "start_time": "2021-07-07T14:30:23.377Z"
   },
   {
    "duration": 3,
    "start_time": "2021-07-07T14:30:36.489Z"
   },
   {
    "duration": 103,
    "start_time": "2021-07-07T14:30:52.351Z"
   },
   {
    "duration": 8,
    "start_time": "2021-07-07T14:30:54.763Z"
   },
   {
    "duration": 8,
    "start_time": "2021-07-07T14:31:29.301Z"
   },
   {
    "duration": 13,
    "start_time": "2021-07-07T14:31:44.516Z"
   },
   {
    "duration": 7,
    "start_time": "2021-07-07T14:33:10.972Z"
   },
   {
    "duration": 11,
    "start_time": "2021-07-07T14:33:27.780Z"
   },
   {
    "duration": 8,
    "start_time": "2021-07-07T14:34:44.588Z"
   },
   {
    "duration": 57,
    "start_time": "2021-07-07T14:35:59.042Z"
   },
   {
    "duration": 3,
    "start_time": "2021-07-07T14:36:28.168Z"
   },
   {
    "duration": 5,
    "start_time": "2021-07-07T14:36:46.254Z"
   },
   {
    "duration": 4,
    "start_time": "2021-07-07T14:36:52.714Z"
   },
   {
    "duration": 3,
    "start_time": "2021-07-07T14:36:56.612Z"
   },
   {
    "duration": 4,
    "start_time": "2021-07-07T14:36:57.049Z"
   },
   {
    "duration": 3,
    "start_time": "2021-07-07T14:39:21.214Z"
   },
   {
    "duration": 7,
    "start_time": "2021-07-07T14:39:52.406Z"
   },
   {
    "duration": 11,
    "start_time": "2021-07-07T14:39:58.576Z"
   },
   {
    "duration": 9,
    "start_time": "2021-07-07T14:40:26.301Z"
   },
   {
    "duration": 10,
    "start_time": "2021-07-07T14:40:31.704Z"
   },
   {
    "duration": 11,
    "start_time": "2021-07-07T14:40:36.249Z"
   },
   {
    "duration": 10,
    "start_time": "2021-07-07T14:40:39.783Z"
   },
   {
    "duration": 9,
    "start_time": "2021-07-07T14:40:48.558Z"
   },
   {
    "duration": 10,
    "start_time": "2021-07-07T14:40:57.143Z"
   },
   {
    "duration": 9,
    "start_time": "2021-07-07T14:41:06.074Z"
   },
   {
    "duration": 4324,
    "start_time": "2021-07-07T14:41:22.004Z"
   },
   {
    "duration": 11,
    "start_time": "2021-07-07T14:41:33.392Z"
   },
   {
    "duration": 9,
    "start_time": "2021-07-07T14:41:39.288Z"
   },
   {
    "duration": 569,
    "start_time": "2021-07-07T14:42:14.387Z"
   },
   {
    "duration": 197,
    "start_time": "2021-07-07T14:42:14.959Z"
   },
   {
    "duration": 84,
    "start_time": "2021-07-07T14:42:16.052Z"
   },
   {
    "duration": 4,
    "start_time": "2021-07-07T14:42:16.900Z"
   },
   {
    "duration": 27,
    "start_time": "2021-07-07T14:42:19.898Z"
   },
   {
    "duration": 12,
    "start_time": "2021-07-07T14:42:21.577Z"
   },
   {
    "duration": 9,
    "start_time": "2021-07-07T14:42:21.813Z"
   },
   {
    "duration": 9,
    "start_time": "2021-07-07T14:42:22.569Z"
   },
   {
    "duration": 29,
    "start_time": "2021-07-07T14:42:25.837Z"
   },
   {
    "duration": 20,
    "start_time": "2021-07-07T14:42:27.003Z"
   },
   {
    "duration": 21,
    "start_time": "2021-07-07T14:42:28.767Z"
   },
   {
    "duration": 7,
    "start_time": "2021-07-07T14:42:29.838Z"
   },
   {
    "duration": 4,
    "start_time": "2021-07-07T14:43:25.493Z"
   },
   {
    "duration": 7,
    "start_time": "2021-07-07T14:43:26.573Z"
   },
   {
    "duration": 10,
    "start_time": "2021-07-07T14:43:31.639Z"
   },
   {
    "duration": 9,
    "start_time": "2021-07-07T14:43:32.046Z"
   },
   {
    "duration": 10,
    "start_time": "2021-07-07T14:43:33.301Z"
   },
   {
    "duration": 12,
    "start_time": "2021-07-07T14:43:33.658Z"
   },
   {
    "duration": 8,
    "start_time": "2021-07-07T14:43:34.552Z"
   },
   {
    "duration": 9,
    "start_time": "2021-07-07T14:43:35.058Z"
   },
   {
    "duration": 12,
    "start_time": "2021-07-07T14:43:35.914Z"
   },
   {
    "duration": 17,
    "start_time": "2021-07-07T14:45:34.368Z"
   },
   {
    "duration": 512,
    "start_time": "2021-07-07T14:51:58.236Z"
   },
   {
    "duration": 223,
    "start_time": "2021-07-07T14:51:58.750Z"
   },
   {
    "duration": 93,
    "start_time": "2021-07-07T14:51:58.977Z"
   },
   {
    "duration": 4,
    "start_time": "2021-07-07T14:51:59.071Z"
   },
   {
    "duration": 37,
    "start_time": "2021-07-07T14:51:59.077Z"
   },
   {
    "duration": 18,
    "start_time": "2021-07-07T14:51:59.116Z"
   },
   {
    "duration": 10,
    "start_time": "2021-07-07T14:51:59.137Z"
   },
   {
    "duration": 8,
    "start_time": "2021-07-07T14:51:59.149Z"
   },
   {
    "duration": 54,
    "start_time": "2021-07-07T14:51:59.158Z"
   },
   {
    "duration": 18,
    "start_time": "2021-07-07T14:51:59.213Z"
   },
   {
    "duration": 22,
    "start_time": "2021-07-07T14:51:59.232Z"
   },
   {
    "duration": 36,
    "start_time": "2021-07-07T14:51:59.255Z"
   },
   {
    "duration": 7,
    "start_time": "2021-07-07T14:51:59.293Z"
   },
   {
    "duration": 10,
    "start_time": "2021-07-07T14:51:59.302Z"
   },
   {
    "duration": 9,
    "start_time": "2021-07-07T14:51:59.313Z"
   },
   {
    "duration": 11,
    "start_time": "2021-07-07T14:51:59.324Z"
   },
   {
    "duration": 8,
    "start_time": "2021-07-07T14:51:59.337Z"
   },
   {
    "duration": 46,
    "start_time": "2021-07-07T14:51:59.347Z"
   },
   {
    "duration": 22,
    "start_time": "2021-07-07T14:51:59.395Z"
   },
   {
    "duration": 24,
    "start_time": "2021-07-07T14:57:32.911Z"
   },
   {
    "duration": 7,
    "start_time": "2021-07-07T14:58:22.070Z"
   },
   {
    "duration": 4,
    "start_time": "2021-07-07T14:59:11.239Z"
   },
   {
    "duration": 25,
    "start_time": "2021-07-07T15:07:22.208Z"
   },
   {
    "duration": 16,
    "start_time": "2021-07-07T15:08:25.560Z"
   },
   {
    "duration": 15,
    "start_time": "2021-07-07T15:08:40.647Z"
   },
   {
    "duration": 14,
    "start_time": "2021-07-07T15:08:46.669Z"
   },
   {
    "duration": 533,
    "start_time": "2021-07-07T15:18:07.440Z"
   },
   {
    "duration": 173,
    "start_time": "2021-07-07T15:18:07.974Z"
   },
   {
    "duration": 84,
    "start_time": "2021-07-07T15:18:08.149Z"
   },
   {
    "duration": 3,
    "start_time": "2021-07-07T15:18:08.235Z"
   },
   {
    "duration": 30,
    "start_time": "2021-07-07T15:18:08.240Z"
   },
   {
    "duration": 22,
    "start_time": "2021-07-07T15:18:08.272Z"
   },
   {
    "duration": 11,
    "start_time": "2021-07-07T15:18:08.295Z"
   },
   {
    "duration": 11,
    "start_time": "2021-07-07T15:18:08.309Z"
   },
   {
    "duration": 40,
    "start_time": "2021-07-07T15:18:08.322Z"
   },
   {
    "duration": 42,
    "start_time": "2021-07-07T15:18:08.364Z"
   },
   {
    "duration": 22,
    "start_time": "2021-07-07T15:18:08.408Z"
   },
   {
    "duration": 5,
    "start_time": "2021-07-07T15:18:08.432Z"
   },
   {
    "duration": 13,
    "start_time": "2021-07-07T15:18:08.439Z"
   },
   {
    "duration": 9,
    "start_time": "2021-07-07T15:18:08.454Z"
   },
   {
    "duration": 32,
    "start_time": "2021-07-07T15:18:08.465Z"
   },
   {
    "duration": 10,
    "start_time": "2021-07-07T15:18:08.501Z"
   },
   {
    "duration": 7,
    "start_time": "2021-07-07T15:18:08.513Z"
   },
   {
    "duration": 11,
    "start_time": "2021-07-07T15:18:08.521Z"
   },
   {
    "duration": 17,
    "start_time": "2021-07-07T15:18:08.534Z"
   },
   {
    "duration": 44,
    "start_time": "2021-07-07T15:18:08.553Z"
   },
   {
    "duration": 22,
    "start_time": "2021-07-07T15:18:08.599Z"
   },
   {
    "duration": 61,
    "start_time": "2021-07-07T15:18:08.622Z"
   },
   {
    "duration": 7,
    "start_time": "2021-07-07T15:18:39.457Z"
   },
   {
    "duration": 5,
    "start_time": "2021-07-07T16:05:17.020Z"
   },
   {
    "duration": 5,
    "start_time": "2021-07-07T16:51:28.794Z"
   },
   {
    "duration": 546,
    "start_time": "2021-07-07T16:52:26.306Z"
   },
   {
    "duration": 203,
    "start_time": "2021-07-07T16:52:27.523Z"
   },
   {
    "duration": 85,
    "start_time": "2021-07-07T16:52:27.736Z"
   },
   {
    "duration": 4,
    "start_time": "2021-07-07T16:52:27.899Z"
   },
   {
    "duration": 25,
    "start_time": "2021-07-07T16:52:28.674Z"
   },
   {
    "duration": 8,
    "start_time": "2021-07-07T16:52:32.956Z"
   },
   {
    "duration": 18,
    "start_time": "2021-07-07T16:52:35.616Z"
   },
   {
    "duration": 6,
    "start_time": "2021-07-07T16:52:36.913Z"
   },
   {
    "duration": 11,
    "start_time": "2021-07-07T16:52:40.258Z"
   },
   {
    "duration": 10,
    "start_time": "2021-07-07T16:52:46.251Z"
   },
   {
    "duration": 8,
    "start_time": "2021-07-07T16:52:47.182Z"
   },
   {
    "duration": 27,
    "start_time": "2021-07-07T16:53:20.391Z"
   },
   {
    "duration": 20,
    "start_time": "2021-07-07T16:53:22.022Z"
   },
   {
    "duration": 23,
    "start_time": "2021-07-07T16:53:23.690Z"
   },
   {
    "duration": 8,
    "start_time": "2021-07-07T16:53:24.261Z"
   },
   {
    "duration": 4,
    "start_time": "2021-07-07T16:53:38.733Z"
   },
   {
    "duration": 7,
    "start_time": "2021-07-07T16:53:40.445Z"
   },
   {
    "duration": 11,
    "start_time": "2021-07-07T16:53:41.348Z"
   },
   {
    "duration": 13,
    "start_time": "2021-07-07T16:53:45.250Z"
   },
   {
    "duration": 12,
    "start_time": "2021-07-07T16:53:45.467Z"
   },
   {
    "duration": 4,
    "start_time": "2021-07-07T16:55:32.704Z"
   },
   {
    "duration": 12,
    "start_time": "2021-07-07T16:55:49.012Z"
   },
   {
    "duration": 18,
    "start_time": "2021-07-07T16:55:49.547Z"
   },
   {
    "duration": 611,
    "start_time": "2021-07-07T16:58:35.156Z"
   },
   {
    "duration": 200,
    "start_time": "2021-07-07T16:58:35.770Z"
   },
   {
    "duration": 86,
    "start_time": "2021-07-07T16:58:35.972Z"
   },
   {
    "duration": 3,
    "start_time": "2021-07-07T16:58:36.060Z"
   },
   {
    "duration": 27,
    "start_time": "2021-07-07T16:58:36.065Z"
   },
   {
    "duration": 8,
    "start_time": "2021-07-07T16:58:36.094Z"
   },
   {
    "duration": 17,
    "start_time": "2021-07-07T16:58:36.103Z"
   },
   {
    "duration": 5,
    "start_time": "2021-07-07T16:58:36.123Z"
   },
   {
    "duration": 11,
    "start_time": "2021-07-07T16:58:36.130Z"
   },
   {
    "duration": 7,
    "start_time": "2021-07-07T16:58:36.143Z"
   },
   {
    "duration": 37,
    "start_time": "2021-07-07T16:58:36.152Z"
   },
   {
    "duration": 27,
    "start_time": "2021-07-07T16:58:36.191Z"
   },
   {
    "duration": 19,
    "start_time": "2021-07-07T16:58:36.219Z"
   },
   {
    "duration": 49,
    "start_time": "2021-07-07T16:58:36.240Z"
   },
   {
    "duration": 6,
    "start_time": "2021-07-07T16:58:36.291Z"
   },
   {
    "duration": 3,
    "start_time": "2021-07-07T16:58:36.299Z"
   },
   {
    "duration": 13,
    "start_time": "2021-07-07T16:58:36.304Z"
   },
   {
    "duration": 10,
    "start_time": "2021-07-07T16:58:36.319Z"
   },
   {
    "duration": 10,
    "start_time": "2021-07-07T16:58:36.331Z"
   },
   {
    "duration": 44,
    "start_time": "2021-07-07T16:58:36.343Z"
   },
   {
    "duration": 4,
    "start_time": "2021-07-07T16:58:36.388Z"
   },
   {
    "duration": 13,
    "start_time": "2021-07-07T16:58:36.394Z"
   },
   {
    "duration": 16,
    "start_time": "2021-07-07T16:58:36.410Z"
   },
   {
    "duration": 8,
    "start_time": "2021-07-07T17:02:31.629Z"
   },
   {
    "duration": 8,
    "start_time": "2021-07-07T17:02:34.308Z"
   },
   {
    "duration": 6,
    "start_time": "2021-07-07T17:05:13.483Z"
   },
   {
    "duration": 17,
    "start_time": "2021-07-07T17:05:20.606Z"
   },
   {
    "duration": 7,
    "start_time": "2021-07-07T17:05:34.638Z"
   },
   {
    "duration": 3,
    "start_time": "2021-07-07T17:06:31.883Z"
   },
   {
    "duration": 570,
    "start_time": "2021-07-07T17:06:37.165Z"
   },
   {
    "duration": 174,
    "start_time": "2021-07-07T17:06:37.737Z"
   },
   {
    "duration": 47,
    "start_time": "2021-07-07T17:06:37.913Z"
   },
   {
    "duration": 3,
    "start_time": "2021-07-07T17:06:37.962Z"
   },
   {
    "duration": 27,
    "start_time": "2021-07-07T17:06:37.967Z"
   },
   {
    "duration": 7,
    "start_time": "2021-07-07T17:06:37.996Z"
   },
   {
    "duration": 16,
    "start_time": "2021-07-07T17:06:38.005Z"
   },
   {
    "duration": 6,
    "start_time": "2021-07-07T17:06:38.024Z"
   },
   {
    "duration": 12,
    "start_time": "2021-07-07T17:06:38.031Z"
   },
   {
    "duration": 41,
    "start_time": "2021-07-07T17:06:38.045Z"
   },
   {
    "duration": 8,
    "start_time": "2021-07-07T17:06:38.088Z"
   },
   {
    "duration": 26,
    "start_time": "2021-07-07T17:06:38.098Z"
   },
   {
    "duration": 17,
    "start_time": "2021-07-07T17:06:38.126Z"
   },
   {
    "duration": 43,
    "start_time": "2021-07-07T17:06:38.144Z"
   },
   {
    "duration": 6,
    "start_time": "2021-07-07T17:06:38.188Z"
   },
   {
    "duration": 5,
    "start_time": "2021-07-07T17:06:38.195Z"
   },
   {
    "duration": 9,
    "start_time": "2021-07-07T17:06:38.201Z"
   },
   {
    "duration": 12,
    "start_time": "2021-07-07T17:06:38.212Z"
   },
   {
    "duration": 11,
    "start_time": "2021-07-07T17:06:38.226Z"
   },
   {
    "duration": 47,
    "start_time": "2021-07-07T17:06:38.239Z"
   },
   {
    "duration": 4,
    "start_time": "2021-07-07T17:06:38.288Z"
   },
   {
    "duration": 13,
    "start_time": "2021-07-07T17:06:38.293Z"
   },
   {
    "duration": 5,
    "start_time": "2021-07-07T17:06:38.309Z"
   },
   {
    "duration": 18,
    "start_time": "2021-07-07T17:06:38.325Z"
   },
   {
    "duration": 20,
    "start_time": "2021-07-07T17:07:02.805Z"
   },
   {
    "duration": 19,
    "start_time": "2021-07-07T17:07:08.527Z"
   },
   {
    "duration": 19,
    "start_time": "2021-07-07T17:07:12.758Z"
   },
   {
    "duration": 22,
    "start_time": "2021-07-07T17:07:17.497Z"
   },
   {
    "duration": 19,
    "start_time": "2021-07-07T17:07:19.645Z"
   },
   {
    "duration": 10,
    "start_time": "2021-07-07T17:07:34.239Z"
   },
   {
    "duration": 17,
    "start_time": "2021-07-07T17:07:54.144Z"
   },
   {
    "duration": 14,
    "start_time": "2021-07-07T17:08:14.357Z"
   },
   {
    "duration": 616,
    "start_time": "2021-07-07T17:08:45.254Z"
   },
   {
    "duration": 178,
    "start_time": "2021-07-07T17:08:45.872Z"
   },
   {
    "duration": 60,
    "start_time": "2021-07-07T17:08:46.054Z"
   },
   {
    "duration": 3,
    "start_time": "2021-07-07T17:08:46.116Z"
   },
   {
    "duration": 26,
    "start_time": "2021-07-07T17:08:46.121Z"
   },
   {
    "duration": 7,
    "start_time": "2021-07-07T17:08:46.149Z"
   },
   {
    "duration": 17,
    "start_time": "2021-07-07T17:08:46.158Z"
   },
   {
    "duration": 14,
    "start_time": "2021-07-07T17:08:46.176Z"
   },
   {
    "duration": 17,
    "start_time": "2021-07-07T17:08:46.193Z"
   },
   {
    "duration": 9,
    "start_time": "2021-07-07T17:08:46.211Z"
   },
   {
    "duration": 21,
    "start_time": "2021-07-07T17:08:46.221Z"
   },
   {
    "duration": 49,
    "start_time": "2021-07-07T17:08:46.244Z"
   },
   {
    "duration": 24,
    "start_time": "2021-07-07T17:08:46.295Z"
   },
   {
    "duration": 22,
    "start_time": "2021-07-07T17:08:46.321Z"
   },
   {
    "duration": 6,
    "start_time": "2021-07-07T17:08:46.345Z"
   },
   {
    "duration": 5,
    "start_time": "2021-07-07T17:08:46.353Z"
   },
   {
    "duration": 13,
    "start_time": "2021-07-07T17:08:46.386Z"
   },
   {
    "duration": 12,
    "start_time": "2021-07-07T17:08:46.402Z"
   },
   {
    "duration": 10,
    "start_time": "2021-07-07T17:08:46.415Z"
   },
   {
    "duration": 7,
    "start_time": "2021-07-07T17:08:46.427Z"
   },
   {
    "duration": 8,
    "start_time": "2021-07-07T17:08:46.435Z"
   },
   {
    "duration": 68,
    "start_time": "2021-07-07T17:08:46.446Z"
   },
   {
    "duration": 13,
    "start_time": "2021-07-07T17:08:46.516Z"
   },
   {
    "duration": 78,
    "start_time": "2021-07-07T17:08:46.530Z"
   },
   {
    "duration": 40,
    "start_time": "2021-07-07T17:09:08.185Z"
   },
   {
    "duration": 16,
    "start_time": "2021-07-07T17:09:19.324Z"
   },
   {
    "duration": 21,
    "start_time": "2021-07-07T17:09:23.290Z"
   },
   {
    "duration": 13,
    "start_time": "2021-07-07T17:09:54.812Z"
   },
   {
    "duration": 13,
    "start_time": "2021-07-07T17:10:02.039Z"
   },
   {
    "duration": 10,
    "start_time": "2021-07-07T17:10:29.632Z"
   },
   {
    "duration": 13,
    "start_time": "2021-07-07T17:10:52.372Z"
   },
   {
    "duration": 13,
    "start_time": "2021-07-07T17:11:17.270Z"
   },
   {
    "duration": 13,
    "start_time": "2021-07-07T17:14:59.284Z"
   },
   {
    "duration": 547,
    "start_time": "2021-07-07T17:18:52.403Z"
   },
   {
    "duration": 163,
    "start_time": "2021-07-07T17:18:52.952Z"
   },
   {
    "duration": 44,
    "start_time": "2021-07-07T17:18:53.117Z"
   },
   {
    "duration": 3,
    "start_time": "2021-07-07T17:18:53.162Z"
   },
   {
    "duration": 26,
    "start_time": "2021-07-07T17:18:53.167Z"
   },
   {
    "duration": 6,
    "start_time": "2021-07-07T17:18:53.195Z"
   },
   {
    "duration": 15,
    "start_time": "2021-07-07T17:18:53.203Z"
   },
   {
    "duration": 5,
    "start_time": "2021-07-07T17:18:53.220Z"
   },
   {
    "duration": 11,
    "start_time": "2021-07-07T17:18:53.228Z"
   },
   {
    "duration": 9,
    "start_time": "2021-07-07T17:18:53.241Z"
   },
   {
    "duration": 41,
    "start_time": "2021-07-07T17:18:53.252Z"
   },
   {
    "duration": 33,
    "start_time": "2021-07-07T17:18:53.295Z"
   },
   {
    "duration": 19,
    "start_time": "2021-07-07T17:18:53.330Z"
   },
   {
    "duration": 49,
    "start_time": "2021-07-07T17:18:53.350Z"
   },
   {
    "duration": 5,
    "start_time": "2021-07-07T17:18:53.401Z"
   },
   {
    "duration": 5,
    "start_time": "2021-07-07T17:18:53.408Z"
   },
   {
    "duration": 11,
    "start_time": "2021-07-07T17:18:53.414Z"
   },
   {
    "duration": 9,
    "start_time": "2021-07-07T17:18:53.427Z"
   },
   {
    "duration": 10,
    "start_time": "2021-07-07T17:18:53.437Z"
   },
   {
    "duration": 39,
    "start_time": "2021-07-07T17:18:53.448Z"
   },
   {
    "duration": 26,
    "start_time": "2021-07-07T17:18:55.799Z"
   },
   {
    "duration": 598,
    "start_time": "2021-07-07T17:20:17.862Z"
   },
   {
    "duration": 161,
    "start_time": "2021-07-07T17:20:18.462Z"
   },
   {
    "duration": 45,
    "start_time": "2021-07-07T17:20:18.626Z"
   },
   {
    "duration": 4,
    "start_time": "2021-07-07T17:20:18.673Z"
   },
   {
    "duration": 38,
    "start_time": "2021-07-07T17:20:26.877Z"
   },
   {
    "duration": 7,
    "start_time": "2021-07-07T17:20:37.405Z"
   },
   {
    "duration": 19,
    "start_time": "2021-07-07T17:20:51.534Z"
   },
   {
    "duration": 5,
    "start_time": "2021-07-07T17:20:57.228Z"
   },
   {
    "duration": 7,
    "start_time": "2021-07-07T17:21:08.235Z"
   },
   {
    "duration": 19,
    "start_time": "2021-07-07T17:21:42.158Z"
   },
   {
    "duration": 14,
    "start_time": "2021-07-07T17:21:50.225Z"
   },
   {
    "duration": 22,
    "start_time": "2021-07-07T17:22:54.104Z"
   },
   {
    "duration": 5,
    "start_time": "2021-07-07T17:22:56.371Z"
   },
   {
    "duration": 14,
    "start_time": "2021-07-07T17:22:58.316Z"
   },
   {
    "duration": 5,
    "start_time": "2021-07-07T17:22:58.493Z"
   },
   {
    "duration": 35,
    "start_time": "2021-07-07T17:22:59.666Z"
   },
   {
    "duration": 6,
    "start_time": "2021-07-07T17:23:02.410Z"
   },
   {
    "duration": 611,
    "start_time": "2021-07-07T17:24:59.664Z"
   },
   {
    "duration": 178,
    "start_time": "2021-07-07T17:25:01.945Z"
   },
   {
    "duration": 47,
    "start_time": "2021-07-07T17:25:02.125Z"
   },
   {
    "duration": 2,
    "start_time": "2021-07-07T17:25:07.903Z"
   },
   {
    "duration": 254,
    "start_time": "2021-07-07T17:25:08.232Z"
   },
   {
    "duration": 182,
    "start_time": "2021-07-07T17:25:08.671Z"
   },
   {
    "duration": 6,
    "start_time": "2021-07-07T17:25:13.104Z"
   },
   {
    "duration": 36,
    "start_time": "2021-07-07T17:25:13.662Z"
   },
   {
    "duration": 7,
    "start_time": "2021-07-07T17:25:14.528Z"
   },
   {
    "duration": 24,
    "start_time": "2021-07-07T17:25:27.982Z"
   },
   {
    "duration": 3,
    "start_time": "2021-07-07T17:25:48.982Z"
   },
   {
    "duration": 165,
    "start_time": "2021-07-07T17:25:48.987Z"
   },
   {
    "duration": 50,
    "start_time": "2021-07-07T17:25:49.154Z"
   },
   {
    "duration": 4,
    "start_time": "2021-07-07T17:25:49.206Z"
   },
   {
    "duration": 26,
    "start_time": "2021-07-07T17:25:49.212Z"
   },
   {
    "duration": 7,
    "start_time": "2021-07-07T17:25:49.240Z"
   },
   {
    "duration": 16,
    "start_time": "2021-07-07T17:25:49.249Z"
   },
   {
    "duration": 22,
    "start_time": "2021-07-07T17:25:49.266Z"
   },
   {
    "duration": 16,
    "start_time": "2021-07-07T17:25:49.291Z"
   },
   {
    "duration": 9,
    "start_time": "2021-07-07T17:25:49.309Z"
   },
   {
    "duration": 7,
    "start_time": "2021-07-07T17:25:49.319Z"
   },
   {
    "duration": 28,
    "start_time": "2021-07-07T17:25:49.328Z"
   },
   {
    "duration": 44,
    "start_time": "2021-07-07T17:25:49.357Z"
   },
   {
    "duration": 22,
    "start_time": "2021-07-07T17:25:49.403Z"
   },
   {
    "duration": 7,
    "start_time": "2021-07-07T17:25:49.427Z"
   },
   {
    "duration": 3,
    "start_time": "2021-07-07T17:25:49.436Z"
   },
   {
    "duration": 44,
    "start_time": "2021-07-07T17:25:49.441Z"
   },
   {
    "duration": 12,
    "start_time": "2021-07-07T17:25:49.488Z"
   },
   {
    "duration": 13,
    "start_time": "2021-07-07T17:25:49.502Z"
   },
   {
    "duration": 10,
    "start_time": "2021-07-07T17:25:49.516Z"
   },
   {
    "duration": 62,
    "start_time": "2021-07-07T17:25:49.527Z"
   },
   {
    "duration": 26,
    "start_time": "2021-07-07T17:26:51.809Z"
   },
   {
    "duration": 26,
    "start_time": "2021-07-07T17:26:55.759Z"
   },
   {
    "duration": 26,
    "start_time": "2021-07-07T17:27:04.501Z"
   },
   {
    "duration": 25,
    "start_time": "2021-07-07T17:28:24.859Z"
   },
   {
    "duration": 21,
    "start_time": "2021-07-07T17:28:55.250Z"
   },
   {
    "duration": 21,
    "start_time": "2021-07-07T17:28:58.885Z"
   },
   {
    "duration": 7,
    "start_time": "2021-07-07T17:45:40.972Z"
   },
   {
    "duration": 13,
    "start_time": "2021-07-07T17:45:42.529Z"
   },
   {
    "duration": 27,
    "start_time": "2021-07-07T17:45:51.026Z"
   },
   {
    "duration": 518,
    "start_time": "2021-07-07T17:46:15.532Z"
   },
   {
    "duration": 235,
    "start_time": "2021-07-07T17:46:16.053Z"
   },
   {
    "duration": 80,
    "start_time": "2021-07-07T17:46:16.292Z"
   },
   {
    "duration": 5,
    "start_time": "2021-07-07T17:46:16.373Z"
   },
   {
    "duration": 26,
    "start_time": "2021-07-07T17:46:16.380Z"
   },
   {
    "duration": 7,
    "start_time": "2021-07-07T17:46:16.408Z"
   },
   {
    "duration": 16,
    "start_time": "2021-07-07T17:46:16.418Z"
   },
   {
    "duration": 5,
    "start_time": "2021-07-07T17:46:16.436Z"
   },
   {
    "duration": 13,
    "start_time": "2021-07-07T17:46:16.442Z"
   },
   {
    "duration": 35,
    "start_time": "2021-07-07T17:46:16.456Z"
   },
   {
    "duration": 8,
    "start_time": "2021-07-07T17:46:16.493Z"
   },
   {
    "duration": 28,
    "start_time": "2021-07-07T17:46:16.502Z"
   },
   {
    "duration": 17,
    "start_time": "2021-07-07T17:46:16.532Z"
   },
   {
    "duration": 44,
    "start_time": "2021-07-07T17:46:16.551Z"
   },
   {
    "duration": 6,
    "start_time": "2021-07-07T17:46:16.597Z"
   },
   {
    "duration": 4,
    "start_time": "2021-07-07T17:46:16.605Z"
   },
   {
    "duration": 9,
    "start_time": "2021-07-07T17:46:16.610Z"
   },
   {
    "duration": 9,
    "start_time": "2021-07-07T17:46:16.621Z"
   },
   {
    "duration": 10,
    "start_time": "2021-07-07T17:46:16.632Z"
   },
   {
    "duration": 43,
    "start_time": "2021-07-07T17:46:16.644Z"
   },
   {
    "duration": 26,
    "start_time": "2021-07-07T17:46:16.689Z"
   },
   {
    "duration": 19,
    "start_time": "2021-07-07T17:46:16.718Z"
   },
   {
    "duration": 8,
    "start_time": "2021-07-07T17:46:16.738Z"
   },
   {
    "duration": 43,
    "start_time": "2021-07-07T17:46:16.747Z"
   },
   {
    "duration": 19,
    "start_time": "2021-07-07T17:46:16.791Z"
   },
   {
    "duration": 9,
    "start_time": "2021-07-07T17:46:16.812Z"
   },
   {
    "duration": 60,
    "start_time": "2021-07-07T17:46:16.822Z"
   },
   {
    "duration": -8,
    "start_time": "2021-07-07T17:46:16.892Z"
   },
   {
    "duration": 12,
    "start_time": "2021-07-07T17:48:47.707Z"
   },
   {
    "duration": 553,
    "start_time": "2021-07-07T18:10:09.350Z"
   },
   {
    "duration": 230,
    "start_time": "2021-07-07T18:10:09.905Z"
   },
   {
    "duration": 97,
    "start_time": "2021-07-07T18:10:10.137Z"
   },
   {
    "duration": 5,
    "start_time": "2021-07-07T18:10:10.236Z"
   },
   {
    "duration": 29,
    "start_time": "2021-07-07T18:10:10.242Z"
   },
   {
    "duration": 7,
    "start_time": "2021-07-07T18:10:10.272Z"
   },
   {
    "duration": 15,
    "start_time": "2021-07-07T18:10:10.281Z"
   },
   {
    "duration": 4,
    "start_time": "2021-07-07T18:10:10.299Z"
   },
   {
    "duration": 14,
    "start_time": "2021-07-07T18:10:10.305Z"
   },
   {
    "duration": 8,
    "start_time": "2021-07-07T18:10:10.321Z"
   },
   {
    "duration": 8,
    "start_time": "2021-07-07T18:10:10.331Z"
   },
   {
    "duration": 56,
    "start_time": "2021-07-07T18:10:10.341Z"
   },
   {
    "duration": 19,
    "start_time": "2021-07-07T18:10:10.399Z"
   },
   {
    "duration": 23,
    "start_time": "2021-07-07T18:10:10.419Z"
   },
   {
    "duration": 6,
    "start_time": "2021-07-07T18:10:10.444Z"
   },
   {
    "duration": 9,
    "start_time": "2021-07-07T18:10:10.451Z"
   },
   {
    "duration": 30,
    "start_time": "2021-07-07T18:10:10.462Z"
   },
   {
    "duration": 9,
    "start_time": "2021-07-07T18:10:10.494Z"
   },
   {
    "duration": 14,
    "start_time": "2021-07-07T18:10:10.505Z"
   },
   {
    "duration": 7,
    "start_time": "2021-07-07T18:10:10.521Z"
   },
   {
    "duration": 26,
    "start_time": "2021-07-07T18:10:10.530Z"
   },
   {
    "duration": 44,
    "start_time": "2021-07-07T18:10:10.558Z"
   },
   {
    "duration": 7,
    "start_time": "2021-07-07T18:10:10.605Z"
   },
   {
    "duration": 11,
    "start_time": "2021-07-07T18:10:10.614Z"
   },
   {
    "duration": 19,
    "start_time": "2021-07-07T18:10:10.626Z"
   },
   {
    "duration": 44,
    "start_time": "2021-07-07T18:10:10.646Z"
   },
   {
    "duration": 516,
    "start_time": "2021-07-07T18:14:00.826Z"
   },
   {
    "duration": 230,
    "start_time": "2021-07-07T18:14:01.344Z"
   },
   {
    "duration": 105,
    "start_time": "2021-07-07T18:14:01.576Z"
   },
   {
    "duration": 5,
    "start_time": "2021-07-07T18:14:01.683Z"
   },
   {
    "duration": 46,
    "start_time": "2021-07-07T18:14:01.690Z"
   },
   {
    "duration": 7,
    "start_time": "2021-07-07T18:14:01.738Z"
   },
   {
    "duration": 20,
    "start_time": "2021-07-07T18:14:01.747Z"
   },
   {
    "duration": 16,
    "start_time": "2021-07-07T18:14:01.769Z"
   },
   {
    "duration": 14,
    "start_time": "2021-07-07T18:14:01.787Z"
   },
   {
    "duration": 15,
    "start_time": "2021-07-07T18:14:01.803Z"
   },
   {
    "duration": 12,
    "start_time": "2021-07-07T18:14:01.820Z"
   },
   {
    "duration": 35,
    "start_time": "2021-07-07T18:14:01.833Z"
   },
   {
    "duration": 31,
    "start_time": "2021-07-07T18:14:01.869Z"
   },
   {
    "duration": 37,
    "start_time": "2021-07-07T18:14:01.902Z"
   },
   {
    "duration": 8,
    "start_time": "2021-07-07T18:14:01.942Z"
   },
   {
    "duration": 16,
    "start_time": "2021-07-07T18:14:01.952Z"
   },
   {
    "duration": 13,
    "start_time": "2021-07-07T18:14:01.970Z"
   },
   {
    "duration": 32,
    "start_time": "2021-07-07T18:14:01.985Z"
   },
   {
    "duration": 11,
    "start_time": "2021-07-07T18:14:02.019Z"
   },
   {
    "duration": 22,
    "start_time": "2021-07-07T18:14:02.031Z"
   },
   {
    "duration": 27,
    "start_time": "2021-07-07T18:14:02.055Z"
   },
   {
    "duration": 18,
    "start_time": "2021-07-07T18:14:02.084Z"
   },
   {
    "duration": 18,
    "start_time": "2021-07-07T18:14:02.106Z"
   },
   {
    "duration": 11,
    "start_time": "2021-07-07T18:14:02.126Z"
   },
   {
    "duration": 21,
    "start_time": "2021-07-07T18:14:02.138Z"
   },
   {
    "duration": 32,
    "start_time": "2021-07-07T18:14:02.161Z"
   },
   {
    "duration": 28,
    "start_time": "2021-07-07T18:14:44.295Z"
   },
   {
    "duration": 6,
    "start_time": "2021-07-07T18:15:05.834Z"
   },
   {
    "duration": 511,
    "start_time": "2021-07-07T18:15:41.541Z"
   },
   {
    "duration": 183,
    "start_time": "2021-07-07T18:15:42.054Z"
   },
   {
    "duration": 50,
    "start_time": "2021-07-07T18:15:42.239Z"
   },
   {
    "duration": 5,
    "start_time": "2021-07-07T18:15:42.291Z"
   },
   {
    "duration": 48,
    "start_time": "2021-07-07T18:15:42.297Z"
   },
   {
    "duration": 8,
    "start_time": "2021-07-07T18:15:42.346Z"
   },
   {
    "duration": 17,
    "start_time": "2021-07-07T18:15:42.356Z"
   },
   {
    "duration": 15,
    "start_time": "2021-07-07T18:15:42.375Z"
   },
   {
    "duration": 12,
    "start_time": "2021-07-07T18:15:42.392Z"
   },
   {
    "duration": 7,
    "start_time": "2021-07-07T18:15:42.406Z"
   },
   {
    "duration": 7,
    "start_time": "2021-07-07T18:15:42.415Z"
   },
   {
    "duration": 29,
    "start_time": "2021-07-07T18:15:42.423Z"
   },
   {
    "duration": 43,
    "start_time": "2021-07-07T18:15:42.453Z"
   },
   {
    "duration": 18,
    "start_time": "2021-07-07T18:15:42.497Z"
   },
   {
    "duration": 6,
    "start_time": "2021-07-07T18:15:42.516Z"
   },
   {
    "duration": 3,
    "start_time": "2021-07-07T18:15:42.523Z"
   },
   {
    "duration": 18,
    "start_time": "2021-07-07T18:15:42.528Z"
   },
   {
    "duration": 10,
    "start_time": "2021-07-07T18:15:42.547Z"
   },
   {
    "duration": 36,
    "start_time": "2021-07-07T18:15:42.559Z"
   },
   {
    "duration": 8,
    "start_time": "2021-07-07T18:15:42.597Z"
   },
   {
    "duration": 28,
    "start_time": "2021-07-07T18:15:42.606Z"
   },
   {
    "duration": 52,
    "start_time": "2021-07-07T18:15:42.635Z"
   },
   {
    "duration": 7,
    "start_time": "2021-07-07T18:15:42.690Z"
   },
   {
    "duration": 10,
    "start_time": "2021-07-07T18:15:42.699Z"
   },
   {
    "duration": 19,
    "start_time": "2021-07-07T18:15:42.711Z"
   },
   {
    "duration": 9,
    "start_time": "2021-07-07T18:15:42.732Z"
   },
   {
    "duration": 5,
    "start_time": "2021-07-07T18:15:42.743Z"
   },
   {
    "duration": 1450,
    "start_time": "2021-07-07T18:15:51.984Z"
   },
   {
    "duration": 161,
    "start_time": "2021-07-07T18:15:53.435Z"
   },
   {
    "duration": 124,
    "start_time": "2021-07-07T18:15:53.598Z"
   },
   {
    "duration": 5,
    "start_time": "2021-07-07T18:15:53.724Z"
   },
   {
    "duration": 34,
    "start_time": "2021-07-07T18:15:53.730Z"
   },
   {
    "duration": 7,
    "start_time": "2021-07-07T18:15:53.765Z"
   },
   {
    "duration": 15,
    "start_time": "2021-07-07T18:15:53.773Z"
   },
   {
    "duration": 5,
    "start_time": "2021-07-07T18:15:53.791Z"
   },
   {
    "duration": 19,
    "start_time": "2021-07-07T18:15:53.798Z"
   },
   {
    "duration": 9,
    "start_time": "2021-07-07T18:15:53.818Z"
   },
   {
    "duration": 19,
    "start_time": "2021-07-07T18:15:53.828Z"
   },
   {
    "duration": 27,
    "start_time": "2021-07-07T18:15:53.848Z"
   },
   {
    "duration": 16,
    "start_time": "2021-07-07T18:15:53.884Z"
   },
   {
    "duration": 29,
    "start_time": "2021-07-07T18:15:53.901Z"
   },
   {
    "duration": 5,
    "start_time": "2021-07-07T18:15:53.932Z"
   },
   {
    "duration": 15,
    "start_time": "2021-07-07T18:15:53.939Z"
   },
   {
    "duration": 13,
    "start_time": "2021-07-07T18:15:53.956Z"
   },
   {
    "duration": 20,
    "start_time": "2021-07-07T18:15:53.971Z"
   },
   {
    "duration": 14,
    "start_time": "2021-07-07T18:15:53.992Z"
   },
   {
    "duration": 9,
    "start_time": "2021-07-07T18:15:54.009Z"
   },
   {
    "duration": 28,
    "start_time": "2021-07-07T18:15:54.020Z"
   },
   {
    "duration": 50,
    "start_time": "2021-07-07T18:15:54.051Z"
   },
   {
    "duration": 8,
    "start_time": "2021-07-07T18:15:54.105Z"
   },
   {
    "duration": 11,
    "start_time": "2021-07-07T18:15:54.115Z"
   },
   {
    "duration": 20,
    "start_time": "2021-07-07T18:15:54.128Z"
   },
   {
    "duration": 13,
    "start_time": "2021-07-07T18:15:54.184Z"
   },
   {
    "duration": 7,
    "start_time": "2021-07-07T18:15:54.199Z"
   },
   {
    "duration": 7,
    "start_time": "2021-07-07T18:17:08.042Z"
   },
   {
    "duration": 8,
    "start_time": "2021-07-07T18:17:21.008Z"
   },
   {
    "duration": 7,
    "start_time": "2021-07-07T18:17:29.003Z"
   },
   {
    "duration": 8,
    "start_time": "2021-07-07T18:17:32.492Z"
   },
   {
    "duration": 9,
    "start_time": "2021-07-07T18:17:41.758Z"
   },
   {
    "duration": 255,
    "start_time": "2021-07-07T18:20:20.897Z"
   },
   {
    "duration": 173,
    "start_time": "2021-07-07T18:20:26.636Z"
   },
   {
    "duration": 7,
    "start_time": "2021-07-07T18:21:47.164Z"
   },
   {
    "duration": 254,
    "start_time": "2021-07-07T18:23:08.703Z"
   },
   {
    "duration": 21,
    "start_time": "2021-07-07T18:23:22.506Z"
   },
   {
    "duration": 315,
    "start_time": "2021-07-07T18:25:54.801Z"
   },
   {
    "duration": 34,
    "start_time": "2021-07-07T18:26:51.817Z"
   },
   {
    "duration": 327,
    "start_time": "2021-07-07T18:26:56.147Z"
   },
   {
    "duration": 342,
    "start_time": "2021-07-07T18:27:15.887Z"
   },
   {
    "duration": 302,
    "start_time": "2021-07-07T18:28:18.569Z"
   },
   {
    "duration": 226,
    "start_time": "2021-07-07T18:29:20.879Z"
   },
   {
    "duration": 207,
    "start_time": "2021-07-07T18:29:58.114Z"
   },
   {
    "duration": 140,
    "start_time": "2021-07-07T18:32:04.372Z"
   },
   {
    "duration": 158,
    "start_time": "2021-07-07T18:32:32.508Z"
   },
   {
    "duration": 145,
    "start_time": "2021-07-07T18:32:41.365Z"
   },
   {
    "duration": 132,
    "start_time": "2021-07-07T18:32:45.199Z"
   },
   {
    "duration": 11,
    "start_time": "2021-07-07T18:35:24.679Z"
   },
   {
    "duration": 268,
    "start_time": "2021-07-07T18:36:16.145Z"
   },
   {
    "duration": 227,
    "start_time": "2021-07-07T18:37:04.918Z"
   },
   {
    "duration": 3,
    "start_time": "2021-07-07T18:37:33.012Z"
   },
   {
    "duration": 671,
    "start_time": "2021-07-07T18:37:38.295Z"
   },
   {
    "duration": 54,
    "start_time": "2021-07-07T18:37:53.406Z"
   },
   {
    "duration": 631,
    "start_time": "2021-07-07T18:37:56.463Z"
   },
   {
    "duration": 19,
    "start_time": "2021-07-07T18:39:40.535Z"
   },
   {
    "duration": 20,
    "start_time": "2021-07-07T18:40:12.236Z"
   },
   {
    "duration": 633,
    "start_time": "2021-07-07T18:42:00.398Z"
   },
   {
    "duration": 218,
    "start_time": "2021-07-07T18:42:01.033Z"
   },
   {
    "duration": 49,
    "start_time": "2021-07-07T18:42:01.253Z"
   },
   {
    "duration": 5,
    "start_time": "2021-07-07T18:42:01.303Z"
   },
   {
    "duration": 27,
    "start_time": "2021-07-07T18:42:01.310Z"
   },
   {
    "duration": 8,
    "start_time": "2021-07-07T18:42:01.339Z"
   },
   {
    "duration": 20,
    "start_time": "2021-07-07T18:42:01.348Z"
   },
   {
    "duration": 6,
    "start_time": "2021-07-07T18:42:01.386Z"
   },
   {
    "duration": 16,
    "start_time": "2021-07-07T18:42:01.394Z"
   },
   {
    "duration": 9,
    "start_time": "2021-07-07T18:42:01.411Z"
   },
   {
    "duration": 11,
    "start_time": "2021-07-07T18:42:01.421Z"
   },
   {
    "duration": 31,
    "start_time": "2021-07-07T18:42:01.434Z"
   },
   {
    "duration": 18,
    "start_time": "2021-07-07T18:42:01.485Z"
   },
   {
    "duration": 23,
    "start_time": "2021-07-07T18:42:01.505Z"
   },
   {
    "duration": 6,
    "start_time": "2021-07-07T18:42:01.530Z"
   },
   {
    "duration": 10,
    "start_time": "2021-07-07T18:42:01.538Z"
   },
   {
    "duration": 13,
    "start_time": "2021-07-07T18:42:01.550Z"
   },
   {
    "duration": 24,
    "start_time": "2021-07-07T18:42:01.564Z"
   },
   {
    "duration": 20,
    "start_time": "2021-07-07T18:42:01.590Z"
   },
   {
    "duration": 8,
    "start_time": "2021-07-07T18:42:01.611Z"
   },
   {
    "duration": 31,
    "start_time": "2021-07-07T18:42:01.620Z"
   },
   {
    "duration": 39,
    "start_time": "2021-07-07T18:42:01.653Z"
   },
   {
    "duration": 8,
    "start_time": "2021-07-07T18:42:01.696Z"
   },
   {
    "duration": 13,
    "start_time": "2021-07-07T18:42:01.705Z"
   },
   {
    "duration": 20,
    "start_time": "2021-07-07T18:42:01.720Z"
   },
   {
    "duration": 12,
    "start_time": "2021-07-07T18:42:01.741Z"
   },
   {
    "duration": 35,
    "start_time": "2021-07-07T18:42:01.755Z"
   },
   {
    "duration": 14,
    "start_time": "2021-07-07T18:42:01.792Z"
   },
   {
    "duration": 188,
    "start_time": "2021-07-07T18:42:01.808Z"
   },
   {
    "duration": 19,
    "start_time": "2021-07-07T18:42:01.998Z"
   },
   {
    "duration": 175,
    "start_time": "2021-07-07T18:42:02.019Z"
   },
   {
    "duration": 134,
    "start_time": "2021-07-07T18:42:02.196Z"
   },
   {
    "duration": 10,
    "start_time": "2021-07-07T18:42:02.331Z"
   },
   {
    "duration": 19,
    "start_time": "2021-07-07T18:42:02.343Z"
   },
   {
    "duration": 628,
    "start_time": "2021-07-07T18:46:30.701Z"
   },
   {
    "duration": 183,
    "start_time": "2021-07-07T18:46:31.331Z"
   },
   {
    "duration": 48,
    "start_time": "2021-07-07T18:46:31.516Z"
   },
   {
    "duration": 5,
    "start_time": "2021-07-07T18:46:31.566Z"
   },
   {
    "duration": 28,
    "start_time": "2021-07-07T18:46:31.572Z"
   },
   {
    "duration": 8,
    "start_time": "2021-07-07T18:46:31.602Z"
   },
   {
    "duration": 19,
    "start_time": "2021-07-07T18:46:31.611Z"
   },
   {
    "duration": 6,
    "start_time": "2021-07-07T18:46:31.633Z"
   },
   {
    "duration": 17,
    "start_time": "2021-07-07T18:46:31.642Z"
   },
   {
    "duration": 10,
    "start_time": "2021-07-07T18:46:31.684Z"
   },
   {
    "duration": 9,
    "start_time": "2021-07-07T18:46:31.695Z"
   },
   {
    "duration": 28,
    "start_time": "2021-07-07T18:46:31.705Z"
   },
   {
    "duration": 18,
    "start_time": "2021-07-07T18:46:31.735Z"
   },
   {
    "duration": 48,
    "start_time": "2021-07-07T18:46:31.755Z"
   },
   {
    "duration": 6,
    "start_time": "2021-07-07T18:46:31.804Z"
   },
   {
    "duration": 4,
    "start_time": "2021-07-07T18:46:31.812Z"
   },
   {
    "duration": 9,
    "start_time": "2021-07-07T18:46:31.817Z"
   },
   {
    "duration": 10,
    "start_time": "2021-07-07T18:46:31.827Z"
   },
   {
    "duration": 12,
    "start_time": "2021-07-07T18:46:31.838Z"
   },
   {
    "duration": 39,
    "start_time": "2021-07-07T18:46:31.851Z"
   },
   {
    "duration": 24,
    "start_time": "2021-07-07T18:46:31.892Z"
   },
   {
    "duration": 15,
    "start_time": "2021-07-07T18:46:31.918Z"
   },
   {
    "duration": 7,
    "start_time": "2021-07-07T18:46:31.936Z"
   },
   {
    "duration": 8,
    "start_time": "2021-07-07T18:46:31.944Z"
   },
   {
    "duration": 19,
    "start_time": "2021-07-07T18:46:31.984Z"
   },
   {
    "duration": 10,
    "start_time": "2021-07-07T18:46:32.004Z"
   },
   {
    "duration": 5,
    "start_time": "2021-07-07T18:46:32.016Z"
   },
   {
    "duration": 9,
    "start_time": "2021-07-07T18:46:32.023Z"
   },
   {
    "duration": 199,
    "start_time": "2021-07-07T18:46:32.033Z"
   },
   {
    "duration": 19,
    "start_time": "2021-07-07T18:46:32.234Z"
   },
   {
    "duration": 159,
    "start_time": "2021-07-07T18:46:32.255Z"
   },
   {
    "duration": 134,
    "start_time": "2021-07-07T18:46:32.416Z"
   },
   {
    "duration": 10,
    "start_time": "2021-07-07T18:46:32.552Z"
   },
   {
    "duration": 34,
    "start_time": "2021-07-07T18:46:32.563Z"
   },
   {
    "duration": 1039,
    "start_time": "2021-07-08T08:41:09.419Z"
   },
   {
    "duration": 333,
    "start_time": "2021-07-08T08:41:10.459Z"
   },
   {
    "duration": 173,
    "start_time": "2021-07-08T08:41:10.794Z"
   },
   {
    "duration": 5,
    "start_time": "2021-07-08T08:41:10.968Z"
   },
   {
    "duration": 25,
    "start_time": "2021-07-08T08:41:10.975Z"
   },
   {
    "duration": 9,
    "start_time": "2021-07-08T08:41:11.002Z"
   },
   {
    "duration": 18,
    "start_time": "2021-07-08T08:41:11.013Z"
   },
   {
    "duration": 6,
    "start_time": "2021-07-08T08:41:11.033Z"
   },
   {
    "duration": 44,
    "start_time": "2021-07-08T08:41:11.042Z"
   },
   {
    "duration": 10,
    "start_time": "2021-07-08T08:41:11.088Z"
   },
   {
    "duration": 9,
    "start_time": "2021-07-08T08:41:11.100Z"
   },
   {
    "duration": 27,
    "start_time": "2021-07-08T08:41:11.111Z"
   },
   {
    "duration": 46,
    "start_time": "2021-07-08T08:41:11.140Z"
   },
   {
    "duration": 17,
    "start_time": "2021-07-08T08:41:11.187Z"
   },
   {
    "duration": 6,
    "start_time": "2021-07-08T08:41:11.206Z"
   },
   {
    "duration": 5,
    "start_time": "2021-07-08T08:41:11.213Z"
   },
   {
    "duration": 10,
    "start_time": "2021-07-08T08:41:11.219Z"
   },
   {
    "duration": 9,
    "start_time": "2021-07-08T08:41:11.230Z"
   },
   {
    "duration": 45,
    "start_time": "2021-07-08T08:41:11.241Z"
   },
   {
    "duration": 7,
    "start_time": "2021-07-08T08:41:11.287Z"
   },
   {
    "duration": 24,
    "start_time": "2021-07-08T08:41:11.296Z"
   },
   {
    "duration": 16,
    "start_time": "2021-07-08T08:41:11.322Z"
   },
   {
    "duration": 7,
    "start_time": "2021-07-08T08:41:11.341Z"
   },
   {
    "duration": 41,
    "start_time": "2021-07-08T08:41:11.349Z"
   },
   {
    "duration": 17,
    "start_time": "2021-07-08T08:41:11.391Z"
   },
   {
    "duration": 9,
    "start_time": "2021-07-08T08:41:11.410Z"
   },
   {
    "duration": 5,
    "start_time": "2021-07-08T08:41:11.421Z"
   },
   {
    "duration": 6,
    "start_time": "2021-07-08T08:41:11.428Z"
   },
   {
    "duration": 198,
    "start_time": "2021-07-08T08:41:11.435Z"
   },
   {
    "duration": 18,
    "start_time": "2021-07-08T08:41:11.635Z"
   },
   {
    "duration": 155,
    "start_time": "2021-07-08T08:41:11.655Z"
   },
   {
    "duration": 138,
    "start_time": "2021-07-08T08:41:11.811Z"
   },
   {
    "duration": 10,
    "start_time": "2021-07-08T08:41:11.950Z"
   },
   {
    "duration": 29,
    "start_time": "2021-07-08T08:41:11.961Z"
   },
   {
    "duration": 171,
    "start_time": "2021-07-08T08:47:44.522Z"
   },
   {
    "duration": 124,
    "start_time": "2021-07-08T08:47:46.872Z"
   },
   {
    "duration": 191,
    "start_time": "2021-07-08T08:47:58.148Z"
   },
   {
    "duration": 191,
    "start_time": "2021-07-08T08:48:07.412Z"
   },
   {
    "duration": 261,
    "start_time": "2021-07-08T08:48:10.385Z"
   },
   {
    "duration": 255,
    "start_time": "2021-07-08T08:48:14.494Z"
   },
   {
    "duration": 219,
    "start_time": "2021-07-08T08:48:22.752Z"
   },
   {
    "duration": 173,
    "start_time": "2021-07-08T08:49:06.395Z"
   },
   {
    "duration": 180,
    "start_time": "2021-07-08T08:49:21.011Z"
   },
   {
    "duration": 6,
    "start_time": "2021-07-08T08:50:31.697Z"
   },
   {
    "duration": 10,
    "start_time": "2021-07-08T08:50:47.394Z"
   },
   {
    "duration": 11,
    "start_time": "2021-07-08T08:53:49.332Z"
   },
   {
    "duration": 171,
    "start_time": "2021-07-08T08:54:28.408Z"
   },
   {
    "duration": 636,
    "start_time": "2021-07-08T09:02:48.385Z"
   },
   {
    "duration": 227,
    "start_time": "2021-07-08T09:02:49.023Z"
   },
   {
    "duration": 104,
    "start_time": "2021-07-08T09:02:49.252Z"
   },
   {
    "duration": 5,
    "start_time": "2021-07-08T09:02:49.358Z"
   },
   {
    "duration": 27,
    "start_time": "2021-07-08T09:02:49.365Z"
   },
   {
    "duration": 8,
    "start_time": "2021-07-08T09:02:49.394Z"
   },
   {
    "duration": 18,
    "start_time": "2021-07-08T09:02:49.404Z"
   },
   {
    "duration": 6,
    "start_time": "2021-07-08T09:02:49.424Z"
   },
   {
    "duration": 11,
    "start_time": "2021-07-08T09:02:49.433Z"
   },
   {
    "duration": 13,
    "start_time": "2021-07-08T09:02:49.485Z"
   },
   {
    "duration": 9,
    "start_time": "2021-07-08T09:02:49.500Z"
   },
   {
    "duration": 38,
    "start_time": "2021-07-08T09:02:49.511Z"
   },
   {
    "duration": 42,
    "start_time": "2021-07-08T09:02:49.551Z"
   },
   {
    "duration": 21,
    "start_time": "2021-07-08T09:02:49.594Z"
   },
   {
    "duration": 6,
    "start_time": "2021-07-08T09:02:49.616Z"
   },
   {
    "duration": 3,
    "start_time": "2021-07-08T09:02:49.623Z"
   },
   {
    "duration": 9,
    "start_time": "2021-07-08T09:02:49.628Z"
   },
   {
    "duration": 52,
    "start_time": "2021-07-08T09:02:49.638Z"
   },
   {
    "duration": 11,
    "start_time": "2021-07-08T09:02:49.692Z"
   },
   {
    "duration": 8,
    "start_time": "2021-07-08T09:02:49.704Z"
   },
   {
    "duration": 27,
    "start_time": "2021-07-08T09:02:49.713Z"
   },
   {
    "duration": 59,
    "start_time": "2021-07-08T09:02:49.741Z"
   },
   {
    "duration": 8,
    "start_time": "2021-07-08T09:02:49.803Z"
   },
   {
    "duration": 14,
    "start_time": "2021-07-08T09:02:49.813Z"
   },
   {
    "duration": 20,
    "start_time": "2021-07-08T09:02:49.829Z"
   },
   {
    "duration": 44,
    "start_time": "2021-07-08T09:02:49.851Z"
   },
   {
    "duration": 14,
    "start_time": "2021-07-08T09:02:49.896Z"
   },
   {
    "duration": 221,
    "start_time": "2021-07-08T09:02:49.912Z"
   },
   {
    "duration": 6,
    "start_time": "2021-07-08T09:02:50.134Z"
   },
   {
    "duration": 206,
    "start_time": "2021-07-08T09:02:50.142Z"
   },
   {
    "duration": 19,
    "start_time": "2021-07-08T09:02:50.350Z"
   },
   {
    "duration": 21,
    "start_time": "2021-07-08T09:02:50.370Z"
   },
   {
    "duration": 20,
    "start_time": "2021-07-08T09:02:50.393Z"
   },
   {
    "duration": 5,
    "start_time": "2021-07-08T09:02:50.414Z"
   },
   {
    "duration": 5,
    "start_time": "2021-07-08T09:03:34.173Z"
   },
   {
    "duration": 6,
    "start_time": "2021-07-08T09:04:49.062Z"
   },
   {
    "duration": 9,
    "start_time": "2021-07-08T09:04:50.118Z"
   },
   {
    "duration": 14,
    "start_time": "2021-07-08T09:04:58.512Z"
   },
   {
    "duration": 9,
    "start_time": "2021-07-08T09:05:10.988Z"
   },
   {
    "duration": 11,
    "start_time": "2021-07-08T09:05:11.743Z"
   },
   {
    "duration": 7,
    "start_time": "2021-07-08T09:05:25.677Z"
   },
   {
    "duration": 13,
    "start_time": "2021-07-08T09:05:47.189Z"
   },
   {
    "duration": 13,
    "start_time": "2021-07-08T09:05:54.755Z"
   },
   {
    "duration": 4,
    "start_time": "2021-07-08T09:06:29.189Z"
   },
   {
    "duration": 244,
    "start_time": "2021-07-08T09:06:29.195Z"
   },
   {
    "duration": 91,
    "start_time": "2021-07-08T09:06:29.441Z"
   },
   {
    "duration": 4,
    "start_time": "2021-07-08T09:06:29.534Z"
   },
   {
    "duration": 28,
    "start_time": "2021-07-08T09:06:29.540Z"
   },
   {
    "duration": 6,
    "start_time": "2021-07-08T09:06:29.570Z"
   },
   {
    "duration": 18,
    "start_time": "2021-07-08T09:06:29.578Z"
   },
   {
    "duration": 5,
    "start_time": "2021-07-08T09:06:29.597Z"
   },
   {
    "duration": 13,
    "start_time": "2021-07-08T09:06:29.605Z"
   },
   {
    "duration": 8,
    "start_time": "2021-07-08T09:06:29.620Z"
   },
   {
    "duration": 7,
    "start_time": "2021-07-08T09:06:29.630Z"
   },
   {
    "duration": 63,
    "start_time": "2021-07-08T09:06:29.639Z"
   },
   {
    "duration": 17,
    "start_time": "2021-07-08T09:06:29.704Z"
   },
   {
    "duration": 20,
    "start_time": "2021-07-08T09:06:29.723Z"
   },
   {
    "duration": 6,
    "start_time": "2021-07-08T09:06:29.745Z"
   },
   {
    "duration": 3,
    "start_time": "2021-07-08T09:06:29.752Z"
   },
   {
    "duration": 7,
    "start_time": "2021-07-08T09:06:29.785Z"
   },
   {
    "duration": 11,
    "start_time": "2021-07-08T09:06:29.794Z"
   },
   {
    "duration": 15,
    "start_time": "2021-07-08T09:06:29.807Z"
   },
   {
    "duration": 8,
    "start_time": "2021-07-08T09:06:29.823Z"
   },
   {
    "duration": 70,
    "start_time": "2021-07-08T09:06:29.832Z"
   },
   {
    "duration": 17,
    "start_time": "2021-07-08T09:06:29.903Z"
   },
   {
    "duration": 9,
    "start_time": "2021-07-08T09:06:29.921Z"
   },
   {
    "duration": 9,
    "start_time": "2021-07-08T09:06:29.932Z"
   },
   {
    "duration": 57,
    "start_time": "2021-07-08T09:06:29.942Z"
   },
   {
    "duration": 11,
    "start_time": "2021-07-08T09:06:30.001Z"
   },
   {
    "duration": 19,
    "start_time": "2021-07-08T09:06:30.016Z"
   },
   {
    "duration": 217,
    "start_time": "2021-07-08T09:06:30.037Z"
   },
   {
    "duration": 6,
    "start_time": "2021-07-08T09:06:30.255Z"
   },
   {
    "duration": 205,
    "start_time": "2021-07-08T09:06:30.263Z"
   },
   {
    "duration": 27,
    "start_time": "2021-07-08T09:06:30.470Z"
   },
   {
    "duration": 11,
    "start_time": "2021-07-08T09:06:30.500Z"
   },
   {
    "duration": 31,
    "start_time": "2021-07-08T09:06:30.513Z"
   },
   {
    "duration": 18,
    "start_time": "2021-07-08T09:06:30.546Z"
   },
   {
    "duration": 11,
    "start_time": "2021-07-08T09:06:30.566Z"
   },
   {
    "duration": 19,
    "start_time": "2021-07-08T09:06:30.579Z"
   },
   {
    "duration": 20,
    "start_time": "2021-07-08T09:06:49.466Z"
   },
   {
    "duration": 9,
    "start_time": "2021-07-08T09:06:51.994Z"
   },
   {
    "duration": 20,
    "start_time": "2021-07-08T09:06:52.273Z"
   },
   {
    "duration": 246,
    "start_time": "2021-07-08T09:10:21.272Z"
   },
   {
    "duration": 84,
    "start_time": "2021-07-08T09:10:21.436Z"
   },
   {
    "duration": 7,
    "start_time": "2021-07-08T09:10:37.608Z"
   },
   {
    "duration": 189,
    "start_time": "2021-07-08T09:10:38.573Z"
   },
   {
    "duration": 185,
    "start_time": "2021-07-08T09:10:53.181Z"
   },
   {
    "duration": 11,
    "start_time": "2021-07-08T09:10:59.549Z"
   },
   {
    "duration": 42,
    "start_time": "2021-07-08T09:10:59.709Z"
   },
   {
    "duration": 12,
    "start_time": "2021-07-08T09:11:02.857Z"
   },
   {
    "duration": 28,
    "start_time": "2021-07-08T09:11:10.062Z"
   },
   {
    "duration": 249,
    "start_time": "2021-07-08T09:11:37.388Z"
   },
   {
    "duration": 232,
    "start_time": "2021-07-08T09:11:49.485Z"
   },
   {
    "duration": 453,
    "start_time": "2021-07-08T09:12:01.546Z"
   },
   {
    "duration": 440,
    "start_time": "2021-07-08T09:12:12.347Z"
   },
   {
    "duration": 213,
    "start_time": "2021-07-08T09:13:32.196Z"
   },
   {
    "duration": 172,
    "start_time": "2021-07-08T09:14:07.400Z"
   },
   {
    "duration": 185,
    "start_time": "2021-07-08T09:14:14.905Z"
   },
   {
    "duration": 209,
    "start_time": "2021-07-08T09:14:40.109Z"
   },
   {
    "duration": 201,
    "start_time": "2021-07-08T09:14:54.506Z"
   },
   {
    "duration": 622,
    "start_time": "2021-07-08T09:18:14.497Z"
   },
   {
    "duration": 220,
    "start_time": "2021-07-08T09:18:15.121Z"
   },
   {
    "duration": 79,
    "start_time": "2021-07-08T09:18:15.343Z"
   },
   {
    "duration": 4,
    "start_time": "2021-07-08T09:18:15.425Z"
   },
   {
    "duration": 24,
    "start_time": "2021-07-08T09:18:15.431Z"
   },
   {
    "duration": 8,
    "start_time": "2021-07-08T09:18:15.457Z"
   },
   {
    "duration": 16,
    "start_time": "2021-07-08T09:18:15.466Z"
   },
   {
    "duration": 5,
    "start_time": "2021-07-08T09:18:15.484Z"
   },
   {
    "duration": 10,
    "start_time": "2021-07-08T09:18:15.493Z"
   },
   {
    "duration": 8,
    "start_time": "2021-07-08T09:18:15.504Z"
   },
   {
    "duration": 7,
    "start_time": "2021-07-08T09:18:15.513Z"
   },
   {
    "duration": 26,
    "start_time": "2021-07-08T09:18:15.522Z"
   },
   {
    "duration": 49,
    "start_time": "2021-07-08T09:18:15.550Z"
   },
   {
    "duration": 21,
    "start_time": "2021-07-08T09:18:15.601Z"
   },
   {
    "duration": 8,
    "start_time": "2021-07-08T09:18:15.624Z"
   },
   {
    "duration": 3,
    "start_time": "2021-07-08T09:18:15.634Z"
   },
   {
    "duration": 8,
    "start_time": "2021-07-08T09:18:15.639Z"
   },
   {
    "duration": 45,
    "start_time": "2021-07-08T09:18:15.649Z"
   },
   {
    "duration": 13,
    "start_time": "2021-07-08T09:18:15.696Z"
   },
   {
    "duration": 10,
    "start_time": "2021-07-08T09:18:15.711Z"
   },
   {
    "duration": 64,
    "start_time": "2021-07-08T09:18:15.722Z"
   },
   {
    "duration": 19,
    "start_time": "2021-07-08T09:18:15.788Z"
   },
   {
    "duration": 9,
    "start_time": "2021-07-08T09:18:15.809Z"
   },
   {
    "duration": 9,
    "start_time": "2021-07-08T09:18:15.820Z"
   },
   {
    "duration": 18,
    "start_time": "2021-07-08T09:18:15.831Z"
   },
   {
    "duration": 43,
    "start_time": "2021-07-08T09:18:15.851Z"
   },
   {
    "duration": 12,
    "start_time": "2021-07-08T09:18:15.897Z"
   },
   {
    "duration": 219,
    "start_time": "2021-07-08T09:18:15.911Z"
   },
   {
    "duration": 8,
    "start_time": "2021-07-08T09:18:16.132Z"
   },
   {
    "duration": 199,
    "start_time": "2021-07-08T09:18:16.141Z"
   },
   {
    "duration": 18,
    "start_time": "2021-07-08T09:18:16.341Z"
   },
   {
    "duration": 24,
    "start_time": "2021-07-08T09:18:16.361Z"
   },
   {
    "duration": 24,
    "start_time": "2021-07-08T09:18:16.387Z"
   },
   {
    "duration": 211,
    "start_time": "2021-07-08T09:18:16.413Z"
   },
   {
    "duration": 18,
    "start_time": "2021-07-08T09:18:16.626Z"
   },
   {
    "duration": 596,
    "start_time": "2021-07-08T10:06:33.623Z"
   },
   {
    "duration": 181,
    "start_time": "2021-07-08T10:06:34.221Z"
   },
   {
    "duration": 176,
    "start_time": "2021-07-08T10:06:34.635Z"
   },
   {
    "duration": 239,
    "start_time": "2021-07-08T10:06:55.572Z"
   },
   {
    "duration": 6,
    "start_time": "2021-07-08T10:06:57.687Z"
   },
   {
    "duration": 4,
    "start_time": "2021-07-08T10:07:03.956Z"
   },
   {
    "duration": 4,
    "start_time": "2021-07-08T10:07:10.376Z"
   },
   {
    "duration": 4,
    "start_time": "2021-07-08T10:17:19.889Z"
   },
   {
    "duration": 3,
    "start_time": "2021-07-08T10:19:19.407Z"
   },
   {
    "duration": 197,
    "start_time": "2021-07-08T10:19:19.412Z"
   },
   {
    "duration": 127,
    "start_time": "2021-07-08T10:19:19.611Z"
   },
   {
    "duration": 4,
    "start_time": "2021-07-08T10:19:19.740Z"
   },
   {
    "duration": 27,
    "start_time": "2021-07-08T10:19:19.746Z"
   },
   {
    "duration": 7,
    "start_time": "2021-07-08T10:19:19.775Z"
   },
   {
    "duration": 30,
    "start_time": "2021-07-08T10:19:19.784Z"
   },
   {
    "duration": 7,
    "start_time": "2021-07-08T10:19:19.817Z"
   },
   {
    "duration": 26,
    "start_time": "2021-07-08T10:19:19.826Z"
   },
   {
    "duration": 18,
    "start_time": "2021-07-08T10:19:19.854Z"
   },
   {
    "duration": 14,
    "start_time": "2021-07-08T10:19:19.874Z"
   },
   {
    "duration": 48,
    "start_time": "2021-07-08T10:19:19.890Z"
   },
   {
    "duration": 17,
    "start_time": "2021-07-08T10:19:19.940Z"
   },
   {
    "duration": 38,
    "start_time": "2021-07-08T10:19:19.959Z"
   },
   {
    "duration": 8,
    "start_time": "2021-07-08T10:19:19.999Z"
   },
   {
    "duration": 15,
    "start_time": "2021-07-08T10:19:20.009Z"
   },
   {
    "duration": 22,
    "start_time": "2021-07-08T10:19:20.026Z"
   },
   {
    "duration": 10,
    "start_time": "2021-07-08T10:19:20.050Z"
   },
   {
    "duration": 10,
    "start_time": "2021-07-08T10:19:20.062Z"
   },
   {
    "duration": 20,
    "start_time": "2021-07-08T10:19:20.073Z"
   },
   {
    "duration": 29,
    "start_time": "2021-07-08T10:19:20.095Z"
   },
   {
    "duration": 17,
    "start_time": "2021-07-08T10:19:20.126Z"
   },
   {
    "duration": 40,
    "start_time": "2021-07-08T10:19:20.146Z"
   },
   {
    "duration": 15,
    "start_time": "2021-07-08T10:19:20.189Z"
   },
   {
    "duration": 19,
    "start_time": "2021-07-08T10:19:20.206Z"
   },
   {
    "duration": 10,
    "start_time": "2021-07-08T10:19:20.226Z"
   },
   {
    "duration": 11,
    "start_time": "2021-07-08T10:19:20.238Z"
   },
   {
    "duration": 297,
    "start_time": "2021-07-08T10:19:20.250Z"
   },
   {
    "duration": 6,
    "start_time": "2021-07-08T10:19:20.549Z"
   },
   {
    "duration": 191,
    "start_time": "2021-07-08T10:19:20.557Z"
   },
   {
    "duration": 19,
    "start_time": "2021-07-08T10:19:20.750Z"
   },
   {
    "duration": 20,
    "start_time": "2021-07-08T10:19:20.771Z"
   },
   {
    "duration": 15,
    "start_time": "2021-07-08T10:19:20.793Z"
   },
   {
    "duration": 222,
    "start_time": "2021-07-08T10:19:20.809Z"
   },
   {
    "duration": 20,
    "start_time": "2021-07-08T10:19:21.033Z"
   },
   {
    "duration": 27,
    "start_time": "2021-07-08T10:45:04.055Z"
   },
   {
    "duration": 8,
    "start_time": "2021-07-08T10:45:08.478Z"
   },
   {
    "duration": 8,
    "start_time": "2021-07-08T10:45:31.982Z"
   },
   {
    "duration": 10,
    "start_time": "2021-07-08T10:46:01.221Z"
   },
   {
    "duration": 17,
    "start_time": "2021-07-08T10:46:40.011Z"
   },
   {
    "duration": 193,
    "start_time": "2021-07-08T10:48:19.471Z"
   },
   {
    "duration": 225,
    "start_time": "2021-07-08T10:49:26.480Z"
   },
   {
    "duration": 204,
    "start_time": "2021-07-08T10:49:59.992Z"
   },
   {
    "duration": 435,
    "start_time": "2021-07-08T10:50:06.779Z"
   },
   {
    "duration": 199,
    "start_time": "2021-07-08T10:50:14.891Z"
   },
   {
    "duration": 204,
    "start_time": "2021-07-08T10:50:18.501Z"
   },
   {
    "duration": 244,
    "start_time": "2021-07-08T10:50:23.359Z"
   },
   {
    "duration": 192,
    "start_time": "2021-07-08T10:50:29.135Z"
   },
   {
    "duration": 218,
    "start_time": "2021-07-08T10:50:33.092Z"
   },
   {
    "duration": 207,
    "start_time": "2021-07-08T10:52:45.381Z"
   },
   {
    "duration": 5,
    "start_time": "2021-07-08T10:53:34.641Z"
   },
   {
    "duration": 196,
    "start_time": "2021-07-08T10:53:41.478Z"
   },
   {
    "duration": 43,
    "start_time": "2021-07-08T10:53:50.335Z"
   },
   {
    "duration": 32,
    "start_time": "2021-07-08T10:53:55.294Z"
   },
   {
    "duration": 55,
    "start_time": "2021-07-08T10:54:09.675Z"
   },
   {
    "duration": 16,
    "start_time": "2021-07-08T10:54:12.260Z"
   },
   {
    "duration": 15,
    "start_time": "2021-07-08T10:54:49.150Z"
   },
   {
    "duration": 20,
    "start_time": "2021-07-08T10:56:07.596Z"
   },
   {
    "duration": 16,
    "start_time": "2021-07-08T10:58:26.276Z"
   },
   {
    "duration": 22,
    "start_time": "2021-07-08T10:59:00.486Z"
   },
   {
    "duration": 18,
    "start_time": "2021-07-08T11:02:09.653Z"
   },
   {
    "duration": 10,
    "start_time": "2021-07-08T11:03:44.331Z"
   },
   {
    "duration": 10,
    "start_time": "2021-07-08T11:03:54.055Z"
   },
   {
    "duration": 12,
    "start_time": "2021-07-08T11:04:41.967Z"
   },
   {
    "duration": 24,
    "start_time": "2021-07-08T11:07:30.732Z"
   },
   {
    "duration": 6,
    "start_time": "2021-07-08T11:07:37.364Z"
   },
   {
    "duration": 16,
    "start_time": "2021-07-08T11:08:01.819Z"
   },
   {
    "duration": 17,
    "start_time": "2021-07-08T11:09:47.488Z"
   },
   {
    "duration": 246,
    "start_time": "2021-07-08T11:10:00.830Z"
   },
   {
    "duration": 18,
    "start_time": "2021-07-08T11:13:55.195Z"
   },
   {
    "duration": 204,
    "start_time": "2021-07-08T11:14:04.951Z"
   },
   {
    "duration": 19,
    "start_time": "2021-07-08T11:15:10.613Z"
   },
   {
    "duration": 680,
    "start_time": "2021-07-08T11:16:25.793Z"
   },
   {
    "duration": 451,
    "start_time": "2021-07-08T11:16:40.313Z"
   },
   {
    "duration": 469,
    "start_time": "2021-07-08T11:17:21.286Z"
   },
   {
    "duration": 20,
    "start_time": "2021-07-08T11:19:12.554Z"
   },
   {
    "duration": 35,
    "start_time": "2021-07-08T11:20:05.484Z"
   },
   {
    "duration": 53,
    "start_time": "2021-07-08T11:21:40.050Z"
   },
   {
    "duration": 13,
    "start_time": "2021-07-08T11:22:26.059Z"
   },
   {
    "duration": 19,
    "start_time": "2021-07-08T11:22:47.419Z"
   },
   {
    "duration": 25,
    "start_time": "2021-07-08T11:23:19.958Z"
   },
   {
    "duration": 29,
    "start_time": "2021-07-08T11:23:25.415Z"
   },
   {
    "duration": 10,
    "start_time": "2021-07-08T11:24:45.138Z"
   },
   {
    "duration": 19,
    "start_time": "2021-07-08T11:24:54.498Z"
   },
   {
    "duration": 12,
    "start_time": "2021-07-08T11:25:32.225Z"
   },
   {
    "duration": 19,
    "start_time": "2021-07-08T11:25:37.092Z"
   },
   {
    "duration": 17,
    "start_time": "2021-07-08T11:25:58.116Z"
   },
   {
    "duration": 15,
    "start_time": "2021-07-08T11:26:02.258Z"
   },
   {
    "duration": 8,
    "start_time": "2021-07-08T11:26:59.682Z"
   },
   {
    "duration": 184,
    "start_time": "2021-07-08T11:27:21.894Z"
   },
   {
    "duration": 8,
    "start_time": "2021-07-08T11:27:23.824Z"
   },
   {
    "duration": 202,
    "start_time": "2021-07-08T11:27:23.962Z"
   },
   {
    "duration": 360,
    "start_time": "2021-07-08T11:28:33.215Z"
   },
   {
    "duration": 231,
    "start_time": "2021-07-08T11:32:05.542Z"
   },
   {
    "duration": 607,
    "start_time": "2021-07-08T11:36:27.854Z"
   },
   {
    "duration": 241,
    "start_time": "2021-07-08T11:36:28.463Z"
   },
   {
    "duration": 67,
    "start_time": "2021-07-08T11:36:28.709Z"
   },
   {
    "duration": 5,
    "start_time": "2021-07-08T11:36:28.778Z"
   },
   {
    "duration": 32,
    "start_time": "2021-07-08T11:36:28.784Z"
   },
   {
    "duration": 11,
    "start_time": "2021-07-08T11:36:28.819Z"
   },
   {
    "duration": 20,
    "start_time": "2021-07-08T11:36:28.834Z"
   },
   {
    "duration": 36,
    "start_time": "2021-07-08T11:36:28.857Z"
   },
   {
    "duration": 16,
    "start_time": "2021-07-08T11:36:28.895Z"
   },
   {
    "duration": 14,
    "start_time": "2021-07-08T11:36:28.913Z"
   },
   {
    "duration": 9,
    "start_time": "2021-07-08T11:36:28.930Z"
   },
   {
    "duration": 55,
    "start_time": "2021-07-08T11:36:28.941Z"
   },
   {
    "duration": 27,
    "start_time": "2021-07-08T11:36:28.999Z"
   },
   {
    "duration": 30,
    "start_time": "2021-07-08T11:36:29.028Z"
   },
   {
    "duration": 31,
    "start_time": "2021-07-08T11:36:29.060Z"
   },
   {
    "duration": 3,
    "start_time": "2021-07-08T11:36:29.093Z"
   },
   {
    "duration": 12,
    "start_time": "2021-07-08T11:36:29.099Z"
   },
   {
    "duration": 11,
    "start_time": "2021-07-08T11:36:29.112Z"
   },
   {
    "duration": 12,
    "start_time": "2021-07-08T11:36:29.125Z"
   },
   {
    "duration": 9,
    "start_time": "2021-07-08T11:36:29.139Z"
   },
   {
    "duration": 31,
    "start_time": "2021-07-08T11:36:29.191Z"
   },
   {
    "duration": 17,
    "start_time": "2021-07-08T11:36:29.226Z"
   },
   {
    "duration": 7,
    "start_time": "2021-07-08T11:36:29.245Z"
   },
   {
    "duration": 10,
    "start_time": "2021-07-08T11:36:29.254Z"
   },
   {
    "duration": 30,
    "start_time": "2021-07-08T11:36:29.292Z"
   },
   {
    "duration": 11,
    "start_time": "2021-07-08T11:36:29.324Z"
   },
   {
    "duration": 11,
    "start_time": "2021-07-08T11:36:29.337Z"
   },
   {
    "duration": 230,
    "start_time": "2021-07-08T11:36:29.349Z"
   },
   {
    "duration": 13,
    "start_time": "2021-07-08T11:36:29.588Z"
   },
   {
    "duration": 205,
    "start_time": "2021-07-08T11:36:29.603Z"
   },
   {
    "duration": 20,
    "start_time": "2021-07-08T11:36:29.810Z"
   },
   {
    "duration": 9,
    "start_time": "2021-07-08T11:36:29.832Z"
   },
   {
    "duration": 16,
    "start_time": "2021-07-08T11:36:29.843Z"
   },
   {
    "duration": 283,
    "start_time": "2021-07-08T11:36:29.861Z"
   },
   {
    "duration": 50,
    "start_time": "2021-07-08T11:36:30.146Z"
   },
   {
    "duration": 14,
    "start_time": "2021-07-08T11:36:30.198Z"
   },
   {
    "duration": 11,
    "start_time": "2021-07-08T11:36:30.214Z"
   },
   {
    "duration": 245,
    "start_time": "2021-07-08T11:36:30.227Z"
   },
   {
    "duration": 439,
    "start_time": "2021-07-08T11:36:30.474Z"
   },
   {
    "duration": 210,
    "start_time": "2021-07-08T11:36:30.915Z"
   },
   {
    "duration": 15,
    "start_time": "2021-07-08T11:36:31.127Z"
   },
   {
    "duration": 17,
    "start_time": "2021-07-08T11:38:20.451Z"
   },
   {
    "duration": 642,
    "start_time": "2021-07-08T11:46:17.881Z"
   },
   {
    "duration": 210,
    "start_time": "2021-07-08T11:46:18.525Z"
   },
   {
    "duration": 104,
    "start_time": "2021-07-08T11:46:18.741Z"
   },
   {
    "duration": 8,
    "start_time": "2021-07-08T11:46:18.847Z"
   },
   {
    "duration": 25,
    "start_time": "2021-07-08T11:46:18.857Z"
   },
   {
    "duration": 14,
    "start_time": "2021-07-08T11:46:18.884Z"
   },
   {
    "duration": 22,
    "start_time": "2021-07-08T11:46:18.900Z"
   },
   {
    "duration": 5,
    "start_time": "2021-07-08T11:46:18.924Z"
   },
   {
    "duration": 13,
    "start_time": "2021-07-08T11:46:18.931Z"
   },
   {
    "duration": 45,
    "start_time": "2021-07-08T11:46:18.946Z"
   },
   {
    "duration": 12,
    "start_time": "2021-07-08T11:46:18.993Z"
   },
   {
    "duration": 38,
    "start_time": "2021-07-08T11:46:19.006Z"
   },
   {
    "duration": 50,
    "start_time": "2021-07-08T11:46:19.046Z"
   },
   {
    "duration": 29,
    "start_time": "2021-07-08T11:46:19.099Z"
   },
   {
    "duration": 7,
    "start_time": "2021-07-08T11:46:19.130Z"
   },
   {
    "duration": 3,
    "start_time": "2021-07-08T11:46:19.139Z"
   },
   {
    "duration": 11,
    "start_time": "2021-07-08T11:46:19.144Z"
   },
   {
    "duration": 40,
    "start_time": "2021-07-08T11:46:19.157Z"
   },
   {
    "duration": 15,
    "start_time": "2021-07-08T11:46:19.199Z"
   },
   {
    "duration": 10,
    "start_time": "2021-07-08T11:46:19.217Z"
   },
   {
    "duration": 68,
    "start_time": "2021-07-08T11:46:19.230Z"
   },
   {
    "duration": 17,
    "start_time": "2021-07-08T11:46:19.301Z"
   },
   {
    "duration": 7,
    "start_time": "2021-07-08T11:46:19.321Z"
   },
   {
    "duration": 11,
    "start_time": "2021-07-08T11:46:19.330Z"
   },
   {
    "duration": 59,
    "start_time": "2021-07-08T11:46:19.343Z"
   },
   {
    "duration": 17,
    "start_time": "2021-07-08T11:46:19.405Z"
   },
   {
    "duration": 16,
    "start_time": "2021-07-08T11:46:19.424Z"
   },
   {
    "duration": 252,
    "start_time": "2021-07-08T11:46:19.443Z"
   },
   {
    "duration": 9,
    "start_time": "2021-07-08T11:46:19.697Z"
   },
   {
    "duration": 224,
    "start_time": "2021-07-08T11:46:19.708Z"
   },
   {
    "duration": 21,
    "start_time": "2021-07-08T11:46:19.934Z"
   },
   {
    "duration": 9,
    "start_time": "2021-07-08T11:46:19.956Z"
   },
   {
    "duration": 32,
    "start_time": "2021-07-08T11:46:19.967Z"
   },
   {
    "duration": 288,
    "start_time": "2021-07-08T11:46:20.004Z"
   },
   {
    "duration": 23,
    "start_time": "2021-07-08T11:46:20.300Z"
   },
   {
    "duration": 11,
    "start_time": "2021-07-08T11:46:20.325Z"
   },
   {
    "duration": 11,
    "start_time": "2021-07-08T11:46:20.339Z"
   },
   {
    "duration": 259,
    "start_time": "2021-07-08T11:46:20.352Z"
   },
   {
    "duration": 438,
    "start_time": "2021-07-08T11:46:20.613Z"
   },
   {
    "duration": 207,
    "start_time": "2021-07-08T11:46:21.054Z"
   },
   {
    "duration": 27,
    "start_time": "2021-07-08T11:46:21.262Z"
   },
   {
    "duration": 19,
    "start_time": "2021-07-08T11:46:21.291Z"
   },
   {
    "duration": 820,
    "start_time": "2021-07-08T11:49:01.655Z"
   },
   {
    "duration": 372,
    "start_time": "2021-07-08T11:49:02.478Z"
   },
   {
    "duration": 98,
    "start_time": "2021-07-08T11:49:02.853Z"
   },
   {
    "duration": 6,
    "start_time": "2021-07-08T11:49:02.953Z"
   },
   {
    "duration": 39,
    "start_time": "2021-07-08T11:49:02.960Z"
   },
   {
    "duration": 9,
    "start_time": "2021-07-08T11:49:03.003Z"
   },
   {
    "duration": 23,
    "start_time": "2021-07-08T11:49:03.014Z"
   },
   {
    "duration": 6,
    "start_time": "2021-07-08T11:49:03.041Z"
   },
   {
    "duration": 20,
    "start_time": "2021-07-08T11:49:03.049Z"
   },
   {
    "duration": 18,
    "start_time": "2021-07-08T11:49:03.084Z"
   },
   {
    "duration": 14,
    "start_time": "2021-07-08T11:49:03.104Z"
   },
   {
    "duration": 39,
    "start_time": "2021-07-08T11:49:03.119Z"
   },
   {
    "duration": 38,
    "start_time": "2021-07-08T11:49:03.160Z"
   },
   {
    "duration": 26,
    "start_time": "2021-07-08T11:49:03.200Z"
   },
   {
    "duration": 7,
    "start_time": "2021-07-08T11:49:03.227Z"
   },
   {
    "duration": 4,
    "start_time": "2021-07-08T11:49:03.236Z"
   },
   {
    "duration": 15,
    "start_time": "2021-07-08T11:49:03.243Z"
   },
   {
    "duration": 21,
    "start_time": "2021-07-08T11:49:03.285Z"
   },
   {
    "duration": 17,
    "start_time": "2021-07-08T11:49:03.309Z"
   },
   {
    "duration": 10,
    "start_time": "2021-07-08T11:49:03.328Z"
   },
   {
    "duration": 65,
    "start_time": "2021-07-08T11:49:03.340Z"
   },
   {
    "duration": 18,
    "start_time": "2021-07-08T11:49:03.407Z"
   },
   {
    "duration": 8,
    "start_time": "2021-07-08T11:49:03.428Z"
   },
   {
    "duration": 15,
    "start_time": "2021-07-08T11:49:03.438Z"
   },
   {
    "duration": 40,
    "start_time": "2021-07-08T11:49:03.455Z"
   },
   {
    "duration": 12,
    "start_time": "2021-07-08T11:49:03.497Z"
   },
   {
    "duration": 29,
    "start_time": "2021-07-08T11:49:03.511Z"
   },
   {
    "duration": 285,
    "start_time": "2021-07-08T11:49:03.542Z"
   },
   {
    "duration": 8,
    "start_time": "2021-07-08T11:49:03.829Z"
   },
   {
    "duration": 227,
    "start_time": "2021-07-08T11:49:03.838Z"
   },
   {
    "duration": 40,
    "start_time": "2021-07-08T11:49:04.066Z"
   },
   {
    "duration": 10,
    "start_time": "2021-07-08T11:49:04.108Z"
   },
   {
    "duration": 26,
    "start_time": "2021-07-08T11:49:04.121Z"
   },
   {
    "duration": 290,
    "start_time": "2021-07-08T11:49:04.149Z"
   },
   {
    "duration": 26,
    "start_time": "2021-07-08T11:49:04.441Z"
   },
   {
    "duration": 31,
    "start_time": "2021-07-08T11:49:04.470Z"
   },
   {
    "duration": 14,
    "start_time": "2021-07-08T11:49:04.503Z"
   },
   {
    "duration": 259,
    "start_time": "2021-07-08T11:49:04.521Z"
   },
   {
    "duration": 480,
    "start_time": "2021-07-08T11:49:04.782Z"
   },
   {
    "duration": 225,
    "start_time": "2021-07-08T11:49:05.264Z"
   },
   {
    "duration": 22,
    "start_time": "2021-07-08T11:49:05.491Z"
   },
   {
    "duration": 24,
    "start_time": "2021-07-08T11:49:05.515Z"
   },
   {
    "duration": 634,
    "start_time": "2021-07-08T11:52:24.960Z"
   },
   {
    "duration": 199,
    "start_time": "2021-07-08T11:52:25.599Z"
   },
   {
    "duration": 106,
    "start_time": "2021-07-08T11:52:25.803Z"
   },
   {
    "duration": 7,
    "start_time": "2021-07-08T11:52:25.911Z"
   },
   {
    "duration": 29,
    "start_time": "2021-07-08T11:52:25.920Z"
   },
   {
    "duration": 7,
    "start_time": "2021-07-08T11:52:25.951Z"
   },
   {
    "duration": 26,
    "start_time": "2021-07-08T11:52:25.961Z"
   },
   {
    "duration": 11,
    "start_time": "2021-07-08T11:52:25.990Z"
   },
   {
    "duration": 29,
    "start_time": "2021-07-08T11:52:26.005Z"
   },
   {
    "duration": 9,
    "start_time": "2021-07-08T11:52:26.036Z"
   },
   {
    "duration": 8,
    "start_time": "2021-07-08T11:52:26.047Z"
   },
   {
    "duration": 63,
    "start_time": "2021-07-08T11:52:26.057Z"
   },
   {
    "duration": 17,
    "start_time": "2021-07-08T11:52:26.122Z"
   },
   {
    "duration": 43,
    "start_time": "2021-07-08T11:52:26.142Z"
   },
   {
    "duration": 17,
    "start_time": "2021-07-08T11:52:26.187Z"
   },
   {
    "duration": 5,
    "start_time": "2021-07-08T11:52:26.206Z"
   },
   {
    "duration": 12,
    "start_time": "2021-07-08T11:52:26.212Z"
   },
   {
    "duration": 11,
    "start_time": "2021-07-08T11:52:26.226Z"
   },
   {
    "duration": 12,
    "start_time": "2021-07-08T11:52:26.238Z"
   },
   {
    "duration": 38,
    "start_time": "2021-07-08T11:52:26.252Z"
   },
   {
    "duration": 40,
    "start_time": "2021-07-08T11:52:26.292Z"
   },
   {
    "duration": 17,
    "start_time": "2021-07-08T11:52:26.336Z"
   },
   {
    "duration": 39,
    "start_time": "2021-07-08T11:52:26.355Z"
   },
   {
    "duration": 11,
    "start_time": "2021-07-08T11:52:26.395Z"
   },
   {
    "duration": 23,
    "start_time": "2021-07-08T11:52:26.408Z"
   },
   {
    "duration": 12,
    "start_time": "2021-07-08T11:52:26.432Z"
   },
   {
    "duration": 41,
    "start_time": "2021-07-08T11:52:26.446Z"
   },
   {
    "duration": 215,
    "start_time": "2021-07-08T11:52:26.493Z"
   },
   {
    "duration": 8,
    "start_time": "2021-07-08T11:52:26.710Z"
   },
   {
    "duration": 228,
    "start_time": "2021-07-08T11:52:26.720Z"
   },
   {
    "duration": 18,
    "start_time": "2021-07-08T11:52:26.950Z"
   },
   {
    "duration": 35,
    "start_time": "2021-07-08T11:52:26.969Z"
   },
   {
    "duration": 23,
    "start_time": "2021-07-08T11:52:27.006Z"
   },
   {
    "duration": 258,
    "start_time": "2021-07-08T11:52:27.030Z"
   },
   {
    "duration": 24,
    "start_time": "2021-07-08T11:52:27.290Z"
   },
   {
    "duration": 12,
    "start_time": "2021-07-08T11:52:27.316Z"
   },
   {
    "duration": 10,
    "start_time": "2021-07-08T11:52:27.329Z"
   },
   {
    "duration": 298,
    "start_time": "2021-07-08T11:52:27.341Z"
   },
   {
    "duration": 436,
    "start_time": "2021-07-08T11:52:27.641Z"
   },
   {
    "duration": 216,
    "start_time": "2021-07-08T11:52:28.079Z"
   },
   {
    "duration": 20,
    "start_time": "2021-07-08T11:52:28.297Z"
   },
   {
    "duration": 17,
    "start_time": "2021-07-08T11:52:28.319Z"
   },
   {
    "duration": 989,
    "start_time": "2023-07-31T10:14:04.789Z"
   },
   {
    "duration": 424,
    "start_time": "2023-07-31T10:23:42.845Z"
   },
   {
    "duration": 187,
    "start_time": "2023-07-31T10:24:14.803Z"
   },
   {
    "duration": 175,
    "start_time": "2023-07-31T10:24:23.593Z"
   },
   {
    "duration": 151,
    "start_time": "2023-07-31T10:24:27.948Z"
   },
   {
    "duration": 142,
    "start_time": "2023-07-31T10:24:39.558Z"
   },
   {
    "duration": 144,
    "start_time": "2023-07-31T10:24:53.565Z"
   },
   {
    "duration": 10,
    "start_time": "2023-07-31T10:24:58.032Z"
   },
   {
    "duration": 160,
    "start_time": "2023-07-31T10:25:28.436Z"
   },
   {
    "duration": 15,
    "start_time": "2023-07-31T10:25:51.588Z"
   },
   {
    "duration": 19,
    "start_time": "2023-07-31T10:25:59.016Z"
   },
   {
    "duration": 8,
    "start_time": "2023-07-31T10:26:09.358Z"
   },
   {
    "duration": 13,
    "start_time": "2023-07-31T10:29:46.046Z"
   },
   {
    "duration": 33,
    "start_time": "2023-07-31T10:29:53.515Z"
   },
   {
    "duration": 7,
    "start_time": "2023-07-31T10:40:09.169Z"
   },
   {
    "duration": 13,
    "start_time": "2023-07-31T10:40:36.795Z"
   },
   {
    "duration": 9,
    "start_time": "2023-07-31T10:40:53.418Z"
   },
   {
    "duration": 11,
    "start_time": "2023-07-31T10:41:20.092Z"
   },
   {
    "duration": 0,
    "start_time": "2023-07-31T10:45:52.732Z"
   },
   {
    "duration": 6,
    "start_time": "2023-07-31T10:46:06.352Z"
   },
   {
    "duration": 6,
    "start_time": "2023-07-31T10:46:40.910Z"
   },
   {
    "duration": 6,
    "start_time": "2023-07-31T10:57:05.545Z"
   },
   {
    "duration": 15,
    "start_time": "2023-07-31T11:16:11.703Z"
   },
   {
    "duration": 11,
    "start_time": "2023-07-31T11:16:28.183Z"
   },
   {
    "duration": 10,
    "start_time": "2023-07-31T11:16:38.227Z"
   },
   {
    "duration": 9,
    "start_time": "2023-07-31T11:16:44.064Z"
   },
   {
    "duration": 37,
    "start_time": "2023-07-31T11:16:52.416Z"
   },
   {
    "duration": 25,
    "start_time": "2023-07-31T11:17:01.014Z"
   },
   {
    "duration": 12,
    "start_time": "2023-07-31T11:17:17.451Z"
   },
   {
    "duration": 11,
    "start_time": "2023-07-31T11:17:37.763Z"
   },
   {
    "duration": 11,
    "start_time": "2023-07-31T11:17:43.364Z"
   },
   {
    "duration": 20,
    "start_time": "2023-07-31T11:18:23.584Z"
   },
   {
    "duration": 13,
    "start_time": "2023-07-31T11:20:21.551Z"
   },
   {
    "duration": 62,
    "start_time": "2023-07-31T11:20:57.125Z"
   },
   {
    "duration": 869,
    "start_time": "2023-07-31T11:21:11.819Z"
   },
   {
    "duration": 400,
    "start_time": "2023-07-31T11:21:12.690Z"
   },
   {
    "duration": 17,
    "start_time": "2023-07-31T11:21:13.094Z"
   },
   {
    "duration": 36,
    "start_time": "2023-07-31T11:21:13.113Z"
   },
   {
    "duration": 12,
    "start_time": "2023-07-31T11:21:13.151Z"
   },
   {
    "duration": 15,
    "start_time": "2023-07-31T11:21:13.164Z"
   },
   {
    "duration": 15,
    "start_time": "2023-07-31T11:21:13.180Z"
   },
   {
    "duration": 21,
    "start_time": "2023-07-31T11:21:13.197Z"
   },
   {
    "duration": 55,
    "start_time": "2023-07-31T11:21:13.219Z"
   },
   {
    "duration": 9,
    "start_time": "2023-07-31T11:21:13.275Z"
   },
   {
    "duration": 8,
    "start_time": "2023-07-31T11:21:13.285Z"
   },
   {
    "duration": 23,
    "start_time": "2023-07-31T11:21:13.294Z"
   },
   {
    "duration": 27,
    "start_time": "2023-07-31T11:21:13.320Z"
   },
   {
    "duration": 19,
    "start_time": "2023-07-31T11:21:13.349Z"
   },
   {
    "duration": 26,
    "start_time": "2023-07-31T11:21:13.370Z"
   },
   {
    "duration": 15,
    "start_time": "2023-07-31T11:21:13.398Z"
   },
   {
    "duration": 135,
    "start_time": "2023-07-31T11:23:20.858Z"
   },
   {
    "duration": 39,
    "start_time": "2023-07-31T11:25:17.794Z"
   },
   {
    "duration": 14,
    "start_time": "2023-07-31T11:25:26.459Z"
   },
   {
    "duration": 22,
    "start_time": "2023-07-31T11:25:31.034Z"
   },
   {
    "duration": 8,
    "start_time": "2023-07-31T11:25:37.258Z"
   },
   {
    "duration": 8,
    "start_time": "2023-07-31T11:25:40.765Z"
   },
   {
    "duration": 9,
    "start_time": "2023-07-31T11:25:52.591Z"
   },
   {
    "duration": 13,
    "start_time": "2023-07-31T11:25:56.759Z"
   },
   {
    "duration": 17,
    "start_time": "2023-07-31T11:26:00.651Z"
   },
   {
    "duration": 6,
    "start_time": "2023-07-31T11:26:04.453Z"
   },
   {
    "duration": 5,
    "start_time": "2023-07-31T11:26:06.597Z"
   },
   {
    "duration": 51,
    "start_time": "2023-08-01T08:30:15.257Z"
   },
   {
    "duration": 889,
    "start_time": "2023-08-01T08:30:20.964Z"
   },
   {
    "duration": 306,
    "start_time": "2023-08-01T08:30:21.855Z"
   },
   {
    "duration": 21,
    "start_time": "2023-08-01T08:30:22.162Z"
   },
   {
    "duration": 38,
    "start_time": "2023-08-01T08:30:22.185Z"
   },
   {
    "duration": 32,
    "start_time": "2023-08-01T08:30:22.225Z"
   },
   {
    "duration": 31,
    "start_time": "2023-08-01T08:30:22.259Z"
   },
   {
    "duration": 46,
    "start_time": "2023-08-01T08:30:22.292Z"
   },
   {
    "duration": 33,
    "start_time": "2023-08-01T08:30:22.339Z"
   },
   {
    "duration": 51,
    "start_time": "2023-08-01T08:30:22.374Z"
   },
   {
    "duration": 17,
    "start_time": "2023-08-01T08:30:22.427Z"
   },
   {
    "duration": 51,
    "start_time": "2023-08-01T08:30:22.446Z"
   },
   {
    "duration": 39,
    "start_time": "2023-08-01T08:30:22.499Z"
   },
   {
    "duration": 35,
    "start_time": "2023-08-01T08:30:22.539Z"
   },
   {
    "duration": 49,
    "start_time": "2023-08-01T08:30:22.576Z"
   },
   {
    "duration": 47,
    "start_time": "2023-08-01T08:30:22.627Z"
   },
   {
    "duration": 17,
    "start_time": "2023-08-01T08:30:22.676Z"
   },
   {
    "duration": 43,
    "start_time": "2023-08-01T08:30:22.694Z"
   },
   {
    "duration": 12,
    "start_time": "2023-08-01T08:31:11.542Z"
   },
   {
    "duration": 15,
    "start_time": "2023-08-01T08:33:58.374Z"
   },
   {
    "duration": 5,
    "start_time": "2023-08-01T08:34:31.703Z"
   },
   {
    "duration": 13,
    "start_time": "2023-08-01T08:34:44.169Z"
   },
   {
    "duration": 15,
    "start_time": "2023-08-01T08:34:48.291Z"
   },
   {
    "duration": 781,
    "start_time": "2023-08-01T08:34:53.858Z"
   },
   {
    "duration": 165,
    "start_time": "2023-08-01T08:34:54.641Z"
   },
   {
    "duration": 26,
    "start_time": "2023-08-01T08:34:54.808Z"
   },
   {
    "duration": 29,
    "start_time": "2023-08-01T08:34:54.836Z"
   },
   {
    "duration": 37,
    "start_time": "2023-08-01T08:34:54.867Z"
   },
   {
    "duration": 21,
    "start_time": "2023-08-01T08:34:54.906Z"
   },
   {
    "duration": 14,
    "start_time": "2023-08-01T08:34:54.929Z"
   },
   {
    "duration": 32,
    "start_time": "2023-08-01T08:34:54.946Z"
   },
   {
    "duration": 28,
    "start_time": "2023-08-01T08:34:54.981Z"
   },
   {
    "duration": 6,
    "start_time": "2023-08-01T08:34:55.012Z"
   },
   {
    "duration": 12,
    "start_time": "2023-08-01T08:34:55.019Z"
   },
   {
    "duration": 33,
    "start_time": "2023-08-01T08:34:55.032Z"
   },
   {
    "duration": 32,
    "start_time": "2023-08-01T08:34:55.066Z"
   },
   {
    "duration": 12,
    "start_time": "2023-08-01T08:34:55.100Z"
   },
   {
    "duration": 13,
    "start_time": "2023-08-01T08:34:55.114Z"
   },
   {
    "duration": 16,
    "start_time": "2023-08-01T08:34:55.128Z"
   },
   {
    "duration": 19,
    "start_time": "2023-08-01T08:34:55.146Z"
   },
   {
    "duration": 33,
    "start_time": "2023-08-01T08:34:55.167Z"
   },
   {
    "duration": 12,
    "start_time": "2023-08-01T08:34:55.202Z"
   },
   {
    "duration": 20,
    "start_time": "2023-08-01T08:34:55.216Z"
   },
   {
    "duration": 26,
    "start_time": "2023-08-01T08:34:55.237Z"
   },
   {
    "duration": 4,
    "start_time": "2023-08-01T08:35:14.452Z"
   },
   {
    "duration": 11,
    "start_time": "2023-08-01T08:35:22.912Z"
   },
   {
    "duration": 4,
    "start_time": "2023-08-01T08:35:44.276Z"
   },
   {
    "duration": 12,
    "start_time": "2023-08-01T08:35:50.719Z"
   },
   {
    "duration": 5,
    "start_time": "2023-08-01T08:36:03.501Z"
   },
   {
    "duration": 4,
    "start_time": "2023-08-01T08:36:13.943Z"
   },
   {
    "duration": 4,
    "start_time": "2023-08-01T08:36:24.053Z"
   },
   {
    "duration": 4,
    "start_time": "2023-08-01T08:36:35.031Z"
   },
   {
    "duration": 4,
    "start_time": "2023-08-01T08:36:51.376Z"
   },
   {
    "duration": 8,
    "start_time": "2023-08-01T08:37:16.458Z"
   },
   {
    "duration": 10,
    "start_time": "2023-08-01T08:38:06.471Z"
   },
   {
    "duration": 24,
    "start_time": "2023-08-01T08:38:37.304Z"
   },
   {
    "duration": 26,
    "start_time": "2023-08-01T08:38:47.797Z"
   },
   {
    "duration": 82,
    "start_time": "2023-08-01T08:39:02.666Z"
   },
   {
    "duration": 24,
    "start_time": "2023-08-01T08:39:09.705Z"
   },
   {
    "duration": 5,
    "start_time": "2023-08-01T08:42:10.763Z"
   },
   {
    "duration": 6,
    "start_time": "2023-08-01T08:43:17.939Z"
   },
   {
    "duration": 9,
    "start_time": "2023-08-01T08:43:38.315Z"
   },
   {
    "duration": 5,
    "start_time": "2023-08-01T08:43:44.344Z"
   },
   {
    "duration": 4,
    "start_time": "2023-08-01T08:43:52.778Z"
   },
   {
    "duration": 653,
    "start_time": "2023-08-01T08:44:12.512Z"
   },
   {
    "duration": 12,
    "start_time": "2023-08-01T08:44:16.394Z"
   },
   {
    "duration": 18,
    "start_time": "2023-08-01T08:44:21.333Z"
   },
   {
    "duration": 15,
    "start_time": "2023-08-01T08:44:56.220Z"
   },
   {
    "duration": 8,
    "start_time": "2023-08-01T08:45:06.866Z"
   },
   {
    "duration": 137,
    "start_time": "2023-08-01T08:46:19.717Z"
   },
   {
    "duration": 7,
    "start_time": "2023-08-01T08:46:32.551Z"
   },
   {
    "duration": 800,
    "start_time": "2023-08-01T08:46:53.960Z"
   },
   {
    "duration": 181,
    "start_time": "2023-08-01T08:46:54.763Z"
   },
   {
    "duration": 30,
    "start_time": "2023-08-01T08:46:54.946Z"
   },
   {
    "duration": 59,
    "start_time": "2023-08-01T08:46:54.978Z"
   },
   {
    "duration": 18,
    "start_time": "2023-08-01T08:46:55.040Z"
   },
   {
    "duration": 38,
    "start_time": "2023-08-01T08:46:55.059Z"
   },
   {
    "duration": 47,
    "start_time": "2023-08-01T08:46:55.098Z"
   },
   {
    "duration": 35,
    "start_time": "2023-08-01T08:46:55.147Z"
   },
   {
    "duration": 53,
    "start_time": "2023-08-01T08:46:55.184Z"
   },
   {
    "duration": 45,
    "start_time": "2023-08-01T08:46:55.239Z"
   },
   {
    "duration": 41,
    "start_time": "2023-08-01T08:46:55.286Z"
   },
   {
    "duration": 51,
    "start_time": "2023-08-01T08:46:55.330Z"
   },
   {
    "duration": 40,
    "start_time": "2023-08-01T08:46:55.383Z"
   },
   {
    "duration": 43,
    "start_time": "2023-08-01T08:46:55.426Z"
   },
   {
    "duration": 35,
    "start_time": "2023-08-01T08:46:55.471Z"
   },
   {
    "duration": 36,
    "start_time": "2023-08-01T08:46:55.508Z"
   },
   {
    "duration": 60,
    "start_time": "2023-08-01T08:46:55.546Z"
   },
   {
    "duration": 29,
    "start_time": "2023-08-01T08:46:55.608Z"
   },
   {
    "duration": 40,
    "start_time": "2023-08-01T08:46:55.639Z"
   },
   {
    "duration": 37,
    "start_time": "2023-08-01T08:46:55.681Z"
   },
   {
    "duration": 51,
    "start_time": "2023-08-01T08:46:55.720Z"
   },
   {
    "duration": 59,
    "start_time": "2023-08-01T08:46:55.773Z"
   },
   {
    "duration": 29,
    "start_time": "2023-08-01T08:46:55.835Z"
   },
   {
    "duration": 32,
    "start_time": "2023-08-01T08:46:55.866Z"
   },
   {
    "duration": 64,
    "start_time": "2023-08-01T08:46:55.899Z"
   },
   {
    "duration": 50,
    "start_time": "2023-08-01T08:46:55.965Z"
   },
   {
    "duration": 58,
    "start_time": "2023-08-01T08:46:56.016Z"
   },
   {
    "duration": 34,
    "start_time": "2023-08-01T08:46:56.075Z"
   },
   {
    "duration": 31,
    "start_time": "2023-08-01T08:46:56.110Z"
   },
   {
    "duration": 29,
    "start_time": "2023-08-01T08:46:56.143Z"
   },
   {
    "duration": 49,
    "start_time": "2023-08-01T08:46:56.174Z"
   },
   {
    "duration": 34,
    "start_time": "2023-08-01T08:46:56.225Z"
   },
   {
    "duration": 69,
    "start_time": "2023-08-01T08:46:56.261Z"
   },
   {
    "duration": 62,
    "start_time": "2023-08-01T08:46:56.331Z"
   },
   {
    "duration": 8,
    "start_time": "2023-08-01T08:47:42.146Z"
   },
   {
    "duration": 14,
    "start_time": "2023-08-01T08:47:49.618Z"
   },
   {
    "duration": 20,
    "start_time": "2023-08-01T09:05:46.826Z"
   },
   {
    "duration": 25,
    "start_time": "2023-08-01T09:06:56.063Z"
   },
   {
    "duration": 26,
    "start_time": "2023-08-01T09:08:32.195Z"
   },
   {
    "duration": 44,
    "start_time": "2023-08-01T09:10:48.165Z"
   },
   {
    "duration": 4,
    "start_time": "2023-08-01T10:04:39.550Z"
   },
   {
    "duration": 7,
    "start_time": "2023-08-01T10:05:37.261Z"
   },
   {
    "duration": 6,
    "start_time": "2023-08-01T10:21:34.793Z"
   },
   {
    "duration": 6,
    "start_time": "2023-08-01T10:24:12.194Z"
   },
   {
    "duration": 9,
    "start_time": "2023-08-01T10:24:16.256Z"
   },
   {
    "duration": 8,
    "start_time": "2023-08-01T10:24:56.067Z"
   },
   {
    "duration": 88,
    "start_time": "2023-08-01T10:26:27.064Z"
   },
   {
    "duration": 5,
    "start_time": "2023-08-01T10:27:02.092Z"
   },
   {
    "duration": 5,
    "start_time": "2023-08-01T10:27:56.026Z"
   },
   {
    "duration": 8,
    "start_time": "2023-08-01T10:28:31.490Z"
   },
   {
    "duration": 9,
    "start_time": "2023-08-01T10:30:27.780Z"
   },
   {
    "duration": 6,
    "start_time": "2023-08-01T10:31:03.681Z"
   },
   {
    "duration": 7,
    "start_time": "2023-08-01T10:31:13.657Z"
   },
   {
    "duration": 6,
    "start_time": "2023-08-01T10:31:25.839Z"
   },
   {
    "duration": 6,
    "start_time": "2023-08-01T10:40:22.853Z"
   },
   {
    "duration": 167,
    "start_time": "2023-08-01T10:41:31.291Z"
   },
   {
    "duration": 181,
    "start_time": "2023-08-01T11:56:06.154Z"
   },
   {
    "duration": 26,
    "start_time": "2023-08-01T11:56:42.173Z"
   },
   {
    "duration": 10,
    "start_time": "2023-08-01T12:11:42.471Z"
   },
   {
    "duration": 38,
    "start_time": "2023-08-01T12:13:12.996Z"
   },
   {
    "duration": 32,
    "start_time": "2023-08-01T12:14:42.461Z"
   },
   {
    "duration": 35,
    "start_time": "2023-08-01T12:21:52.974Z"
   },
   {
    "duration": 33,
    "start_time": "2023-08-01T12:22:01.900Z"
   },
   {
    "duration": 30,
    "start_time": "2023-08-01T12:22:31.235Z"
   },
   {
    "duration": 28,
    "start_time": "2023-08-01T12:22:43.726Z"
   },
   {
    "duration": 7,
    "start_time": "2023-08-01T12:25:16.592Z"
   },
   {
    "duration": 7,
    "start_time": "2023-08-01T12:25:21.329Z"
   },
   {
    "duration": 9,
    "start_time": "2023-08-02T11:21:27.841Z"
   },
   {
    "duration": 59,
    "start_time": "2023-08-02T11:23:02.401Z"
   },
   {
    "duration": 903,
    "start_time": "2023-08-02T11:23:08.690Z"
   },
   {
    "duration": 392,
    "start_time": "2023-08-02T11:23:09.596Z"
   },
   {
    "duration": 22,
    "start_time": "2023-08-02T11:23:09.990Z"
   },
   {
    "duration": 17,
    "start_time": "2023-08-02T11:23:10.014Z"
   },
   {
    "duration": 35,
    "start_time": "2023-08-02T11:23:10.033Z"
   },
   {
    "duration": 18,
    "start_time": "2023-08-02T11:23:10.070Z"
   },
   {
    "duration": 21,
    "start_time": "2023-08-02T11:23:10.091Z"
   },
   {
    "duration": 31,
    "start_time": "2023-08-02T11:23:10.114Z"
   },
   {
    "duration": 28,
    "start_time": "2023-08-02T11:23:10.148Z"
   },
   {
    "duration": 7,
    "start_time": "2023-08-02T11:23:10.179Z"
   },
   {
    "duration": 19,
    "start_time": "2023-08-02T11:23:10.188Z"
   },
   {
    "duration": 30,
    "start_time": "2023-08-02T11:23:10.209Z"
   },
   {
    "duration": 15,
    "start_time": "2023-08-02T11:23:10.241Z"
   },
   {
    "duration": 25,
    "start_time": "2023-08-02T11:23:10.259Z"
   },
   {
    "duration": 19,
    "start_time": "2023-08-02T11:23:10.287Z"
   },
   {
    "duration": 18,
    "start_time": "2023-08-02T11:23:10.308Z"
   },
   {
    "duration": 22,
    "start_time": "2023-08-02T11:23:10.328Z"
   },
   {
    "duration": 6,
    "start_time": "2023-08-02T11:23:10.368Z"
   },
   {
    "duration": 16,
    "start_time": "2023-08-02T11:23:10.376Z"
   },
   {
    "duration": 21,
    "start_time": "2023-08-02T11:23:10.394Z"
   },
   {
    "duration": 5,
    "start_time": "2023-08-02T11:23:10.418Z"
   },
   {
    "duration": 16,
    "start_time": "2023-08-02T11:23:10.425Z"
   },
   {
    "duration": 34,
    "start_time": "2023-08-02T11:23:10.443Z"
   },
   {
    "duration": 14,
    "start_time": "2023-08-02T11:23:10.478Z"
   },
   {
    "duration": 16,
    "start_time": "2023-08-02T11:23:10.494Z"
   },
   {
    "duration": 16,
    "start_time": "2023-08-02T11:23:10.512Z"
   },
   {
    "duration": 37,
    "start_time": "2023-08-02T11:23:10.531Z"
   },
   {
    "duration": 54,
    "start_time": "2023-08-02T11:23:10.570Z"
   },
   {
    "duration": 6,
    "start_time": "2023-08-02T11:23:10.626Z"
   },
   {
    "duration": 25,
    "start_time": "2023-08-02T11:23:10.634Z"
   },
   {
    "duration": 9,
    "start_time": "2023-08-02T11:23:10.661Z"
   },
   {
    "duration": 7,
    "start_time": "2023-08-02T11:23:10.672Z"
   },
   {
    "duration": 6,
    "start_time": "2023-08-02T11:23:10.681Z"
   },
   {
    "duration": 14,
    "start_time": "2023-08-02T11:23:10.689Z"
   },
   {
    "duration": 31,
    "start_time": "2023-08-02T11:23:10.704Z"
   },
   {
    "duration": 39,
    "start_time": "2023-08-02T11:23:10.737Z"
   },
   {
    "duration": 33,
    "start_time": "2023-08-02T11:23:10.778Z"
   },
   {
    "duration": 15,
    "start_time": "2023-08-02T11:23:10.813Z"
   },
   {
    "duration": 19,
    "start_time": "2023-08-02T11:23:10.831Z"
   },
   {
    "duration": 7,
    "start_time": "2023-08-02T11:23:10.872Z"
   },
   {
    "duration": 12,
    "start_time": "2023-08-02T11:23:10.884Z"
   },
   {
    "duration": 25,
    "start_time": "2023-08-02T11:23:10.898Z"
   },
   {
    "duration": 19,
    "start_time": "2023-08-02T11:23:10.924Z"
   },
   {
    "duration": 16,
    "start_time": "2023-08-02T11:23:10.945Z"
   },
   {
    "duration": 22,
    "start_time": "2023-08-02T11:23:10.963Z"
   },
   {
    "duration": 9,
    "start_time": "2023-08-02T11:23:10.988Z"
   },
   {
    "duration": 14,
    "start_time": "2023-08-02T11:23:10.999Z"
   },
   {
    "duration": 27,
    "start_time": "2023-08-02T11:23:11.015Z"
   },
   {
    "duration": 27,
    "start_time": "2023-08-02T11:23:11.044Z"
   },
   {
    "duration": 31,
    "start_time": "2023-08-02T11:23:11.073Z"
   },
   {
    "duration": 7,
    "start_time": "2023-08-02T11:23:11.106Z"
   },
   {
    "duration": 8,
    "start_time": "2023-08-02T11:23:11.115Z"
   },
   {
    "duration": 17,
    "start_time": "2023-08-02T11:23:11.125Z"
   },
   {
    "duration": 29,
    "start_time": "2023-08-02T11:23:56.553Z"
   },
   {
    "duration": 4,
    "start_time": "2023-08-02T11:24:27.009Z"
   },
   {
    "duration": 32,
    "start_time": "2023-08-02T11:24:28.297Z"
   },
   {
    "duration": 725,
    "start_time": "2023-08-02T11:24:35.566Z"
   },
   {
    "duration": 144,
    "start_time": "2023-08-02T11:24:36.293Z"
   },
   {
    "duration": 21,
    "start_time": "2023-08-02T11:24:36.439Z"
   },
   {
    "duration": 21,
    "start_time": "2023-08-02T11:24:36.462Z"
   },
   {
    "duration": 12,
    "start_time": "2023-08-02T11:24:36.485Z"
   },
   {
    "duration": 18,
    "start_time": "2023-08-02T11:24:36.498Z"
   },
   {
    "duration": 23,
    "start_time": "2023-08-02T11:24:36.518Z"
   },
   {
    "duration": 26,
    "start_time": "2023-08-02T11:24:36.543Z"
   },
   {
    "duration": 24,
    "start_time": "2023-08-02T11:24:36.571Z"
   },
   {
    "duration": 13,
    "start_time": "2023-08-02T11:24:36.599Z"
   },
   {
    "duration": 20,
    "start_time": "2023-08-02T11:24:36.614Z"
   },
   {
    "duration": 24,
    "start_time": "2023-08-02T11:24:36.636Z"
   },
   {
    "duration": 85,
    "start_time": "2023-08-02T11:24:36.667Z"
   },
   {
    "duration": 189,
    "start_time": "2023-08-02T11:24:36.754Z"
   },
   {
    "duration": 84,
    "start_time": "2023-08-02T11:24:36.945Z"
   },
   {
    "duration": 20,
    "start_time": "2023-08-02T11:24:37.032Z"
   },
   {
    "duration": 17,
    "start_time": "2023-08-02T11:24:37.054Z"
   },
   {
    "duration": 14,
    "start_time": "2023-08-02T11:24:37.073Z"
   },
   {
    "duration": 21,
    "start_time": "2023-08-02T11:24:37.089Z"
   },
   {
    "duration": 37,
    "start_time": "2023-08-02T11:24:37.113Z"
   },
   {
    "duration": 7,
    "start_time": "2023-08-02T11:24:37.152Z"
   },
   {
    "duration": 47,
    "start_time": "2023-08-02T11:24:37.161Z"
   },
   {
    "duration": 37,
    "start_time": "2023-08-02T11:24:37.210Z"
   },
   {
    "duration": 44,
    "start_time": "2023-08-02T11:24:37.250Z"
   },
   {
    "duration": 22,
    "start_time": "2023-08-02T11:24:37.296Z"
   },
   {
    "duration": 37,
    "start_time": "2023-08-02T11:24:37.320Z"
   },
   {
    "duration": 45,
    "start_time": "2023-08-02T11:24:37.359Z"
   },
   {
    "duration": 31,
    "start_time": "2023-08-02T11:24:37.409Z"
   },
   {
    "duration": 7,
    "start_time": "2023-08-02T11:24:37.442Z"
   },
   {
    "duration": 6,
    "start_time": "2023-08-02T11:24:37.451Z"
   },
   {
    "duration": 22,
    "start_time": "2023-08-02T11:24:37.459Z"
   },
   {
    "duration": 31,
    "start_time": "2023-08-02T11:24:37.484Z"
   },
   {
    "duration": 16,
    "start_time": "2023-08-02T11:24:37.518Z"
   },
   {
    "duration": 34,
    "start_time": "2023-08-02T11:24:37.537Z"
   },
   {
    "duration": 49,
    "start_time": "2023-08-02T11:24:37.573Z"
   },
   {
    "duration": 31,
    "start_time": "2023-08-02T11:24:37.625Z"
   },
   {
    "duration": 41,
    "start_time": "2023-08-02T11:24:37.658Z"
   },
   {
    "duration": 6,
    "start_time": "2023-08-02T11:24:37.701Z"
   },
   {
    "duration": 37,
    "start_time": "2023-08-02T11:24:37.709Z"
   },
   {
    "duration": 8,
    "start_time": "2023-08-02T11:24:37.748Z"
   },
   {
    "duration": 18,
    "start_time": "2023-08-02T11:24:37.758Z"
   },
   {
    "duration": 14,
    "start_time": "2023-08-02T11:24:37.779Z"
   },
   {
    "duration": 17,
    "start_time": "2023-08-02T11:24:37.794Z"
   },
   {
    "duration": 7,
    "start_time": "2023-08-02T11:24:37.813Z"
   },
   {
    "duration": 16,
    "start_time": "2023-08-02T11:24:37.822Z"
   },
   {
    "duration": 36,
    "start_time": "2023-08-02T11:24:37.840Z"
   },
   {
    "duration": 7,
    "start_time": "2023-08-02T11:24:37.878Z"
   },
   {
    "duration": 45,
    "start_time": "2023-08-02T11:24:37.887Z"
   },
   {
    "duration": 12,
    "start_time": "2023-08-02T11:24:37.935Z"
   },
   {
    "duration": 44,
    "start_time": "2023-08-02T11:24:37.949Z"
   },
   {
    "duration": 8,
    "start_time": "2023-08-02T11:24:37.995Z"
   },
   {
    "duration": 4,
    "start_time": "2023-08-02T11:24:38.005Z"
   },
   {
    "duration": 67,
    "start_time": "2023-08-02T11:24:38.011Z"
   },
   {
    "duration": 50,
    "start_time": "2023-08-02T11:26:05.500Z"
   },
   {
    "duration": 1230,
    "start_time": "2023-08-02T12:05:33.114Z"
   },
   {
    "duration": 18,
    "start_time": "2023-08-02T12:05:45.001Z"
   },
   {
    "duration": 33,
    "start_time": "2023-08-02T12:07:19.024Z"
   },
   {
    "duration": 38,
    "start_time": "2023-08-02T12:08:02.603Z"
   },
   {
    "duration": 11,
    "start_time": "2023-08-02T12:08:25.494Z"
   },
   {
    "duration": 19,
    "start_time": "2023-08-02T12:08:32.050Z"
   },
   {
    "duration": 20,
    "start_time": "2023-08-02T12:08:44.239Z"
   },
   {
    "duration": 682,
    "start_time": "2023-08-02T12:09:13.084Z"
   },
   {
    "duration": 149,
    "start_time": "2023-08-02T12:09:13.769Z"
   },
   {
    "duration": 28,
    "start_time": "2023-08-02T12:09:13.921Z"
   },
   {
    "duration": 22,
    "start_time": "2023-08-02T12:09:13.952Z"
   },
   {
    "duration": 14,
    "start_time": "2023-08-02T12:09:13.978Z"
   },
   {
    "duration": 18,
    "start_time": "2023-08-02T12:09:13.994Z"
   },
   {
    "duration": 15,
    "start_time": "2023-08-02T12:09:14.014Z"
   },
   {
    "duration": 44,
    "start_time": "2023-08-02T12:09:14.032Z"
   },
   {
    "duration": 43,
    "start_time": "2023-08-02T12:09:14.078Z"
   },
   {
    "duration": 15,
    "start_time": "2023-08-02T12:09:14.123Z"
   },
   {
    "duration": 32,
    "start_time": "2023-08-02T12:09:14.140Z"
   },
   {
    "duration": 53,
    "start_time": "2023-08-02T12:09:14.176Z"
   },
   {
    "duration": 24,
    "start_time": "2023-08-02T12:09:14.231Z"
   },
   {
    "duration": 20,
    "start_time": "2023-08-02T12:09:14.258Z"
   },
   {
    "duration": 32,
    "start_time": "2023-08-02T12:09:14.279Z"
   },
   {
    "duration": 40,
    "start_time": "2023-08-02T12:09:14.313Z"
   },
   {
    "duration": 20,
    "start_time": "2023-08-02T12:09:14.355Z"
   },
   {
    "duration": 32,
    "start_time": "2023-08-02T12:09:14.377Z"
   },
   {
    "duration": 11,
    "start_time": "2023-08-02T12:09:14.411Z"
   },
   {
    "duration": 28,
    "start_time": "2023-08-02T12:09:14.423Z"
   },
   {
    "duration": 18,
    "start_time": "2023-08-02T12:09:14.453Z"
   },
   {
    "duration": 16,
    "start_time": "2023-08-02T12:09:14.472Z"
   },
   {
    "duration": 25,
    "start_time": "2023-08-02T12:09:14.490Z"
   },
   {
    "duration": 10,
    "start_time": "2023-08-02T12:09:14.517Z"
   },
   {
    "duration": 8,
    "start_time": "2023-08-02T12:09:14.529Z"
   },
   {
    "duration": 31,
    "start_time": "2023-08-02T12:09:14.539Z"
   },
   {
    "duration": 31,
    "start_time": "2023-08-02T12:09:14.572Z"
   },
   {
    "duration": 18,
    "start_time": "2023-08-02T12:09:14.605Z"
   },
   {
    "duration": 7,
    "start_time": "2023-08-02T12:09:14.626Z"
   },
   {
    "duration": 10,
    "start_time": "2023-08-02T12:09:14.635Z"
   },
   {
    "duration": 20,
    "start_time": "2023-08-02T12:09:14.647Z"
   },
   {
    "duration": 66,
    "start_time": "2023-08-02T12:09:14.669Z"
   },
   {
    "duration": 25,
    "start_time": "2023-08-02T12:09:14.738Z"
   },
   {
    "duration": 21,
    "start_time": "2023-08-02T12:09:14.765Z"
   },
   {
    "duration": 48,
    "start_time": "2023-08-02T12:09:14.788Z"
   },
   {
    "duration": 30,
    "start_time": "2023-08-02T12:09:14.838Z"
   },
   {
    "duration": 109,
    "start_time": "2023-08-02T12:09:14.870Z"
   },
   {
    "duration": 155,
    "start_time": "2023-08-02T12:09:14.982Z"
   },
   {
    "duration": 110,
    "start_time": "2023-08-02T12:09:15.138Z"
   },
   {
    "duration": 26,
    "start_time": "2023-08-02T12:09:15.250Z"
   },
   {
    "duration": 24,
    "start_time": "2023-08-02T12:09:15.280Z"
   },
   {
    "duration": 14,
    "start_time": "2023-08-02T12:09:15.306Z"
   },
   {
    "duration": 13,
    "start_time": "2023-08-02T12:09:15.322Z"
   },
   {
    "duration": 20,
    "start_time": "2023-08-02T12:09:15.336Z"
   },
   {
    "duration": 17,
    "start_time": "2023-08-02T12:09:15.358Z"
   },
   {
    "duration": 13,
    "start_time": "2023-08-02T12:09:15.377Z"
   },
   {
    "duration": 13,
    "start_time": "2023-08-02T12:09:15.392Z"
   },
   {
    "duration": 43,
    "start_time": "2023-08-02T12:09:15.407Z"
   },
   {
    "duration": 10,
    "start_time": "2023-08-02T12:09:15.452Z"
   },
   {
    "duration": 28,
    "start_time": "2023-08-02T12:09:15.464Z"
   },
   {
    "duration": 7,
    "start_time": "2023-08-02T12:09:15.494Z"
   },
   {
    "duration": 7,
    "start_time": "2023-08-02T12:09:15.503Z"
   },
   {
    "duration": 55,
    "start_time": "2023-08-02T12:09:15.513Z"
   },
   {
    "duration": 35,
    "start_time": "2023-08-02T12:09:15.570Z"
   },
   {
    "duration": 13,
    "start_time": "2023-08-02T12:09:15.606Z"
   },
   {
    "duration": 4,
    "start_time": "2023-08-02T12:12:16.504Z"
   },
   {
    "duration": 11,
    "start_time": "2023-08-02T12:12:22.245Z"
   },
   {
    "duration": 58,
    "start_time": "2023-08-02T12:12:34.540Z"
   },
   {
    "duration": 26,
    "start_time": "2023-08-02T12:14:10.835Z"
   },
   {
    "duration": 48,
    "start_time": "2023-08-03T08:25:14.257Z"
   },
   {
    "duration": 1102,
    "start_time": "2023-08-03T08:25:20.600Z"
   },
   {
    "duration": 396,
    "start_time": "2023-08-03T08:25:21.704Z"
   },
   {
    "duration": 31,
    "start_time": "2023-08-03T08:25:22.101Z"
   },
   {
    "duration": 18,
    "start_time": "2023-08-03T08:25:22.136Z"
   },
   {
    "duration": 9,
    "start_time": "2023-08-03T08:25:22.156Z"
   },
   {
    "duration": 20,
    "start_time": "2023-08-03T08:25:22.167Z"
   },
   {
    "duration": 7,
    "start_time": "2023-08-03T08:25:22.189Z"
   },
   {
    "duration": 27,
    "start_time": "2023-08-03T08:25:22.198Z"
   },
   {
    "duration": 27,
    "start_time": "2023-08-03T08:25:22.228Z"
   },
   {
    "duration": 5,
    "start_time": "2023-08-03T08:25:22.258Z"
   },
   {
    "duration": 13,
    "start_time": "2023-08-03T08:25:22.265Z"
   },
   {
    "duration": 53,
    "start_time": "2023-08-03T08:25:22.280Z"
   },
   {
    "duration": 11,
    "start_time": "2023-08-03T08:25:22.335Z"
   },
   {
    "duration": 14,
    "start_time": "2023-08-03T08:25:22.348Z"
   },
   {
    "duration": 14,
    "start_time": "2023-08-03T08:25:22.364Z"
   },
   {
    "duration": 13,
    "start_time": "2023-08-03T08:25:22.380Z"
   },
   {
    "duration": 21,
    "start_time": "2023-08-03T08:25:22.395Z"
   },
   {
    "duration": 19,
    "start_time": "2023-08-03T08:25:22.418Z"
   },
   {
    "duration": 13,
    "start_time": "2023-08-03T08:25:22.439Z"
   },
   {
    "duration": 15,
    "start_time": "2023-08-03T08:25:22.454Z"
   },
   {
    "duration": 4,
    "start_time": "2023-08-03T08:25:22.471Z"
   },
   {
    "duration": 19,
    "start_time": "2023-08-03T08:25:22.476Z"
   },
   {
    "duration": 21,
    "start_time": "2023-08-03T08:25:22.496Z"
   },
   {
    "duration": 44,
    "start_time": "2023-08-03T08:25:22.519Z"
   },
   {
    "duration": 11,
    "start_time": "2023-08-03T08:25:22.564Z"
   },
   {
    "duration": 15,
    "start_time": "2023-08-03T08:25:22.576Z"
   },
   {
    "duration": 26,
    "start_time": "2023-08-03T08:25:22.593Z"
   },
   {
    "duration": 27,
    "start_time": "2023-08-03T08:25:22.626Z"
   },
   {
    "duration": 14,
    "start_time": "2023-08-03T08:25:22.654Z"
   },
   {
    "duration": 7,
    "start_time": "2023-08-03T08:25:22.670Z"
   },
   {
    "duration": 11,
    "start_time": "2023-08-03T08:25:22.679Z"
   },
   {
    "duration": 13,
    "start_time": "2023-08-03T08:25:22.692Z"
   },
   {
    "duration": 55,
    "start_time": "2023-08-03T08:25:22.707Z"
   },
   {
    "duration": 12,
    "start_time": "2023-08-03T08:25:22.763Z"
   },
   {
    "duration": 50,
    "start_time": "2023-08-03T08:25:22.777Z"
   },
   {
    "duration": 26,
    "start_time": "2023-08-03T08:25:22.830Z"
   },
   {
    "duration": 31,
    "start_time": "2023-08-03T08:25:22.858Z"
   },
   {
    "duration": 4,
    "start_time": "2023-08-03T08:25:22.891Z"
   },
   {
    "duration": 35,
    "start_time": "2023-08-03T08:25:22.896Z"
   },
   {
    "duration": 20,
    "start_time": "2023-08-03T08:25:22.934Z"
   },
   {
    "duration": 18,
    "start_time": "2023-08-03T08:25:22.956Z"
   },
   {
    "duration": 23,
    "start_time": "2023-08-03T08:25:22.976Z"
   },
   {
    "duration": 41,
    "start_time": "2023-08-03T08:25:23.001Z"
   },
   {
    "duration": 13,
    "start_time": "2023-08-03T08:25:23.044Z"
   },
   {
    "duration": 13,
    "start_time": "2023-08-03T08:25:23.059Z"
   },
   {
    "duration": 20,
    "start_time": "2023-08-03T08:25:23.074Z"
   },
   {
    "duration": 13,
    "start_time": "2023-08-03T08:25:23.096Z"
   },
   {
    "duration": 61,
    "start_time": "2023-08-03T08:25:23.110Z"
   },
   {
    "duration": 8,
    "start_time": "2023-08-03T08:25:23.173Z"
   },
   {
    "duration": 44,
    "start_time": "2023-08-03T08:25:23.182Z"
   },
   {
    "duration": 10,
    "start_time": "2023-08-03T08:25:23.228Z"
   },
   {
    "duration": 10,
    "start_time": "2023-08-03T08:25:23.241Z"
   },
   {
    "duration": 77,
    "start_time": "2023-08-03T08:25:23.253Z"
   },
   {
    "duration": 48,
    "start_time": "2023-08-03T08:25:23.333Z"
   },
   {
    "duration": 11,
    "start_time": "2023-08-03T08:25:23.382Z"
   },
   {
    "duration": 44,
    "start_time": "2023-08-03T08:25:23.394Z"
   },
   {
    "duration": 4,
    "start_time": "2023-08-03T08:25:23.440Z"
   },
   {
    "duration": 12,
    "start_time": "2023-08-03T08:25:23.446Z"
   },
   {
    "duration": 111,
    "start_time": "2023-08-03T08:25:23.460Z"
   },
   {
    "duration": 35,
    "start_time": "2023-08-03T08:30:18.142Z"
   },
   {
    "duration": 54,
    "start_time": "2023-08-03T08:30:26.833Z"
   },
   {
    "duration": 39,
    "start_time": "2023-08-03T08:31:25.339Z"
   },
   {
    "duration": 273,
    "start_time": "2023-08-03T08:35:46.059Z"
   },
   {
    "duration": 221,
    "start_time": "2023-08-03T08:35:53.860Z"
   },
   {
    "duration": 285,
    "start_time": "2023-08-03T08:35:58.837Z"
   },
   {
    "duration": 205,
    "start_time": "2023-08-03T08:36:05.195Z"
   },
   {
    "duration": 201,
    "start_time": "2023-08-03T08:36:09.170Z"
   },
   {
    "duration": 207,
    "start_time": "2023-08-03T08:36:14.175Z"
   },
   {
    "duration": 118,
    "start_time": "2023-08-03T08:41:08.589Z"
   },
   {
    "duration": 13,
    "start_time": "2023-08-03T08:42:31.817Z"
   },
   {
    "duration": 143,
    "start_time": "2023-08-03T08:46:08.575Z"
   },
   {
    "duration": 133,
    "start_time": "2023-08-03T08:46:16.761Z"
   },
   {
    "duration": 161,
    "start_time": "2023-08-03T08:46:20.365Z"
   },
   {
    "duration": 16,
    "start_time": "2023-08-03T08:49:23.834Z"
   },
   {
    "duration": 14,
    "start_time": "2023-08-03T08:49:38.140Z"
   },
   {
    "duration": 10,
    "start_time": "2023-08-03T08:49:45.865Z"
   },
   {
    "duration": 14,
    "start_time": "2023-08-03T08:50:23.368Z"
   },
   {
    "duration": 118,
    "start_time": "2023-08-03T08:50:39.533Z"
   },
   {
    "duration": 11,
    "start_time": "2023-08-03T08:50:54.535Z"
   },
   {
    "duration": 15,
    "start_time": "2023-08-03T08:51:01.952Z"
   },
   {
    "duration": 11,
    "start_time": "2023-08-03T08:51:04.991Z"
   },
   {
    "duration": 115,
    "start_time": "2023-08-03T08:51:51.865Z"
   },
   {
    "duration": 809,
    "start_time": "2023-08-03T08:56:33.459Z"
   },
   {
    "duration": 199,
    "start_time": "2023-08-03T08:57:22.485Z"
   },
   {
    "duration": 190,
    "start_time": "2023-08-03T08:57:30.922Z"
   },
   {
    "duration": 204,
    "start_time": "2023-08-03T08:57:38.147Z"
   },
   {
    "duration": 202,
    "start_time": "2023-08-03T08:58:01.341Z"
   },
   {
    "duration": 367,
    "start_time": "2023-08-03T09:12:07.970Z"
   },
   {
    "duration": 227,
    "start_time": "2023-08-03T09:12:16.565Z"
   },
   {
    "duration": 179,
    "start_time": "2023-08-03T09:13:11.957Z"
   },
   {
    "duration": 260,
    "start_time": "2023-08-03T09:13:40.642Z"
   },
   {
    "duration": 271,
    "start_time": "2023-08-03T09:18:26.868Z"
   },
   {
    "duration": 51,
    "start_time": "2023-08-04T09:09:33.792Z"
   },
   {
    "duration": 848,
    "start_time": "2023-08-04T09:09:39.581Z"
   },
   {
    "duration": 411,
    "start_time": "2023-08-04T09:09:40.432Z"
   },
   {
    "duration": 29,
    "start_time": "2023-08-04T09:09:40.845Z"
   },
   {
    "duration": 22,
    "start_time": "2023-08-04T09:09:40.882Z"
   },
   {
    "duration": 9,
    "start_time": "2023-08-04T09:09:40.907Z"
   },
   {
    "duration": 18,
    "start_time": "2023-08-04T09:09:40.918Z"
   },
   {
    "duration": 32,
    "start_time": "2023-08-04T09:09:40.938Z"
   },
   {
    "duration": 23,
    "start_time": "2023-08-04T09:09:40.972Z"
   },
   {
    "duration": 20,
    "start_time": "2023-08-04T09:09:40.996Z"
   },
   {
    "duration": 6,
    "start_time": "2023-08-04T09:09:41.018Z"
   },
   {
    "duration": 16,
    "start_time": "2023-08-04T09:09:41.025Z"
   },
   {
    "duration": 32,
    "start_time": "2023-08-04T09:09:41.043Z"
   },
   {
    "duration": 9,
    "start_time": "2023-08-04T09:09:41.080Z"
   },
   {
    "duration": 18,
    "start_time": "2023-08-04T09:09:41.094Z"
   },
   {
    "duration": 47,
    "start_time": "2023-08-04T09:09:41.114Z"
   },
   {
    "duration": 26,
    "start_time": "2023-08-04T09:09:41.162Z"
   },
   {
    "duration": 21,
    "start_time": "2023-08-04T09:09:41.190Z"
   },
   {
    "duration": 7,
    "start_time": "2023-08-04T09:09:41.213Z"
   },
   {
    "duration": 28,
    "start_time": "2023-08-04T09:09:41.222Z"
   },
   {
    "duration": 22,
    "start_time": "2023-08-04T09:09:41.260Z"
   },
   {
    "duration": 5,
    "start_time": "2023-08-04T09:09:41.284Z"
   },
   {
    "duration": 13,
    "start_time": "2023-08-04T09:09:41.291Z"
   },
   {
    "duration": 9,
    "start_time": "2023-08-04T09:09:41.306Z"
   },
   {
    "duration": 41,
    "start_time": "2023-08-04T09:09:41.316Z"
   },
   {
    "duration": 26,
    "start_time": "2023-08-04T09:09:41.363Z"
   },
   {
    "duration": 18,
    "start_time": "2023-08-04T09:09:41.392Z"
   },
   {
    "duration": 27,
    "start_time": "2023-08-04T09:09:41.412Z"
   },
   {
    "duration": 21,
    "start_time": "2023-08-04T09:09:41.441Z"
   },
   {
    "duration": 11,
    "start_time": "2023-08-04T09:09:41.470Z"
   },
   {
    "duration": 11,
    "start_time": "2023-08-04T09:09:41.483Z"
   },
   {
    "duration": 14,
    "start_time": "2023-08-04T09:09:41.495Z"
   },
   {
    "duration": 21,
    "start_time": "2023-08-04T09:09:41.511Z"
   },
   {
    "duration": 19,
    "start_time": "2023-08-04T09:09:41.534Z"
   },
   {
    "duration": 25,
    "start_time": "2023-08-04T09:09:41.554Z"
   },
   {
    "duration": 75,
    "start_time": "2023-08-04T09:09:41.581Z"
   },
   {
    "duration": 30,
    "start_time": "2023-08-04T09:09:41.657Z"
   },
   {
    "duration": 35,
    "start_time": "2023-08-04T09:09:41.688Z"
   },
   {
    "duration": 11,
    "start_time": "2023-08-04T09:09:41.725Z"
   },
   {
    "duration": 13,
    "start_time": "2023-08-04T09:09:41.759Z"
   },
   {
    "duration": 16,
    "start_time": "2023-08-04T09:09:41.777Z"
   },
   {
    "duration": 8,
    "start_time": "2023-08-04T09:09:41.798Z"
   },
   {
    "duration": 7,
    "start_time": "2023-08-04T09:09:41.808Z"
   },
   {
    "duration": 8,
    "start_time": "2023-08-04T09:09:41.817Z"
   },
   {
    "duration": 37,
    "start_time": "2023-08-04T09:09:41.827Z"
   },
   {
    "duration": 21,
    "start_time": "2023-08-04T09:09:41.868Z"
   },
   {
    "duration": 9,
    "start_time": "2023-08-04T09:09:41.891Z"
   },
   {
    "duration": 39,
    "start_time": "2023-08-04T09:09:41.902Z"
   },
   {
    "duration": 51,
    "start_time": "2023-08-04T09:09:41.943Z"
   },
   {
    "duration": 10,
    "start_time": "2023-08-04T09:09:41.995Z"
   },
   {
    "duration": 46,
    "start_time": "2023-08-04T09:09:42.007Z"
   },
   {
    "duration": 20,
    "start_time": "2023-08-04T09:09:42.062Z"
   },
   {
    "duration": 5,
    "start_time": "2023-08-04T09:09:42.087Z"
   },
   {
    "duration": 40,
    "start_time": "2023-08-04T09:09:42.093Z"
   },
   {
    "duration": 80,
    "start_time": "2023-08-04T09:09:42.135Z"
   },
   {
    "duration": 13,
    "start_time": "2023-08-04T09:09:42.217Z"
   },
   {
    "duration": 45,
    "start_time": "2023-08-04T09:09:42.232Z"
   },
   {
    "duration": 12,
    "start_time": "2023-08-04T09:09:42.279Z"
   },
   {
    "duration": 16,
    "start_time": "2023-08-04T09:09:42.293Z"
   },
   {
    "duration": 73,
    "start_time": "2023-08-04T09:09:42.310Z"
   },
   {
    "duration": 212,
    "start_time": "2023-08-04T09:09:42.385Z"
   },
   {
    "duration": 11,
    "start_time": "2023-08-04T09:09:42.599Z"
   },
   {
    "duration": 210,
    "start_time": "2023-08-04T09:09:42.612Z"
   },
   {
    "duration": 9,
    "start_time": "2023-08-04T09:09:42.824Z"
   },
   {
    "duration": 315,
    "start_time": "2023-08-04T09:09:42.835Z"
   },
   {
    "duration": 78,
    "start_time": "2023-08-04T09:09:43.158Z"
   },
   {
    "duration": 0,
    "start_time": "2023-08-04T09:09:43.238Z"
   },
   {
    "duration": 113,
    "start_time": "2023-08-04T09:09:56.106Z"
   },
   {
    "duration": 356,
    "start_time": "2023-08-04T09:10:14.597Z"
   },
   {
    "duration": 19,
    "start_time": "2023-08-04T09:19:26.597Z"
   },
   {
    "duration": 5,
    "start_time": "2023-08-04T09:20:15.297Z"
   },
   {
    "duration": 10,
    "start_time": "2023-08-04T09:25:49.586Z"
   },
   {
    "duration": 5,
    "start_time": "2023-08-04T09:25:52.995Z"
   },
   {
    "duration": 6,
    "start_time": "2023-08-04T09:32:05.458Z"
   },
   {
    "duration": 5,
    "start_time": "2023-08-04T09:32:07.373Z"
   },
   {
    "duration": 8,
    "start_time": "2023-08-04T10:03:52.426Z"
   },
   {
    "duration": 13,
    "start_time": "2023-08-04T10:08:57.760Z"
   },
   {
    "duration": 816,
    "start_time": "2023-08-04T10:09:33.603Z"
   },
   {
    "duration": 15,
    "start_time": "2023-08-04T10:10:10.905Z"
   },
   {
    "duration": 8,
    "start_time": "2023-08-04T10:10:18.207Z"
   },
   {
    "duration": 16,
    "start_time": "2023-08-04T10:10:23.642Z"
   },
   {
    "duration": 10,
    "start_time": "2023-08-04T10:10:51.730Z"
   },
   {
    "duration": 528,
    "start_time": "2023-08-04T10:10:54.968Z"
   },
   {
    "duration": 15,
    "start_time": "2023-08-04T10:11:36.860Z"
   },
   {
    "duration": 284,
    "start_time": "2023-08-04T10:11:44.621Z"
   },
   {
    "duration": 333,
    "start_time": "2023-08-04T10:12:03.316Z"
   },
   {
    "duration": 292,
    "start_time": "2023-08-04T10:12:09.306Z"
   },
   {
    "duration": 299,
    "start_time": "2023-08-04T10:12:17.446Z"
   },
   {
    "duration": 318,
    "start_time": "2023-08-04T10:12:23.653Z"
   },
   {
    "duration": 430,
    "start_time": "2023-08-04T10:12:27.729Z"
   },
   {
    "duration": 365,
    "start_time": "2023-08-04T10:22:14.974Z"
   },
   {
    "duration": 11,
    "start_time": "2023-08-04T10:26:20.751Z"
   },
   {
    "duration": 10,
    "start_time": "2023-08-04T10:26:27.602Z"
   },
   {
    "duration": 283,
    "start_time": "2023-08-04T10:26:32.978Z"
   },
   {
    "duration": 360,
    "start_time": "2023-08-04T10:26:45.149Z"
   },
   {
    "duration": 132,
    "start_time": "2023-08-04T10:37:20.549Z"
   },
   {
    "duration": 118,
    "start_time": "2023-08-04T10:37:32.537Z"
   },
   {
    "duration": 396,
    "start_time": "2023-08-04T10:37:48.014Z"
   },
   {
    "duration": 261,
    "start_time": "2023-08-04T10:38:04.646Z"
   },
   {
    "duration": 484,
    "start_time": "2023-08-04T10:38:12.727Z"
   },
   {
    "duration": 393,
    "start_time": "2023-08-04T10:39:10.722Z"
   },
   {
    "duration": 91,
    "start_time": "2023-08-04T10:39:18.274Z"
   },
   {
    "duration": 380,
    "start_time": "2023-08-04T10:39:33.105Z"
   },
   {
    "duration": 355,
    "start_time": "2023-08-04T10:39:39.555Z"
   },
   {
    "duration": 392,
    "start_time": "2023-08-04T10:41:49.828Z"
   },
   {
    "duration": 544,
    "start_time": "2023-08-04T10:42:07.334Z"
   },
   {
    "duration": 107,
    "start_time": "2023-08-04T10:42:49.263Z"
   },
   {
    "duration": 19,
    "start_time": "2023-08-04T10:45:53.013Z"
   },
   {
    "duration": 354,
    "start_time": "2023-08-04T10:45:57.914Z"
   },
   {
    "duration": 314,
    "start_time": "2023-08-04T10:46:15.774Z"
   },
   {
    "duration": 397,
    "start_time": "2023-08-04T10:46:21.076Z"
   },
   {
    "duration": 341,
    "start_time": "2023-08-04T10:46:30.856Z"
   },
   {
    "duration": 339,
    "start_time": "2023-08-04T10:46:50.387Z"
   },
   {
    "duration": 119,
    "start_time": "2023-08-04T10:48:23.218Z"
   },
   {
    "duration": 142,
    "start_time": "2023-08-04T10:48:33.178Z"
   },
   {
    "duration": 342,
    "start_time": "2023-08-04T10:49:08.950Z"
   },
   {
    "duration": 342,
    "start_time": "2023-08-04T10:50:02.685Z"
   },
   {
    "duration": 477,
    "start_time": "2023-08-04T10:50:05.812Z"
   },
   {
    "duration": 46,
    "start_time": "2023-08-04T10:50:15.899Z"
   },
   {
    "duration": 6,
    "start_time": "2023-08-04T10:50:35.818Z"
   },
   {
    "duration": 8,
    "start_time": "2023-08-04T10:50:43.622Z"
   },
   {
    "duration": 6,
    "start_time": "2023-08-04T10:50:57.185Z"
   },
   {
    "duration": 938,
    "start_time": "2023-08-04T10:51:10.437Z"
   },
   {
    "duration": 72,
    "start_time": "2023-08-04T10:51:39.227Z"
   },
   {
    "duration": 1149,
    "start_time": "2023-08-04T10:51:47.482Z"
   },
   {
    "duration": 1138,
    "start_time": "2023-08-04T10:52:36.570Z"
   },
   {
    "duration": 127,
    "start_time": "2023-08-04T10:52:55.954Z"
   },
   {
    "duration": 518,
    "start_time": "2023-08-04T10:52:59.412Z"
   },
   {
    "duration": 1371,
    "start_time": "2023-08-04T10:53:44.597Z"
   },
   {
    "duration": 1152,
    "start_time": "2023-08-04T10:53:54.246Z"
   },
   {
    "duration": 380,
    "start_time": "2023-08-04T10:54:10.588Z"
   },
   {
    "duration": 355,
    "start_time": "2023-08-04T10:54:41.667Z"
   },
   {
    "duration": 365,
    "start_time": "2023-08-04T10:55:03.718Z"
   },
   {
    "duration": 399,
    "start_time": "2023-08-04T10:58:14.184Z"
   },
   {
    "duration": 342,
    "start_time": "2023-08-04T10:58:20.235Z"
   },
   {
    "duration": 395,
    "start_time": "2023-08-04T10:59:25.389Z"
   },
   {
    "duration": 1594,
    "start_time": "2023-08-04T11:01:12.414Z"
   },
   {
    "duration": 11,
    "start_time": "2023-08-04T11:01:19.944Z"
   },
   {
    "duration": 391,
    "start_time": "2023-08-04T11:01:22.229Z"
   },
   {
    "duration": 527,
    "start_time": "2023-08-04T11:01:25.148Z"
   },
   {
    "duration": 437,
    "start_time": "2023-08-04T11:01:29.742Z"
   },
   {
    "duration": 5,
    "start_time": "2023-08-04T11:01:39.558Z"
   },
   {
    "duration": 352,
    "start_time": "2023-08-04T11:01:41.916Z"
   },
   {
    "duration": 323,
    "start_time": "2023-08-04T11:02:40.391Z"
   },
   {
    "duration": 394,
    "start_time": "2023-08-04T11:02:51.655Z"
   },
   {
    "duration": 12,
    "start_time": "2023-08-04T11:03:32.450Z"
   },
   {
    "duration": 680,
    "start_time": "2023-08-04T11:03:37.641Z"
   },
   {
    "duration": 134,
    "start_time": "2023-08-04T11:03:38.323Z"
   },
   {
    "duration": 20,
    "start_time": "2023-08-04T11:03:38.459Z"
   },
   {
    "duration": 15,
    "start_time": "2023-08-04T11:03:38.481Z"
   },
   {
    "duration": 10,
    "start_time": "2023-08-04T11:03:38.499Z"
   },
   {
    "duration": 14,
    "start_time": "2023-08-04T11:03:38.510Z"
   },
   {
    "duration": 38,
    "start_time": "2023-08-04T11:03:38.526Z"
   },
   {
    "duration": 15,
    "start_time": "2023-08-04T11:03:38.566Z"
   },
   {
    "duration": 21,
    "start_time": "2023-08-04T11:03:38.583Z"
   },
   {
    "duration": 7,
    "start_time": "2023-08-04T11:03:38.605Z"
   },
   {
    "duration": 34,
    "start_time": "2023-08-04T11:03:38.614Z"
   },
   {
    "duration": 29,
    "start_time": "2023-08-04T11:03:38.649Z"
   },
   {
    "duration": 31,
    "start_time": "2023-08-04T11:03:38.680Z"
   },
   {
    "duration": 22,
    "start_time": "2023-08-04T11:03:38.714Z"
   },
   {
    "duration": 19,
    "start_time": "2023-08-04T11:03:38.738Z"
   },
   {
    "duration": 32,
    "start_time": "2023-08-04T11:03:38.759Z"
   },
   {
    "duration": 27,
    "start_time": "2023-08-04T11:03:38.793Z"
   },
   {
    "duration": 26,
    "start_time": "2023-08-04T11:03:38.821Z"
   },
   {
    "duration": 36,
    "start_time": "2023-08-04T11:03:38.849Z"
   },
   {
    "duration": 57,
    "start_time": "2023-08-04T11:03:38.887Z"
   },
   {
    "duration": 40,
    "start_time": "2023-08-04T11:03:38.946Z"
   },
   {
    "duration": 35,
    "start_time": "2023-08-04T11:03:38.988Z"
   },
   {
    "duration": 39,
    "start_time": "2023-08-04T11:03:39.025Z"
   },
   {
    "duration": 18,
    "start_time": "2023-08-04T11:03:39.065Z"
   },
   {
    "duration": 36,
    "start_time": "2023-08-04T11:03:39.085Z"
   },
   {
    "duration": 26,
    "start_time": "2023-08-04T11:03:39.123Z"
   },
   {
    "duration": 15,
    "start_time": "2023-08-04T11:03:39.151Z"
   },
   {
    "duration": 24,
    "start_time": "2023-08-04T11:03:39.168Z"
   },
   {
    "duration": 19,
    "start_time": "2023-08-04T11:03:39.194Z"
   },
   {
    "duration": 5,
    "start_time": "2023-08-04T11:03:39.215Z"
   },
   {
    "duration": 7,
    "start_time": "2023-08-04T11:03:39.222Z"
   },
   {
    "duration": 4,
    "start_time": "2023-08-04T11:03:39.231Z"
   },
   {
    "duration": 22,
    "start_time": "2023-08-04T11:03:39.237Z"
   },
   {
    "duration": 14,
    "start_time": "2023-08-04T11:03:39.261Z"
   },
   {
    "duration": 35,
    "start_time": "2023-08-04T11:03:39.277Z"
   },
   {
    "duration": 25,
    "start_time": "2023-08-04T11:03:39.314Z"
   },
   {
    "duration": 44,
    "start_time": "2023-08-04T11:03:39.340Z"
   },
   {
    "duration": 5,
    "start_time": "2023-08-04T11:03:39.386Z"
   },
   {
    "duration": 13,
    "start_time": "2023-08-04T11:03:39.392Z"
   },
   {
    "duration": 15,
    "start_time": "2023-08-04T11:03:39.407Z"
   },
   {
    "duration": 18,
    "start_time": "2023-08-04T11:03:39.426Z"
   },
   {
    "duration": 21,
    "start_time": "2023-08-04T11:03:39.445Z"
   },
   {
    "duration": 14,
    "start_time": "2023-08-04T11:03:39.468Z"
   },
   {
    "duration": 28,
    "start_time": "2023-08-04T11:03:39.484Z"
   },
   {
    "duration": 28,
    "start_time": "2023-08-04T11:03:39.513Z"
   },
   {
    "duration": 7,
    "start_time": "2023-08-04T11:03:39.543Z"
   },
   {
    "duration": 26,
    "start_time": "2023-08-04T11:03:39.552Z"
   },
   {
    "duration": 36,
    "start_time": "2023-08-04T11:03:39.580Z"
   },
   {
    "duration": 28,
    "start_time": "2023-08-04T11:03:39.618Z"
   },
   {
    "duration": 27,
    "start_time": "2023-08-04T11:03:39.647Z"
   },
   {
    "duration": 6,
    "start_time": "2023-08-04T11:03:39.676Z"
   },
   {
    "duration": 10,
    "start_time": "2023-08-04T11:03:39.684Z"
   },
   {
    "duration": 39,
    "start_time": "2023-08-04T11:03:39.696Z"
   },
   {
    "duration": 71,
    "start_time": "2023-08-04T11:03:39.737Z"
   },
   {
    "duration": 12,
    "start_time": "2023-08-04T11:03:39.809Z"
   },
   {
    "duration": 37,
    "start_time": "2023-08-04T11:03:39.823Z"
   },
   {
    "duration": 21,
    "start_time": "2023-08-04T11:03:39.862Z"
   },
   {
    "duration": 22,
    "start_time": "2023-08-04T11:03:39.885Z"
   },
   {
    "duration": 70,
    "start_time": "2023-08-04T11:03:39.909Z"
   },
   {
    "duration": 260,
    "start_time": "2023-08-04T11:03:39.981Z"
   },
   {
    "duration": 9,
    "start_time": "2023-08-04T11:03:40.243Z"
   },
   {
    "duration": 159,
    "start_time": "2023-08-04T11:03:40.259Z"
   },
   {
    "duration": 11,
    "start_time": "2023-08-04T11:03:40.420Z"
   },
   {
    "duration": 275,
    "start_time": "2023-08-04T11:03:40.433Z"
   },
   {
    "duration": 350,
    "start_time": "2023-08-04T11:03:40.711Z"
   },
   {
    "duration": 17,
    "start_time": "2023-08-04T11:03:41.063Z"
   },
   {
    "duration": 17,
    "start_time": "2023-08-04T11:03:41.081Z"
   },
   {
    "duration": 46,
    "start_time": "2023-08-04T11:03:41.099Z"
   },
   {
    "duration": 21,
    "start_time": "2023-08-04T11:03:41.147Z"
   },
   {
    "duration": 402,
    "start_time": "2023-08-04T11:03:41.169Z"
   },
   {
    "duration": 388,
    "start_time": "2023-08-04T11:03:41.573Z"
   },
   {
    "duration": 451,
    "start_time": "2023-08-04T11:03:41.963Z"
   },
   {
    "duration": 5,
    "start_time": "2023-08-04T11:03:42.416Z"
   },
   {
    "duration": 368,
    "start_time": "2023-08-04T11:03:42.422Z"
   },
   {
    "duration": 500,
    "start_time": "2023-08-04T11:03:42.792Z"
   },
   {
    "duration": 110,
    "start_time": "2023-08-04T11:06:31.063Z"
   },
   {
    "duration": 10,
    "start_time": "2023-08-04T11:06:39.590Z"
   },
   {
    "duration": 6,
    "start_time": "2023-08-04T11:06:51.562Z"
   },
   {
    "duration": 7,
    "start_time": "2023-08-04T11:07:58.031Z"
   },
   {
    "duration": 5,
    "start_time": "2023-08-04T11:07:59.051Z"
   },
   {
    "duration": 6,
    "start_time": "2023-08-04T11:08:00.031Z"
   },
   {
    "duration": 444,
    "start_time": "2023-08-04T11:15:38.651Z"
   },
   {
    "duration": 546,
    "start_time": "2023-08-04T11:15:52.047Z"
   },
   {
    "duration": 466,
    "start_time": "2023-08-04T11:17:37.493Z"
   },
   {
    "duration": 15,
    "start_time": "2023-08-04T11:23:42.400Z"
   },
   {
    "duration": 17,
    "start_time": "2023-08-04T11:25:14.002Z"
   },
   {
    "duration": 14,
    "start_time": "2023-08-04T11:26:20.976Z"
   },
   {
    "duration": 5,
    "start_time": "2023-08-04T11:26:47.608Z"
   },
   {
    "duration": 9,
    "start_time": "2023-08-04T11:27:11.676Z"
   },
   {
    "duration": 13,
    "start_time": "2023-08-04T11:27:19.955Z"
   },
   {
    "duration": 7,
    "start_time": "2023-08-04T11:28:11.575Z"
   },
   {
    "duration": 9,
    "start_time": "2023-08-04T11:28:17.268Z"
   },
   {
    "duration": 8,
    "start_time": "2023-08-04T11:28:57.510Z"
   },
   {
    "duration": 139,
    "start_time": "2023-08-04T11:29:17.303Z"
   },
   {
    "duration": 83,
    "start_time": "2023-08-04T11:29:31.875Z"
   },
   {
    "duration": 99,
    "start_time": "2023-08-04T11:29:49.001Z"
   },
   {
    "duration": 73,
    "start_time": "2023-08-04T11:30:40.148Z"
   },
   {
    "duration": 78,
    "start_time": "2023-08-04T11:30:58.759Z"
   },
   {
    "duration": 28,
    "start_time": "2023-08-04T11:31:41.545Z"
   },
   {
    "duration": 23,
    "start_time": "2023-08-04T11:36:24.601Z"
   },
   {
    "duration": 20,
    "start_time": "2023-08-04T11:36:40.437Z"
   },
   {
    "duration": 24,
    "start_time": "2023-08-04T11:39:02.768Z"
   },
   {
    "duration": 84,
    "start_time": "2023-08-04T11:39:27.297Z"
   },
   {
    "duration": 8,
    "start_time": "2023-08-04T11:39:45.816Z"
   },
   {
    "duration": 23,
    "start_time": "2023-08-04T11:40:00.268Z"
   },
   {
    "duration": 46,
    "start_time": "2023-08-04T11:40:05.495Z"
   },
   {
    "duration": 12,
    "start_time": "2023-08-04T11:40:14.411Z"
   },
   {
    "duration": 13,
    "start_time": "2023-08-04T11:40:21.235Z"
   },
   {
    "duration": 417,
    "start_time": "2023-08-04T11:47:37.649Z"
   },
   {
    "duration": 66,
    "start_time": "2023-08-04T11:49:03.299Z"
   },
   {
    "duration": 375,
    "start_time": "2023-08-04T11:49:06.833Z"
   },
   {
    "duration": 276,
    "start_time": "2023-08-04T11:49:22.795Z"
   },
   {
    "duration": 371,
    "start_time": "2023-08-04T11:49:27.664Z"
   },
   {
    "duration": 370,
    "start_time": "2023-08-04T11:49:39.549Z"
   },
   {
    "duration": 419,
    "start_time": "2023-08-04T11:52:06.291Z"
   },
   {
    "duration": 412,
    "start_time": "2023-08-04T11:52:24.600Z"
   },
   {
    "duration": 424,
    "start_time": "2023-08-04T11:52:39.873Z"
   },
   {
    "duration": 689,
    "start_time": "2023-08-04T12:00:55.701Z"
   },
   {
    "duration": 141,
    "start_time": "2023-08-04T12:00:56.392Z"
   },
   {
    "duration": 21,
    "start_time": "2023-08-04T12:00:56.535Z"
   },
   {
    "duration": 23,
    "start_time": "2023-08-04T12:00:56.558Z"
   },
   {
    "duration": 12,
    "start_time": "2023-08-04T12:00:56.583Z"
   },
   {
    "duration": 13,
    "start_time": "2023-08-04T12:00:56.596Z"
   },
   {
    "duration": 8,
    "start_time": "2023-08-04T12:00:56.611Z"
   },
   {
    "duration": 52,
    "start_time": "2023-08-04T12:00:56.621Z"
   },
   {
    "duration": 17,
    "start_time": "2023-08-04T12:00:56.674Z"
   },
   {
    "duration": 9,
    "start_time": "2023-08-04T12:00:56.693Z"
   },
   {
    "duration": 7,
    "start_time": "2023-08-04T12:00:56.704Z"
   },
   {
    "duration": 19,
    "start_time": "2023-08-04T12:00:56.712Z"
   },
   {
    "duration": 14,
    "start_time": "2023-08-04T12:00:56.759Z"
   },
   {
    "duration": 12,
    "start_time": "2023-08-04T12:00:56.777Z"
   },
   {
    "duration": 14,
    "start_time": "2023-08-04T12:00:56.791Z"
   },
   {
    "duration": 17,
    "start_time": "2023-08-04T12:00:56.807Z"
   },
   {
    "duration": 22,
    "start_time": "2023-08-04T12:00:56.860Z"
   },
   {
    "duration": 10,
    "start_time": "2023-08-04T12:00:56.884Z"
   },
   {
    "duration": 48,
    "start_time": "2023-08-04T12:00:56.895Z"
   },
   {
    "duration": 48,
    "start_time": "2023-08-04T12:00:56.945Z"
   },
   {
    "duration": 6,
    "start_time": "2023-08-04T12:00:56.995Z"
   },
   {
    "duration": 11,
    "start_time": "2023-08-04T12:00:57.003Z"
   },
   {
    "duration": 17,
    "start_time": "2023-08-04T12:00:57.016Z"
   },
   {
    "duration": 18,
    "start_time": "2023-08-04T12:00:57.035Z"
   },
   {
    "duration": 43,
    "start_time": "2023-08-04T12:00:57.055Z"
   },
   {
    "duration": 31,
    "start_time": "2023-08-04T12:00:57.100Z"
   },
   {
    "duration": 14,
    "start_time": "2023-08-04T12:00:57.133Z"
   },
   {
    "duration": 29,
    "start_time": "2023-08-04T12:00:57.149Z"
   },
   {
    "duration": 35,
    "start_time": "2023-08-04T12:00:57.180Z"
   },
   {
    "duration": 11,
    "start_time": "2023-08-04T12:00:57.217Z"
   },
   {
    "duration": 19,
    "start_time": "2023-08-04T12:00:57.229Z"
   },
   {
    "duration": 26,
    "start_time": "2023-08-04T12:00:57.250Z"
   },
   {
    "duration": 8,
    "start_time": "2023-08-04T12:00:57.278Z"
   },
   {
    "duration": 25,
    "start_time": "2023-08-04T12:00:57.289Z"
   },
   {
    "duration": 101,
    "start_time": "2023-08-04T12:00:57.315Z"
   },
   {
    "duration": 35,
    "start_time": "2023-08-04T12:00:57.418Z"
   },
   {
    "duration": 37,
    "start_time": "2023-08-04T12:00:57.455Z"
   },
   {
    "duration": 5,
    "start_time": "2023-08-04T12:00:57.493Z"
   },
   {
    "duration": 15,
    "start_time": "2023-08-04T12:00:57.499Z"
   },
   {
    "duration": 7,
    "start_time": "2023-08-04T12:00:57.516Z"
   },
   {
    "duration": 46,
    "start_time": "2023-08-04T12:00:57.527Z"
   },
   {
    "duration": 7,
    "start_time": "2023-08-04T12:00:57.575Z"
   },
   {
    "duration": 10,
    "start_time": "2023-08-04T12:00:57.583Z"
   },
   {
    "duration": 19,
    "start_time": "2023-08-04T12:00:57.594Z"
   },
   {
    "duration": 13,
    "start_time": "2023-08-04T12:00:57.615Z"
   },
   {
    "duration": 63,
    "start_time": "2023-08-04T12:00:57.630Z"
   },
   {
    "duration": 14,
    "start_time": "2023-08-04T12:00:57.695Z"
   },
   {
    "duration": 55,
    "start_time": "2023-08-04T12:00:57.711Z"
   },
   {
    "duration": 14,
    "start_time": "2023-08-04T12:00:57.769Z"
   },
   {
    "duration": 41,
    "start_time": "2023-08-04T12:00:57.785Z"
   },
   {
    "duration": 11,
    "start_time": "2023-08-04T12:00:57.829Z"
   },
   {
    "duration": 12,
    "start_time": "2023-08-04T12:00:57.842Z"
   },
   {
    "duration": 52,
    "start_time": "2023-08-04T12:00:57.859Z"
   },
   {
    "duration": 74,
    "start_time": "2023-08-04T12:00:57.912Z"
   },
   {
    "duration": 11,
    "start_time": "2023-08-04T12:00:57.988Z"
   },
   {
    "duration": 29,
    "start_time": "2023-08-04T12:00:58.001Z"
   },
   {
    "duration": 33,
    "start_time": "2023-08-04T12:00:58.032Z"
   },
   {
    "duration": 32,
    "start_time": "2023-08-04T12:00:58.069Z"
   },
   {
    "duration": 40,
    "start_time": "2023-08-04T12:00:58.103Z"
   },
   {
    "duration": 233,
    "start_time": "2023-08-04T12:00:58.145Z"
   },
   {
    "duration": 9,
    "start_time": "2023-08-04T12:00:58.380Z"
   },
   {
    "duration": 178,
    "start_time": "2023-08-04T12:00:58.391Z"
   },
   {
    "duration": 10,
    "start_time": "2023-08-04T12:00:58.576Z"
   },
   {
    "duration": 284,
    "start_time": "2023-08-04T12:00:58.588Z"
   },
   {
    "duration": 296,
    "start_time": "2023-08-04T12:00:58.877Z"
   },
   {
    "duration": 24,
    "start_time": "2023-08-04T12:00:59.174Z"
   },
   {
    "duration": 6,
    "start_time": "2023-08-04T12:00:59.201Z"
   },
   {
    "duration": 13,
    "start_time": "2023-08-04T12:00:59.209Z"
   },
   {
    "duration": 48,
    "start_time": "2023-08-04T12:00:59.224Z"
   },
   {
    "duration": 407,
    "start_time": "2023-08-04T12:00:59.274Z"
   },
   {
    "duration": 6,
    "start_time": "2023-08-04T12:00:59.682Z"
   },
   {
    "duration": 18,
    "start_time": "2023-08-04T12:00:59.690Z"
   },
   {
    "duration": 9,
    "start_time": "2023-08-04T12:00:59.710Z"
   },
   {
    "duration": 7,
    "start_time": "2023-08-04T12:00:59.721Z"
   },
   {
    "duration": 413,
    "start_time": "2023-08-04T12:00:59.730Z"
   },
   {
    "duration": 462,
    "start_time": "2023-08-04T12:01:00.145Z"
   },
   {
    "duration": 1253,
    "start_time": "2023-08-04T12:07:49.602Z"
   },
   {
    "duration": 18,
    "start_time": "2023-08-04T12:07:58.069Z"
   },
   {
    "duration": 842,
    "start_time": "2023-08-06T08:02:10.099Z"
   },
   {
    "duration": 85,
    "start_time": "2023-08-06T08:02:47.416Z"
   },
   {
    "duration": 10,
    "start_time": "2023-08-06T08:03:48.431Z"
   },
   {
    "duration": 742,
    "start_time": "2023-08-06T08:03:54.867Z"
   },
   {
    "duration": 566,
    "start_time": "2023-08-06T08:03:55.612Z"
   },
   {
    "duration": 18,
    "start_time": "2023-08-06T08:03:56.185Z"
   },
   {
    "duration": 16,
    "start_time": "2023-08-06T08:03:56.205Z"
   },
   {
    "duration": 9,
    "start_time": "2023-08-06T08:03:56.223Z"
   },
   {
    "duration": 49,
    "start_time": "2023-08-06T08:03:56.234Z"
   },
   {
    "duration": 82,
    "start_time": "2023-08-06T08:03:56.285Z"
   },
   {
    "duration": 0,
    "start_time": "2023-08-06T08:03:56.375Z"
   },
   {
    "duration": 0,
    "start_time": "2023-08-06T08:03:56.377Z"
   },
   {
    "duration": 0,
    "start_time": "2023-08-06T08:03:56.379Z"
   },
   {
    "duration": 0,
    "start_time": "2023-08-06T08:03:56.381Z"
   },
   {
    "duration": 0,
    "start_time": "2023-08-06T08:03:56.384Z"
   },
   {
    "duration": 0,
    "start_time": "2023-08-06T08:03:56.385Z"
   },
   {
    "duration": 0,
    "start_time": "2023-08-06T08:03:56.386Z"
   },
   {
    "duration": 0,
    "start_time": "2023-08-06T08:03:56.387Z"
   },
   {
    "duration": 0,
    "start_time": "2023-08-06T08:03:56.388Z"
   },
   {
    "duration": 0,
    "start_time": "2023-08-06T08:03:56.389Z"
   },
   {
    "duration": 0,
    "start_time": "2023-08-06T08:03:56.390Z"
   },
   {
    "duration": 0,
    "start_time": "2023-08-06T08:03:56.390Z"
   },
   {
    "duration": 0,
    "start_time": "2023-08-06T08:03:56.392Z"
   },
   {
    "duration": 0,
    "start_time": "2023-08-06T08:03:56.392Z"
   },
   {
    "duration": 0,
    "start_time": "2023-08-06T08:03:56.394Z"
   },
   {
    "duration": 0,
    "start_time": "2023-08-06T08:03:56.395Z"
   },
   {
    "duration": 0,
    "start_time": "2023-08-06T08:03:56.395Z"
   },
   {
    "duration": 0,
    "start_time": "2023-08-06T08:03:56.397Z"
   },
   {
    "duration": 0,
    "start_time": "2023-08-06T08:03:56.397Z"
   },
   {
    "duration": 0,
    "start_time": "2023-08-06T08:03:56.399Z"
   },
   {
    "duration": 0,
    "start_time": "2023-08-06T08:03:56.399Z"
   },
   {
    "duration": 0,
    "start_time": "2023-08-06T08:03:56.400Z"
   },
   {
    "duration": 0,
    "start_time": "2023-08-06T08:03:56.401Z"
   },
   {
    "duration": 0,
    "start_time": "2023-08-06T08:03:56.402Z"
   },
   {
    "duration": 0,
    "start_time": "2023-08-06T08:03:56.403Z"
   },
   {
    "duration": 0,
    "start_time": "2023-08-06T08:03:56.404Z"
   },
   {
    "duration": 0,
    "start_time": "2023-08-06T08:03:56.405Z"
   },
   {
    "duration": 0,
    "start_time": "2023-08-06T08:03:56.406Z"
   },
   {
    "duration": 0,
    "start_time": "2023-08-06T08:03:56.407Z"
   },
   {
    "duration": 0,
    "start_time": "2023-08-06T08:03:56.408Z"
   },
   {
    "duration": 0,
    "start_time": "2023-08-06T08:03:56.409Z"
   },
   {
    "duration": 0,
    "start_time": "2023-08-06T08:03:56.410Z"
   },
   {
    "duration": 0,
    "start_time": "2023-08-06T08:03:56.411Z"
   },
   {
    "duration": 0,
    "start_time": "2023-08-06T08:03:56.412Z"
   },
   {
    "duration": 0,
    "start_time": "2023-08-06T08:03:56.413Z"
   },
   {
    "duration": 0,
    "start_time": "2023-08-06T08:03:56.414Z"
   },
   {
    "duration": 0,
    "start_time": "2023-08-06T08:03:56.415Z"
   },
   {
    "duration": 0,
    "start_time": "2023-08-06T08:03:56.462Z"
   },
   {
    "duration": 0,
    "start_time": "2023-08-06T08:03:56.463Z"
   },
   {
    "duration": 0,
    "start_time": "2023-08-06T08:03:56.464Z"
   },
   {
    "duration": 0,
    "start_time": "2023-08-06T08:03:56.465Z"
   },
   {
    "duration": 0,
    "start_time": "2023-08-06T08:03:56.466Z"
   },
   {
    "duration": 0,
    "start_time": "2023-08-06T08:03:56.467Z"
   },
   {
    "duration": 0,
    "start_time": "2023-08-06T08:03:56.468Z"
   },
   {
    "duration": 0,
    "start_time": "2023-08-06T08:03:56.469Z"
   },
   {
    "duration": 0,
    "start_time": "2023-08-06T08:03:56.470Z"
   },
   {
    "duration": 0,
    "start_time": "2023-08-06T08:03:56.471Z"
   },
   {
    "duration": 0,
    "start_time": "2023-08-06T08:03:56.472Z"
   },
   {
    "duration": 0,
    "start_time": "2023-08-06T08:03:56.473Z"
   },
   {
    "duration": 0,
    "start_time": "2023-08-06T08:03:56.474Z"
   },
   {
    "duration": 0,
    "start_time": "2023-08-06T08:03:56.475Z"
   },
   {
    "duration": 0,
    "start_time": "2023-08-06T08:03:56.476Z"
   },
   {
    "duration": 0,
    "start_time": "2023-08-06T08:03:56.477Z"
   },
   {
    "duration": 0,
    "start_time": "2023-08-06T08:03:56.478Z"
   },
   {
    "duration": 0,
    "start_time": "2023-08-06T08:03:56.479Z"
   },
   {
    "duration": 0,
    "start_time": "2023-08-06T08:03:56.484Z"
   },
   {
    "duration": 0,
    "start_time": "2023-08-06T08:03:56.485Z"
   },
   {
    "duration": 0,
    "start_time": "2023-08-06T08:03:56.485Z"
   },
   {
    "duration": 0,
    "start_time": "2023-08-06T08:03:56.486Z"
   },
   {
    "duration": 0,
    "start_time": "2023-08-06T08:03:56.488Z"
   },
   {
    "duration": 0,
    "start_time": "2023-08-06T08:03:56.489Z"
   },
   {
    "duration": 0,
    "start_time": "2023-08-06T08:03:56.490Z"
   },
   {
    "duration": 0,
    "start_time": "2023-08-06T08:03:56.491Z"
   },
   {
    "duration": 0,
    "start_time": "2023-08-06T08:03:56.492Z"
   },
   {
    "duration": 0,
    "start_time": "2023-08-06T08:03:56.493Z"
   },
   {
    "duration": 0,
    "start_time": "2023-08-06T08:03:56.494Z"
   },
   {
    "duration": 0,
    "start_time": "2023-08-06T08:03:56.495Z"
   },
   {
    "duration": 0,
    "start_time": "2023-08-06T08:03:56.496Z"
   },
   {
    "duration": 0,
    "start_time": "2023-08-06T08:03:56.497Z"
   },
   {
    "duration": 0,
    "start_time": "2023-08-06T08:03:56.498Z"
   },
   {
    "duration": 14,
    "start_time": "2023-08-06T08:05:35.676Z"
   },
   {
    "duration": 728,
    "start_time": "2023-08-06T08:05:56.659Z"
   },
   {
    "duration": 160,
    "start_time": "2023-08-06T08:05:57.390Z"
   },
   {
    "duration": 31,
    "start_time": "2023-08-06T08:05:57.552Z"
   },
   {
    "duration": 15,
    "start_time": "2023-08-06T08:05:57.585Z"
   },
   {
    "duration": 9,
    "start_time": "2023-08-06T08:05:57.601Z"
   },
   {
    "duration": 11,
    "start_time": "2023-08-06T08:05:57.611Z"
   },
   {
    "duration": 102,
    "start_time": "2023-08-06T08:05:57.623Z"
   },
   {
    "duration": 0,
    "start_time": "2023-08-06T08:05:57.729Z"
   },
   {
    "duration": 0,
    "start_time": "2023-08-06T08:05:57.730Z"
   },
   {
    "duration": 0,
    "start_time": "2023-08-06T08:05:57.731Z"
   },
   {
    "duration": 0,
    "start_time": "2023-08-06T08:05:57.732Z"
   },
   {
    "duration": 0,
    "start_time": "2023-08-06T08:05:57.733Z"
   },
   {
    "duration": 0,
    "start_time": "2023-08-06T08:05:57.734Z"
   },
   {
    "duration": 0,
    "start_time": "2023-08-06T08:05:57.734Z"
   },
   {
    "duration": 0,
    "start_time": "2023-08-06T08:05:57.735Z"
   },
   {
    "duration": 0,
    "start_time": "2023-08-06T08:05:57.736Z"
   },
   {
    "duration": 0,
    "start_time": "2023-08-06T08:05:57.737Z"
   },
   {
    "duration": 0,
    "start_time": "2023-08-06T08:05:57.738Z"
   },
   {
    "duration": 0,
    "start_time": "2023-08-06T08:05:57.756Z"
   },
   {
    "duration": 0,
    "start_time": "2023-08-06T08:05:57.757Z"
   },
   {
    "duration": 0,
    "start_time": "2023-08-06T08:05:57.758Z"
   },
   {
    "duration": 0,
    "start_time": "2023-08-06T08:05:57.759Z"
   },
   {
    "duration": 0,
    "start_time": "2023-08-06T08:05:57.759Z"
   },
   {
    "duration": 0,
    "start_time": "2023-08-06T08:05:57.760Z"
   },
   {
    "duration": 0,
    "start_time": "2023-08-06T08:05:57.761Z"
   },
   {
    "duration": 0,
    "start_time": "2023-08-06T08:05:57.762Z"
   },
   {
    "duration": 0,
    "start_time": "2023-08-06T08:05:57.763Z"
   },
   {
    "duration": 0,
    "start_time": "2023-08-06T08:05:57.764Z"
   },
   {
    "duration": 0,
    "start_time": "2023-08-06T08:05:57.764Z"
   },
   {
    "duration": 0,
    "start_time": "2023-08-06T08:05:57.765Z"
   },
   {
    "duration": 0,
    "start_time": "2023-08-06T08:05:57.766Z"
   },
   {
    "duration": 0,
    "start_time": "2023-08-06T08:05:57.766Z"
   },
   {
    "duration": 0,
    "start_time": "2023-08-06T08:05:57.767Z"
   },
   {
    "duration": 0,
    "start_time": "2023-08-06T08:05:57.768Z"
   },
   {
    "duration": 1,
    "start_time": "2023-08-06T08:05:57.768Z"
   },
   {
    "duration": 0,
    "start_time": "2023-08-06T08:05:57.769Z"
   },
   {
    "duration": 0,
    "start_time": "2023-08-06T08:05:57.770Z"
   },
   {
    "duration": 0,
    "start_time": "2023-08-06T08:05:57.771Z"
   },
   {
    "duration": 0,
    "start_time": "2023-08-06T08:05:57.771Z"
   },
   {
    "duration": 0,
    "start_time": "2023-08-06T08:05:57.772Z"
   },
   {
    "duration": 0,
    "start_time": "2023-08-06T08:05:57.773Z"
   },
   {
    "duration": 0,
    "start_time": "2023-08-06T08:05:57.773Z"
   },
   {
    "duration": 0,
    "start_time": "2023-08-06T08:05:57.774Z"
   },
   {
    "duration": 0,
    "start_time": "2023-08-06T08:05:57.775Z"
   },
   {
    "duration": 0,
    "start_time": "2023-08-06T08:05:57.776Z"
   },
   {
    "duration": 0,
    "start_time": "2023-08-06T08:05:57.776Z"
   },
   {
    "duration": 0,
    "start_time": "2023-08-06T08:05:57.777Z"
   },
   {
    "duration": 0,
    "start_time": "2023-08-06T08:05:57.778Z"
   },
   {
    "duration": 0,
    "start_time": "2023-08-06T08:05:57.778Z"
   },
   {
    "duration": 0,
    "start_time": "2023-08-06T08:05:57.779Z"
   },
   {
    "duration": 0,
    "start_time": "2023-08-06T08:05:57.780Z"
   },
   {
    "duration": 0,
    "start_time": "2023-08-06T08:05:57.781Z"
   },
   {
    "duration": 0,
    "start_time": "2023-08-06T08:05:57.782Z"
   },
   {
    "duration": 0,
    "start_time": "2023-08-06T08:05:57.782Z"
   },
   {
    "duration": 0,
    "start_time": "2023-08-06T08:05:57.783Z"
   },
   {
    "duration": 0,
    "start_time": "2023-08-06T08:05:57.784Z"
   },
   {
    "duration": 0,
    "start_time": "2023-08-06T08:05:57.785Z"
   },
   {
    "duration": 0,
    "start_time": "2023-08-06T08:05:57.785Z"
   },
   {
    "duration": 0,
    "start_time": "2023-08-06T08:05:57.786Z"
   },
   {
    "duration": 0,
    "start_time": "2023-08-06T08:05:57.787Z"
   },
   {
    "duration": 0,
    "start_time": "2023-08-06T08:05:57.789Z"
   },
   {
    "duration": 0,
    "start_time": "2023-08-06T08:05:57.790Z"
   },
   {
    "duration": 0,
    "start_time": "2023-08-06T08:05:57.792Z"
   },
   {
    "duration": 0,
    "start_time": "2023-08-06T08:05:57.793Z"
   },
   {
    "duration": 0,
    "start_time": "2023-08-06T08:05:57.793Z"
   },
   {
    "duration": 0,
    "start_time": "2023-08-06T08:05:57.794Z"
   },
   {
    "duration": 0,
    "start_time": "2023-08-06T08:05:57.795Z"
   },
   {
    "duration": 0,
    "start_time": "2023-08-06T08:05:57.796Z"
   },
   {
    "duration": 0,
    "start_time": "2023-08-06T08:05:57.797Z"
   },
   {
    "duration": 0,
    "start_time": "2023-08-06T08:05:57.798Z"
   },
   {
    "duration": 0,
    "start_time": "2023-08-06T08:05:57.799Z"
   },
   {
    "duration": 0,
    "start_time": "2023-08-06T08:05:57.800Z"
   },
   {
    "duration": 0,
    "start_time": "2023-08-06T08:05:57.868Z"
   },
   {
    "duration": 0,
    "start_time": "2023-08-06T08:05:57.869Z"
   },
   {
    "duration": 0,
    "start_time": "2023-08-06T08:05:57.870Z"
   },
   {
    "duration": 0,
    "start_time": "2023-08-06T08:05:57.872Z"
   },
   {
    "duration": 0,
    "start_time": "2023-08-06T08:05:57.878Z"
   },
   {
    "duration": 702,
    "start_time": "2023-08-06T08:06:34.682Z"
   },
   {
    "duration": 147,
    "start_time": "2023-08-06T08:06:35.386Z"
   },
   {
    "duration": 18,
    "start_time": "2023-08-06T08:06:35.535Z"
   },
   {
    "duration": 32,
    "start_time": "2023-08-06T08:06:35.555Z"
   },
   {
    "duration": 9,
    "start_time": "2023-08-06T08:06:35.589Z"
   },
   {
    "duration": 22,
    "start_time": "2023-08-06T08:06:35.600Z"
   },
   {
    "duration": 9,
    "start_time": "2023-08-06T08:06:35.623Z"
   },
   {
    "duration": 12,
    "start_time": "2023-08-06T08:06:35.634Z"
   },
   {
    "duration": 39,
    "start_time": "2023-08-06T08:06:35.648Z"
   },
   {
    "duration": 5,
    "start_time": "2023-08-06T08:06:35.690Z"
   },
   {
    "duration": 18,
    "start_time": "2023-08-06T08:06:35.697Z"
   },
   {
    "duration": 46,
    "start_time": "2023-08-06T08:06:35.717Z"
   },
   {
    "duration": 20,
    "start_time": "2023-08-06T08:06:35.765Z"
   },
   {
    "duration": 19,
    "start_time": "2023-08-06T08:06:35.788Z"
   },
   {
    "duration": 22,
    "start_time": "2023-08-06T08:06:35.809Z"
   },
   {
    "duration": 35,
    "start_time": "2023-08-06T08:06:35.832Z"
   },
   {
    "duration": 25,
    "start_time": "2023-08-06T08:06:35.870Z"
   },
   {
    "duration": 5,
    "start_time": "2023-08-06T08:06:35.897Z"
   },
   {
    "duration": 23,
    "start_time": "2023-08-06T08:06:35.903Z"
   },
   {
    "duration": 56,
    "start_time": "2023-08-06T08:06:35.929Z"
   },
   {
    "duration": 15,
    "start_time": "2023-08-06T08:06:35.986Z"
   },
   {
    "duration": 29,
    "start_time": "2023-08-06T08:06:36.003Z"
   },
   {
    "duration": 12,
    "start_time": "2023-08-06T08:06:36.033Z"
   },
   {
    "duration": 40,
    "start_time": "2023-08-06T08:06:36.047Z"
   },
   {
    "duration": 5,
    "start_time": "2023-08-06T08:06:36.089Z"
   },
   {
    "duration": 44,
    "start_time": "2023-08-06T08:06:36.095Z"
   },
   {
    "duration": 25,
    "start_time": "2023-08-06T08:06:36.141Z"
   },
   {
    "duration": 82,
    "start_time": "2023-08-06T08:06:36.168Z"
   },
   {
    "duration": 27,
    "start_time": "2023-08-06T08:06:36.252Z"
   },
   {
    "duration": 41,
    "start_time": "2023-08-06T08:06:36.284Z"
   },
   {
    "duration": 22,
    "start_time": "2023-08-06T08:06:36.327Z"
   },
   {
    "duration": 25,
    "start_time": "2023-08-06T08:06:36.351Z"
   },
   {
    "duration": 12,
    "start_time": "2023-08-06T08:06:36.379Z"
   },
   {
    "duration": 39,
    "start_time": "2023-08-06T08:06:36.392Z"
   },
   {
    "duration": 54,
    "start_time": "2023-08-06T08:06:36.433Z"
   },
   {
    "duration": 24,
    "start_time": "2023-08-06T08:06:36.489Z"
   },
   {
    "duration": 44,
    "start_time": "2023-08-06T08:06:36.514Z"
   },
   {
    "duration": 17,
    "start_time": "2023-08-06T08:06:36.561Z"
   },
   {
    "duration": 26,
    "start_time": "2023-08-06T08:06:36.581Z"
   },
   {
    "duration": 33,
    "start_time": "2023-08-06T08:06:36.608Z"
   },
   {
    "duration": 35,
    "start_time": "2023-08-06T08:06:36.645Z"
   },
   {
    "duration": 24,
    "start_time": "2023-08-06T08:06:36.682Z"
   },
   {
    "duration": 22,
    "start_time": "2023-08-06T08:06:36.707Z"
   },
   {
    "duration": 15,
    "start_time": "2023-08-06T08:06:36.731Z"
   },
   {
    "duration": 36,
    "start_time": "2023-08-06T08:06:36.748Z"
   },
   {
    "duration": 5,
    "start_time": "2023-08-06T08:06:36.786Z"
   },
   {
    "duration": 14,
    "start_time": "2023-08-06T08:06:36.793Z"
   },
   {
    "duration": 32,
    "start_time": "2023-08-06T08:06:36.808Z"
   },
   {
    "duration": 7,
    "start_time": "2023-08-06T08:06:36.842Z"
   },
   {
    "duration": 49,
    "start_time": "2023-08-06T08:06:36.850Z"
   },
   {
    "duration": 7,
    "start_time": "2023-08-06T08:06:36.900Z"
   },
   {
    "duration": 7,
    "start_time": "2023-08-06T08:06:36.908Z"
   },
   {
    "duration": 68,
    "start_time": "2023-08-06T08:06:36.916Z"
   },
   {
    "duration": 41,
    "start_time": "2023-08-06T08:06:36.986Z"
   },
   {
    "duration": 11,
    "start_time": "2023-08-06T08:06:37.029Z"
   },
   {
    "duration": 50,
    "start_time": "2023-08-06T08:06:37.041Z"
   },
   {
    "duration": 4,
    "start_time": "2023-08-06T08:06:37.093Z"
   },
   {
    "duration": 27,
    "start_time": "2023-08-06T08:06:37.098Z"
   },
   {
    "duration": 57,
    "start_time": "2023-08-06T08:06:37.127Z"
   },
   {
    "duration": 216,
    "start_time": "2023-08-06T08:06:37.186Z"
   },
   {
    "duration": 9,
    "start_time": "2023-08-06T08:06:37.404Z"
   },
   {
    "duration": 196,
    "start_time": "2023-08-06T08:06:37.415Z"
   },
   {
    "duration": 10,
    "start_time": "2023-08-06T08:06:37.613Z"
   },
   {
    "duration": 328,
    "start_time": "2023-08-06T08:06:37.624Z"
   },
   {
    "duration": 331,
    "start_time": "2023-08-06T08:06:37.954Z"
   },
   {
    "duration": 16,
    "start_time": "2023-08-06T08:06:38.287Z"
   },
   {
    "duration": 10,
    "start_time": "2023-08-06T08:06:38.305Z"
   },
   {
    "duration": 6,
    "start_time": "2023-08-06T08:06:38.317Z"
   },
   {
    "duration": 11,
    "start_time": "2023-08-06T08:06:38.324Z"
   },
   {
    "duration": 425,
    "start_time": "2023-08-06T08:06:38.336Z"
   },
   {
    "duration": 7,
    "start_time": "2023-08-06T08:06:38.773Z"
   },
   {
    "duration": 7,
    "start_time": "2023-08-06T08:06:38.781Z"
   },
   {
    "duration": 5,
    "start_time": "2023-08-06T08:06:38.790Z"
   },
   {
    "duration": 5,
    "start_time": "2023-08-06T08:06:38.797Z"
   },
   {
    "duration": 461,
    "start_time": "2023-08-06T08:06:38.804Z"
   },
   {
    "duration": 468,
    "start_time": "2023-08-06T08:06:39.270Z"
   },
   {
    "duration": 144,
    "start_time": "2023-08-06T08:13:45.751Z"
   },
   {
    "duration": 208,
    "start_time": "2023-08-06T08:13:53.382Z"
   },
   {
    "duration": 232,
    "start_time": "2023-08-06T08:14:48.881Z"
   },
   {
    "duration": 167,
    "start_time": "2023-08-06T08:15:02.800Z"
   },
   {
    "duration": 334,
    "start_time": "2023-08-06T08:15:55.273Z"
   },
   {
    "duration": 290,
    "start_time": "2023-08-06T08:16:45.478Z"
   },
   {
    "duration": 66,
    "start_time": "2023-08-06T08:20:37.996Z"
   },
   {
    "duration": 371,
    "start_time": "2023-08-06T08:21:52.133Z"
   },
   {
    "duration": 295,
    "start_time": "2023-08-06T08:22:09.903Z"
   },
   {
    "duration": 78,
    "start_time": "2023-08-06T08:22:54.349Z"
   },
   {
    "duration": 132,
    "start_time": "2023-08-06T08:23:07.835Z"
   },
   {
    "duration": 91,
    "start_time": "2023-08-06T08:23:50.409Z"
   },
   {
    "duration": 325,
    "start_time": "2023-08-06T08:25:59.502Z"
   },
   {
    "duration": 298,
    "start_time": "2023-08-06T08:26:25.248Z"
   },
   {
    "duration": 325,
    "start_time": "2023-08-06T08:26:41.119Z"
   },
   {
    "duration": 290,
    "start_time": "2023-08-06T08:26:56.294Z"
   },
   {
    "duration": 306,
    "start_time": "2023-08-06T08:27:33.607Z"
   },
   {
    "duration": 311,
    "start_time": "2023-08-06T08:27:40.084Z"
   },
   {
    "duration": 642,
    "start_time": "2023-08-06T08:27:50.744Z"
   },
   {
    "duration": 465,
    "start_time": "2023-08-06T08:27:58.321Z"
   },
   {
    "duration": 334,
    "start_time": "2023-08-06T08:28:11.748Z"
   },
   {
    "duration": 315,
    "start_time": "2023-08-06T08:28:16.802Z"
   },
   {
    "duration": 327,
    "start_time": "2023-08-06T08:28:20.353Z"
   },
   {
    "duration": 301,
    "start_time": "2023-08-06T08:28:23.521Z"
   },
   {
    "duration": 288,
    "start_time": "2023-08-06T08:28:27.008Z"
   },
   {
    "duration": 298,
    "start_time": "2023-08-06T08:28:29.994Z"
   },
   {
    "duration": 290,
    "start_time": "2023-08-06T08:28:34.009Z"
   },
   {
    "duration": 311,
    "start_time": "2023-08-06T08:28:37.381Z"
   },
   {
    "duration": 390,
    "start_time": "2023-08-06T08:29:18.442Z"
   },
   {
    "duration": 344,
    "start_time": "2023-08-06T08:29:24.003Z"
   },
   {
    "duration": 424,
    "start_time": "2023-08-06T08:29:36.478Z"
   },
   {
    "duration": 345,
    "start_time": "2023-08-06T08:29:46.064Z"
   },
   {
    "duration": 318,
    "start_time": "2023-08-06T08:29:51.119Z"
   },
   {
    "duration": 312,
    "start_time": "2023-08-06T08:29:53.125Z"
   },
   {
    "duration": 311,
    "start_time": "2023-08-06T08:30:04.918Z"
   }
  ],
  "colab": {
   "name": "DA+. Сборный проект 1. Шаблон (1).ipynb",
   "provenance": []
  },
  "kernelspec": {
   "display_name": "Python 3 (ipykernel)",
   "language": "python",
   "name": "python3"
  },
  "language_info": {
   "codemirror_mode": {
    "name": "ipython",
    "version": 3
   },
   "file_extension": ".py",
   "mimetype": "text/x-python",
   "name": "python",
   "nbconvert_exporter": "python",
   "pygments_lexer": "ipython3",
   "version": "3.9.5"
  },
  "toc": {
   "base_numbering": 1,
   "nav_menu": {},
   "number_sections": true,
   "sideBar": true,
   "skip_h1_title": true,
   "title_cell": "Table of Contents",
   "title_sidebar": "Contents",
   "toc_cell": false,
   "toc_position": {
    "height": "calc(100% - 180px)",
    "left": "10px",
    "top": "150px",
    "width": "375.391px"
   },
   "toc_section_display": true,
   "toc_window_display": false
  }
 },
 "nbformat": 4,
 "nbformat_minor": 1
}
